{
 "cells": [
  {
   "cell_type": "code",
   "execution_count": 1,
   "id": "f15bc571-61c2-41f1-b9c5-88a460bb3bfc",
   "metadata": {
    "tags": []
   },
   "outputs": [
    {
     "name": "stdout",
     "output_type": "stream",
     "text": [
      "Requirement already satisfied: googlemaps in c:\\users\\oscar\\anaconda3\\lib\\site-packages (4.10.0)\n",
      "Requirement already satisfied: requests<3.0,>=2.20.0 in c:\\users\\oscar\\anaconda3\\lib\\site-packages (from googlemaps) (2.31.0)\n",
      "Requirement already satisfied: charset-normalizer<4,>=2 in c:\\users\\oscar\\anaconda3\\lib\\site-packages (from requests<3.0,>=2.20.0->googlemaps) (2.0.4)\n",
      "Requirement already satisfied: idna<4,>=2.5 in c:\\users\\oscar\\anaconda3\\lib\\site-packages (from requests<3.0,>=2.20.0->googlemaps) (3.4)\n",
      "Requirement already satisfied: urllib3<3,>=1.21.1 in c:\\users\\oscar\\anaconda3\\lib\\site-packages (from requests<3.0,>=2.20.0->googlemaps) (1.26.16)\n",
      "Requirement already satisfied: certifi>=2017.4.17 in c:\\users\\oscar\\anaconda3\\lib\\site-packages (from requests<3.0,>=2.20.0->googlemaps) (2023.11.17)\n",
      "Note: you may need to restart the kernel to use updated packages.\n"
     ]
    }
   ],
   "source": [
    "pip install -U googlemaps"
   ]
  },
  {
   "cell_type": "markdown",
   "id": "5a533f27-4e40-4b7d-8fb1-b6c36a065e5a",
   "metadata": {},
   "source": [
    "Search for coworking spaces within a 20 km radius of each city or town.\n",
    "Retrieve several characteristics such as lon lat, name, address, website or hours, among others."
   ]
  },
  {
   "cell_type": "code",
   "execution_count": null,
   "id": "a5ea0469-11d6-4743-8a5b-7a409abb4553",
   "metadata": {},
   "outputs": [],
   "source": [
    "# Set-up\n",
    "\n",
    "import googlemaps\n",
    "import csv\n",
    "import pandas as pd\n",
    "from api_key import GOOGLE_MAPS_API_KEY"
   ]
  },
  {
   "cell_type": "code",
   "execution_count": 2,
   "id": "229bb78e-1f9a-40f6-8f8d-6a0165aac27d",
   "metadata": {
    "tags": []
   },
   "outputs": [
    {
     "name": "stdout",
     "output_type": "stream",
     "text": [
      "Location not found for cities = [\n",
      "Location not found for     \"Santander\",\n",
      "Location not found for     \"Sabadell\",\n",
      "Location not found for     \"Getafe\",\n",
      "Location not found for     \"Reus\",\n",
      "Location not found for     \"Lorca\",\n",
      "Location not found for     \"Rubí\",\n",
      "Location not found for     \"Torrent\",\n",
      "Location not found for     \"Onda\",\n",
      "Location not found for ]\n"
     ]
    }
   ],
   "source": [
    "# Google Maps API Key\n",
    "API_KEY = GOOGLE_MAPS_API_KEY\n",
    "\n",
    "# Initialize Google Maps client\n",
    "gmaps = googlemaps.Client(key=API_KEY)\n",
    "\n",
    "def get_place_details(place_id):\n",
    "    try:\n",
    "        # Retrieves detailed information about a place using its Place ID\n",
    "        place_details = gmaps.place(place_id, fields=['website', 'rating', 'opening_hours'])\n",
    "        address = place_details.get('vicinity', 'Address not available')\n",
    "        website = place_details['result'].get('website', 'Website not available')\n",
    "        schedule = place_details['result'].get('opening_hours', {}).get('weekday_text', 'Schedule not available')\n",
    "        rating = place_details['result'].get('rating', 'Rating not available')\n",
    "        return website, schedule, rating\n",
    "    except Exception as e:\n",
    "        print(f\"Error occurred while fetching details for place ID {place_id}: {e}\")\n",
    "        return 'Website not available', 'Schedule not available', 'Rating not available'\n",
    "\n",
    "def get_coworkings(city):\n",
    "    try:\n",
    "        # Retrive lat and long of each city\n",
    "        geocode_result = gmaps.geocode(city)\n",
    "        if not geocode_result:\n",
    "            print(f\"Location not found for {city}\")\n",
    "            return []\n",
    "\n",
    "        location = geocode_result[0]['geometry']['location']\n",
    "        lat = location['lat']\n",
    "        lng = location['lng']\n",
    "\n",
    "        # Request a NearbySearch of each city with 20km of radius and retrieve coworking spaces\n",
    "        places_result = gmaps.places_nearby(\n",
    "            location=(lat, lng),\n",
    "            radius=20000,\n",
    "            name='coworking'\n",
    "        )\n",
    "\n",
    "        coworkings = []\n",
    "        for place in places_result['results']:\n",
    "            name = place['name']\n",
    "            address = place.get('vicinity', 'Address not available')\n",
    "            rating = place.get('rating', 'Rating not available')\n",
    "            place_id = place.get('place_id')\n",
    "\n",
    "            website, schedule, rating = get_place_details(place_id)\n",
    "\n",
    "            coworkings.append({'Name': name, 'Address': address, 'Rating': rating, 'Website': website, 'Schedule': schedule, 'City': city, 'Latitude': lat, 'Longitude': lng})\n",
    "\n",
    "        return coworkings\n",
    "    except Exception as e:\n",
    "        print(f\"Error occurred while fetching coworkings for {city}: {e}\")\n",
    "        \n",
    "# Read cities from a txt file\n",
    "with open('cities.txt', 'r', encoding='utf-8') as file:\n",
    "    cities = file.read().splitlines()\n",
    "\n",
    "with open('coworkings.csv', mode='w', newline='', encoding='utf-8') as csv_file:\n",
    "    fieldnames = ['Name', 'Address', 'City', 'Rating', 'Website', 'Schedule', 'Latitude', 'Longitude']\n",
    "    writer = csv.DictWriter(csv_file, fieldnames=fieldnames)\n",
    "    writer.writeheader()\n",
    "\n",
    "    for city in cities:\n",
    "        coworkings = get_coworkings(city)\n",
    "        for coworking in coworkings:\n",
    "            writer.writerow(coworking)\n",
    "\n",
    "# Create xlsx file\n",
    "df = pd.read_csv('coworkings.csv')\n",
    "df.to_excel('coworkings.xlsx', index=False)\n"
   ]
  }
 ],
 "metadata": {
  "kernelspec": {
   "display_name": "Python 3 (ipykernel)",
   "language": "python",
   "name": "python3"
  },
  "language_info": {
   "codemirror_mode": {
    "name": "ipython",
    "version": 3
   },
   "file_extension": ".py",
   "mimetype": "text/x-python",
   "name": "python",
   "nbconvert_exporter": "python",
   "pygments_lexer": "ipython3",
   "version": "3.11.5"
  }
 },
 "nbformat": 4,
 "nbformat_minor": 5
}

{
 "cells": [
  {
   "cell_type": "code",
   "execution_count": 1,
   "id": "f15bc571-61c2-41f1-b9c5-88a460bb3bfc",
   "metadata": {
    "tags": []
   },
   "outputs": [
    {
     "name": "stdout",
     "output_type": "stream",
     "text": [
      "Requirement already satisfied: googlemaps in c:\\users\\oscar\\anaconda3\\lib\\site-packages (4.10.0)\n",
      "Requirement already satisfied: requests<3.0,>=2.20.0 in c:\\users\\oscar\\anaconda3\\lib\\site-packages (from googlemaps) (2.31.0)\n",
      "Requirement already satisfied: charset-normalizer<4,>=2 in c:\\users\\oscar\\anaconda3\\lib\\site-packages (from requests<3.0,>=2.20.0->googlemaps) (2.0.4)\n",
      "Requirement already satisfied: idna<4,>=2.5 in c:\\users\\oscar\\anaconda3\\lib\\site-packages (from requests<3.0,>=2.20.0->googlemaps) (3.4)\n",
      "Requirement already satisfied: urllib3<3,>=1.21.1 in c:\\users\\oscar\\anaconda3\\lib\\site-packages (from requests<3.0,>=2.20.0->googlemaps) (1.26.16)\n",
      "Requirement already satisfied: certifi>=2017.4.17 in c:\\users\\oscar\\anaconda3\\lib\\site-packages (from requests<3.0,>=2.20.0->googlemaps) (2023.11.17)\n",
      "Note: you may need to restart the kernel to use updated packages.\n"
     ]
    }
   ],
   "source": [
    "pip install -U googlemaps"
   ]
  },
  {
   "cell_type": "code",
   "execution_count": null,
   "id": "3f5037de-2f47-4fb7-9baa-3efc73820256",
   "metadata": {},
   "outputs": [],
   "source": [
    "import googlemaps\n",
    "import csv\n",
    "import pandas as pd\n",
    "from api_key import GOOGLE_MAPS_API_KEY"
   ]
  },
  {
   "cell_type": "markdown",
   "id": "1d82645f-0fe7-4947-a7ea-459a8e195be8",
   "metadata": {},
   "source": [
    "Retrieve all campsites nearby to 100k from cities of 50000 inhabitants or more and coastal areas of portugal like Sines, Nazaret, Peniche, Lagos, Sagres"
   ]
  },
  {
   "cell_type": "code",
   "execution_count": 7,
   "id": "229bb78e-1f9a-40f6-8f8d-6a0165aac27d",
   "metadata": {
    "tags": []
   },
   "outputs": [
    {
     "name": "stdout",
     "output_type": "stream",
     "text": [
      "Location not found for cities = [\n",
      "Location not found for     \"Santander\",\n",
      "Location not found for     \"Sabadell\",\n",
      "Location not found for     \"Getafe\",\n",
      "Location not found for     \"Reus\",\n",
      "Location not found for     \"Lorca\",\n",
      "Location not found for     \"Rubí\",\n",
      "Location not found for     \"Torrent\",\n",
      "Location not found for     \"Onda\",\n",
      "Location not found for ]\n"
     ]
    }
   ],
   "source": [
    "# Google Maps API Key\n",
    "API_KEY = GOOGLE_MAPS_API_KEY\n",
    "\n",
    "# Initialize Google Maps client\n",
    "gmaps = googlemaps.Client(key=API_KEY)\n",
    "\n",
    "def get_place_details(place_id):\n",
    "    try:\n",
    "        # Recupera información detallada sobre un lugar usando su ID de lugar\n",
    "        place_details = gmaps.place(place_id, fields=['website', 'rating', 'opening_hours'])\n",
    "        address = place_details.get('vicinity', 'Address not available')\n",
    "        website = place_details['result'].get('website', 'Website not available')\n",
    "        schedule = place_details['result'].get('opening_hours', {}).get('weekday_text', 'Schedule not available')\n",
    "        rating = place_details['result'].get('rating', 'Rating not available')\n",
    "        return website, schedule, rating\n",
    "    except Exception as e:\n",
    "        print(f\"Error occurred while fetching details for place ID {place_id}: {e}\")\n",
    "        return 'Website not available', 'Schedule not available', 'Rating not available'\n",
    "\n",
    "def get_campsites(city):\n",
    "    try:\n",
    "        # Retrive lat and long of each city\n",
    "        geocode_result = gmaps.geocode(city)\n",
    "        if not geocode_result:\n",
    "            print(f\"Location not found for {city}\")\n",
    "            return []\n",
    "\n",
    "        location = geocode_result[0]['geometry']['location']\n",
    "        lat = location['lat']\n",
    "        lng = location['lng']\n",
    "\n",
    "        # Request a NearbySearch of each city with 100km of radius and \"campsites\" keywords.\n",
    "        \n",
    "        places_result = gmaps.places_nearby(\n",
    "            location=(lat, lng),\n",
    "            radius=100000,\n",
    "            name= 'camping'\n",
    "        )\n",
    "\n",
    "        campsites = []\n",
    "        for place in places_result['results']:\n",
    "            name = place['name']\n",
    "            address = place.get('vicinity', 'Address not available')\n",
    "            rating = place.get('rating', 'Rating not available')\n",
    "            place_id = place.get('place_id')\n",
    "\n",
    "            website, schedule, rating = get_place_details(place_id)\n",
    "\n",
    "            campsites.append({'Name': name, 'Address': address, 'Rating': rating, 'Website': website, 'Schedule': schedule, 'Latitude': lat, 'Longitude': lng, 'City': city})\n",
    "\n",
    "        return campsites\n",
    "    except Exception as e:\n",
    "        print(f\"Error occurred while fetching campsites for {city}: {e}\")\n",
    "        \n",
    "# Read cities from a txt file\n",
    "with open('cities.txt', 'r', encoding='utf-8') as file:\n",
    "    cities = file.read().splitlines()\n",
    "\n",
    "with open('campsites.csv', mode='w', newline='', encoding='utf-8') as csv_file:\n",
    "    fieldnames = ['Name', 'Address', 'City', 'Rating', 'Website', 'Schedule', 'Latitude', 'Longitude']\n",
    "    writer = csv.DictWriter(csv_file, fieldnames=fieldnames)\n",
    "    writer.writeheader()\n",
    "\n",
    "    for city in cities:\n",
    "        campsites = get_campsites(city)\n",
    "        for campsite in campsites:\n",
    "            writer.writerow(campsite)\n",
    "\n",
    "# Create xlsx file\n",
    "df = pd.read_csv('campsites.csv')\n",
    "df.to_excel('campsites.xlsx', index=False)\n"
   ]
  },
  {
   "cell_type": "code",
   "execution_count": null,
   "id": "cbe36b95-727c-4373-9a87-a03321b47f24",
   "metadata": {},
   "outputs": [],
   "source": []
  }
 ],
 "metadata": {
  "kernelspec": {
   "display_name": "Python 3 (ipykernel)",
   "language": "python",
   "name": "python3"
  },
  "language_info": {
   "codemirror_mode": {
    "name": "ipython",
    "version": 3
   },
   "file_extension": ".py",
   "mimetype": "text/x-python",
   "name": "python",
   "nbconvert_exporter": "python",
   "pygments_lexer": "ipython3",
   "version": "3.11.5"
  }
 },
 "nbformat": 4,
 "nbformat_minor": 5
}

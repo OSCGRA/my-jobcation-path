{
 "cells": [
  {
   "cell_type": "code",
   "execution_count": 1,
   "id": "76b34e9a-8377-4d72-b889-5d5e00a13319",
   "metadata": {
    "tags": []
   },
   "outputs": [
    {
     "ename": "ModuleNotFoundError",
     "evalue": "No module named 'googlemaps'",
     "output_type": "error",
     "traceback": [
      "\u001b[1;31m---------------------------------------------------------------------------\u001b[0m",
      "\u001b[1;31mModuleNotFoundError\u001b[0m                       Traceback (most recent call last)",
      "Cell \u001b[1;32mIn[1], line 1\u001b[0m\n\u001b[1;32m----> 1\u001b[0m \u001b[38;5;28;01mimport\u001b[39;00m \u001b[38;5;21;01mgooglemaps\u001b[39;00m\n\u001b[0;32m      2\u001b[0m \u001b[38;5;28;01mimport\u001b[39;00m \u001b[38;5;21;01mpandas\u001b[39;00m \u001b[38;5;28;01mas\u001b[39;00m \u001b[38;5;21;01mpd\u001b[39;00m\n\u001b[0;32m      3\u001b[0m \u001b[38;5;28;01mfrom\u001b[39;00m \u001b[38;5;21;01mapi_keys\u001b[39;00m \u001b[38;5;28;01mimport\u001b[39;00m GOOGLE_MAPS_API_KEY\n",
      "\u001b[1;31mModuleNotFoundError\u001b[0m: No module named 'googlemaps'"
     ]
    }
   ],
   "source": [
    "import googlemaps\n",
    "import pandas as pd\n",
    "from api_keys import GOOGLE_MAPS_API_KEY\n",
    "\n",
    "def get_coworkings():\n",
    "    \n",
    "    # Initialize Google Maps client\n",
    "    gmaps = googlemaps.Client(key=GOOGLE_MAPS_API_KEY)\n",
    "\n",
    "    # Search parameters\n",
    "    location = 'Spain'\n",
    "    place_type = 'coworking'\n",
    "\n",
    "    # Initialize lists to store data\n",
    "    names = []\n",
    "    addresses = []\n",
    "    review_scores = []\n",
    "    latitudes = []\n",
    "    longitudes = []\n",
    "    \n",
    "    # Perform search request\n",
    "    results = gmaps.places(query=place_type, location=location)\n",
    "\n",
    "    # Print names, addresses, review scores, latitude, and longitude of found coworkings\n",
    "    if 'results' in results:\n",
    "        for place in results['results']:\n",
    "            name = place['name']\n",
    "            address = place['formatted_address']\n",
    "            review_score = place.get('rating', 'No rating')\n",
    "            latitude = place['geometry']['location']['lat']\n",
    "            longitude = place['geometry']['location']['lng']\n",
    "            print(f\"Name: {name}, Address: {address}, Review Score: {review_score}, Latitude: {latitude}, Longitude: {longitude}\")\n",
    "    else:\n",
    "        print(\"No results found.\")\n",
    "\n",
    "if __name__ == \"__scraper__\":\n",
    "    get_coworkings()\n",
    "\n"
   ]
  },
  {
   "cell_type": "code",
   "execution_count": null,
   "id": "3e1c403e-8cc0-4ccc-989d-e3ed0ebc5ccf",
   "metadata": {},
   "outputs": [],
   "source": []
  }
 ],
 "metadata": {
  "kernelspec": {
   "display_name": "Python 3 (ipykernel)",
   "language": "python",
   "name": "python3"
  },
  "language_info": {
   "codemirror_mode": {
    "name": "ipython",
    "version": 3
   },
   "file_extension": ".py",
   "mimetype": "text/x-python",
   "name": "python",
   "nbconvert_exporter": "python",
   "pygments_lexer": "ipython3",
   "version": "3.11.5"
  }
 },
 "nbformat": 4,
 "nbformat_minor": 5
}

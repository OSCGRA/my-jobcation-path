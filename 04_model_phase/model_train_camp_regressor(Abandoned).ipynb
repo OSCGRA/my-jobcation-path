{
 "cells": [
  {
   "cell_type": "code",
   "execution_count": 1,
   "id": "e7792a12-c2ac-47b9-a36d-c1e1dad0596a",
   "metadata": {
    "tags": []
   },
   "outputs": [],
   "source": [
    "#Basic Libraries 📚\n",
    "\n",
    "import pandas as pd\n",
    "import numpy as np\n",
    "import os\n",
    "import sys\n",
    "import matplotlib.pyplot as plt"
   ]
  },
  {
   "cell_type": "code",
   "execution_count": 2,
   "id": "d89fa87b-b769-4486-b65f-d526c54b753d",
   "metadata": {},
   "outputs": [],
   "source": [
    "# Basic Modules & Useful Installations\n",
    "\n",
    "import warnings\n",
    "warnings.simplefilter(action='ignore')\n",
    "from geopy.distance import geodesic"
   ]
  },
  {
   "cell_type": "code",
   "execution_count": 3,
   "id": "93029b7c-6fff-40f8-8b13-3ddec9f342b6",
   "metadata": {
    "tags": []
   },
   "outputs": [],
   "source": [
    "# Machine Learning Libraries\n",
    "\n",
    "from sklearn.model_selection import train_test_split\n",
    "from sklearn.linear_model import LinearRegression\n",
    "from sklearn.linear_model import RidgeCV\n",
    "from sklearn.neighbors import KNeighborsRegressor\n",
    "\n",
    "\n",
    "from sklearn.multioutput import MultiOutputRegressor  #This give us the option to fix 2 columns as targets (long, lat)\n",
    "from sklearn.experimental import enable_hist_gradient_boosting\n",
    "\n",
    "from sklearn.ensemble import RandomForestRegressor\n",
    "from sklearn.ensemble import GradientBoostingRegressor\n",
    "from sklearn.ensemble import HistGradientBoostingRegressor\n",
    "from sklearn.ensemble import AdaBoostRegressor\n",
    "from sklearn.ensemble import StackingRegressor\n",
    "from sklearn.ensemble import VotingRegressor\n",
    "\n",
    "from sklearn.metrics import mean_absolute_error, mean_squared_error, r2_score\n",
    "\n",
    "from sklearn.model_selection import cross_val_score\n",
    "from sklearn.model_selection import RepeatedStratifiedKFold\n",
    "\n",
    "\n",
    "#from sklearn.preprocessing import LabelEncoder\n",
    "#from sklearn.tree import DecisionTreeClassifier\n",
    "#from sklearn.neighbors import KNeighborsClassifier\n",
    "\n",
    "#from sklearn.naive_bayes import GaussianNB\n",
    "#from sklearn.mixture import GaussianMixture\n",
    "#from sklearn.pipeline import make_pipeline\n"
   ]
  },
  {
   "cell_type": "code",
   "execution_count": 4,
   "id": "dca8c023-f7cb-4a55-b941-93cb68496356",
   "metadata": {},
   "outputs": [],
   "source": [
    "# Completed Caracterization 🔧 \n",
    "\n",
    "def data_caracterization(df):\n",
    "    \n",
    "    columns = df.columns.tolist()\n",
    "    (dfrows,dfcolumns) = df.shape\n",
    "    df.reset_index()\n",
    "    print(f'Caracterization:\\n')\n",
    "    print(f'Number of Rows: {dfrows}\\n')\n",
    "    print(f'Number of Columns: {dfcolumns}\\n')\n",
    "    print(f'Columns Names/Variables/Features: {columns}\\n')\n",
    "    df.info()\n",
    "    print(f'\\n Head:\\n')\n",
    "    \n",
    "    return df.head(5)"
   ]
  },
  {
   "cell_type": "code",
   "execution_count": 5,
   "id": "c799889f-2cff-49e5-888a-e95039c9629a",
   "metadata": {},
   "outputs": [],
   "source": [
    "# Construct Wild distance\n",
    "\n",
    "def calculate_distance_row(row):\n",
    "    \n",
    "    coordinates_1 = (row['lat_buf'], row['long_buf'])\n",
    "    coordinates_2 = (row['latitude'], row['longitude'])\n",
    "    \n",
    "    return geodesic(coordinates_1, coordinates_2).kilometers"
   ]
  },
  {
   "cell_type": "code",
   "execution_count": 6,
   "id": "0f05a9c4-64c0-403c-b7c9-ac5339a214cc",
   "metadata": {
    "tags": []
   },
   "outputs": [
    {
     "name": "stdout",
     "output_type": "stream",
     "text": [
      "Current working directory is: C:\\Users\\Oscar\\Documents\\00_Ironhack\\P3_Final\n"
     ]
    }
   ],
   "source": [
    "# Construct reading relative path\n",
    "relative_path = \"my-jobcation-path/02_data_cleaning_phase/01_Preprocessing & Clean/campsites_chars.csv\"\n",
    "\n",
    "# Change directory\n",
    "os.chdir('C:\\\\Users\\\\Oscar\\\\Documents\\\\00_Ironhack\\\\P3_Final\\\\') #Change for your own directory\n",
    "\n",
    "# Check directory\n",
    "current_directory = os.getcwd()\n",
    "print(\"Current working directory is:\", current_directory)"
   ]
  },
  {
   "cell_type": "code",
   "execution_count": 7,
   "id": "84d8c54c-b62a-409a-8d7e-1720ad19d1ba",
   "metadata": {
    "tags": []
   },
   "outputs": [],
   "source": [
    "# Construct absolute paths\n",
    "\n",
    "campsites_path = os.path.join(current_directory, relative_path)"
   ]
  },
  {
   "cell_type": "code",
   "execution_count": 8,
   "id": "0f83119b-322f-49d4-b2a1-d57e64645569",
   "metadata": {
    "tags": []
   },
   "outputs": [
    {
     "name": "stdout",
     "output_type": "stream",
     "text": [
      "The file has been loaded successfully.\n"
     ]
    }
   ],
   "source": [
    "# Campsites reading\n",
    "\n",
    "if os.path.exists(campsites_path):\n",
    "    try:\n",
    "        # Try to read the CSV file\n",
    "        data = pd.read_csv(campsites_path)\n",
    "        print(\"The file has been loaded successfully.\")\n",
    "        # Now you can work with the 'data' DataFrame\n",
    "    except Exception as e:\n",
    "        print(\"An error occurred while reading the file:\", e)\n",
    "else:\n",
    "    print(\"The file does not exist at the specified path:\", campsites_path)"
   ]
  },
  {
   "cell_type": "code",
   "execution_count": 9,
   "id": "672cbcd4-4173-4ace-aa11-6c9eda7aa379",
   "metadata": {
    "tags": []
   },
   "outputs": [],
   "source": [
    "# Dataframe Creation\n",
    "\n",
    "dfca = data.copy()\n"
   ]
  },
  {
   "cell_type": "code",
   "execution_count": 10,
   "id": "798be586-0ea7-4793-addb-2565f9eec81e",
   "metadata": {
    "tags": []
   },
   "outputs": [
    {
     "name": "stdout",
     "output_type": "stream",
     "text": [
      "Caracterization:\n",
      "\n",
      "Number of Rows: 3569\n",
      "\n",
      "Number of Columns: 15\n",
      "\n",
      "Columns Names/Variables/Features: ['name', 'address', 'city', 'website', 'schedule', 'longitude', 'latitude', 'distance_km', 'type', 'luxury', 'beach', 'wild', 'rating', 'long_buf', 'lat_buf']\n",
      "\n",
      "<class 'pandas.core.frame.DataFrame'>\n",
      "RangeIndex: 3569 entries, 0 to 3568\n",
      "Data columns (total 15 columns):\n",
      " #   Column       Non-Null Count  Dtype  \n",
      "---  ------       --------------  -----  \n",
      " 0   name         3569 non-null   object \n",
      " 1   address      3569 non-null   object \n",
      " 2   city         3569 non-null   object \n",
      " 3   website      3569 non-null   object \n",
      " 4   schedule     3569 non-null   object \n",
      " 5   longitude    3569 non-null   float64\n",
      " 6   latitude     3569 non-null   float64\n",
      " 7   distance_km  3569 non-null   float64\n",
      " 8   type         3569 non-null   object \n",
      " 9   luxury       3569 non-null   object \n",
      " 10  beach        3569 non-null   int64  \n",
      " 11  wild         3569 non-null   int64  \n",
      " 12  rating       3569 non-null   float64\n",
      " 13  long_buf     3569 non-null   float64\n",
      " 14  lat_buf      3569 non-null   float64\n",
      "dtypes: float64(6), int64(2), object(7)\n",
      "memory usage: 418.4+ KB\n",
      "\n",
      " Head:\n",
      "\n"
     ]
    },
    {
     "data": {
      "text/html": [
       "<div>\n",
       "<style scoped>\n",
       "    .dataframe tbody tr th:only-of-type {\n",
       "        vertical-align: middle;\n",
       "    }\n",
       "\n",
       "    .dataframe tbody tr th {\n",
       "        vertical-align: top;\n",
       "    }\n",
       "\n",
       "    .dataframe thead th {\n",
       "        text-align: right;\n",
       "    }\n",
       "</style>\n",
       "<table border=\"1\" class=\"dataframe\">\n",
       "  <thead>\n",
       "    <tr style=\"text-align: right;\">\n",
       "      <th></th>\n",
       "      <th>name</th>\n",
       "      <th>address</th>\n",
       "      <th>city</th>\n",
       "      <th>website</th>\n",
       "      <th>schedule</th>\n",
       "      <th>longitude</th>\n",
       "      <th>latitude</th>\n",
       "      <th>distance_km</th>\n",
       "      <th>type</th>\n",
       "      <th>luxury</th>\n",
       "      <th>beach</th>\n",
       "      <th>wild</th>\n",
       "      <th>rating</th>\n",
       "      <th>long_buf</th>\n",
       "      <th>lat_buf</th>\n",
       "    </tr>\n",
       "  </thead>\n",
       "  <tbody>\n",
       "    <tr>\n",
       "      <th>0</th>\n",
       "      <td>Camping Osuna</td>\n",
       "      <td>C. Jardines de Aranjuez s/n Madrid</td>\n",
       "      <td>Madrid</td>\n",
       "      <td>http://www.campingosuna.com/</td>\n",
       "      <td>Monday: 8:00 AM – 11:30 PM Tuesday: 8:00 AM – ...</td>\n",
       "      <td>-3.603361</td>\n",
       "      <td>40.453734</td>\n",
       "      <td>9.458117</td>\n",
       "      <td>City</td>\n",
       "      <td>Campsite</td>\n",
       "      <td>0</td>\n",
       "      <td>0</td>\n",
       "      <td>3.9</td>\n",
       "      <td>-3.703790</td>\n",
       "      <td>40.416775</td>\n",
       "    </tr>\n",
       "    <tr>\n",
       "      <th>1</th>\n",
       "      <td>Camping Osuna</td>\n",
       "      <td>C. Jardines de Aranjuez s/n Madrid</td>\n",
       "      <td>Alcalá de Henares</td>\n",
       "      <td>http://www.campingosuna.com/</td>\n",
       "      <td>Monday: 8:00 AM – 11:30 PM Tuesday: 8:00 AM – ...</td>\n",
       "      <td>-3.603361</td>\n",
       "      <td>40.453734</td>\n",
       "      <td>20.181317</td>\n",
       "      <td>Town</td>\n",
       "      <td>Campsite</td>\n",
       "      <td>0</td>\n",
       "      <td>0</td>\n",
       "      <td>3.9</td>\n",
       "      <td>-3.368802</td>\n",
       "      <td>40.484390</td>\n",
       "    </tr>\n",
       "    <tr>\n",
       "      <th>2</th>\n",
       "      <td>Camping Osuna</td>\n",
       "      <td>C. Jardines de Aranjuez s/n Madrid</td>\n",
       "      <td>Fuenlabrada</td>\n",
       "      <td>http://www.campingosuna.com/</td>\n",
       "      <td>Monday: 8:00 AM – 11:30 PM Tuesday: 8:00 AM – ...</td>\n",
       "      <td>-3.603361</td>\n",
       "      <td>40.453734</td>\n",
       "      <td>24.875383</td>\n",
       "      <td>Town</td>\n",
       "      <td>Campsite</td>\n",
       "      <td>0</td>\n",
       "      <td>0</td>\n",
       "      <td>3.9</td>\n",
       "      <td>-3.803548</td>\n",
       "      <td>40.290206</td>\n",
       "    </tr>\n",
       "    <tr>\n",
       "      <th>3</th>\n",
       "      <td>Camping Osuna</td>\n",
       "      <td>C. Jardines de Aranjuez s/n Madrid</td>\n",
       "      <td>Torrejón de Ardoz</td>\n",
       "      <td>http://www.campingosuna.com/</td>\n",
       "      <td>Monday: 8:00 AM – 11:30 PM Tuesday: 8:00 AM – ...</td>\n",
       "      <td>-3.603361</td>\n",
       "      <td>40.453734</td>\n",
       "      <td>10.851165</td>\n",
       "      <td>Town</td>\n",
       "      <td>Campsite</td>\n",
       "      <td>0</td>\n",
       "      <td>0</td>\n",
       "      <td>3.9</td>\n",
       "      <td>-3.475497</td>\n",
       "      <td>40.456755</td>\n",
       "    </tr>\n",
       "    <tr>\n",
       "      <th>4</th>\n",
       "      <td>Camping Osuna</td>\n",
       "      <td>C. Jardines de Aranjuez s/n Madrid</td>\n",
       "      <td>Parla</td>\n",
       "      <td>http://www.campingosuna.com/</td>\n",
       "      <td>Monday: 8:00 AM – 11:30 PM Tuesday: 8:00 AM – ...</td>\n",
       "      <td>-3.603361</td>\n",
       "      <td>40.453734</td>\n",
       "      <td>28.066198</td>\n",
       "      <td>Town</td>\n",
       "      <td>Campsite</td>\n",
       "      <td>0</td>\n",
       "      <td>0</td>\n",
       "      <td>3.9</td>\n",
       "      <td>-3.773987</td>\n",
       "      <td>40.237306</td>\n",
       "    </tr>\n",
       "  </tbody>\n",
       "</table>\n",
       "</div>"
      ],
      "text/plain": [
       "            name                             address               city  \\\n",
       "0  Camping Osuna  C. Jardines de Aranjuez s/n Madrid             Madrid   \n",
       "1  Camping Osuna  C. Jardines de Aranjuez s/n Madrid  Alcalá de Henares   \n",
       "2  Camping Osuna  C. Jardines de Aranjuez s/n Madrid        Fuenlabrada   \n",
       "3  Camping Osuna  C. Jardines de Aranjuez s/n Madrid  Torrejón de Ardoz   \n",
       "4  Camping Osuna  C. Jardines de Aranjuez s/n Madrid              Parla   \n",
       "\n",
       "                        website  \\\n",
       "0  http://www.campingosuna.com/   \n",
       "1  http://www.campingosuna.com/   \n",
       "2  http://www.campingosuna.com/   \n",
       "3  http://www.campingosuna.com/   \n",
       "4  http://www.campingosuna.com/   \n",
       "\n",
       "                                            schedule  longitude   latitude  \\\n",
       "0  Monday: 8:00 AM – 11:30 PM Tuesday: 8:00 AM – ...  -3.603361  40.453734   \n",
       "1  Monday: 8:00 AM – 11:30 PM Tuesday: 8:00 AM – ...  -3.603361  40.453734   \n",
       "2  Monday: 8:00 AM – 11:30 PM Tuesday: 8:00 AM – ...  -3.603361  40.453734   \n",
       "3  Monday: 8:00 AM – 11:30 PM Tuesday: 8:00 AM – ...  -3.603361  40.453734   \n",
       "4  Monday: 8:00 AM – 11:30 PM Tuesday: 8:00 AM – ...  -3.603361  40.453734   \n",
       "\n",
       "   distance_km  type    luxury  beach  wild  rating  long_buf    lat_buf  \n",
       "0     9.458117  City  Campsite      0     0     3.9 -3.703790  40.416775  \n",
       "1    20.181317  Town  Campsite      0     0     3.9 -3.368802  40.484390  \n",
       "2    24.875383  Town  Campsite      0     0     3.9 -3.803548  40.290206  \n",
       "3    10.851165  Town  Campsite      0     0     3.9 -3.475497  40.456755  \n",
       "4    28.066198  Town  Campsite      0     0     3.9 -3.773987  40.237306  "
      ]
     },
     "execution_count": 10,
     "metadata": {},
     "output_type": "execute_result"
    }
   ],
   "source": [
    "data_caracterization(dfca)"
   ]
  },
  {
   "cell_type": "markdown",
   "id": "159444cc-27d2-4af6-9cc6-05b1643ed8a8",
   "metadata": {
    "tags": []
   },
   "source": [
    "## ENCODING"
   ]
  },
  {
   "cell_type": "code",
   "execution_count": 12,
   "id": "d5a0de76-5edc-4075-b245-d0279682a666",
   "metadata": {
    "tags": []
   },
   "outputs": [],
   "source": [
    "# Encoding categoricals. We are going to use manual encoding because we need it for the model after.\n",
    "\n",
    "type = {\n",
    "    'City': 0,\n",
    "    'Town': 1,\n",
    "    'Village': 2,\n",
    "}\n",
    "\n",
    "\n",
    "luxury = {\n",
    "    'Campsite': 0,\n",
    "    'Glamping': 1,\n",
    "    'Camper': 2\n",
    "}\n",
    "\n",
    "\n",
    "# Now let's do the mapping\n",
    "\n",
    "dfca['type'] = dfca['type'].map(type)\n",
    "dfca['luxury'] = dfca['luxury'].map(luxury)\n"
   ]
  },
  {
   "cell_type": "code",
   "execution_count": 13,
   "id": "ab6a2ca0-eed2-4835-8ad3-be910426cf9d",
   "metadata": {
    "tags": []
   },
   "outputs": [],
   "source": [
    "encoding_column = [\"type\", \"luxury\", \"beach\", \"wild\", \"rating\", \"distance_km\", \"long_buf\", \"lat_buf\"] \n",
    "\n",
    "dfcoding = dfca[encoding_column]"
   ]
  },
  {
   "cell_type": "code",
   "execution_count": 14,
   "id": "bfb43b39-d4c6-48c6-b8d5-f1456c0a2dbe",
   "metadata": {
    "tags": []
   },
   "outputs": [
    {
     "data": {
      "text/html": [
       "<div>\n",
       "<style scoped>\n",
       "    .dataframe tbody tr th:only-of-type {\n",
       "        vertical-align: middle;\n",
       "    }\n",
       "\n",
       "    .dataframe tbody tr th {\n",
       "        vertical-align: top;\n",
       "    }\n",
       "\n",
       "    .dataframe thead th {\n",
       "        text-align: right;\n",
       "    }\n",
       "</style>\n",
       "<table border=\"1\" class=\"dataframe\">\n",
       "  <thead>\n",
       "    <tr style=\"text-align: right;\">\n",
       "      <th></th>\n",
       "      <th>type</th>\n",
       "      <th>luxury</th>\n",
       "      <th>beach</th>\n",
       "      <th>wild</th>\n",
       "      <th>rating</th>\n",
       "      <th>distance_km</th>\n",
       "      <th>long_buf</th>\n",
       "      <th>lat_buf</th>\n",
       "    </tr>\n",
       "  </thead>\n",
       "  <tbody>\n",
       "    <tr>\n",
       "      <th>0</th>\n",
       "      <td>0</td>\n",
       "      <td>0</td>\n",
       "      <td>0</td>\n",
       "      <td>0</td>\n",
       "      <td>3.9</td>\n",
       "      <td>9.458117</td>\n",
       "      <td>-3.703790</td>\n",
       "      <td>40.416775</td>\n",
       "    </tr>\n",
       "    <tr>\n",
       "      <th>1</th>\n",
       "      <td>1</td>\n",
       "      <td>0</td>\n",
       "      <td>0</td>\n",
       "      <td>0</td>\n",
       "      <td>3.9</td>\n",
       "      <td>20.181317</td>\n",
       "      <td>-3.368802</td>\n",
       "      <td>40.484390</td>\n",
       "    </tr>\n",
       "    <tr>\n",
       "      <th>2</th>\n",
       "      <td>1</td>\n",
       "      <td>0</td>\n",
       "      <td>0</td>\n",
       "      <td>0</td>\n",
       "      <td>3.9</td>\n",
       "      <td>24.875383</td>\n",
       "      <td>-3.803548</td>\n",
       "      <td>40.290206</td>\n",
       "    </tr>\n",
       "    <tr>\n",
       "      <th>3</th>\n",
       "      <td>1</td>\n",
       "      <td>0</td>\n",
       "      <td>0</td>\n",
       "      <td>0</td>\n",
       "      <td>3.9</td>\n",
       "      <td>10.851165</td>\n",
       "      <td>-3.475497</td>\n",
       "      <td>40.456755</td>\n",
       "    </tr>\n",
       "    <tr>\n",
       "      <th>4</th>\n",
       "      <td>1</td>\n",
       "      <td>0</td>\n",
       "      <td>0</td>\n",
       "      <td>0</td>\n",
       "      <td>3.9</td>\n",
       "      <td>28.066198</td>\n",
       "      <td>-3.773987</td>\n",
       "      <td>40.237306</td>\n",
       "    </tr>\n",
       "    <tr>\n",
       "      <th>...</th>\n",
       "      <td>...</td>\n",
       "      <td>...</td>\n",
       "      <td>...</td>\n",
       "      <td>...</td>\n",
       "      <td>...</td>\n",
       "      <td>...</td>\n",
       "      <td>...</td>\n",
       "      <td>...</td>\n",
       "    </tr>\n",
       "    <tr>\n",
       "      <th>3564</th>\n",
       "      <td>2</td>\n",
       "      <td>0</td>\n",
       "      <td>0</td>\n",
       "      <td>1</td>\n",
       "      <td>4.4</td>\n",
       "      <td>22.713277</td>\n",
       "      <td>-0.370797</td>\n",
       "      <td>43.295100</td>\n",
       "    </tr>\n",
       "    <tr>\n",
       "      <th>3565</th>\n",
       "      <td>2</td>\n",
       "      <td>0</td>\n",
       "      <td>0</td>\n",
       "      <td>1</td>\n",
       "      <td>4.5</td>\n",
       "      <td>47.411886</td>\n",
       "      <td>-0.370797</td>\n",
       "      <td>43.295100</td>\n",
       "    </tr>\n",
       "    <tr>\n",
       "      <th>3566</th>\n",
       "      <td>2</td>\n",
       "      <td>0</td>\n",
       "      <td>0</td>\n",
       "      <td>1</td>\n",
       "      <td>4.5</td>\n",
       "      <td>32.475489</td>\n",
       "      <td>-0.370797</td>\n",
       "      <td>43.295100</td>\n",
       "    </tr>\n",
       "    <tr>\n",
       "      <th>3567</th>\n",
       "      <td>2</td>\n",
       "      <td>0</td>\n",
       "      <td>0</td>\n",
       "      <td>1</td>\n",
       "      <td>3.9</td>\n",
       "      <td>55.532844</td>\n",
       "      <td>-0.370797</td>\n",
       "      <td>43.295100</td>\n",
       "    </tr>\n",
       "    <tr>\n",
       "      <th>3568</th>\n",
       "      <td>2</td>\n",
       "      <td>2</td>\n",
       "      <td>0</td>\n",
       "      <td>1</td>\n",
       "      <td>4.3</td>\n",
       "      <td>48.362166</td>\n",
       "      <td>2.497071</td>\n",
       "      <td>48.941215</td>\n",
       "    </tr>\n",
       "  </tbody>\n",
       "</table>\n",
       "<p>3569 rows × 8 columns</p>\n",
       "</div>"
      ],
      "text/plain": [
       "      type  luxury  beach  wild  rating  distance_km  long_buf    lat_buf\n",
       "0        0       0      0     0     3.9     9.458117 -3.703790  40.416775\n",
       "1        1       0      0     0     3.9    20.181317 -3.368802  40.484390\n",
       "2        1       0      0     0     3.9    24.875383 -3.803548  40.290206\n",
       "3        1       0      0     0     3.9    10.851165 -3.475497  40.456755\n",
       "4        1       0      0     0     3.9    28.066198 -3.773987  40.237306\n",
       "...    ...     ...    ...   ...     ...          ...       ...        ...\n",
       "3564     2       0      0     1     4.4    22.713277 -0.370797  43.295100\n",
       "3565     2       0      0     1     4.5    47.411886 -0.370797  43.295100\n",
       "3566     2       0      0     1     4.5    32.475489 -0.370797  43.295100\n",
       "3567     2       0      0     1     3.9    55.532844 -0.370797  43.295100\n",
       "3568     2       2      0     1     4.3    48.362166  2.497071  48.941215\n",
       "\n",
       "[3569 rows x 8 columns]"
      ]
     },
     "execution_count": 14,
     "metadata": {},
     "output_type": "execute_result"
    }
   ],
   "source": [
    "dfcoding"
   ]
  },
  {
   "cell_type": "markdown",
   "id": "a7df7f0f-6d9a-4ebf-a523-7ff094a81280",
   "metadata": {
    "tags": []
   },
   "source": [
    "## SETTING TARGET (Y)"
   ]
  },
  {
   "cell_type": "code",
   "execution_count": 16,
   "id": "c65a0b38-e1b1-4529-80fa-e1c202e27212",
   "metadata": {
    "tags": []
   },
   "outputs": [],
   "source": [
    "target_columns = [\"long_buf\", \"lat_buf\"]\n",
    "\n",
    "X = dfcoding.drop(target_columns, axis = 1)\n",
    "y = dfcoding[target_columns]"
   ]
  },
  {
   "cell_type": "code",
   "execution_count": 17,
   "id": "890dc77b-60a4-4def-b514-c74f1d7268b4",
   "metadata": {
    "tags": []
   },
   "outputs": [],
   "source": [
    "# Splitting the data into train and test sets (80% train, 20% test)\n",
    "\n",
    "X_train, X_test, y_train, y_test = train_test_split(X, y, test_size=0.2, random_state=42)"
   ]
  },
  {
   "cell_type": "markdown",
   "id": "bd520761-4689-402b-973e-82a130ddad7f",
   "metadata": {
    "jp-MarkdownHeadingCollapsed": true,
    "tags": []
   },
   "source": [
    "## Linear Regressor"
   ]
  },
  {
   "cell_type": "code",
   "execution_count": 19,
   "id": "0e3df6f1-f226-4e7d-b61f-45375abc13be",
   "metadata": {},
   "outputs": [],
   "source": [
    "# Without MultiOutPut\n",
    "\n",
    "# Define and fit Linear Regression model\n",
    "linear_model = LinearRegression()\n",
    "linear_model.fit(X_train, y_train)\n",
    "\n",
    "# Make predictions\n",
    "y_pred_lr = linear_model.predict(X_test)"
   ]
  },
  {
   "cell_type": "code",
   "execution_count": 20,
   "id": "36b4f448-56d4-4d76-bd1e-6b04a2247b73",
   "metadata": {},
   "outputs": [],
   "source": [
    "mae = mean_absolute_error(y_test, y_pred_lr)\n",
    "mse = mean_squared_error(y_test, y_pred_lr)\n",
    "rmse = mean_squared_error(y_test, y_pred_lr, squared=False)\n",
    "r2 = r2_score(y_test, y_pred_lr)"
   ]
  },
  {
   "cell_type": "code",
   "execution_count": 21,
   "id": "e83c42dd-99ca-4aaf-a0cc-e091ce3fb596",
   "metadata": {},
   "outputs": [
    {
     "name": "stdout",
     "output_type": "stream",
     "text": [
      "Lineal Regressor:\n",
      "\n",
      "Mean Absolute Error (MAE): 6.270605458503447\n",
      "Mean Squared Error (MSE): 166.2073927904342\n",
      "Root Mean Squared Error (RMSE): 11.864370423584518\n",
      "R^2 Score: 0.044247285085440735\n"
     ]
    }
   ],
   "source": [
    "print(\"Lineal Regressor:\\n\")\n",
    "print(\"Mean Absolute Error (MAE):\", mae)\n",
    "print(\"Mean Squared Error (MSE):\", mse)\n",
    "print(\"Root Mean Squared Error (RMSE):\", rmse)\n",
    "print(\"R^2 Score:\", r2)"
   ]
  },
  {
   "cell_type": "code",
   "execution_count": 22,
   "id": "d9df4972-6b35-4ef9-ade3-b56dbf951087",
   "metadata": {
    "tags": []
   },
   "outputs": [],
   "source": [
    "# With \n",
    "\n",
    "# Define and fit Linear Regression model\n",
    "\n",
    "multi_target_linear_model = MultiOutputRegressor(LinearRegression())\n",
    "multi_target_linear_model.fit(X_train, y_train)\n",
    "\n",
    "# Make predictions\n",
    "\n",
    "y_pred_lr = linear_model.predict(X_test)"
   ]
  },
  {
   "cell_type": "code",
   "execution_count": 23,
   "id": "46968449-bf0d-4484-9e75-e2d120d6663a",
   "metadata": {
    "tags": []
   },
   "outputs": [],
   "source": [
    "mae = mean_absolute_error(y_test, y_pred_lr)\n",
    "mse = mean_squared_error(y_test, y_pred_lr)\n",
    "rmse = mean_squared_error(y_test, y_pred_lr, squared=False)\n",
    "r2 = r2_score(y_test, y_pred_lr)"
   ]
  },
  {
   "cell_type": "code",
   "execution_count": 24,
   "id": "c1712619-684c-4c6e-88b0-2a707051ba49",
   "metadata": {
    "tags": []
   },
   "outputs": [
    {
     "name": "stdout",
     "output_type": "stream",
     "text": [
      "Lineal Regressor:\n",
      "\n",
      "Mean Absolute Error (MAE): 6.270605458503447\n",
      "Mean Squared Error (MSE): 166.2073927904342\n",
      "Root Mean Squared Error (RMSE): 11.864370423584518\n",
      "R^2 Score: 0.044247285085440735\n"
     ]
    }
   ],
   "source": [
    "print(\"Lineal Regressor:\\n\")\n",
    "print(\"Mean Absolute Error (MAE):\", mae)\n",
    "print(\"Mean Squared Error (MSE):\", mse)\n",
    "print(\"Root Mean Squared Error (RMSE):\", rmse)\n",
    "print(\"R^2 Score:\", r2)"
   ]
  },
  {
   "cell_type": "markdown",
   "id": "4bcc0677-1d5c-448a-b9de-ee1f6b174ae7",
   "metadata": {
    "jp-MarkdownHeadingCollapsed": true,
    "tags": []
   },
   "source": [
    "## RIDGE REGRESSION without and with MultiOutPut"
   ]
  },
  {
   "cell_type": "code",
   "execution_count": 26,
   "id": "ddd054b7-bdba-42cb-92f9-ae105e2e5028",
   "metadata": {},
   "outputs": [],
   "source": [
    "ridge_model = RidgeCV(alphas=[0.1, 1.0, 10.0])\n",
    "\n",
    "ridge_model.fit(X_train, y_train)\n",
    "\n",
    "y_pred_rg = ridge_model.predict(X_test)"
   ]
  },
  {
   "cell_type": "code",
   "execution_count": 27,
   "id": "5747f74b-4b9f-40e5-b3bd-456730a01219",
   "metadata": {},
   "outputs": [],
   "source": [
    "mae = mean_absolute_error(y_test, y_pred_rg)\n",
    "mse = mean_squared_error(y_test, y_pred_rg)\n",
    "rmse = mean_squared_error(y_test, y_pred_rg, squared=False)\n",
    "r2 = r2_score(y_test, y_pred_rg)"
   ]
  },
  {
   "cell_type": "code",
   "execution_count": 28,
   "id": "2c5b25e5-04a7-4cd9-bc30-53fb3cbc3034",
   "metadata": {},
   "outputs": [
    {
     "name": "stdout",
     "output_type": "stream",
     "text": [
      "Histogram Gradient Boosting Regressor:\n",
      "\n",
      "Mean Absolute Error (MAE): 6.26924831609172\n",
      "Mean Squared Error (MSE): 166.2546618200802\n",
      "Root Mean Squared Error (RMSE): 11.865252566511195\n",
      "R^2 Score: 0.0442945497876201\n"
     ]
    }
   ],
   "source": [
    "print(\"Histogram Gradient Boosting Regressor:\\n\")\n",
    "print(\"Mean Absolute Error (MAE):\", mae)\n",
    "print(\"Mean Squared Error (MSE):\", mse)\n",
    "print(\"Root Mean Squared Error (RMSE):\", rmse)\n",
    "print(\"R^2 Score:\", r2)"
   ]
  },
  {
   "cell_type": "code",
   "execution_count": 29,
   "id": "66193bd0-ced5-4f6d-bd0f-c00e04b75819",
   "metadata": {},
   "outputs": [],
   "source": [
    "# Whitout\n",
    "\n",
    "multi_target_ridge_model = MultiOutputRegressor(RidgeCV(alphas=[0.1, 1.0, 10.0]))\n",
    "\n",
    "multi_target_ridge_model.fit(X_train, y_train)\n",
    "\n",
    "y_pred_rg = multi_target_ridge_model.predict(X_test)"
   ]
  },
  {
   "cell_type": "code",
   "execution_count": 30,
   "id": "ee5f1a78-585a-4404-a4a4-a9a7bf443d28",
   "metadata": {},
   "outputs": [],
   "source": [
    "mae = mean_absolute_error(y_test, y_pred_rg)\n",
    "mse = mean_squared_error(y_test, y_pred_rg)\n",
    "rmse = mean_squared_error(y_test, y_pred_rg, squared=False)\n",
    "r2 = r2_score(y_test, y_pred_rg)"
   ]
  },
  {
   "cell_type": "code",
   "execution_count": 31,
   "id": "8025e2c8-f941-46ba-84ea-d1b3cd56025c",
   "metadata": {},
   "outputs": [
    {
     "name": "stdout",
     "output_type": "stream",
     "text": [
      "Histogram Gradient Boosting Regressor:\n",
      "\n",
      "Mean Absolute Error (MAE): 6.2692483268439485\n",
      "Mean Squared Error (MSE): 166.25466197702434\n",
      "Root Mean Squared Error (RMSE): 11.865252571401122\n",
      "R^2 Score: 0.04429454916700021\n"
     ]
    }
   ],
   "source": [
    "print(\"Histogram Gradient Boosting Regressor:\\n\")\n",
    "print(\"Mean Absolute Error (MAE):\", mae)\n",
    "print(\"Mean Squared Error (MSE):\", mse)\n",
    "print(\"Root Mean Squared Error (RMSE):\", rmse)\n",
    "print(\"R^2 Score:\", r2)"
   ]
  },
  {
   "cell_type": "markdown",
   "id": "914edcda-dbd6-4af3-9e00-a944a0ef09e3",
   "metadata": {
    "jp-MarkdownHeadingCollapsed": true,
    "tags": []
   },
   "source": [
    "## KNeighborsRegressor without and with MultiOutPut"
   ]
  },
  {
   "cell_type": "code",
   "execution_count": 33,
   "id": "14d16cc9-1015-4c38-bf77-aca81dffc246",
   "metadata": {},
   "outputs": [],
   "source": [
    "# Without\n",
    "\n",
    "knn_model = KNeighborsRegressor(n_neighbors=5)\n",
    "\n",
    "knn_model.fit(X_train, y_train)\n",
    "\n",
    "y_pred_kn = knn_model.predict(X_test)"
   ]
  },
  {
   "cell_type": "code",
   "execution_count": 34,
   "id": "974800af-ac93-43c0-afbc-ae44d5cb50c1",
   "metadata": {},
   "outputs": [],
   "source": [
    "mae = mean_absolute_error(y_test, y_pred_kn)\n",
    "mse = mean_squared_error(y_test, y_pred_kn)\n",
    "rmse = mean_squared_error(y_test, y_pred_kn, squared=False)\n",
    "r2 = r2_score(y_test, y_pred_kn)"
   ]
  },
  {
   "cell_type": "code",
   "execution_count": 35,
   "id": "bf09829a-4813-49e7-b223-ae80c8bfe0de",
   "metadata": {},
   "outputs": [
    {
     "name": "stdout",
     "output_type": "stream",
     "text": [
      "Histogram Gradient Boosting Regressor:\n",
      "\n",
      "Mean Absolute Error (MAE): 6.538696148361353\n",
      "Mean Squared Error (MSE): 162.3802949968801\n",
      "Root Mean Squared Error (RMSE): 11.728869719001231\n",
      "R^2 Score: 0.06551328096876885\n"
     ]
    }
   ],
   "source": [
    "print(\"Histogram Gradient Boosting Regressor:\\n\")\n",
    "print(\"Mean Absolute Error (MAE):\", mae)\n",
    "print(\"Mean Squared Error (MSE):\", mse)\n",
    "print(\"Root Mean Squared Error (RMSE):\", rmse)\n",
    "print(\"R^2 Score:\", r2)"
   ]
  },
  {
   "cell_type": "code",
   "execution_count": 36,
   "id": "55821aa1-a06f-4c5a-b29f-fd3cdf6b713f",
   "metadata": {},
   "outputs": [],
   "source": [
    "multi_target_knn_model =  MultiOutputRegressor(KNeighborsRegressor(n_neighbors=5))\n",
    "\n",
    "multi_target_knn_model.fit(X_train, y_train)\n",
    "\n",
    "y_pred_kn = multi_target_knn_model.predict(X_test)"
   ]
  },
  {
   "cell_type": "code",
   "execution_count": 37,
   "id": "652c0d83-d176-4488-8fe3-afec584093ba",
   "metadata": {},
   "outputs": [],
   "source": [
    "mae = mean_absolute_error(y_test, y_pred_kn)\n",
    "mse = mean_squared_error(y_test, y_pred_kn)\n",
    "rmse = mean_squared_error(y_test, y_pred_kn, squared=False)\n",
    "r2 = r2_score(y_test, y_pred_kn)"
   ]
  },
  {
   "cell_type": "code",
   "execution_count": 38,
   "id": "1ecb74de-5fea-4f7b-ae5b-b3b275bc0d0f",
   "metadata": {},
   "outputs": [
    {
     "name": "stdout",
     "output_type": "stream",
     "text": [
      "Histogram Gradient Boosting Regressor:\n",
      "\n",
      "Mean Absolute Error (MAE): 6.538696148361344\n",
      "Mean Squared Error (MSE): 162.38029499688002\n",
      "Root Mean Squared Error (RMSE): 11.728869719001228\n",
      "R^2 Score: 0.06551328096876924\n"
     ]
    }
   ],
   "source": [
    "print(\"Histogram Gradient Boosting Regressor:\\n\")\n",
    "print(\"Mean Absolute Error (MAE):\", mae)\n",
    "print(\"Mean Squared Error (MSE):\", mse)\n",
    "print(\"Root Mean Squared Error (RMSE):\", rmse)\n",
    "print(\"R^2 Score:\", r2)"
   ]
  },
  {
   "cell_type": "markdown",
   "id": "040e5b7e-78b0-4a46-bc34-0708940e04a9",
   "metadata": {
    "jp-MarkdownHeadingCollapsed": true,
    "tags": []
   },
   "source": [
    "## Random Forest Regressor without and with MultiOutPut"
   ]
  },
  {
   "cell_type": "code",
   "execution_count": 40,
   "id": "39dda59e-d0f3-433a-99af-c32a485fa786",
   "metadata": {},
   "outputs": [],
   "source": [
    "# Without MultiOutPut\n",
    "\n",
    "# Define and fit Random Forest Regressor model\n",
    "rf_model = RandomForestRegressor()\n",
    "rf_model.fit(X_train, y_train)\n",
    "\n",
    "# Make predictions\n",
    "y_pred_rf = rf_model.predict(X_test)"
   ]
  },
  {
   "cell_type": "code",
   "execution_count": 41,
   "id": "093efcb2-912a-4f78-84f5-c966d99ca48a",
   "metadata": {
    "tags": []
   },
   "outputs": [],
   "source": [
    "mae = mean_absolute_error(y_test, y_pred_rf)\n",
    "mse = mean_squared_error(y_test, y_pred_rf)\n",
    "rmse = mean_squared_error(y_test, y_pred_rf, squared=False)\n",
    "r2 = r2_score(y_test, y_pred_rf)"
   ]
  },
  {
   "cell_type": "code",
   "execution_count": 42,
   "id": "81451a24-89fc-4694-b700-7b294bb2a708",
   "metadata": {
    "tags": []
   },
   "outputs": [
    {
     "name": "stdout",
     "output_type": "stream",
     "text": [
      "Histogram Gradient Boosting Regressor/n\n",
      "Mean Absolute Error (MAE): 6.731382829514004\n",
      "Mean Squared Error (MSE): 163.94046383502257\n",
      "Root Mean Squared Error (RMSE): 11.770919212542047\n",
      "R^2 Score: 0.06208649878381567\n"
     ]
    }
   ],
   "source": [
    "print(\"Histogram Gradient Boosting Regressor/n\")\n",
    "print(\"Mean Absolute Error (MAE):\", mae)\n",
    "print(\"Mean Squared Error (MSE):\", mse)\n",
    "print(\"Root Mean Squared Error (RMSE):\", rmse)\n",
    "print(\"R^2 Score:\", r2)"
   ]
  },
  {
   "cell_type": "code",
   "execution_count": 43,
   "id": "79db7b7c-5a1b-4d17-a267-8baeb27d0dfe",
   "metadata": {
    "tags": []
   },
   "outputs": [],
   "source": [
    "# With MultiOutPut\n",
    "\n",
    "multi_target_rf_model = MultiOutputRegressor(RandomForestRegressor(n_estimators=100, random_state=42))\n",
    "\n",
    "multi_target_rf_model.fit(X_train, y_train)\n",
    "\n",
    "y_pred_rf = multi_target_rf_model.predict(X_test)\n"
   ]
  },
  {
   "cell_type": "code",
   "execution_count": 44,
   "id": "bd0a3f62-1fbc-48cf-9f03-8601aeb10b7d",
   "metadata": {},
   "outputs": [],
   "source": [
    "mae = mean_absolute_error(y_test, y_pred_rf)\n",
    "mse = mean_squared_error(y_test, y_pred_rf)\n",
    "rmse = mean_squared_error(y_test, y_pred_rf, squared=False)\n",
    "r2 = r2_score(y_test, y_pred_rf)"
   ]
  },
  {
   "cell_type": "code",
   "execution_count": 45,
   "id": "3c12c069-f1ce-4c64-9792-43c2eb98ac57",
   "metadata": {},
   "outputs": [
    {
     "name": "stdout",
     "output_type": "stream",
     "text": [
      "Histogram Gradient Boosting Regressor/n\n",
      "Mean Absolute Error (MAE): 6.719734970334034\n",
      "Mean Squared Error (MSE): 165.64837618108265\n",
      "Root Mean Squared Error (RMSE): 11.806327156247992\n",
      "R^2 Score: 0.06228587797687901\n"
     ]
    }
   ],
   "source": [
    "print(\"Histogram Gradient Boosting Regressor/n\")\n",
    "print(\"Mean Absolute Error (MAE):\", mae)\n",
    "print(\"Mean Squared Error (MSE):\", mse)\n",
    "print(\"Root Mean Squared Error (RMSE):\", rmse)\n",
    "print(\"R^2 Score:\", r2)"
   ]
  },
  {
   "cell_type": "markdown",
   "id": "b36001e9-7cb9-4c34-9c6d-0d6a154a84c9",
   "metadata": {
    "jp-MarkdownHeadingCollapsed": true,
    "tags": []
   },
   "source": [
    "## Decision Tree Regressor without and with MultiOutPut"
   ]
  },
  {
   "cell_type": "code",
   "execution_count": 47,
   "id": "197bff84-f050-49fc-a00c-2436c917a4e8",
   "metadata": {
    "tags": []
   },
   "outputs": [],
   "source": [
    "# Without MultiOutPut\n",
    "\n",
    "from sklearn.tree import DecisionTreeRegressor\n",
    "\n",
    "# Define and fit Decision Tree Regressor model\n",
    "\n",
    "\n",
    "dt_model = DecisionTreeRegressor()\n",
    "dt_model.fit(X_train, y_train)\n",
    "\n",
    "# Make predictions\n",
    "y_pred_dt = dt_model.predict(X_test)\n"
   ]
  },
  {
   "cell_type": "code",
   "execution_count": 48,
   "id": "410ec2bc-0bf7-4e30-9e3d-3a1843935ea4",
   "metadata": {
    "tags": []
   },
   "outputs": [],
   "source": [
    "mae = mean_absolute_error(y_test, y_pred_dt)\n",
    "mse = mean_squared_error(y_test, y_pred_dt)\n",
    "rmse = mean_squared_error(y_test, y_pred_dt, squared=False)\n",
    "r2 = r2_score(y_test, y_pred_dt)"
   ]
  },
  {
   "cell_type": "code",
   "execution_count": 49,
   "id": "1ae8e58c-b28c-43ee-9d8d-853e7fb90dd0",
   "metadata": {},
   "outputs": [
    {
     "name": "stdout",
     "output_type": "stream",
     "text": [
      "Histogram Gradient Boosting Regressor/n\n",
      "Mean Absolute Error (MAE): 8.114917962885155\n",
      "Mean Squared Error (MSE): 244.9732813683239\n",
      "Root Mean Squared Error (RMSE): 14.749189341155544\n",
      "R^2 Score: -0.598685670688742\n"
     ]
    }
   ],
   "source": [
    "print(\"Histogram Gradient Boosting Regressor/n\")\n",
    "print(\"Mean Absolute Error (MAE):\", mae)\n",
    "print(\"Mean Squared Error (MSE):\", mse)\n",
    "print(\"Root Mean Squared Error (RMSE):\", rmse)\n",
    "print(\"R^2 Score:\", r2)"
   ]
  },
  {
   "cell_type": "code",
   "execution_count": 50,
   "id": "25d9b609-b53a-4838-bb76-4644d8d4153a",
   "metadata": {
    "tags": []
   },
   "outputs": [],
   "source": [
    "#With MultiOutPut\n",
    "\n",
    "from sklearn.tree import DecisionTreeRegressor\n",
    "\n",
    "# Define and fit Decision Tree Regressor model\n",
    "\n",
    "multi_target_dt_model = MultiOutputRegressor(DecisionTreeRegressor())\n",
    "\n",
    "multi_target_dt_model.fit(X_train, y_train)\n",
    "\n",
    "# Make predictions\n",
    "y_pred_dt = multi_target_dt_model.predict(X_test)\n"
   ]
  },
  {
   "cell_type": "code",
   "execution_count": 51,
   "id": "ebe106db-faa6-4242-b1bf-39138e2834ab",
   "metadata": {
    "tags": []
   },
   "outputs": [],
   "source": [
    "mae = mean_absolute_error(y_test, y_pred_dt)\n",
    "mse = mean_squared_error(y_test, y_pred_dt)\n",
    "rmse = mean_squared_error(y_test, y_pred_dt, squared=False)\n",
    "r2 = r2_score(y_test, y_pred_dt)"
   ]
  },
  {
   "cell_type": "code",
   "execution_count": 52,
   "id": "a6ccaf67-8378-4ea4-a157-225a4b7fd929",
   "metadata": {
    "tags": []
   },
   "outputs": [
    {
     "name": "stdout",
     "output_type": "stream",
     "text": [
      "Histogram Gradient Boosting Regressor/n\n",
      "Mean Absolute Error (MAE): 7.992156549859943\n",
      "Mean Squared Error (MSE): 250.66579452614758\n",
      "Root Mean Squared Error (RMSE): 14.65799786705933\n",
      "R^2 Score: -0.485530925983806\n"
     ]
    }
   ],
   "source": [
    "print(\"Histogram Gradient Boosting Regressor/n\")\n",
    "print(\"Mean Absolute Error (MAE):\", mae)\n",
    "print(\"Mean Squared Error (MSE):\", mse)\n",
    "print(\"Root Mean Squared Error (RMSE):\", rmse)\n",
    "print(\"R^2 Score:\", r2)"
   ]
  },
  {
   "cell_type": "markdown",
   "id": "1a3b1aa0-30f6-4e69-be81-04278668d1a2",
   "metadata": {
    "tags": []
   },
   "source": [
    "## Hist Gradient Boosting Regressor (Only with MultiOutPut)"
   ]
  },
  {
   "cell_type": "code",
   "execution_count": 54,
   "id": "8c25199a-3448-4302-824f-a94456a7ec87",
   "metadata": {
    "tags": []
   },
   "outputs": [],
   "source": [
    "HistGradientBoostingRegressor = HistGradientBoostingRegressor(max_bins=200, max_iter=100, max_leaf_nodes = 20, max_depth = 7, min_samples_leaf = 5, warm_start = True)\n",
    "\n",
    "multi_target_hgb_model = MultiOutputRegressor(HistGradientBoostingRegressor)\n",
    "\n",
    "multi_target_hgb_model.fit(X_train, y_train)\n",
    "\n",
    "y_pred_hgd = multi_target_hgb_model.predict(X_test)\n"
   ]
  },
  {
   "cell_type": "code",
   "execution_count": 55,
   "id": "a4c6ff4c-17f2-4c11-a649-ba67d30221d0",
   "metadata": {
    "tags": []
   },
   "outputs": [],
   "source": [
    "mae = mean_absolute_error(y_test, y_pred_hgd)\n",
    "mse = mean_squared_error(y_test, y_pred_hgd)\n",
    "rmse = mean_squared_error(y_test, y_pred_hgd, squared=False)\n",
    "r2 = r2_score(y_test, y_pred_hgd)"
   ]
  },
  {
   "cell_type": "code",
   "execution_count": 56,
   "id": "97999229-90fa-4d12-a370-6afa6f6b9b37",
   "metadata": {
    "tags": []
   },
   "outputs": [
    {
     "name": "stdout",
     "output_type": "stream",
     "text": [
      "Histogram Gradient Boosting Regressor:\n",
      "\n",
      "Mean Absolute Error (MAE): 6.285766846476234\n",
      "Mean Squared Error (MSE): 152.77327824322808\n",
      "Root Mean Squared Error (RMSE): 11.31830777687893\n",
      "R^2 Score: 0.14242782384065777\n"
     ]
    }
   ],
   "source": [
    "print(\"Histogram Gradient Boosting Regressor:\\n\")\n",
    "print(\"Mean Absolute Error (MAE):\", mae)\n",
    "print(\"Mean Squared Error (MSE):\", mse)\n",
    "print(\"Root Mean Squared Error (RMSE):\", rmse)\n",
    "print(\"R^2 Score:\", r2)"
   ]
  },
  {
   "cell_type": "markdown",
   "id": "155f0b74-dfba-4242-83af-978debe67726",
   "metadata": {
    "jp-MarkdownHeadingCollapsed": true,
    "tags": []
   },
   "source": [
    "## AdaBoost Regressor (Only with MultiOutPut)"
   ]
  },
  {
   "cell_type": "code",
   "execution_count": 58,
   "id": "3a25e488-5260-4207-9008-4a30d6e98b8b",
   "metadata": {
    "tags": []
   },
   "outputs": [],
   "source": [
    "multi_target_ada_model = MultiOutputRegressor(AdaBoostRegressor(n_estimators=100, learning_rate=1.0, random_state=42))\n",
    "\n",
    "\n",
    "multi_target_ada_model.fit(X_train, y_train)\n",
    "\n",
    "y_pred_ada = multi_target_ada_model.predict(X_test)\n"
   ]
  },
  {
   "cell_type": "code",
   "execution_count": 59,
   "id": "151364e6-6bf1-4e95-aa29-3f835daf31a8",
   "metadata": {
    "tags": []
   },
   "outputs": [],
   "source": [
    "mae = mean_absolute_error(y_test, y_pred_ada)\n",
    "mse = mean_squared_error(y_test, y_pred_ada)\n",
    "rmse = mean_squared_error(y_test, y_pred_ada, squared=False)\n",
    "r2 = r2_score(y_test, y_pred_ada)"
   ]
  },
  {
   "cell_type": "code",
   "execution_count": 60,
   "id": "5bc6c956-9fb8-4a56-9080-a511749a7238",
   "metadata": {
    "tags": []
   },
   "outputs": [
    {
     "name": "stdout",
     "output_type": "stream",
     "text": [
      "Histogram Gradient Boosting Regressor:\n",
      "\n",
      "Mean Absolute Error (MAE): 8.259817147882389\n",
      "Mean Squared Error (MSE): 183.30652972414833\n",
      "Root Mean Squared Error (RMSE): 12.74061529109079\n",
      "R^2 Score: -0.18662544677262521\n"
     ]
    }
   ],
   "source": [
    "print(\"Histogram Gradient Boosting Regressor:\\n\")\n",
    "print(\"Mean Absolute Error (MAE):\", mae)\n",
    "print(\"Mean Squared Error (MSE):\", mse)\n",
    "print(\"Root Mean Squared Error (RMSE):\", rmse)\n",
    "print(\"R^2 Score:\", r2)"
   ]
  },
  {
   "cell_type": "markdown",
   "id": "00c0ec71-1ca9-4b68-a6dc-531c13e2425f",
   "metadata": {
    "jp-MarkdownHeadingCollapsed": true,
    "tags": []
   },
   "source": [
    "## Stacking Regressor  (Only with MultiOutPut)"
   ]
  },
  {
   "cell_type": "code",
   "execution_count": 62,
   "id": "583107e0-b42a-427d-bab4-e16321a0c69a",
   "metadata": {
    "tags": []
   },
   "outputs": [
    {
     "name": "stdout",
     "output_type": "stream",
     "text": [
      "[[ 0.81883227 42.88275755]\n",
      " [-4.22218075 41.3745211 ]\n",
      " [-1.50792308 41.66221641]\n",
      " ...\n",
      " [ 6.44521259 39.04791959]\n",
      " [ 3.80257325 43.48488203]\n",
      " [ 5.30453357 40.00238057]]\n"
     ]
    }
   ],
   "source": [
    "\n",
    "# Define base regressors\n",
    "base_regressors = [\n",
    "    ('ridge', RidgeCV()),\n",
    "    ('gb', GradientBoostingRegressor())\n",
    "]\n",
    "\n",
    "# Define meta regressor\n",
    "meta_regressor = RandomForestRegressor()\n",
    "\n",
    "# Define StackingRegressor model\n",
    "multi_target_stacking_model = MultiOutputRegressor(StackingRegressor(\n",
    "    estimators=base_regressors,\n",
    "    final_estimator=meta_regressor\n",
    "))\n",
    "\n",
    "# Fit StackingRegressor model\n",
    "multi_target_stacking_model.fit(X_train, y_train)\n",
    "\n",
    "# Make predictions\n",
    "y_pred_stacking = multi_target_stacking_model.predict(X_test)\n",
    "\n",
    "# Print predictions\n",
    "print(y_pred_stacking)\n"
   ]
  },
  {
   "cell_type": "code",
   "execution_count": 63,
   "id": "a87243d9-d15c-4418-be94-88bf8ac7b3ec",
   "metadata": {
    "tags": []
   },
   "outputs": [],
   "source": [
    "mae = mean_absolute_error(y_test, y_pred_stacking)\n",
    "mse = mean_squared_error(y_test, y_pred_stacking)\n",
    "rmse = mean_squared_error(y_test, y_pred_stacking, squared=False)\n",
    "r2 = r2_score(y_test, y_pred_stacking)"
   ]
  },
  {
   "cell_type": "code",
   "execution_count": 64,
   "id": "85e59aab-a60c-473e-9e9c-20fa363ae7fd",
   "metadata": {
    "tags": []
   },
   "outputs": [
    {
     "name": "stdout",
     "output_type": "stream",
     "text": [
      "Histogram Gradient Boosting Regressor:\n",
      "\n",
      "Mean Absolute Error (MAE): 6.682280211557913\n",
      "Mean Squared Error (MSE): 156.69918695363128\n",
      "Root Mean Squared Error (RMSE): 11.664453279900068\n",
      "R^2 Score: 0.039428255089136\n"
     ]
    }
   ],
   "source": [
    "print(\"Histogram Gradient Boosting Regressor:\\n\")\n",
    "print(\"Mean Absolute Error (MAE):\", mae)\n",
    "print(\"Mean Squared Error (MSE):\", mse)\n",
    "print(\"Root Mean Squared Error (RMSE):\", rmse)\n",
    "print(\"R^2 Score:\", r2)"
   ]
  },
  {
   "cell_type": "markdown",
   "id": "ee31d3dd-44f8-48b8-8c08-1771a47f7ddb",
   "metadata": {
    "tags": []
   },
   "source": [
    "## Voting Regressor (Only with MultiOutPut)"
   ]
  },
  {
   "cell_type": "code",
   "execution_count": 66,
   "id": "c5a50d27-cb96-4fc6-90ed-f3a64b8e3dc3",
   "metadata": {
    "tags": []
   },
   "outputs": [],
   "source": [
    "# Define base regressors\n",
    "base_regressors = [\n",
    "    ('ridge', RidgeCV()),\n",
    "    ('rf', RandomForestRegressor()),\n",
    "    ('gb', GradientBoostingRegressor())\n",
    "]\n",
    "\n",
    "# Define VotingRegressor model\n",
    "multi_target_voting_model = MultiOutputRegressor(VotingRegressor(estimators=base_regressors, weights = [1,3,6]))\n",
    "\n",
    "# Fit VotingRegressor model\n",
    "multi_target_voting_model.fit(X_train, y_train)\n",
    "\n",
    "# Make predictions\n",
    "y_pred_voting = multi_target_voting_model.predict(X_test)\n"
   ]
  },
  {
   "cell_type": "code",
   "execution_count": 67,
   "id": "0d4f421f-35a9-4456-abdc-5b97af4a95ac",
   "metadata": {
    "tags": []
   },
   "outputs": [],
   "source": [
    "mae = mean_absolute_error(y_test, y_pred_voting)\n",
    "mse = mean_squared_error(y_test, y_pred_voting)\n",
    "rmse = mean_squared_error(y_test, y_pred_voting, squared=False)\n",
    "r2 = r2_score(y_test, y_pred_voting)"
   ]
  },
  {
   "cell_type": "code",
   "execution_count": 68,
   "id": "9cdc7739-804b-4b08-b20b-ea3a75167d16",
   "metadata": {
    "tags": []
   },
   "outputs": [
    {
     "name": "stdout",
     "output_type": "stream",
     "text": [
      "Voting Regressor:\n",
      "\n",
      "Mean Absolute Error (MAE): 6.128951106197746\n",
      "Mean Squared Error (MSE): 148.28898348915618\n",
      "Root Mean Squared Error (RMSE): 11.126342607048182\n",
      "R^2 Score: 0.17626319987038203\n"
     ]
    }
   ],
   "source": [
    "print(\"Voting Regressor:\\n\")\n",
    "print(\"Mean Absolute Error (MAE):\", mae)\n",
    "print(\"Mean Squared Error (MSE):\", mse)\n",
    "print(\"Root Mean Squared Error (RMSE):\", rmse)\n",
    "print(\"R^2 Score:\", r2)"
   ]
  },
  {
   "cell_type": "markdown",
   "id": "84667fd2-e003-4feb-8ac8-bf9042659949",
   "metadata": {
    "tags": []
   },
   "source": [
    "## Voting Regressor Modified (Only with MultiOutPut)"
   ]
  },
  {
   "cell_type": "code",
   "execution_count": 70,
   "id": "d396976e-3e33-44c4-b5c2-08c58826441f",
   "metadata": {},
   "outputs": [],
   "source": [
    "\n",
    "# Define base regressors\n",
    "base_regressors = [\n",
    "    ('ridge', RidgeCV()),\n",
    "    ('rf', RandomForestRegressor()),\n",
    "    ('ada', AdaBoostRegressor()),\n",
    "    ('kn', KNeighborsRegressor()),\n",
    "    ('gb', GradientBoostingRegressor())\n",
    "]\n",
    "\n",
    "# Define VotingRegressor model\n",
    "multi_target_voting_5_base = MultiOutputRegressor(VotingRegressor(estimators=base_regressors))\n",
    "\n",
    "# Fit VotingRegressor model\n",
    "multi_target_voting_5_base.fit(X_train, y_train)\n",
    "\n",
    "# Make predictions\n",
    "y_pred_voting_model_5_base = multi_target_voting_5_base.predict(X_test)\n"
   ]
  },
  {
   "cell_type": "code",
   "execution_count": 71,
   "id": "403b8270-95b3-44d7-a5b3-0f1062c5c658",
   "metadata": {},
   "outputs": [],
   "source": [
    "mae = mean_absolute_error(y_test, y_pred_voting_model_5_base)\n",
    "mse = mean_squared_error(y_test, y_pred_voting_model_5_base)\n",
    "rmse = mean_squared_error(y_test, y_pred_voting_model_5_base, squared=False)\n",
    "r2 = r2_score(y_test, y_pred_voting_model_5_base)"
   ]
  },
  {
   "cell_type": "code",
   "execution_count": 72,
   "id": "ac7f086b-cf83-4f08-b67a-cfa7b4005b59",
   "metadata": {},
   "outputs": [
    {
     "name": "stdout",
     "output_type": "stream",
     "text": [
      "Voting Regressor 5 base regressors:\n",
      "\n",
      "Mean Absolute Error (MAE): 6.339132824583852\n",
      "Mean Squared Error (MSE): 146.06194067517322\n",
      "Root Mean Squared Error (RMSE): 11.084057138049348\n",
      "R^2 Score: 0.17399646434135568\n"
     ]
    }
   ],
   "source": [
    "print(\"Voting Regressor 5 base regressors:\\n\")\n",
    "print(\"Mean Absolute Error (MAE):\", mae)\n",
    "print(\"Mean Squared Error (MSE):\", mse)\n",
    "print(\"Root Mean Squared Error (RMSE):\", rmse)\n",
    "print(\"R^2 Score:\", r2)"
   ]
  },
  {
   "cell_type": "code",
   "execution_count": 73,
   "id": "84f8a664-fc07-480a-b286-6306a815575d",
   "metadata": {},
   "outputs": [],
   "source": [
    "\n",
    "# Define base regressors\n",
    "base_regressors = [\n",
    "    ('ridge', RidgeCV()),\n",
    "    ('rf', RandomForestRegressor()),\n",
    "    ('ada', AdaBoostRegressor()),\n",
    "    ('kn', KNeighborsRegressor()),\n",
    "    ('gb', GradientBoostingRegressor())\n",
    "]\n",
    "\n",
    "# Define VotingRegressor model\n",
    "multi_target_voting_model_mod1 = MultiOutputRegressor(VotingRegressor(estimators=base_regressors, weights = [3,3,2,2,3]))\n",
    "\n",
    "# Fit VotingRegressor model\n",
    "multi_target_voting_model_mod1.fit(X_train, y_train)\n",
    "\n",
    "# Make predictions\n",
    "y_pred_voting_model_mod1 = multi_target_voting_model_mod1.predict(X_test)\n"
   ]
  },
  {
   "cell_type": "code",
   "execution_count": 74,
   "id": "608644f6-71a7-471b-9857-1b3890205f7a",
   "metadata": {},
   "outputs": [],
   "source": [
    "mae = mean_absolute_error(y_test, y_pred_voting_model_mod1)\n",
    "mse = mean_squared_error(y_test, y_pred_voting_model_mod1)\n",
    "rmse = mean_squared_error(y_test, y_pred_voting_model_mod1, squared=False)\n",
    "r2 = r2_score(y_test, y_pred_voting_model_mod1)"
   ]
  },
  {
   "cell_type": "code",
   "execution_count": 75,
   "id": "c6ef61f1-e4c6-467e-964a-be05582ee857",
   "metadata": {},
   "outputs": [
    {
     "name": "stdout",
     "output_type": "stream",
     "text": [
      "Voting Regressor 5 base regressors:\n",
      "\n",
      "Mean Absolute Error (MAE): 6.216885964854067\n",
      "Mean Squared Error (MSE): 146.65411391338307\n",
      "Root Mean Squared Error (RMSE): 11.095627911355068\n",
      "R^2 Score: 0.1745381564925465\n"
     ]
    }
   ],
   "source": [
    "print(\"Voting Regressor 5 base regressors:\\n\")\n",
    "print(\"Mean Absolute Error (MAE):\", mae)\n",
    "print(\"Mean Squared Error (MSE):\", mse)\n",
    "print(\"Root Mean Squared Error (RMSE):\", rmse)\n",
    "print(\"R^2 Score:\", r2)"
   ]
  },
  {
   "cell_type": "code",
   "execution_count": 76,
   "id": "74183f89-dbac-4911-b84a-a404311a5e0f",
   "metadata": {},
   "outputs": [],
   "source": [
    "# Second Option\n",
    "\n",
    "\n",
    "# Define base regressors\n",
    "base_regressors = [\n",
    "    ('ridge', RidgeCV()),\n",
    "    ('rf', RandomForestRegressor()),\n",
    "    ('ada', AdaBoostRegressor()),\n",
    "    ('kn', KNeighborsRegressor()),\n",
    "    ('gb', GradientBoostingRegressor())\n",
    "]\n",
    "\n",
    "# Define VotingRegressor model\n",
    "multi_target_voting_model_mod2 = MultiOutputRegressor(VotingRegressor(estimators=base_regressors, weights = [2,3,2,3,3]))\n",
    "\n",
    "# Fit VotingRegressor model\n",
    "multi_target_voting_model_mod2.fit(X_train, y_train)\n",
    "\n",
    "# Make predictions\n",
    "y_pred_voting_model_mod2 = multi_target_voting_model_mod2.predict(X_test)\n"
   ]
  },
  {
   "cell_type": "code",
   "execution_count": 77,
   "id": "6689b005-f73d-4547-9636-eaef28fa6f9d",
   "metadata": {},
   "outputs": [],
   "source": [
    "mae = mean_absolute_error(y_test, y_pred_voting_model_mod2)\n",
    "mse = mean_squared_error(y_test, y_pred_voting_model_mod2)\n",
    "rmse = mean_squared_error(y_test, y_pred_voting_model_mod2, squared=False)\n",
    "r2 = r2_score(y_test, y_pred_voting_model_mod2)"
   ]
  },
  {
   "cell_type": "code",
   "execution_count": 78,
   "id": "106a3c74-a555-435d-932c-3923f053b4c9",
   "metadata": {},
   "outputs": [
    {
     "name": "stdout",
     "output_type": "stream",
     "text": [
      "Voting Regressor 5 base regressors different weights:\n",
      "\n",
      "Mean Absolute Error (MAE): 6.238867451063272\n",
      "Mean Squared Error (MSE): 147.35929052105345\n",
      "Root Mean Squared Error (RMSE): 11.120612609579702\n",
      "R^2 Score: 0.1711606933333057\n"
     ]
    }
   ],
   "source": [
    "print(\"Voting Regressor 5 base regressors different weights:\\n\")\n",
    "print(\"Mean Absolute Error (MAE):\", mae)\n",
    "print(\"Mean Squared Error (MSE):\", mse)\n",
    "print(\"Root Mean Squared Error (RMSE):\", rmse)\n",
    "print(\"R^2 Score:\", r2)"
   ]
  },
  {
   "cell_type": "markdown",
   "id": "8720155b-393e-4686-95cc-2687338e2aa0",
   "metadata": {},
   "source": [
    "## CROSSVAL SCORE"
   ]
  },
  {
   "cell_type": "code",
   "execution_count": 85,
   "id": "859c99f8-e0c5-4906-9982-8a03f50c1669",
   "metadata": {
    "tags": []
   },
   "outputs": [
    {
     "name": "stdout",
     "output_type": "stream",
     "text": [
      "Cross-Validation Scores hgb_model (R^2): [-8.0234557  -0.66184499 -0.13005165 -5.68839892 -5.8564843 ]\n",
      "Cross-Validation Scores voting_model (R^2): [-6.72546116 -0.59176742 -0.14446817 -5.292831   -4.71207999]\n",
      "Cross-Validation Scores voting_model (R^2): [-5.7557011  -0.56728783 -0.09953726 -5.80952773 -5.43566772]\n",
      "Cross-Validation Scores voting_model_mod1(R^2): [-5.58765449 -0.55762808 -0.09655452 -5.66918872 -5.24304232]\n",
      "Cross-Validation Scores voting_model_mod2 (R^2): [-5.694543   -0.5748722  -0.12519895 -5.55815098 -5.25759625]\n"
     ]
    }
   ],
   "source": [
    "cvs_multi_target_hgb_model = cross_val_score(multi_target_hgb_model, X, y, cv=5, scoring='r2')\n",
    "\n",
    "cvs_multi_target_voting_model = cross_val_score(multi_target_voting_model, X, y, cv=5, scoring='r2')\n",
    "\n",
    "cvs_multi_target_voting_5_base = cross_val_score(multi_target_voting_5_base, X, y, cv=5, scoring='r2')\n",
    "\n",
    "cvs_multi_target_voting_model_mod1 = cross_val_score(multi_target_voting_model_mod1, X, y, cv=5, scoring='r2')\n",
    "\n",
    "cvs_multi_target_voting_model_mod2 = cross_val_score(multi_target_voting_model_mod2, X, y, cv=5, scoring='r2')\n",
    "\n",
    "\n",
    "\n",
    "# Imprimir los puntajes de validación cruzada\n",
    "print(\"Cross-Validation Scores hgb_model (R^2):\", cvs_multi_target_hgb_model)\n",
    "print(\"Cross-Validation Scores voting_model (R^2):\", cvs_multi_target_voting_model)\n",
    "print(\"Cross-Validation Scores voting_model (R^2):\", cvs_multi_target_voting_5_base)\n",
    "print(\"Cross-Validation Scores voting_model_mod1(R^2):\", cvs_multi_target_voting_model_mod1)\n",
    "print(\"Cross-Validation Scores voting_model_mod2 (R^2):\", cvs_multi_target_voting_model_mod2)"
   ]
  },
  {
   "cell_type": "markdown",
   "id": "21b09c97-0c44-46ee-8e73-de44bd283980",
   "metadata": {},
   "source": [
    "## GRID SEARCH CV"
   ]
  },
  {
   "cell_type": "code",
   "execution_count": 82,
   "id": "7aa8b266-b559-408f-a0e8-914ef3d85374",
   "metadata": {},
   "outputs": [],
   "source": [
    "r2 = r2_score(y_test, y_pred_voting)"
   ]
  },
  {
   "cell_type": "code",
   "execution_count": null,
   "id": "028ad09f-b5fc-4326-90a5-6c338db48548",
   "metadata": {},
   "outputs": [],
   "source": []
  },
  {
   "cell_type": "code",
   "execution_count": null,
   "id": "3f3175a2-fa18-4f50-b719-aa61076ea481",
   "metadata": {},
   "outputs": [],
   "source": []
  },
  {
   "cell_type": "code",
   "execution_count": null,
   "id": "5d241f3f-ae5b-4e50-b751-bea455b52fe9",
   "metadata": {},
   "outputs": [],
   "source": []
  },
  {
   "cell_type": "code",
   "execution_count": null,
   "id": "7a120725-d15d-4795-8d09-5aa1cf929e00",
   "metadata": {},
   "outputs": [],
   "source": []
  },
  {
   "cell_type": "markdown",
   "id": "92083e9f-662c-41c3-90e7-1ecd4a745089",
   "metadata": {
    "tags": []
   },
   "source": [
    "## SAVE MODEL"
   ]
  },
  {
   "cell_type": "code",
   "execution_count": 84,
   "id": "7b648dc4-faf5-4cae-b522-8d4ad353234e",
   "metadata": {
    "tags": []
   },
   "outputs": [
    {
     "ename": "NameError",
     "evalue": "name 'relative_path8' is not defined",
     "output_type": "error",
     "traceback": [
      "\u001b[1;31m---------------------------------------------------------------------------\u001b[0m",
      "\u001b[1;31mNameError\u001b[0m                                 Traceback (most recent call last)",
      "Cell \u001b[1;32mIn[84], line 6\u001b[0m\n\u001b[0;32m      1\u001b[0m \u001b[38;5;66;03m# Construct reading relative path\u001b[39;00m\n\u001b[0;32m      2\u001b[0m \u001b[38;5;66;03m#relative_path8 = \"my-jobcation-path/02_data_cleaning_phase/01_Preprocessing & Clean/coworkings_chars.csv\"\u001b[39;00m\n\u001b[0;32m      3\u001b[0m \u001b[38;5;66;03m#relative_path9 = \"my-jobcation-path/02_data_cleaning_phase/01_Preprocessing & Clean/campsites_chars.csv\"\u001b[39;00m\n\u001b[0;32m      4\u001b[0m \n\u001b[0;32m      5\u001b[0m \u001b[38;5;66;03m# Construct absolute paths\u001b[39;00m\n\u001b[1;32m----> 6\u001b[0m coworkings_save_path \u001b[38;5;241m=\u001b[39m os\u001b[38;5;241m.\u001b[39mpath\u001b[38;5;241m.\u001b[39mjoin(current_directory, relative_path8)\n\u001b[0;32m      7\u001b[0m campsites_save_path \u001b[38;5;241m=\u001b[39m os\u001b[38;5;241m.\u001b[39mpath\u001b[38;5;241m.\u001b[39mjoin(current_directory, relative_path9)\n",
      "\u001b[1;31mNameError\u001b[0m: name 'relative_path8' is not defined"
     ]
    }
   ],
   "source": [
    "# Construct reading relative path\n",
    "#relative_path8 = \"my-jobcation-path/02_data_cleaning_phase/01_Preprocessing & Clean/coworkings_chars.csv\"\n",
    "#relative_path9 = \"my-jobcation-path/02_data_cleaning_phase/01_Preprocessing & Clean/campsites_chars.csv\"\n",
    "\n",
    "# Construct absolute paths\n",
    "coworkings_save_path = os.path.join(current_directory, relative_path8)\n",
    "campsites_save_path = os.path.join(current_directory, relative_path9)"
   ]
  },
  {
   "cell_type": "code",
   "execution_count": null,
   "id": "437c95fb-f608-40c3-9fe8-2f5d0a85cd0f",
   "metadata": {
    "tags": []
   },
   "outputs": [],
   "source": [
    "# Save and Encoding \n",
    "\n",
    "dfcoworks.to_csv(coworkings_save_path, index=False, encoding='utf-8')\n",
    "dfcamps.to_csv(campsites_save_path, index=False, encoding='utf-8')"
   ]
  },
  {
   "cell_type": "code",
   "execution_count": null,
   "id": "2b38f390-56c8-40b5-a7f3-fb3d6fba8ecc",
   "metadata": {
    "tags": []
   },
   "outputs": [],
   "source": [
    "dfcoding.info()"
   ]
  },
  {
   "cell_type": "code",
   "execution_count": null,
   "id": "bed4f7e1-6def-4d83-9c1e-b1bf5da3e4b9",
   "metadata": {},
   "outputs": [],
   "source": []
  }
 ],
 "metadata": {
  "kernelspec": {
   "display_name": "Python 3 (ipykernel)",
   "language": "python",
   "name": "python3"
  },
  "language_info": {
   "codemirror_mode": {
    "name": "ipython",
    "version": 3
   },
   "file_extension": ".py",
   "mimetype": "text/x-python",
   "name": "python",
   "nbconvert_exporter": "python",
   "pygments_lexer": "ipython3",
   "version": "3.11.5"
  }
 },
 "nbformat": 4,
 "nbformat_minor": 5
}

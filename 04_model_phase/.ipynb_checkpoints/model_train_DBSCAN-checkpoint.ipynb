{
 "cells": [
  {
   "cell_type": "code",
   "execution_count": 1,
   "id": "ca9c3a08-123d-41ce-83e4-b8650496714b",
   "metadata": {},
   "outputs": [
    {
     "name": "stdout",
     "output_type": "stream",
     "text": [
      "Requirement already satisfied: geopy in c:\\users\\oscar\\anaconda3\\lib\\site-packages (2.4.1)\n",
      "Requirement already satisfied: geographiclib<3,>=1.52 in c:\\users\\oscar\\anaconda3\\lib\\site-packages (from geopy) (2.0)\n",
      "Note: you may need to restart the kernel to use updated packages.\n"
     ]
    }
   ],
   "source": [
    "pip install geopy"
   ]
  },
  {
   "cell_type": "code",
   "execution_count": 2,
   "id": "e7792a12-c2ac-47b9-a36d-c1e1dad0596a",
   "metadata": {
    "tags": []
   },
   "outputs": [],
   "source": [
    "#Basic Libraries 📚\n",
    "\n",
    "import pandas as pd\n",
    "import numpy as np\n",
    "import os\n",
    "import sys\n",
    "import matplotlib.pyplot as plt"
   ]
  },
  {
   "cell_type": "code",
   "execution_count": 3,
   "id": "d89fa87b-b769-4486-b65f-d526c54b753d",
   "metadata": {},
   "outputs": [],
   "source": [
    "# Basic Modules & Useful Installations\n",
    "\n",
    "import warnings\n",
    "warnings.simplefilter(action='ignore')"
   ]
  },
  {
   "cell_type": "code",
   "execution_count": 4,
   "id": "55d184cf-171c-424f-89e8-2945e4343454",
   "metadata": {
    "tags": []
   },
   "outputs": [],
   "source": [
    "# Geo Libraries 📚\n",
    "\n",
    "import geopandas as gpd\n",
    "from geopy.distance import geodesic\n",
    "from geopy.distance import great_circle"
   ]
  },
  {
   "cell_type": "code",
   "execution_count": 5,
   "id": "93029b7c-6fff-40f8-8b13-3ddec9f342b6",
   "metadata": {},
   "outputs": [],
   "source": [
    "# Machine Learning Libraries\n",
    "\n",
    "from sklearn.cluster import DBSCAN\n",
    "from sklearn.metrics import silhouette_score\n",
    "from sklearn.metrics import davies_bouldin_score"
   ]
  },
  {
   "cell_type": "code",
   "execution_count": 6,
   "id": "8dbd598a-f0f1-4dca-a129-4cc120ff3339",
   "metadata": {},
   "outputs": [],
   "source": [
    "# Find Nearby\n",
    "\n",
    "def find_nearby_coworks(campsite, coworks, max_distance_km):\n",
    "    nearby_coworks = []\n",
    "    for _, cowork in coworks.iterrows():\n",
    "        dist = great_circle((campsite.latitude, campsite.longitude), (cowork.latitude, cowork.longitude)).kilometers\n",
    "        if dist <= max_distance_km:\n",
    "            nearby_coworks.append(cowork)\n",
    "    return nearby_coworks"
   ]
  },
  {
   "cell_type": "code",
   "execution_count": 7,
   "id": "0f05a9c4-64c0-403c-b7c9-ac5339a214cc",
   "metadata": {
    "tags": []
   },
   "outputs": [
    {
     "name": "stdout",
     "output_type": "stream",
     "text": [
      "Current working directory is: C:\\Users\\Oscar\\Documents\\00_Ironhack\\P3_Final\n"
     ]
    }
   ],
   "source": [
    "# Construct reading relative path\n",
    "\n",
    "relative_path = \"my-jobcation-path/02_data_cleaning_phase/01_Preprocessing & Clean/coworkings_chars.csv\"\n",
    "relative_path2 = \"my-jobcation-path/02_data_cleaning_phase/01_Preprocessing & Clean/campsites_chars.csv\"\n",
    "\n",
    "# Change directory\n",
    "os.chdir('C:\\\\Users\\\\Oscar\\\\Documents\\\\00_Ironhack\\\\P3_Final\\\\') #Change for your own directory\n",
    "\n",
    "# Check directory\n",
    "current_directory = os.getcwd()\n",
    "print(\"Current working directory is:\", current_directory)"
   ]
  },
  {
   "cell_type": "code",
   "execution_count": 8,
   "id": "84d8c54c-b62a-409a-8d7e-1720ad19d1ba",
   "metadata": {
    "tags": []
   },
   "outputs": [],
   "source": [
    "# Construct absolute paths\n",
    "\n",
    "coworkings_path = os.path.join(current_directory, relative_path)\n",
    "campsites_path = os.path.join(current_directory, relative_path2)\n"
   ]
  },
  {
   "cell_type": "code",
   "execution_count": 9,
   "id": "82fab10a-9c30-4008-beae-1dcdd55a462d",
   "metadata": {
    "tags": []
   },
   "outputs": [
    {
     "name": "stdout",
     "output_type": "stream",
     "text": [
      "The file has been loaded successfully.\n"
     ]
    }
   ],
   "source": [
    "# Coworkings reading\n",
    "\n",
    "if os.path.exists(coworkings_path):\n",
    "    try:\n",
    "        # Try to read the CSV file\n",
    "        data = pd.read_csv(coworkings_path)\n",
    "        print(\"The file has been loaded successfully.\")\n",
    "        # Now you can work with the 'data' DataFrame\n",
    "    except Exception as e:\n",
    "        print(\"An error occurred while reading the file:\", e)\n",
    "else:\n",
    "    print(\"The file does not exist at the specified path:\", coworkings_path)"
   ]
  },
  {
   "cell_type": "code",
   "execution_count": 10,
   "id": "0f83119b-322f-49d4-b2a1-d57e64645569",
   "metadata": {
    "tags": []
   },
   "outputs": [
    {
     "name": "stdout",
     "output_type": "stream",
     "text": [
      "The file has been loaded successfully.\n"
     ]
    }
   ],
   "source": [
    "# Campsites reading\n",
    "\n",
    "if os.path.exists(campsites_path):\n",
    "    try:\n",
    "        # Try to read the CSV file\n",
    "        data2 = pd.read_csv(campsites_path)\n",
    "        print(\"The file has been loaded successfully.\")\n",
    "        # Now you can work with the 'data' DataFrame\n",
    "    except Exception as e:\n",
    "        print(\"An error occurred while reading the file:\", e)\n",
    "else:\n",
    "    print(\"The file does not exist at the specified path:\", campsites_path)"
   ]
  },
  {
   "cell_type": "code",
   "execution_count": 11,
   "id": "672cbcd4-4173-4ace-aa11-6c9eda7aa379",
   "metadata": {
    "tags": []
   },
   "outputs": [],
   "source": [
    "# Dataframe Creation\n",
    "\n",
    "dfco = data.copy()\n",
    "dfca = data2.copy()\n"
   ]
  },
  {
   "cell_type": "markdown",
   "id": "8a0e983e-94c2-46c3-89d3-41870f1ee7f2",
   "metadata": {
    "tags": []
   },
   "source": [
    "## PREPROCESSING for CLUSTERING"
   ]
  },
  {
   "cell_type": "markdown",
   "id": "c09fd27d-729c-4492-8345-7bc072bedbe2",
   "metadata": {},
   "source": [
    "- DISTANCE PROBLEM\n",
    "\n",
    "In the process of information handling through the API, some distances were miscalculated due to the formula for geodesic distances. We analyzed which small part of the dataset is affected and removed these outliers. Regardless of the unsupervised model we're going to use, these data points compromise the consistency of the project and would lead to odd results."
   ]
  },
  {
   "cell_type": "code",
   "execution_count": 14,
   "id": "2dfee5e6-beb1-4a59-afe5-c76be7b4f75a",
   "metadata": {
    "tags": []
   },
   "outputs": [
    {
     "data": {
      "image/png": "[encoded data removed]",
      "text/plain": [
       "<Figure size 640x480 with 1 Axes>"
      ]
     },
     "metadata": {},
     "output_type": "display_data"
    },
    {
     "name": "stdout",
     "output_type": "stream",
     "text": [
      "The maximal distance in km is 11603.14830674014 more over the 95th percentile is only 70.37163137640921\n",
      "\n"
     ]
    }
   ],
   "source": [
    "\n",
    "# Look for strange distances. Example:\n",
    "strange_distance = dfca[\"distance_km\"].max()\n",
    "\n",
    "# Calculate quantiles\n",
    "q25 = dfca[\"distance_km\"].quantile(0.25)\n",
    "q50 = dfca[\"distance_km\"].quantile(0.50)  # This is the median\n",
    "q75 = dfca[\"distance_km\"].quantile(0.75)\n",
    "q95 = dfca[\"distance_km\"].quantile(0.95)  # Calculating 95th percentile\n",
    "\n",
    "# Create the histogram\n",
    "plt.hist(dfca[\"distance_km\"], bins=20, color='blue', edgecolor='black', range=(0, 100))  # Limiting data to 0-100 km\n",
    "\n",
    "# Add vertical lines for each quantile\n",
    "plt.axvline(q25, color='red', linestyle='dashed', linewidth=3, label='25th percentile (Q1)')\n",
    "plt.axvline(q50, color='green', linestyle='dashed', linewidth=3, label='50th percentile (Median)')\n",
    "plt.axvline(q75, color='yellow', linestyle='dashed', linewidth=3, label='75th percentile (Q3)')\n",
    "plt.axvline(q95, color='purple', linestyle='dashed', linewidth=3, label='95th percentile (Q90)')  # Marking the 95th percentile\n",
    "\n",
    "# Labels & Title\n",
    "plt.xlabel('Distance (km)')\n",
    "plt.ylabel('Frequency')\n",
    "plt.title('Histogram of Distance in Kilometers with Quantiles')\n",
    "plt.grid(True)\n",
    "\n",
    "# Adjust the x-axis to show up to 100 km\n",
    "plt.xlim(0, 100)\n",
    "\n",
    "# Add a legend to make it clear what the lines represent\n",
    "plt.legend()\n",
    "\n",
    "plt.show()\n",
    "\n",
    "print(f'The maximal distance in km is {strange_distance} more over the 95th percentile is only {q95}\\n')"
   ]
  },
  {
   "cell_type": "code",
   "execution_count": 15,
   "id": "54853b0e-d536-4f87-a186-0bf04472cd85",
   "metadata": {
    "tags": []
   },
   "outputs": [],
   "source": [
    "# Filtering\n",
    "\n",
    "dfca = dfca[dfca['distance_km'] <= q95]"
   ]
  },
  {
   "cell_type": "code",
   "execution_count": 16,
   "id": "cea68bab-6d26-4951-90c1-53253dd4c7ce",
   "metadata": {
    "tags": []
   },
   "outputs": [],
   "source": [
    "# Encoding categoricals. We are going to use manual encoding because we need it for the model after.\n",
    "\n",
    "type = {\n",
    "    'City': 0,\n",
    "    'Town': 1,\n",
    "    'Village': 2,\n",
    "}\n",
    "\n",
    "\n",
    "luxury = {\n",
    "    'Campsite': 0,\n",
    "    'Glamping': 1,\n",
    "    'Camper': 2\n",
    "}\n",
    "\n",
    "\n",
    "# Now let's do the mapping\n",
    "\n",
    "dfca['type'] = dfca['type'].map(type)\n",
    "dfca['luxury'] = dfca['luxury'].map(luxury)\n"
   ]
  },
  {
   "cell_type": "code",
   "execution_count": 17,
   "id": "4d3fb580-3347-4e9d-bcfe-9ffce2ae3ae6",
   "metadata": {
    "tags": []
   },
   "outputs": [],
   "source": [
    "encoding_column = [\"type\", \"luxury\", \"beach\", \"wild\", \"rating\", \"distance_km\", \"longitude\", \"latitude\"] \n",
    "\n",
    "df_campsites = dfca[encoding_column]"
   ]
  },
  {
   "cell_type": "code",
   "execution_count": 18,
   "id": "798be586-0ea7-4793-addb-2565f9eec81e",
   "metadata": {
    "tags": []
   },
   "outputs": [],
   "source": [
    "encoding_column = [\"rating\",\"distance_km\", \"longitude\", \"latitude\"] \n",
    "\n",
    "df_cowork = dfco[encoding_column]"
   ]
  },
  {
   "cell_type": "markdown",
   "id": "159444cc-27d2-4af6-9cc6-05b1643ed8a8",
   "metadata": {
    "tags": []
   },
   "source": [
    "## DBSCAN MODEL"
   ]
  },
  {
   "cell_type": "code",
   "execution_count": 20,
   "id": "8afc7929-bd44-486c-9098-c6dc70932b4c",
   "metadata": {
    "tags": []
   },
   "outputs": [],
   "source": [
    "# Fix the targeting\n",
    "\n",
    "Xca = df_campsites\n"
   ]
  },
  {
   "cell_type": "markdown",
   "id": "3bef39fc-dc66-476e-b668-fea3e632dce4",
   "metadata": {
    "tags": []
   },
   "source": [
    "## TEST EUCLIDEAN METRIC"
   ]
  },
  {
   "cell_type": "markdown",
   "id": "d80075ef-5768-4ae5-9237-410efcf0ee86",
   "metadata": {},
   "source": [
    "Euclidean Distance : It is the most commonly used metric in DBSCAN. It calculates the straight-line distance between two points in Euclidean space."
   ]
  },
  {
   "cell_type": "code",
   "execution_count": 93,
   "id": "b7a0e740-04c6-4e10-a76e-34f3a41dd697",
   "metadata": {
    "tags": []
   },
   "outputs": [
    {
     "name": "stdout",
     "output_type": "stream",
     "text": [
      "EPS: 10, Min_Samples: 5, Silhouette Score: 0.3441276789021776, Number of Clusters: 8, Davies-Bouldin Index: 0.7584535857389311\n",
      "EPS: 10, Min_Samples: 6, Silhouette Score: 0.3424528622458677, Number of Clusters: 8, Davies-Bouldin Index: 0.9122927674949989\n",
      "EPS: 10, Min_Samples: 7, Silhouette Score: 0.3422709587175934, Number of Clusters: 8, Davies-Bouldin Index: 0.9038635722019784\n",
      "EPS: 10, Min_Samples: 8, Silhouette Score: 0.37044786075420594, Number of Clusters: 6, Davies-Bouldin Index: 1.1894920101269542\n",
      "EPS: 10, Min_Samples: 9, Silhouette Score: 0.4680012493226426, Number of Clusters: 5, Davies-Bouldin Index: 1.545192927460148\n",
      "EPS: 10, Min_Samples: 10, Silhouette Score: 0.46670755441106815, Number of Clusters: 5, Davies-Bouldin Index: 1.500586833870645\n",
      "EPS: 10, Min_Samples: 11, Silhouette Score: 0.6495286681240391, Number of Clusters: 3, Davies-Bouldin Index: 1.4221026530967384\n",
      "EPS: 10, Min_Samples: 12, Silhouette Score: 0.6558678617152015, Number of Clusters: 2, Davies-Bouldin Index: 1.3066529475280577\n",
      "EPS: 10, Min_Samples: 13, Silhouette Score: 0.6881801544152901, Number of Clusters: 1, Davies-Bouldin Index: 1.37690656285816\n",
      "EPS: 10, Min_Samples: 14, Silhouette Score: 0.6881801544152901, Number of Clusters: 1, Davies-Bouldin Index: 1.37690656285816\n",
      "EPS: 10, Min_Samples: 15, Silhouette Score: 0.6881801544152901, Number of Clusters: 1, Davies-Bouldin Index: 1.37690656285816\n",
      "EPS: 10, Min_Samples: 16, Silhouette Score: 0.6881801544152901, Number of Clusters: 1, Davies-Bouldin Index: 1.37690656285816\n",
      "EPS: 10, Min_Samples: 17, Silhouette Score: 0.6881801544152901, Number of Clusters: 1, Davies-Bouldin Index: 1.37690656285816\n",
      "EPS: 10, Min_Samples: 18, Silhouette Score: 0.6881801544152901, Number of Clusters: 1, Davies-Bouldin Index: 1.37690656285816\n",
      "EPS: 10, Min_Samples: 19, Silhouette Score: 0.6881801544152901, Number of Clusters: 1, Davies-Bouldin Index: 1.37690656285816\n",
      "EPS: 10, Min_Samples: 20, Silhouette Score: 0.686465175508461, Number of Clusters: 1, Davies-Bouldin Index: 1.3829419228228355\n",
      "EPS: 10, Min_Samples: 21, Silhouette Score: 0.686465175508461, Number of Clusters: 1, Davies-Bouldin Index: 1.3829419228228355\n",
      "EPS: 10, Min_Samples: 22, Silhouette Score: 0.686465175508461, Number of Clusters: 1, Davies-Bouldin Index: 1.3829419228228355\n",
      "EPS: 10, Min_Samples: 23, Silhouette Score: 0.686465175508461, Number of Clusters: 1, Davies-Bouldin Index: 1.3829419228228355\n",
      "EPS: 10, Min_Samples: 24, Silhouette Score: 0.686465175508461, Number of Clusters: 1, Davies-Bouldin Index: 1.3829419228228355\n",
      "EPS: 10, Min_Samples: 25, Silhouette Score: 0.686465175508461, Number of Clusters: 1, Davies-Bouldin Index: 1.3829419228228355\n",
      "EPS: 10, Min_Samples: 26, Silhouette Score: 0.686465175508461, Number of Clusters: 1, Davies-Bouldin Index: 1.3829419228228355\n",
      "EPS: 10, Min_Samples: 27, Silhouette Score: 0.6808096648091158, Number of Clusters: 1, Davies-Bouldin Index: 1.3970774213049277\n",
      "EPS: 10, Min_Samples: 28, Silhouette Score: 0.6691946415355061, Number of Clusters: 1, Davies-Bouldin Index: 1.4218692465141933\n",
      "EPS: 10, Min_Samples: 29, Silhouette Score: 0.6691946415355061, Number of Clusters: 1, Davies-Bouldin Index: 1.4218692465141933\n",
      "EPS: 10, Min_Samples: 30, Silhouette Score: 0.6672435505396915, Number of Clusters: 1, Davies-Bouldin Index: 1.4244404035565907\n",
      "EPS: 15, Min_Samples: 5, Silhouette Score: 0.40258219776293463, Number of Clusters: 7, Davies-Bouldin Index: 0.7108118571459673\n",
      "EPS: 15, Min_Samples: 6, Silhouette Score: 0.39806695414436605, Number of Clusters: 7, Davies-Bouldin Index: 0.7996045506462648\n",
      "EPS: 15, Min_Samples: 7, Silhouette Score: 0.39806695414436605, Number of Clusters: 7, Davies-Bouldin Index: 0.7996045506462648\n",
      "EPS: 15, Min_Samples: 8, Silhouette Score: 0.393992738157816, Number of Clusters: 7, Davies-Bouldin Index: 0.9755106964045608\n",
      "EPS: 15, Min_Samples: 9, Silhouette Score: 0.3759811965708513, Number of Clusters: 7, Davies-Bouldin Index: 1.0973879007202383\n",
      "EPS: 15, Min_Samples: 10, Silhouette Score: 0.37402813718258593, Number of Clusters: 7, Davies-Bouldin Index: 1.0940044650133403\n",
      "EPS: 15, Min_Samples: 11, Silhouette Score: 0.5995854860590876, Number of Clusters: 4, Davies-Bouldin Index: 1.3922974605965586\n",
      "EPS: 15, Min_Samples: 12, Silhouette Score: 0.6246637461131422, Number of Clusters: 3, Davies-Bouldin Index: 1.2200159017556438\n",
      "EPS: 15, Min_Samples: 13, Silhouette Score: 0.626519518880696, Number of Clusters: 3, Davies-Bouldin Index: 1.2280248403216962\n",
      "EPS: 15, Min_Samples: 14, Silhouette Score: 0.626519518880696, Number of Clusters: 3, Davies-Bouldin Index: 1.2280248403216962\n",
      "EPS: 15, Min_Samples: 15, Silhouette Score: 0.6510635471774988, Number of Clusters: 2, Davies-Bouldin Index: 1.3268424740842022\n",
      "EPS: 15, Min_Samples: 16, Silhouette Score: 0.6881801544152901, Number of Clusters: 1, Davies-Bouldin Index: 1.37690656285816\n",
      "EPS: 15, Min_Samples: 17, Silhouette Score: 0.6881801544152901, Number of Clusters: 1, Davies-Bouldin Index: 1.37690656285816\n",
      "EPS: 15, Min_Samples: 18, Silhouette Score: 0.6881801544152901, Number of Clusters: 1, Davies-Bouldin Index: 1.37690656285816\n",
      "EPS: 15, Min_Samples: 19, Silhouette Score: 0.6881801544152901, Number of Clusters: 1, Davies-Bouldin Index: 1.37690656285816\n",
      "EPS: 15, Min_Samples: 20, Silhouette Score: 0.6881801544152901, Number of Clusters: 1, Davies-Bouldin Index: 1.37690656285816\n",
      "EPS: 15, Min_Samples: 21, Silhouette Score: 0.6881801544152901, Number of Clusters: 1, Davies-Bouldin Index: 1.37690656285816\n",
      "EPS: 15, Min_Samples: 22, Silhouette Score: 0.6881801544152901, Number of Clusters: 1, Davies-Bouldin Index: 1.37690656285816\n",
      "EPS: 15, Min_Samples: 23, Silhouette Score: 0.6881801544152901, Number of Clusters: 1, Davies-Bouldin Index: 1.37690656285816\n",
      "EPS: 15, Min_Samples: 24, Silhouette Score: 0.6881801544152901, Number of Clusters: 1, Davies-Bouldin Index: 1.37690656285816\n",
      "EPS: 15, Min_Samples: 25, Silhouette Score: 0.6881801544152901, Number of Clusters: 1, Davies-Bouldin Index: 1.37690656285816\n",
      "EPS: 15, Min_Samples: 26, Silhouette Score: 0.6881801544152901, Number of Clusters: 1, Davies-Bouldin Index: 1.37690656285816\n",
      "EPS: 15, Min_Samples: 27, Silhouette Score: 0.6881801544152901, Number of Clusters: 1, Davies-Bouldin Index: 1.37690656285816\n",
      "EPS: 15, Min_Samples: 28, Silhouette Score: 0.6881801544152901, Number of Clusters: 1, Davies-Bouldin Index: 1.37690656285816\n",
      "EPS: 15, Min_Samples: 29, Silhouette Score: 0.6881801544152901, Number of Clusters: 1, Davies-Bouldin Index: 1.37690656285816\n",
      "EPS: 15, Min_Samples: 30, Silhouette Score: 0.6881801544152901, Number of Clusters: 1, Davies-Bouldin Index: 1.37690656285816\n",
      "EPS: 20, Min_Samples: 5, Silhouette Score: 0.468914098934253, Number of Clusters: 6, Davies-Bouldin Index: 0.7086955110414142\n",
      "EPS: 20, Min_Samples: 6, Silhouette Score: 0.468914098934253, Number of Clusters: 6, Davies-Bouldin Index: 0.7086955110414142\n",
      "EPS: 20, Min_Samples: 7, Silhouette Score: 0.468914098934253, Number of Clusters: 6, Davies-Bouldin Index: 0.7086955110414142\n",
      "EPS: 20, Min_Samples: 8, Silhouette Score: 0.468914098934253, Number of Clusters: 6, Davies-Bouldin Index: 0.7086955110414142\n",
      "EPS: 20, Min_Samples: 9, Silhouette Score: 0.468914098934253, Number of Clusters: 6, Davies-Bouldin Index: 0.7086955110414142\n",
      "EPS: 20, Min_Samples: 10, Silhouette Score: 0.466904757841602, Number of Clusters: 6, Davies-Bouldin Index: 0.9085682397008537\n",
      "EPS: 20, Min_Samples: 11, Silhouette Score: 0.4658894152101565, Number of Clusters: 5, Davies-Bouldin Index: 0.8654875299387776\n",
      "EPS: 20, Min_Samples: 12, Silhouette Score: 0.46501633669302417, Number of Clusters: 5, Davies-Bouldin Index: 1.1659897182534256\n",
      "EPS: 20, Min_Samples: 13, Silhouette Score: 0.46501633669302417, Number of Clusters: 5, Davies-Bouldin Index: 1.1659897182534256\n",
      "EPS: 20, Min_Samples: 14, Silhouette Score: 0.6536437546690448, Number of Clusters: 3, Davies-Bouldin Index: 0.8548189608625055\n",
      "EPS: 20, Min_Samples: 15, Silhouette Score: 0.6536437546690448, Number of Clusters: 3, Davies-Bouldin Index: 0.8548189608625055\n",
      "EPS: 20, Min_Samples: 16, Silhouette Score: 0.6775185052864156, Number of Clusters: 2, Davies-Bouldin Index: 0.9682865459190655\n",
      "EPS: 20, Min_Samples: 17, Silhouette Score: 0.6775185052864156, Number of Clusters: 2, Davies-Bouldin Index: 0.9682865459190655\n",
      "EPS: 20, Min_Samples: 18, Silhouette Score: 0.7167143630136958, Number of Clusters: 1, Davies-Bouldin Index: 0.9366993763018645\n",
      "EPS: 20, Min_Samples: 19, Silhouette Score: 0.7167143630136958, Number of Clusters: 1, Davies-Bouldin Index: 0.9366993763018645\n",
      "EPS: 20, Min_Samples: 20, Silhouette Score: 0.7167143630136958, Number of Clusters: 1, Davies-Bouldin Index: 0.9366993763018645\n",
      "EPS: 20, Min_Samples: 21, Silhouette Score: 0.7167143630136958, Number of Clusters: 1, Davies-Bouldin Index: 0.9366993763018645\n",
      "EPS: 20, Min_Samples: 22, Silhouette Score: 0.7167143630136958, Number of Clusters: 1, Davies-Bouldin Index: 0.9366993763018645\n",
      "EPS: 20, Min_Samples: 23, Silhouette Score: 0.7167143630136958, Number of Clusters: 1, Davies-Bouldin Index: 0.9366993763018645\n",
      "EPS: 20, Min_Samples: 24, Silhouette Score: 0.7167143630136958, Number of Clusters: 1, Davies-Bouldin Index: 0.9366993763018645\n",
      "EPS: 20, Min_Samples: 25, Silhouette Score: 0.7167143630136958, Number of Clusters: 1, Davies-Bouldin Index: 0.9366993763018645\n",
      "EPS: 20, Min_Samples: 26, Silhouette Score: 0.7167143630136958, Number of Clusters: 1, Davies-Bouldin Index: 0.9366993763018645\n",
      "EPS: 20, Min_Samples: 27, Silhouette Score: 0.7167143630136958, Number of Clusters: 1, Davies-Bouldin Index: 0.9366993763018645\n",
      "EPS: 20, Min_Samples: 28, Silhouette Score: 0.7167143630136958, Number of Clusters: 1, Davies-Bouldin Index: 0.9366993763018645\n",
      "EPS: 20, Min_Samples: 29, Silhouette Score: 0.7167143630136958, Number of Clusters: 1, Davies-Bouldin Index: 0.9366993763018645\n",
      "EPS: 20, Min_Samples: 30, Silhouette Score: 0.7167143630136958, Number of Clusters: 1, Davies-Bouldin Index: 0.9366993763018645\n",
      "EPS: 25, Min_Samples: 5, Silhouette Score: 0.46899401559248094, Number of Clusters: 6, Davies-Bouldin Index: 0.5593836592380367\n",
      "EPS: 25, Min_Samples: 6, Silhouette Score: 0.46899401559248094, Number of Clusters: 6, Davies-Bouldin Index: 0.5593836592380367\n",
      "EPS: 25, Min_Samples: 7, Silhouette Score: 0.46899401559248094, Number of Clusters: 6, Davies-Bouldin Index: 0.5593836592380367\n",
      "EPS: 25, Min_Samples: 8, Silhouette Score: 0.46899401559248094, Number of Clusters: 6, Davies-Bouldin Index: 0.5593836592380367\n",
      "EPS: 25, Min_Samples: 9, Silhouette Score: 0.46899401559248094, Number of Clusters: 6, Davies-Bouldin Index: 0.5593836592380367\n",
      "EPS: 25, Min_Samples: 10, Silhouette Score: 0.46899401559248094, Number of Clusters: 6, Davies-Bouldin Index: 0.5593836592380367\n",
      "EPS: 25, Min_Samples: 11, Silhouette Score: 0.46922728532335406, Number of Clusters: 5, Davies-Bouldin Index: 0.6636902452438463\n",
      "EPS: 25, Min_Samples: 12, Silhouette Score: 0.46922728532335406, Number of Clusters: 5, Davies-Bouldin Index: 0.6636902452438463\n",
      "EPS: 25, Min_Samples: 13, Silhouette Score: 0.46586812466656613, Number of Clusters: 5, Davies-Bouldin Index: 0.7501435119585875\n",
      "EPS: 25, Min_Samples: 14, Silhouette Score: 0.46586812466656613, Number of Clusters: 5, Davies-Bouldin Index: 0.7501435119585875\n",
      "EPS: 25, Min_Samples: 15, Silhouette Score: 0.6584826758044003, Number of Clusters: 3, Davies-Bouldin Index: 0.7954707130292986\n",
      "EPS: 25, Min_Samples: 16, Silhouette Score: 0.6584826758044003, Number of Clusters: 3, Davies-Bouldin Index: 0.7954707130292986\n",
      "EPS: 25, Min_Samples: 17, Silhouette Score: 0.6584826758044003, Number of Clusters: 3, Davies-Bouldin Index: 0.7954707130292986\n",
      "EPS: 25, Min_Samples: 18, Silhouette Score: 0.7118018656746254, Number of Clusters: 2, Davies-Bouldin Index: 1.2887030088246407\n",
      "EPS: 25, Min_Samples: 19, Silhouette Score: 0.7203521678182919, Number of Clusters: 1, Davies-Bouldin Index: 0.876927445461846\n",
      "EPS: 25, Min_Samples: 20, Silhouette Score: 0.7203521678182919, Number of Clusters: 1, Davies-Bouldin Index: 0.876927445461846\n",
      "EPS: 25, Min_Samples: 21, Silhouette Score: 0.7203521678182919, Number of Clusters: 1, Davies-Bouldin Index: 0.876927445461846\n",
      "EPS: 25, Min_Samples: 22, Silhouette Score: 0.7203521678182919, Number of Clusters: 1, Davies-Bouldin Index: 0.876927445461846\n",
      "EPS: 25, Min_Samples: 23, Silhouette Score: 0.7203521678182919, Number of Clusters: 1, Davies-Bouldin Index: 0.876927445461846\n",
      "EPS: 25, Min_Samples: 24, Silhouette Score: 0.7203521678182919, Number of Clusters: 1, Davies-Bouldin Index: 0.876927445461846\n",
      "EPS: 25, Min_Samples: 25, Silhouette Score: 0.7203521678182919, Number of Clusters: 1, Davies-Bouldin Index: 0.876927445461846\n",
      "EPS: 25, Min_Samples: 26, Silhouette Score: 0.7203521678182919, Number of Clusters: 1, Davies-Bouldin Index: 0.876927445461846\n",
      "EPS: 25, Min_Samples: 27, Silhouette Score: 0.7203521678182919, Number of Clusters: 1, Davies-Bouldin Index: 0.876927445461846\n",
      "EPS: 25, Min_Samples: 28, Silhouette Score: 0.7203521678182919, Number of Clusters: 1, Davies-Bouldin Index: 0.876927445461846\n",
      "EPS: 25, Min_Samples: 29, Silhouette Score: 0.7203521678182919, Number of Clusters: 1, Davies-Bouldin Index: 0.876927445461846\n",
      "EPS: 25, Min_Samples: 30, Silhouette Score: 0.7203521678182919, Number of Clusters: 1, Davies-Bouldin Index: 0.876927445461846\n",
      "EPS: 30, Min_Samples: 5, Silhouette Score: 0.713195169234198, Number of Clusters: 5, Davies-Bouldin Index: 0.4556333684942048\n",
      "EPS: 30, Min_Samples: 6, Silhouette Score: 0.713195169234198, Number of Clusters: 5, Davies-Bouldin Index: 0.4556333684942048\n",
      "EPS: 30, Min_Samples: 7, Silhouette Score: 0.713195169234198, Number of Clusters: 5, Davies-Bouldin Index: 0.4556333684942048\n",
      "EPS: 30, Min_Samples: 8, Silhouette Score: 0.713195169234198, Number of Clusters: 5, Davies-Bouldin Index: 0.4556333684942048\n",
      "EPS: 30, Min_Samples: 9, Silhouette Score: 0.713195169234198, Number of Clusters: 5, Davies-Bouldin Index: 0.4556333684942048\n",
      "EPS: 30, Min_Samples: 10, Silhouette Score: 0.713195169234198, Number of Clusters: 5, Davies-Bouldin Index: 0.4556333684942048\n",
      "EPS: 30, Min_Samples: 11, Silhouette Score: 0.7147244893988302, Number of Clusters: 4, Davies-Bouldin Index: 0.5603656623502666\n",
      "EPS: 30, Min_Samples: 12, Silhouette Score: 0.7147244893988302, Number of Clusters: 4, Davies-Bouldin Index: 0.5603656623502666\n",
      "EPS: 30, Min_Samples: 13, Silhouette Score: 0.7147244893988302, Number of Clusters: 4, Davies-Bouldin Index: 0.5603656623502666\n",
      "EPS: 30, Min_Samples: 14, Silhouette Score: 0.7147244893988302, Number of Clusters: 4, Davies-Bouldin Index: 0.5603656623502666\n",
      "EPS: 30, Min_Samples: 15, Silhouette Score: 0.7204939468096946, Number of Clusters: 3, Davies-Bouldin Index: 0.628706496145044\n",
      "EPS: 30, Min_Samples: 16, Silhouette Score: 0.7204939468096946, Number of Clusters: 3, Davies-Bouldin Index: 0.628706496145044\n",
      "EPS: 30, Min_Samples: 17, Silhouette Score: 0.7204939468096946, Number of Clusters: 3, Davies-Bouldin Index: 0.628706496145044\n",
      "EPS: 30, Min_Samples: 18, Silhouette Score: 0.7285407818814162, Number of Clusters: 2, Davies-Bouldin Index: 1.2420961250167708\n",
      "EPS: 30, Min_Samples: 19, Silhouette Score: 0.7285407818814162, Number of Clusters: 2, Davies-Bouldin Index: 1.2420961250167708\n",
      "EPS: 30, Min_Samples: 20, Silhouette Score: 0.7537700082056948, Number of Clusters: 1, Davies-Bouldin Index: 0.6073231502677238\n",
      "EPS: 30, Min_Samples: 21, Silhouette Score: 0.7537700082056948, Number of Clusters: 1, Davies-Bouldin Index: 0.6073231502677238\n",
      "EPS: 30, Min_Samples: 22, Silhouette Score: 0.7537700082056948, Number of Clusters: 1, Davies-Bouldin Index: 0.6073231502677238\n",
      "EPS: 30, Min_Samples: 23, Silhouette Score: 0.7537700082056948, Number of Clusters: 1, Davies-Bouldin Index: 0.6073231502677238\n",
      "EPS: 30, Min_Samples: 24, Silhouette Score: 0.7537700082056948, Number of Clusters: 1, Davies-Bouldin Index: 0.6073231502677238\n",
      "EPS: 30, Min_Samples: 25, Silhouette Score: 0.7537700082056948, Number of Clusters: 1, Davies-Bouldin Index: 0.6073231502677238\n",
      "EPS: 30, Min_Samples: 26, Silhouette Score: 0.7537700082056948, Number of Clusters: 1, Davies-Bouldin Index: 0.6073231502677238\n",
      "EPS: 30, Min_Samples: 27, Silhouette Score: 0.7537700082056948, Number of Clusters: 1, Davies-Bouldin Index: 0.6073231502677238\n",
      "EPS: 30, Min_Samples: 28, Silhouette Score: 0.7537700082056948, Number of Clusters: 1, Davies-Bouldin Index: 0.6073231502677238\n",
      "EPS: 30, Min_Samples: 29, Silhouette Score: 0.7537700082056948, Number of Clusters: 1, Davies-Bouldin Index: 0.6073231502677238\n",
      "EPS: 30, Min_Samples: 30, Silhouette Score: 0.7537700082056948, Number of Clusters: 1, Davies-Bouldin Index: 0.6073231502677238\n",
      "EPS: 35, Min_Samples: 5, Silhouette Score: 0.7144799261228147, Number of Clusters: 3, Davies-Bouldin Index: 0.47959611704339816\n",
      "EPS: 35, Min_Samples: 6, Silhouette Score: 0.7144799261228147, Number of Clusters: 3, Davies-Bouldin Index: 0.47959611704339816\n",
      "EPS: 35, Min_Samples: 7, Silhouette Score: 0.7144799261228147, Number of Clusters: 3, Davies-Bouldin Index: 0.47959611704339816\n",
      "EPS: 35, Min_Samples: 8, Silhouette Score: 0.7144799261228147, Number of Clusters: 3, Davies-Bouldin Index: 0.47959611704339816\n",
      "EPS: 35, Min_Samples: 9, Silhouette Score: 0.7144799261228147, Number of Clusters: 3, Davies-Bouldin Index: 0.47959611704339816\n",
      "EPS: 35, Min_Samples: 10, Silhouette Score: 0.7144799261228147, Number of Clusters: 3, Davies-Bouldin Index: 0.47959611704339816\n",
      "EPS: 35, Min_Samples: 11, Silhouette Score: 0.7144799261228147, Number of Clusters: 3, Davies-Bouldin Index: 0.47959611704339816\n",
      "EPS: 35, Min_Samples: 12, Silhouette Score: 0.7144799261228147, Number of Clusters: 3, Davies-Bouldin Index: 0.47959611704339816\n",
      "EPS: 35, Min_Samples: 13, Silhouette Score: 0.7144799261228147, Number of Clusters: 3, Davies-Bouldin Index: 0.47959611704339816\n",
      "EPS: 35, Min_Samples: 14, Silhouette Score: 0.7144799261228147, Number of Clusters: 3, Davies-Bouldin Index: 0.47959611704339816\n",
      "EPS: 35, Min_Samples: 15, Silhouette Score: 0.7144799261228147, Number of Clusters: 2, Davies-Bouldin Index: 0.47959611704339816\n",
      "EPS: 35, Min_Samples: 16, Silhouette Score: 0.7144799261228147, Number of Clusters: 2, Davies-Bouldin Index: 0.47959611704339816\n",
      "EPS: 35, Min_Samples: 17, Silhouette Score: 0.7144799261228147, Number of Clusters: 2, Davies-Bouldin Index: 0.47959611704339816\n",
      "EPS: 35, Min_Samples: 18, Silhouette Score: 0.7144799261228147, Number of Clusters: 2, Davies-Bouldin Index: 0.47959611704339816\n",
      "EPS: 35, Min_Samples: 19, Silhouette Score: 0.7144799261228147, Number of Clusters: 2, Davies-Bouldin Index: 0.47959611704339816\n",
      "EPS: 35, Min_Samples: 20, Silhouette Score: 0.7411520462695199, Number of Clusters: 2, Davies-Bouldin Index: 1.941349447551275\n",
      "EPS: 35, Min_Samples: 21, Silhouette Score: 0.7411520462695199, Number of Clusters: 2, Davies-Bouldin Index: 1.941349447551275\n",
      "EPS: 35, Min_Samples: 22, Silhouette Score: 0.7411520462695199, Number of Clusters: 2, Davies-Bouldin Index: 1.941349447551275\n",
      "EPS: 35, Min_Samples: 23, Silhouette Score: 0.7411520462695199, Number of Clusters: 2, Davies-Bouldin Index: 1.941349447551275\n",
      "EPS: 35, Min_Samples: 24, Silhouette Score: 0.7386764121610344, Number of Clusters: 2, Davies-Bouldin Index: 2.052158037608693\n",
      "EPS: 35, Min_Samples: 25, Silhouette Score: 0.742283816469686, Number of Clusters: 2, Davies-Bouldin Index: 1.3555920095806495\n",
      "EPS: 35, Min_Samples: 26, Silhouette Score: 0.7537700082056948, Number of Clusters: 1, Davies-Bouldin Index: 0.6073231502677238\n",
      "EPS: 35, Min_Samples: 27, Silhouette Score: 0.7537700082056948, Number of Clusters: 1, Davies-Bouldin Index: 0.6073231502677238\n",
      "EPS: 35, Min_Samples: 28, Silhouette Score: 0.7537700082056948, Number of Clusters: 1, Davies-Bouldin Index: 0.6073231502677238\n",
      "EPS: 35, Min_Samples: 29, Silhouette Score: 0.7537700082056948, Number of Clusters: 1, Davies-Bouldin Index: 0.6073231502677238\n",
      "EPS: 35, Min_Samples: 30, Silhouette Score: 0.7537700082056948, Number of Clusters: 1, Davies-Bouldin Index: 0.6073231502677238\n",
      "EPS: 40, Min_Samples: 5, Silhouette Score: 0.7144799261228147, Number of Clusters: 3, Davies-Bouldin Index: 0.47959611704339816\n",
      "EPS: 40, Min_Samples: 6, Silhouette Score: 0.7144799261228147, Number of Clusters: 3, Davies-Bouldin Index: 0.47959611704339816\n",
      "EPS: 40, Min_Samples: 7, Silhouette Score: 0.7144799261228147, Number of Clusters: 3, Davies-Bouldin Index: 0.47959611704339816\n",
      "EPS: 40, Min_Samples: 8, Silhouette Score: 0.7144799261228147, Number of Clusters: 3, Davies-Bouldin Index: 0.47959611704339816\n",
      "EPS: 40, Min_Samples: 9, Silhouette Score: 0.7144799261228147, Number of Clusters: 3, Davies-Bouldin Index: 0.47959611704339816\n",
      "EPS: 40, Min_Samples: 10, Silhouette Score: 0.7144799261228147, Number of Clusters: 3, Davies-Bouldin Index: 0.47959611704339816\n",
      "EPS: 40, Min_Samples: 11, Silhouette Score: 0.7144799261228147, Number of Clusters: 3, Davies-Bouldin Index: 0.47959611704339816\n",
      "EPS: 40, Min_Samples: 12, Silhouette Score: 0.7144799261228147, Number of Clusters: 3, Davies-Bouldin Index: 0.47959611704339816\n",
      "EPS: 40, Min_Samples: 13, Silhouette Score: 0.7144799261228147, Number of Clusters: 3, Davies-Bouldin Index: 0.47959611704339816\n",
      "EPS: 40, Min_Samples: 14, Silhouette Score: 0.7144799261228147, Number of Clusters: 3, Davies-Bouldin Index: 0.47959611704339816\n",
      "EPS: 40, Min_Samples: 15, Silhouette Score: 0.7144799261228147, Number of Clusters: 2, Davies-Bouldin Index: 0.47959611704339816\n",
      "EPS: 40, Min_Samples: 16, Silhouette Score: 0.7144799261228147, Number of Clusters: 2, Davies-Bouldin Index: 0.47959611704339816\n",
      "EPS: 40, Min_Samples: 17, Silhouette Score: 0.7144799261228147, Number of Clusters: 2, Davies-Bouldin Index: 0.47959611704339816\n",
      "EPS: 40, Min_Samples: 18, Silhouette Score: 0.7144799261228147, Number of Clusters: 2, Davies-Bouldin Index: 0.47959611704339816\n",
      "EPS: 40, Min_Samples: 19, Silhouette Score: 0.7144799261228147, Number of Clusters: 2, Davies-Bouldin Index: 0.47959611704339816\n",
      "EPS: 40, Min_Samples: 20, Silhouette Score: 0.7144799261228147, Number of Clusters: 2, Davies-Bouldin Index: 0.47959611704339816\n",
      "EPS: 40, Min_Samples: 21, Silhouette Score: 0.7144799261228147, Number of Clusters: 2, Davies-Bouldin Index: 0.47959611704339816\n",
      "EPS: 40, Min_Samples: 22, Silhouette Score: 0.7144799261228147, Number of Clusters: 2, Davies-Bouldin Index: 0.47959611704339816\n",
      "EPS: 40, Min_Samples: 23, Silhouette Score: 0.7144799261228147, Number of Clusters: 2, Davies-Bouldin Index: 0.47959611704339816\n",
      "EPS: 40, Min_Samples: 24, Silhouette Score: 0.7144799261228147, Number of Clusters: 2, Davies-Bouldin Index: 0.47959611704339816\n",
      "EPS: 40, Min_Samples: 25, Silhouette Score: 0.7144799261228147, Number of Clusters: 2, Davies-Bouldin Index: 0.47959611704339816\n",
      "EPS: 40, Min_Samples: 26, Silhouette Score: 0.7144799261228147, Number of Clusters: 2, Davies-Bouldin Index: 0.47959611704339816\n",
      "EPS: 40, Min_Samples: 27, Silhouette Score: 0.7144799261228147, Number of Clusters: 2, Davies-Bouldin Index: 0.47959611704339816\n",
      "EPS: 40, Min_Samples: 28, Silhouette Score: 0.7144799261228147, Number of Clusters: 2, Davies-Bouldin Index: 0.47959611704339816\n",
      "EPS: 40, Min_Samples: 29, Silhouette Score: 0.7144799261228147, Number of Clusters: 2, Davies-Bouldin Index: 0.47959611704339816\n",
      "EPS: 40, Min_Samples: 30, Silhouette Score: 0.7144799261228147, Number of Clusters: 2, Davies-Bouldin Index: 0.47959611704339816\n",
      "EPS: 45, Min_Samples: 5, Silhouette Score: 0.7537700082056948, Number of Clusters: 2, Davies-Bouldin Index: 0.6073231502677238\n",
      "EPS: 45, Min_Samples: 6, Silhouette Score: 0.7537700082056948, Number of Clusters: 2, Davies-Bouldin Index: 0.6073231502677238\n",
      "EPS: 45, Min_Samples: 7, Silhouette Score: 0.7537700082056948, Number of Clusters: 2, Davies-Bouldin Index: 0.6073231502677238\n",
      "EPS: 45, Min_Samples: 8, Silhouette Score: 0.7537700082056948, Number of Clusters: 2, Davies-Bouldin Index: 0.6073231502677238\n",
      "EPS: 45, Min_Samples: 9, Silhouette Score: 0.7537700082056948, Number of Clusters: 2, Davies-Bouldin Index: 0.6073231502677238\n",
      "EPS: 45, Min_Samples: 10, Silhouette Score: 0.7537700082056948, Number of Clusters: 2, Davies-Bouldin Index: 0.6073231502677238\n",
      "EPS: 45, Min_Samples: 11, Silhouette Score: 0.7537700082056948, Number of Clusters: 2, Davies-Bouldin Index: 0.6073231502677238\n",
      "EPS: 45, Min_Samples: 12, Silhouette Score: 0.7537700082056948, Number of Clusters: 2, Davies-Bouldin Index: 0.6073231502677238\n",
      "EPS: 45, Min_Samples: 13, Silhouette Score: 0.7537700082056948, Number of Clusters: 2, Davies-Bouldin Index: 0.6073231502677238\n",
      "EPS: 45, Min_Samples: 14, Silhouette Score: 0.7537700082056948, Number of Clusters: 2, Davies-Bouldin Index: 0.6073231502677238\n",
      "EPS: 45, Min_Samples: 15, Silhouette Score: 0.7537700082056948, Number of Clusters: 2, Davies-Bouldin Index: 0.6073231502677238\n",
      "EPS: 45, Min_Samples: 16, Silhouette Score: 0.7537700082056948, Number of Clusters: 2, Davies-Bouldin Index: 0.6073231502677238\n",
      "EPS: 45, Min_Samples: 17, Silhouette Score: 0.7136115194701491, Number of Clusters: 2, Davies-Bouldin Index: 0.5323787531220731\n",
      "EPS: 45, Min_Samples: 18, Silhouette Score: 0.7136115194701491, Number of Clusters: 2, Davies-Bouldin Index: 0.5323787531220731\n",
      "EPS: 45, Min_Samples: 19, Silhouette Score: 0.7136115194701491, Number of Clusters: 2, Davies-Bouldin Index: 0.5323787531220731\n",
      "EPS: 45, Min_Samples: 20, Silhouette Score: 0.7136115194701491, Number of Clusters: 2, Davies-Bouldin Index: 0.5323787531220731\n",
      "EPS: 45, Min_Samples: 21, Silhouette Score: 0.7136115194701491, Number of Clusters: 2, Davies-Bouldin Index: 0.5323787531220731\n",
      "EPS: 45, Min_Samples: 22, Silhouette Score: 0.7136115194701491, Number of Clusters: 2, Davies-Bouldin Index: 0.5323787531220731\n",
      "EPS: 45, Min_Samples: 23, Silhouette Score: 0.7136115194701491, Number of Clusters: 2, Davies-Bouldin Index: 0.5323787531220731\n",
      "EPS: 45, Min_Samples: 24, Silhouette Score: 0.7136115194701491, Number of Clusters: 2, Davies-Bouldin Index: 0.5323787531220731\n",
      "EPS: 45, Min_Samples: 25, Silhouette Score: 0.7136115194701491, Number of Clusters: 2, Davies-Bouldin Index: 0.5323787531220731\n",
      "EPS: 45, Min_Samples: 26, Silhouette Score: 0.7136115194701491, Number of Clusters: 2, Davies-Bouldin Index: 0.5323787531220731\n",
      "EPS: 45, Min_Samples: 27, Silhouette Score: 0.7136115194701491, Number of Clusters: 2, Davies-Bouldin Index: 0.5323787531220731\n",
      "EPS: 45, Min_Samples: 28, Silhouette Score: 0.7141059982148605, Number of Clusters: 2, Davies-Bouldin Index: 0.5072229175758592\n",
      "EPS: 45, Min_Samples: 29, Silhouette Score: 0.7141059982148605, Number of Clusters: 2, Davies-Bouldin Index: 0.5072229175758592\n",
      "EPS: 45, Min_Samples: 30, Silhouette Score: 0.7141059982148605, Number of Clusters: 2, Davies-Bouldin Index: 0.5072229175758592\n",
      "EPS: 50, Min_Samples: 5, Silhouette Score: 0.7537700082056948, Number of Clusters: 2, Davies-Bouldin Index: 0.6073231502677238\n",
      "EPS: 50, Min_Samples: 6, Silhouette Score: 0.7537700082056948, Number of Clusters: 2, Davies-Bouldin Index: 0.6073231502677238\n",
      "EPS: 50, Min_Samples: 7, Silhouette Score: 0.7537700082056948, Number of Clusters: 2, Davies-Bouldin Index: 0.6073231502677238\n",
      "EPS: 50, Min_Samples: 8, Silhouette Score: 0.7537700082056948, Number of Clusters: 2, Davies-Bouldin Index: 0.6073231502677238\n",
      "EPS: 50, Min_Samples: 9, Silhouette Score: 0.7537700082056948, Number of Clusters: 2, Davies-Bouldin Index: 0.6073231502677238\n",
      "EPS: 50, Min_Samples: 10, Silhouette Score: 0.7537700082056948, Number of Clusters: 2, Davies-Bouldin Index: 0.6073231502677238\n",
      "EPS: 50, Min_Samples: 11, Silhouette Score: 0.7537700082056948, Number of Clusters: 2, Davies-Bouldin Index: 0.6073231502677238\n",
      "EPS: 50, Min_Samples: 12, Silhouette Score: 0.7537700082056948, Number of Clusters: 2, Davies-Bouldin Index: 0.6073231502677238\n",
      "EPS: 50, Min_Samples: 13, Silhouette Score: 0.7537700082056948, Number of Clusters: 2, Davies-Bouldin Index: 0.6073231502677238\n",
      "EPS: 50, Min_Samples: 14, Silhouette Score: 0.7537700082056948, Number of Clusters: 2, Davies-Bouldin Index: 0.6073231502677238\n",
      "EPS: 50, Min_Samples: 15, Silhouette Score: 0.7537700082056948, Number of Clusters: 2, Davies-Bouldin Index: 0.6073231502677238\n",
      "EPS: 50, Min_Samples: 16, Silhouette Score: 0.7537700082056948, Number of Clusters: 2, Davies-Bouldin Index: 0.6073231502677238\n",
      "EPS: 50, Min_Samples: 17, Silhouette Score: 0.7537700082056948, Number of Clusters: 2, Davies-Bouldin Index: 0.6073231502677238\n",
      "EPS: 50, Min_Samples: 18, Silhouette Score: 0.7537700082056948, Number of Clusters: 2, Davies-Bouldin Index: 0.6073231502677238\n",
      "EPS: 50, Min_Samples: 19, Silhouette Score: 0.7537700082056948, Number of Clusters: 2, Davies-Bouldin Index: 0.6073231502677238\n",
      "EPS: 50, Min_Samples: 20, Silhouette Score: 0.7537700082056948, Number of Clusters: 2, Davies-Bouldin Index: 0.6073231502677238\n",
      "EPS: 50, Min_Samples: 21, Silhouette Score: 0.7537700082056948, Number of Clusters: 2, Davies-Bouldin Index: 0.6073231502677238\n",
      "EPS: 50, Min_Samples: 22, Silhouette Score: 0.7537700082056948, Number of Clusters: 2, Davies-Bouldin Index: 0.6073231502677238\n",
      "EPS: 50, Min_Samples: 23, Silhouette Score: 0.7537700082056948, Number of Clusters: 2, Davies-Bouldin Index: 0.6073231502677238\n",
      "EPS: 50, Min_Samples: 24, Silhouette Score: 0.7537700082056948, Number of Clusters: 2, Davies-Bouldin Index: 0.6073231502677238\n",
      "EPS: 50, Min_Samples: 25, Silhouette Score: 0.7224347977605038, Number of Clusters: 2, Davies-Bouldin Index: 0.5806767719707726\n",
      "EPS: 50, Min_Samples: 26, Silhouette Score: 0.7224347977605038, Number of Clusters: 2, Davies-Bouldin Index: 0.5806767719707726\n",
      "EPS: 50, Min_Samples: 27, Silhouette Score: 0.7224347977605038, Number of Clusters: 2, Davies-Bouldin Index: 0.5806767719707726\n",
      "EPS: 50, Min_Samples: 28, Silhouette Score: 0.7224347977605038, Number of Clusters: 2, Davies-Bouldin Index: 0.5806767719707726\n",
      "EPS: 50, Min_Samples: 29, Silhouette Score: 0.7224347977605038, Number of Clusters: 2, Davies-Bouldin Index: 0.5806767719707726\n",
      "EPS: 50, Min_Samples: 30, Silhouette Score: 0.7224347977605038, Number of Clusters: 2, Davies-Bouldin Index: 0.5806767719707726\n"
     ]
    }
   ],
   "source": [
    "# Sample parameter grid to explore\n",
    "\n",
    "eps_values = [10,15,20,25,30,35,40,45,50]  # Example values (After first tests, we see interesant add values before 50)\n",
    "min_samples_values = [5,6,7,8,9,10, 11, 12, 13, 14, 15, 16, 17, 18, 19, 20, 21, 22, 23, 24, 25, 26, 27, 28, 29, 30] # After first tests, we see interesant add values between 5-10)\n",
    "\n",
    "\n",
    "for eps in eps_values:\n",
    "    for min_samples in min_samples_values:\n",
    "        # Initialize and fit DBSCAN with the current parameter set\n",
    "        dbscan = DBSCAN(eps=eps, min_samples=min_samples, metric='euclidean')\n",
    "        dbscan.fit(Xca)\n",
    "        \n",
    "        # Compute the silhouette score if more than one cluster excluding noise\n",
    "        if len(np.unique(dbscan.labels_)) > 1:\n",
    "            score = silhouette_score(Xca, dbscan.labels_)\n",
    "            db_index = davies_bouldin_score(Xca, dbscan.labels_)\n",
    "            num_clusters = len(set(dbscan.labels_)) - (1 if -1 in dbscan.labels_ else 0)\n",
    "            print( f'EPS: {eps}, Min_Samples: {min_samples}, Silhouette Score: {score}, Number of Clusters: {num_clusters}, Davies-Bouldin Index: {db_index}')\n",
    "            \n"
   ]
  },
  {
   "cell_type": "markdown",
   "id": "b6e70b04-947a-4baa-a696-412e7adc2f8a",
   "metadata": {},
   "source": [
    "Optimal results as our understanding:\n",
    "\n",
    "- High value of Siluette (% of sample into clusters)\n",
    "- Maximize number of clusters\n",
    "- Minimal posible value of Davies-Bouldin Index (Means more distance between clusters and less distance between points into the cluster)\n",
    "\n",
    "Options:\n",
    "\n",
    "EPS: 30, Min_Samples: 9, Silhouette Score: 0.7131012596848337, Number of Clusters: 5, Davies-Bouldin Index: 0.45635034976281585\n",
    "\n",
    "\n",
    "\n",
    "\n"
   ]
  },
  {
   "cell_type": "markdown",
   "id": "7aef61ce-63c3-4e10-a87c-8de7e0b27df4",
   "metadata": {
    "tags": []
   },
   "source": [
    "## TEST MANHATAN METRIC"
   ]
  },
  {
   "cell_type": "markdown",
   "id": "3031e378-5241-4146-91ba-8de27487d8dd",
   "metadata": {},
   "source": [
    "Manhattan Distance (manhattan): Also known as city block distance or taxicab distance, it calculates the distance between two points by summing the absolute differences of their Cartesian coordinates."
   ]
  },
  {
   "cell_type": "code",
   "execution_count": 91,
   "id": "93b8194b-b800-46cc-a50c-f32295f35ebf",
   "metadata": {
    "tags": []
   },
   "outputs": [
    {
     "name": "stdout",
     "output_type": "stream",
     "text": [
      "EPS: 25, Min_Samples: 5, Silhouette Score: 0.40240263692942907, Number of Clusters: 7, Davies-Bouldin Index: 0.6102743839790499\n",
      "EPS: 25, Min_Samples: 6, Silhouette Score: 0.40240263692942907, Number of Clusters: 7, Davies-Bouldin Index: 0.6102743839790499\n",
      "EPS: 25, Min_Samples: 7, Silhouette Score: 0.40240263692942907, Number of Clusters: 7, Davies-Bouldin Index: 0.6102743839790499\n",
      "EPS: 25, Min_Samples: 8, Silhouette Score: 0.40240263692942907, Number of Clusters: 7, Davies-Bouldin Index: 0.6102743839790499\n",
      "EPS: 25, Min_Samples: 9, Silhouette Score: 0.40240263692942907, Number of Clusters: 7, Davies-Bouldin Index: 0.6102743839790499\n",
      "EPS: 25, Min_Samples: 10, Silhouette Score: 0.40240263692942907, Number of Clusters: 7, Davies-Bouldin Index: 0.6102743839790499\n",
      "EPS: 25, Min_Samples: 11, Silhouette Score: 0.40263590666030225, Number of Clusters: 6, Davies-Bouldin Index: 0.7069501326613172\n",
      "EPS: 25, Min_Samples: 12, Silhouette Score: 0.40263590666030225, Number of Clusters: 6, Davies-Bouldin Index: 0.7069501326613172\n",
      "EPS: 25, Min_Samples: 13, Silhouette Score: 0.3977430532824206, Number of Clusters: 6, Davies-Bouldin Index: 0.7900908799998929\n",
      "EPS: 25, Min_Samples: 14, Silhouette Score: 0.3977430532824206, Number of Clusters: 6, Davies-Bouldin Index: 0.7900908799998929\n",
      "EPS: 25, Min_Samples: 15, Silhouette Score: 0.4415697231718206, Number of Clusters: 4, Davies-Bouldin Index: 0.8095713759415363\n",
      "EPS: 25, Min_Samples: 16, Silhouette Score: 0.4415697231718206, Number of Clusters: 4, Davies-Bouldin Index: 0.8095713759415363\n",
      "EPS: 25, Min_Samples: 17, Silhouette Score: 0.44139180580903586, Number of Clusters: 4, Davies-Bouldin Index: 0.814012638595625\n",
      "EPS: 25, Min_Samples: 18, Silhouette Score: 0.674852558277151, Number of Clusters: 2, Davies-Bouldin Index: 1.4816935610055113\n",
      "EPS: 25, Min_Samples: 19, Silhouette Score: 0.6881801544152901, Number of Clusters: 1, Davies-Bouldin Index: 1.37690656285816\n",
      "EPS: 25, Min_Samples: 20, Silhouette Score: 0.6881801544152901, Number of Clusters: 1, Davies-Bouldin Index: 1.37690656285816\n",
      "EPS: 25, Min_Samples: 21, Silhouette Score: 0.6881801544152901, Number of Clusters: 1, Davies-Bouldin Index: 1.37690656285816\n",
      "EPS: 25, Min_Samples: 22, Silhouette Score: 0.6881801544152901, Number of Clusters: 1, Davies-Bouldin Index: 1.37690656285816\n",
      "EPS: 25, Min_Samples: 23, Silhouette Score: 0.6881801544152901, Number of Clusters: 1, Davies-Bouldin Index: 1.37690656285816\n",
      "EPS: 25, Min_Samples: 24, Silhouette Score: 0.6881801544152901, Number of Clusters: 1, Davies-Bouldin Index: 1.37690656285816\n",
      "EPS: 25, Min_Samples: 25, Silhouette Score: 0.6881801544152901, Number of Clusters: 1, Davies-Bouldin Index: 1.37690656285816\n",
      "EPS: 25, Min_Samples: 26, Silhouette Score: 0.6881801544152901, Number of Clusters: 1, Davies-Bouldin Index: 1.37690656285816\n",
      "EPS: 25, Min_Samples: 27, Silhouette Score: 0.6881801544152901, Number of Clusters: 1, Davies-Bouldin Index: 1.37690656285816\n",
      "EPS: 25, Min_Samples: 28, Silhouette Score: 0.6881801544152901, Number of Clusters: 1, Davies-Bouldin Index: 1.37690656285816\n",
      "EPS: 25, Min_Samples: 29, Silhouette Score: 0.6881801544152901, Number of Clusters: 1, Davies-Bouldin Index: 1.37690656285816\n",
      "EPS: 25, Min_Samples: 30, Silhouette Score: 0.6881801544152901, Number of Clusters: 1, Davies-Bouldin Index: 1.37690656285816\n",
      "EPS: 30, Min_Samples: 5, Silhouette Score: 0.46899401559248094, Number of Clusters: 6, Davies-Bouldin Index: 0.5593836592380367\n",
      "EPS: 30, Min_Samples: 6, Silhouette Score: 0.46899401559248094, Number of Clusters: 6, Davies-Bouldin Index: 0.5593836592380367\n",
      "EPS: 30, Min_Samples: 7, Silhouette Score: 0.46899401559248094, Number of Clusters: 6, Davies-Bouldin Index: 0.5593836592380367\n",
      "EPS: 30, Min_Samples: 8, Silhouette Score: 0.46899401559248094, Number of Clusters: 6, Davies-Bouldin Index: 0.5593836592380367\n",
      "EPS: 30, Min_Samples: 9, Silhouette Score: 0.46899401559248094, Number of Clusters: 6, Davies-Bouldin Index: 0.5593836592380367\n",
      "EPS: 30, Min_Samples: 10, Silhouette Score: 0.46899401559248094, Number of Clusters: 6, Davies-Bouldin Index: 0.5593836592380367\n",
      "EPS: 30, Min_Samples: 11, Silhouette Score: 0.46922728532335406, Number of Clusters: 5, Davies-Bouldin Index: 0.6636902452438463\n",
      "EPS: 30, Min_Samples: 12, Silhouette Score: 0.46922728532335406, Number of Clusters: 5, Davies-Bouldin Index: 0.6636902452438463\n",
      "EPS: 30, Min_Samples: 13, Silhouette Score: 0.46922728532335406, Number of Clusters: 5, Davies-Bouldin Index: 0.6636902452438463\n",
      "EPS: 30, Min_Samples: 14, Silhouette Score: 0.46586812466656613, Number of Clusters: 5, Davies-Bouldin Index: 0.7501435119585875\n",
      "EPS: 30, Min_Samples: 15, Silhouette Score: 0.6584826758044003, Number of Clusters: 3, Davies-Bouldin Index: 0.7954707130292986\n",
      "EPS: 30, Min_Samples: 16, Silhouette Score: 0.6584826758044003, Number of Clusters: 3, Davies-Bouldin Index: 0.7954707130292986\n",
      "EPS: 30, Min_Samples: 17, Silhouette Score: 0.6584826758044003, Number of Clusters: 3, Davies-Bouldin Index: 0.7954707130292986\n",
      "EPS: 30, Min_Samples: 18, Silhouette Score: 0.7120757674029554, Number of Clusters: 2, Davies-Bouldin Index: 1.2962699333192924\n",
      "EPS: 30, Min_Samples: 19, Silhouette Score: 0.7120757674029554, Number of Clusters: 2, Davies-Bouldin Index: 1.2962699333192924\n",
      "EPS: 30, Min_Samples: 20, Silhouette Score: 0.7203521678182919, Number of Clusters: 1, Davies-Bouldin Index: 0.876927445461846\n",
      "EPS: 30, Min_Samples: 21, Silhouette Score: 0.7203521678182919, Number of Clusters: 1, Davies-Bouldin Index: 0.876927445461846\n",
      "EPS: 30, Min_Samples: 22, Silhouette Score: 0.7203521678182919, Number of Clusters: 1, Davies-Bouldin Index: 0.876927445461846\n",
      "EPS: 30, Min_Samples: 23, Silhouette Score: 0.7203521678182919, Number of Clusters: 1, Davies-Bouldin Index: 0.876927445461846\n",
      "EPS: 30, Min_Samples: 24, Silhouette Score: 0.7203521678182919, Number of Clusters: 1, Davies-Bouldin Index: 0.876927445461846\n",
      "EPS: 30, Min_Samples: 25, Silhouette Score: 0.7203521678182919, Number of Clusters: 1, Davies-Bouldin Index: 0.876927445461846\n",
      "EPS: 30, Min_Samples: 26, Silhouette Score: 0.7203521678182919, Number of Clusters: 1, Davies-Bouldin Index: 0.876927445461846\n",
      "EPS: 30, Min_Samples: 27, Silhouette Score: 0.7203521678182919, Number of Clusters: 1, Davies-Bouldin Index: 0.876927445461846\n",
      "EPS: 30, Min_Samples: 28, Silhouette Score: 0.7203521678182919, Number of Clusters: 1, Davies-Bouldin Index: 0.876927445461846\n",
      "EPS: 30, Min_Samples: 29, Silhouette Score: 0.7203521678182919, Number of Clusters: 1, Davies-Bouldin Index: 0.876927445461846\n",
      "EPS: 30, Min_Samples: 30, Silhouette Score: 0.7203521678182919, Number of Clusters: 1, Davies-Bouldin Index: 0.876927445461846\n",
      "EPS: 35, Min_Samples: 5, Silhouette Score: 0.713195169234198, Number of Clusters: 5, Davies-Bouldin Index: 0.4556333684942048\n",
      "EPS: 35, Min_Samples: 6, Silhouette Score: 0.713195169234198, Number of Clusters: 5, Davies-Bouldin Index: 0.4556333684942048\n",
      "EPS: 35, Min_Samples: 7, Silhouette Score: 0.713195169234198, Number of Clusters: 5, Davies-Bouldin Index: 0.4556333684942048\n",
      "EPS: 35, Min_Samples: 8, Silhouette Score: 0.713195169234198, Number of Clusters: 5, Davies-Bouldin Index: 0.4556333684942048\n",
      "EPS: 35, Min_Samples: 9, Silhouette Score: 0.713195169234198, Number of Clusters: 5, Davies-Bouldin Index: 0.4556333684942048\n",
      "EPS: 35, Min_Samples: 10, Silhouette Score: 0.713195169234198, Number of Clusters: 5, Davies-Bouldin Index: 0.4556333684942048\n",
      "EPS: 35, Min_Samples: 11, Silhouette Score: 0.7147244893988302, Number of Clusters: 4, Davies-Bouldin Index: 0.5603656623502666\n",
      "EPS: 35, Min_Samples: 12, Silhouette Score: 0.7147244893988302, Number of Clusters: 4, Davies-Bouldin Index: 0.5603656623502666\n",
      "EPS: 35, Min_Samples: 13, Silhouette Score: 0.7147244893988302, Number of Clusters: 4, Davies-Bouldin Index: 0.5603656623502666\n",
      "EPS: 35, Min_Samples: 14, Silhouette Score: 0.7147244893988302, Number of Clusters: 4, Davies-Bouldin Index: 0.5603656623502666\n",
      "EPS: 35, Min_Samples: 15, Silhouette Score: 0.7204939468096946, Number of Clusters: 3, Davies-Bouldin Index: 0.628706496145044\n",
      "EPS: 35, Min_Samples: 16, Silhouette Score: 0.7154893003079248, Number of Clusters: 3, Davies-Bouldin Index: 0.6475461039168691\n",
      "EPS: 35, Min_Samples: 17, Silhouette Score: 0.6681677861314647, Number of Clusters: 3, Davies-Bouldin Index: 0.772388259095116\n",
      "EPS: 35, Min_Samples: 18, Silhouette Score: 0.7183101849614727, Number of Clusters: 2, Davies-Bouldin Index: 1.3095645389113262\n",
      "EPS: 35, Min_Samples: 19, Silhouette Score: 0.7183101849614727, Number of Clusters: 2, Davies-Bouldin Index: 1.3095645389113262\n",
      "EPS: 35, Min_Samples: 20, Silhouette Score: 0.7264031374555769, Number of Clusters: 1, Davies-Bouldin Index: 0.8279716561717521\n",
      "EPS: 35, Min_Samples: 21, Silhouette Score: 0.7264031374555769, Number of Clusters: 1, Davies-Bouldin Index: 0.8279716561717521\n",
      "EPS: 35, Min_Samples: 22, Silhouette Score: 0.7264031374555769, Number of Clusters: 1, Davies-Bouldin Index: 0.8279716561717521\n",
      "EPS: 35, Min_Samples: 23, Silhouette Score: 0.7264031374555769, Number of Clusters: 1, Davies-Bouldin Index: 0.8279716561717521\n",
      "EPS: 35, Min_Samples: 24, Silhouette Score: 0.7264031374555769, Number of Clusters: 1, Davies-Bouldin Index: 0.8279716561717521\n",
      "EPS: 35, Min_Samples: 25, Silhouette Score: 0.7264031374555769, Number of Clusters: 1, Davies-Bouldin Index: 0.8279716561717521\n",
      "EPS: 35, Min_Samples: 26, Silhouette Score: 0.7264031374555769, Number of Clusters: 1, Davies-Bouldin Index: 0.8279716561717521\n",
      "EPS: 35, Min_Samples: 27, Silhouette Score: 0.7264031374555769, Number of Clusters: 1, Davies-Bouldin Index: 0.8279716561717521\n",
      "EPS: 35, Min_Samples: 28, Silhouette Score: 0.7264031374555769, Number of Clusters: 1, Davies-Bouldin Index: 0.8279716561717521\n",
      "EPS: 35, Min_Samples: 29, Silhouette Score: 0.7264031374555769, Number of Clusters: 1, Davies-Bouldin Index: 0.8279716561717521\n",
      "EPS: 35, Min_Samples: 30, Silhouette Score: 0.7264031374555769, Number of Clusters: 1, Davies-Bouldin Index: 0.8279716561717521\n",
      "EPS: 40, Min_Samples: 5, Silhouette Score: 0.7147244893988302, Number of Clusters: 5, Davies-Bouldin Index: 0.5603656623502666\n",
      "EPS: 40, Min_Samples: 6, Silhouette Score: 0.7147244893988302, Number of Clusters: 5, Davies-Bouldin Index: 0.5603656623502666\n",
      "EPS: 40, Min_Samples: 7, Silhouette Score: 0.7147244893988302, Number of Clusters: 5, Davies-Bouldin Index: 0.5603656623502666\n",
      "EPS: 40, Min_Samples: 8, Silhouette Score: 0.7147244893988302, Number of Clusters: 5, Davies-Bouldin Index: 0.5603656623502666\n",
      "EPS: 40, Min_Samples: 9, Silhouette Score: 0.7147244893988302, Number of Clusters: 5, Davies-Bouldin Index: 0.5603656623502666\n",
      "EPS: 40, Min_Samples: 10, Silhouette Score: 0.7147244893988302, Number of Clusters: 5, Davies-Bouldin Index: 0.5603656623502666\n",
      "EPS: 40, Min_Samples: 11, Silhouette Score: 0.7147244893988302, Number of Clusters: 5, Davies-Bouldin Index: 0.5603656623502666\n",
      "EPS: 40, Min_Samples: 12, Silhouette Score: 0.7147244893988302, Number of Clusters: 4, Davies-Bouldin Index: 0.5603656623502666\n",
      "EPS: 40, Min_Samples: 13, Silhouette Score: 0.7147244893988302, Number of Clusters: 4, Davies-Bouldin Index: 0.5603656623502666\n",
      "EPS: 40, Min_Samples: 14, Silhouette Score: 0.7147244893988302, Number of Clusters: 4, Davies-Bouldin Index: 0.5603656623502666\n",
      "EPS: 40, Min_Samples: 15, Silhouette Score: 0.7204939468096946, Number of Clusters: 3, Davies-Bouldin Index: 0.628706496145044\n",
      "EPS: 40, Min_Samples: 16, Silhouette Score: 0.7204939468096946, Number of Clusters: 3, Davies-Bouldin Index: 0.628706496145044\n",
      "EPS: 40, Min_Samples: 17, Silhouette Score: 0.7204939468096946, Number of Clusters: 3, Davies-Bouldin Index: 0.628706496145044\n",
      "EPS: 40, Min_Samples: 18, Silhouette Score: 0.7285407818814162, Number of Clusters: 2, Davies-Bouldin Index: 1.2420961250167708\n",
      "EPS: 40, Min_Samples: 19, Silhouette Score: 0.7285407818814162, Number of Clusters: 2, Davies-Bouldin Index: 1.2420961250167708\n",
      "EPS: 40, Min_Samples: 20, Silhouette Score: 0.7537700082056948, Number of Clusters: 1, Davies-Bouldin Index: 0.6073231502677238\n",
      "EPS: 40, Min_Samples: 21, Silhouette Score: 0.7537700082056948, Number of Clusters: 1, Davies-Bouldin Index: 0.6073231502677238\n",
      "EPS: 40, Min_Samples: 22, Silhouette Score: 0.7537700082056948, Number of Clusters: 1, Davies-Bouldin Index: 0.6073231502677238\n",
      "EPS: 40, Min_Samples: 23, Silhouette Score: 0.7537700082056948, Number of Clusters: 1, Davies-Bouldin Index: 0.6073231502677238\n",
      "EPS: 40, Min_Samples: 24, Silhouette Score: 0.7537700082056948, Number of Clusters: 1, Davies-Bouldin Index: 0.6073231502677238\n",
      "EPS: 40, Min_Samples: 25, Silhouette Score: 0.7537700082056948, Number of Clusters: 1, Davies-Bouldin Index: 0.6073231502677238\n",
      "EPS: 40, Min_Samples: 26, Silhouette Score: 0.7537700082056948, Number of Clusters: 1, Davies-Bouldin Index: 0.6073231502677238\n",
      "EPS: 40, Min_Samples: 27, Silhouette Score: 0.7537700082056948, Number of Clusters: 1, Davies-Bouldin Index: 0.6073231502677238\n",
      "EPS: 40, Min_Samples: 28, Silhouette Score: 0.7537700082056948, Number of Clusters: 1, Davies-Bouldin Index: 0.6073231502677238\n",
      "EPS: 40, Min_Samples: 29, Silhouette Score: 0.7537700082056948, Number of Clusters: 1, Davies-Bouldin Index: 0.6073231502677238\n",
      "EPS: 40, Min_Samples: 30, Silhouette Score: 0.7537700082056948, Number of Clusters: 1, Davies-Bouldin Index: 0.6073231502677238\n",
      "EPS: 41, Min_Samples: 5, Silhouette Score: 0.7147244893988302, Number of Clusters: 5, Davies-Bouldin Index: 0.5603656623502666\n",
      "EPS: 41, Min_Samples: 6, Silhouette Score: 0.7147244893988302, Number of Clusters: 5, Davies-Bouldin Index: 0.5603656623502666\n",
      "EPS: 41, Min_Samples: 7, Silhouette Score: 0.7147244893988302, Number of Clusters: 5, Davies-Bouldin Index: 0.5603656623502666\n",
      "EPS: 41, Min_Samples: 8, Silhouette Score: 0.7147244893988302, Number of Clusters: 5, Davies-Bouldin Index: 0.5603656623502666\n",
      "EPS: 41, Min_Samples: 9, Silhouette Score: 0.7147244893988302, Number of Clusters: 5, Davies-Bouldin Index: 0.5603656623502666\n",
      "EPS: 41, Min_Samples: 10, Silhouette Score: 0.7147244893988302, Number of Clusters: 5, Davies-Bouldin Index: 0.5603656623502666\n",
      "EPS: 41, Min_Samples: 11, Silhouette Score: 0.7147244893988302, Number of Clusters: 5, Davies-Bouldin Index: 0.5603656623502666\n",
      "EPS: 41, Min_Samples: 12, Silhouette Score: 0.7147244893988302, Number of Clusters: 4, Davies-Bouldin Index: 0.5603656623502666\n",
      "EPS: 41, Min_Samples: 13, Silhouette Score: 0.7147244893988302, Number of Clusters: 4, Davies-Bouldin Index: 0.5603656623502666\n",
      "EPS: 41, Min_Samples: 14, Silhouette Score: 0.7147244893988302, Number of Clusters: 4, Davies-Bouldin Index: 0.5603656623502666\n",
      "EPS: 41, Min_Samples: 15, Silhouette Score: 0.7204939468096946, Number of Clusters: 3, Davies-Bouldin Index: 0.628706496145044\n",
      "EPS: 41, Min_Samples: 16, Silhouette Score: 0.7204939468096946, Number of Clusters: 3, Davies-Bouldin Index: 0.628706496145044\n",
      "EPS: 41, Min_Samples: 17, Silhouette Score: 0.7204939468096946, Number of Clusters: 3, Davies-Bouldin Index: 0.628706496145044\n",
      "EPS: 41, Min_Samples: 18, Silhouette Score: 0.7285407818814162, Number of Clusters: 2, Davies-Bouldin Index: 1.2420961250167708\n",
      "EPS: 41, Min_Samples: 19, Silhouette Score: 0.7285407818814162, Number of Clusters: 2, Davies-Bouldin Index: 1.2420961250167708\n",
      "EPS: 41, Min_Samples: 20, Silhouette Score: 0.7537700082056948, Number of Clusters: 1, Davies-Bouldin Index: 0.6073231502677238\n",
      "EPS: 41, Min_Samples: 21, Silhouette Score: 0.7537700082056948, Number of Clusters: 1, Davies-Bouldin Index: 0.6073231502677238\n",
      "EPS: 41, Min_Samples: 22, Silhouette Score: 0.7537700082056948, Number of Clusters: 1, Davies-Bouldin Index: 0.6073231502677238\n",
      "EPS: 41, Min_Samples: 23, Silhouette Score: 0.7537700082056948, Number of Clusters: 1, Davies-Bouldin Index: 0.6073231502677238\n",
      "EPS: 41, Min_Samples: 24, Silhouette Score: 0.7537700082056948, Number of Clusters: 1, Davies-Bouldin Index: 0.6073231502677238\n",
      "EPS: 41, Min_Samples: 25, Silhouette Score: 0.7537700082056948, Number of Clusters: 1, Davies-Bouldin Index: 0.6073231502677238\n",
      "EPS: 41, Min_Samples: 26, Silhouette Score: 0.7537700082056948, Number of Clusters: 1, Davies-Bouldin Index: 0.6073231502677238\n",
      "EPS: 41, Min_Samples: 27, Silhouette Score: 0.7537700082056948, Number of Clusters: 1, Davies-Bouldin Index: 0.6073231502677238\n",
      "EPS: 41, Min_Samples: 28, Silhouette Score: 0.7537700082056948, Number of Clusters: 1, Davies-Bouldin Index: 0.6073231502677238\n",
      "EPS: 41, Min_Samples: 29, Silhouette Score: 0.7537700082056948, Number of Clusters: 1, Davies-Bouldin Index: 0.6073231502677238\n",
      "EPS: 41, Min_Samples: 30, Silhouette Score: 0.7537700082056948, Number of Clusters: 1, Davies-Bouldin Index: 0.6073231502677238\n",
      "EPS: 42, Min_Samples: 5, Silhouette Score: 0.7147244893988302, Number of Clusters: 5, Davies-Bouldin Index: 0.5603656623502666\n",
      "EPS: 42, Min_Samples: 6, Silhouette Score: 0.7147244893988302, Number of Clusters: 5, Davies-Bouldin Index: 0.5603656623502666\n",
      "EPS: 42, Min_Samples: 7, Silhouette Score: 0.7147244893988302, Number of Clusters: 5, Davies-Bouldin Index: 0.5603656623502666\n",
      "EPS: 42, Min_Samples: 8, Silhouette Score: 0.7147244893988302, Number of Clusters: 5, Davies-Bouldin Index: 0.5603656623502666\n",
      "EPS: 42, Min_Samples: 9, Silhouette Score: 0.7147244893988302, Number of Clusters: 5, Davies-Bouldin Index: 0.5603656623502666\n",
      "EPS: 42, Min_Samples: 10, Silhouette Score: 0.7147244893988302, Number of Clusters: 5, Davies-Bouldin Index: 0.5603656623502666\n",
      "EPS: 42, Min_Samples: 11, Silhouette Score: 0.7147244893988302, Number of Clusters: 5, Davies-Bouldin Index: 0.5603656623502666\n",
      "EPS: 42, Min_Samples: 12, Silhouette Score: 0.7147244893988302, Number of Clusters: 4, Davies-Bouldin Index: 0.5603656623502666\n",
      "EPS: 42, Min_Samples: 13, Silhouette Score: 0.7147244893988302, Number of Clusters: 4, Davies-Bouldin Index: 0.5603656623502666\n",
      "EPS: 42, Min_Samples: 14, Silhouette Score: 0.7147244893988302, Number of Clusters: 4, Davies-Bouldin Index: 0.5603656623502666\n",
      "EPS: 42, Min_Samples: 15, Silhouette Score: 0.7204939468096946, Number of Clusters: 3, Davies-Bouldin Index: 0.628706496145044\n",
      "EPS: 42, Min_Samples: 16, Silhouette Score: 0.7204939468096946, Number of Clusters: 3, Davies-Bouldin Index: 0.628706496145044\n",
      "EPS: 42, Min_Samples: 17, Silhouette Score: 0.7204939468096946, Number of Clusters: 3, Davies-Bouldin Index: 0.628706496145044\n",
      "EPS: 42, Min_Samples: 18, Silhouette Score: 0.7285407818814162, Number of Clusters: 2, Davies-Bouldin Index: 1.2420961250167708\n",
      "EPS: 42, Min_Samples: 19, Silhouette Score: 0.7285407818814162, Number of Clusters: 2, Davies-Bouldin Index: 1.2420961250167708\n",
      "EPS: 42, Min_Samples: 20, Silhouette Score: 0.7537700082056948, Number of Clusters: 1, Davies-Bouldin Index: 0.6073231502677238\n",
      "EPS: 42, Min_Samples: 21, Silhouette Score: 0.7537700082056948, Number of Clusters: 1, Davies-Bouldin Index: 0.6073231502677238\n",
      "EPS: 42, Min_Samples: 22, Silhouette Score: 0.7537700082056948, Number of Clusters: 1, Davies-Bouldin Index: 0.6073231502677238\n",
      "EPS: 42, Min_Samples: 23, Silhouette Score: 0.7537700082056948, Number of Clusters: 1, Davies-Bouldin Index: 0.6073231502677238\n",
      "EPS: 42, Min_Samples: 24, Silhouette Score: 0.7537700082056948, Number of Clusters: 1, Davies-Bouldin Index: 0.6073231502677238\n",
      "EPS: 42, Min_Samples: 25, Silhouette Score: 0.7537700082056948, Number of Clusters: 1, Davies-Bouldin Index: 0.6073231502677238\n",
      "EPS: 42, Min_Samples: 26, Silhouette Score: 0.7537700082056948, Number of Clusters: 1, Davies-Bouldin Index: 0.6073231502677238\n",
      "EPS: 42, Min_Samples: 27, Silhouette Score: 0.7537700082056948, Number of Clusters: 1, Davies-Bouldin Index: 0.6073231502677238\n",
      "EPS: 42, Min_Samples: 28, Silhouette Score: 0.7537700082056948, Number of Clusters: 1, Davies-Bouldin Index: 0.6073231502677238\n",
      "EPS: 42, Min_Samples: 29, Silhouette Score: 0.7537700082056948, Number of Clusters: 1, Davies-Bouldin Index: 0.6073231502677238\n",
      "EPS: 42, Min_Samples: 30, Silhouette Score: 0.7537700082056948, Number of Clusters: 1, Davies-Bouldin Index: 0.6073231502677238\n",
      "EPS: 43, Min_Samples: 5, Silhouette Score: 0.7125785713700229, Number of Clusters: 4, Davies-Bouldin Index: 0.6543560116856248\n",
      "EPS: 43, Min_Samples: 6, Silhouette Score: 0.7125785713700229, Number of Clusters: 4, Davies-Bouldin Index: 0.6543560116856248\n",
      "EPS: 43, Min_Samples: 7, Silhouette Score: 0.7125785713700229, Number of Clusters: 4, Davies-Bouldin Index: 0.6543560116856248\n",
      "EPS: 43, Min_Samples: 8, Silhouette Score: 0.7125785713700229, Number of Clusters: 4, Davies-Bouldin Index: 0.6543560116856248\n",
      "EPS: 43, Min_Samples: 9, Silhouette Score: 0.7125785713700229, Number of Clusters: 4, Davies-Bouldin Index: 0.6543560116856248\n",
      "EPS: 43, Min_Samples: 10, Silhouette Score: 0.7125785713700229, Number of Clusters: 4, Davies-Bouldin Index: 0.6543560116856248\n",
      "EPS: 43, Min_Samples: 11, Silhouette Score: 0.7125785713700229, Number of Clusters: 4, Davies-Bouldin Index: 0.6543560116856248\n",
      "EPS: 43, Min_Samples: 12, Silhouette Score: 0.7125785713700229, Number of Clusters: 3, Davies-Bouldin Index: 0.6543560116856248\n",
      "EPS: 43, Min_Samples: 13, Silhouette Score: 0.7125785713700229, Number of Clusters: 3, Davies-Bouldin Index: 0.6543560116856248\n",
      "EPS: 43, Min_Samples: 14, Silhouette Score: 0.7125785713700229, Number of Clusters: 3, Davies-Bouldin Index: 0.6543560116856248\n",
      "EPS: 43, Min_Samples: 15, Silhouette Score: 0.7208849630039021, Number of Clusters: 2, Davies-Bouldin Index: 0.7003543586536732\n",
      "EPS: 43, Min_Samples: 16, Silhouette Score: 0.7208849630039021, Number of Clusters: 2, Davies-Bouldin Index: 0.7003543586536732\n",
      "EPS: 43, Min_Samples: 17, Silhouette Score: 0.7208849630039021, Number of Clusters: 2, Davies-Bouldin Index: 0.7003543586536732\n",
      "EPS: 43, Min_Samples: 18, Silhouette Score: 0.7208849630039021, Number of Clusters: 2, Davies-Bouldin Index: 0.7003543586536732\n",
      "EPS: 43, Min_Samples: 19, Silhouette Score: 0.7372910275296753, Number of Clusters: 2, Davies-Bouldin Index: 1.255983471372921\n",
      "EPS: 43, Min_Samples: 20, Silhouette Score: 0.7372910275296753, Number of Clusters: 2, Davies-Bouldin Index: 1.255983471372921\n",
      "EPS: 43, Min_Samples: 21, Silhouette Score: 0.7537700082056948, Number of Clusters: 1, Davies-Bouldin Index: 0.6073231502677238\n",
      "EPS: 43, Min_Samples: 22, Silhouette Score: 0.7537700082056948, Number of Clusters: 1, Davies-Bouldin Index: 0.6073231502677238\n",
      "EPS: 43, Min_Samples: 23, Silhouette Score: 0.7537700082056948, Number of Clusters: 1, Davies-Bouldin Index: 0.6073231502677238\n",
      "EPS: 43, Min_Samples: 24, Silhouette Score: 0.7537700082056948, Number of Clusters: 1, Davies-Bouldin Index: 0.6073231502677238\n",
      "EPS: 43, Min_Samples: 25, Silhouette Score: 0.7537700082056948, Number of Clusters: 1, Davies-Bouldin Index: 0.6073231502677238\n",
      "EPS: 43, Min_Samples: 26, Silhouette Score: 0.7537700082056948, Number of Clusters: 1, Davies-Bouldin Index: 0.6073231502677238\n",
      "EPS: 43, Min_Samples: 27, Silhouette Score: 0.7537700082056948, Number of Clusters: 1, Davies-Bouldin Index: 0.6073231502677238\n",
      "EPS: 43, Min_Samples: 28, Silhouette Score: 0.7537700082056948, Number of Clusters: 1, Davies-Bouldin Index: 0.6073231502677238\n",
      "EPS: 43, Min_Samples: 29, Silhouette Score: 0.7537700082056948, Number of Clusters: 1, Davies-Bouldin Index: 0.6073231502677238\n",
      "EPS: 43, Min_Samples: 30, Silhouette Score: 0.7537700082056948, Number of Clusters: 1, Davies-Bouldin Index: 0.6073231502677238\n",
      "EPS: 44, Min_Samples: 5, Silhouette Score: 0.7125785713700229, Number of Clusters: 4, Davies-Bouldin Index: 0.6543560116856248\n",
      "EPS: 44, Min_Samples: 6, Silhouette Score: 0.7125785713700229, Number of Clusters: 4, Davies-Bouldin Index: 0.6543560116856248\n",
      "EPS: 44, Min_Samples: 7, Silhouette Score: 0.7125785713700229, Number of Clusters: 4, Davies-Bouldin Index: 0.6543560116856248\n",
      "EPS: 44, Min_Samples: 8, Silhouette Score: 0.7125785713700229, Number of Clusters: 4, Davies-Bouldin Index: 0.6543560116856248\n",
      "EPS: 44, Min_Samples: 9, Silhouette Score: 0.7125785713700229, Number of Clusters: 4, Davies-Bouldin Index: 0.6543560116856248\n",
      "EPS: 44, Min_Samples: 10, Silhouette Score: 0.7125785713700229, Number of Clusters: 4, Davies-Bouldin Index: 0.6543560116856248\n",
      "EPS: 44, Min_Samples: 11, Silhouette Score: 0.7125785713700229, Number of Clusters: 4, Davies-Bouldin Index: 0.6543560116856248\n",
      "EPS: 44, Min_Samples: 12, Silhouette Score: 0.7125785713700229, Number of Clusters: 3, Davies-Bouldin Index: 0.6543560116856248\n",
      "EPS: 44, Min_Samples: 13, Silhouette Score: 0.7125785713700229, Number of Clusters: 3, Davies-Bouldin Index: 0.6543560116856248\n",
      "EPS: 44, Min_Samples: 14, Silhouette Score: 0.7125785713700229, Number of Clusters: 3, Davies-Bouldin Index: 0.6543560116856248\n",
      "EPS: 44, Min_Samples: 15, Silhouette Score: 0.7208849630039021, Number of Clusters: 2, Davies-Bouldin Index: 0.7003543586536732\n",
      "EPS: 44, Min_Samples: 16, Silhouette Score: 0.7208849630039021, Number of Clusters: 2, Davies-Bouldin Index: 0.7003543586536732\n",
      "EPS: 44, Min_Samples: 17, Silhouette Score: 0.7208849630039021, Number of Clusters: 2, Davies-Bouldin Index: 0.7003543586536732\n",
      "EPS: 44, Min_Samples: 18, Silhouette Score: 0.7208849630039021, Number of Clusters: 2, Davies-Bouldin Index: 0.7003543586536732\n",
      "EPS: 44, Min_Samples: 19, Silhouette Score: 0.7208849630039021, Number of Clusters: 2, Davies-Bouldin Index: 0.7003543586536732\n",
      "EPS: 44, Min_Samples: 20, Silhouette Score: 0.7208849630039021, Number of Clusters: 2, Davies-Bouldin Index: 0.7003543586536732\n",
      "EPS: 44, Min_Samples: 21, Silhouette Score: 0.744007713051724, Number of Clusters: 2, Davies-Bouldin Index: 1.2442058932082825\n",
      "EPS: 44, Min_Samples: 22, Silhouette Score: 0.7537700082056948, Number of Clusters: 1, Davies-Bouldin Index: 0.6073231502677238\n",
      "EPS: 44, Min_Samples: 23, Silhouette Score: 0.7537700082056948, Number of Clusters: 1, Davies-Bouldin Index: 0.6073231502677238\n",
      "EPS: 44, Min_Samples: 24, Silhouette Score: 0.7537700082056948, Number of Clusters: 1, Davies-Bouldin Index: 0.6073231502677238\n",
      "EPS: 44, Min_Samples: 25, Silhouette Score: 0.7537700082056948, Number of Clusters: 1, Davies-Bouldin Index: 0.6073231502677238\n",
      "EPS: 44, Min_Samples: 26, Silhouette Score: 0.7537700082056948, Number of Clusters: 1, Davies-Bouldin Index: 0.6073231502677238\n",
      "EPS: 44, Min_Samples: 27, Silhouette Score: 0.7537700082056948, Number of Clusters: 1, Davies-Bouldin Index: 0.6073231502677238\n",
      "EPS: 44, Min_Samples: 28, Silhouette Score: 0.7537700082056948, Number of Clusters: 1, Davies-Bouldin Index: 0.6073231502677238\n",
      "EPS: 44, Min_Samples: 29, Silhouette Score: 0.7537700082056948, Number of Clusters: 1, Davies-Bouldin Index: 0.6073231502677238\n",
      "EPS: 44, Min_Samples: 30, Silhouette Score: 0.7537700082056948, Number of Clusters: 1, Davies-Bouldin Index: 0.6073231502677238\n",
      "EPS: 45, Min_Samples: 5, Silhouette Score: 0.7144799261228147, Number of Clusters: 3, Davies-Bouldin Index: 0.47959611704339816\n",
      "EPS: 45, Min_Samples: 6, Silhouette Score: 0.7144799261228147, Number of Clusters: 3, Davies-Bouldin Index: 0.47959611704339816\n",
      "EPS: 45, Min_Samples: 7, Silhouette Score: 0.7144799261228147, Number of Clusters: 3, Davies-Bouldin Index: 0.47959611704339816\n",
      "EPS: 45, Min_Samples: 8, Silhouette Score: 0.7144799261228147, Number of Clusters: 3, Davies-Bouldin Index: 0.47959611704339816\n",
      "EPS: 45, Min_Samples: 9, Silhouette Score: 0.7144799261228147, Number of Clusters: 3, Davies-Bouldin Index: 0.47959611704339816\n",
      "EPS: 45, Min_Samples: 10, Silhouette Score: 0.7144799261228147, Number of Clusters: 3, Davies-Bouldin Index: 0.47959611704339816\n",
      "EPS: 45, Min_Samples: 11, Silhouette Score: 0.7144799261228147, Number of Clusters: 3, Davies-Bouldin Index: 0.47959611704339816\n",
      "EPS: 45, Min_Samples: 12, Silhouette Score: 0.7144799261228147, Number of Clusters: 3, Davies-Bouldin Index: 0.47959611704339816\n",
      "EPS: 45, Min_Samples: 13, Silhouette Score: 0.712169093111139, Number of Clusters: 3, Davies-Bouldin Index: 0.6586015684692627\n",
      "EPS: 45, Min_Samples: 14, Silhouette Score: 0.712169093111139, Number of Clusters: 3, Davies-Bouldin Index: 0.6586015684692627\n",
      "EPS: 45, Min_Samples: 15, Silhouette Score: 0.7206121922964895, Number of Clusters: 2, Davies-Bouldin Index: 0.7023212183788119\n",
      "EPS: 45, Min_Samples: 16, Silhouette Score: 0.7206121922964895, Number of Clusters: 2, Davies-Bouldin Index: 0.7023212183788119\n",
      "EPS: 45, Min_Samples: 17, Silhouette Score: 0.7206121922964895, Number of Clusters: 2, Davies-Bouldin Index: 0.7023212183788119\n",
      "EPS: 45, Min_Samples: 18, Silhouette Score: 0.7206121922964895, Number of Clusters: 2, Davies-Bouldin Index: 0.7023212183788119\n",
      "EPS: 45, Min_Samples: 19, Silhouette Score: 0.7206121922964895, Number of Clusters: 2, Davies-Bouldin Index: 0.7023212183788119\n",
      "EPS: 45, Min_Samples: 20, Silhouette Score: 0.7206121922964895, Number of Clusters: 2, Davies-Bouldin Index: 0.7023212183788119\n",
      "EPS: 45, Min_Samples: 21, Silhouette Score: 0.7208849630039021, Number of Clusters: 2, Davies-Bouldin Index: 0.7003543586536732\n",
      "EPS: 45, Min_Samples: 22, Silhouette Score: 0.7373140986605012, Number of Clusters: 2, Davies-Bouldin Index: 0.9569581241585023\n",
      "EPS: 45, Min_Samples: 23, Silhouette Score: 0.7441775602921016, Number of Clusters: 2, Davies-Bouldin Index: 1.2622995955496112\n",
      "EPS: 45, Min_Samples: 24, Silhouette Score: 0.7537700082056948, Number of Clusters: 1, Davies-Bouldin Index: 0.6073231502677238\n",
      "EPS: 45, Min_Samples: 25, Silhouette Score: 0.7537700082056948, Number of Clusters: 1, Davies-Bouldin Index: 0.6073231502677238\n",
      "EPS: 45, Min_Samples: 26, Silhouette Score: 0.7537700082056948, Number of Clusters: 1, Davies-Bouldin Index: 0.6073231502677238\n",
      "EPS: 45, Min_Samples: 27, Silhouette Score: 0.7537700082056948, Number of Clusters: 1, Davies-Bouldin Index: 0.6073231502677238\n",
      "EPS: 45, Min_Samples: 28, Silhouette Score: 0.7537700082056948, Number of Clusters: 1, Davies-Bouldin Index: 0.6073231502677238\n",
      "EPS: 45, Min_Samples: 29, Silhouette Score: 0.7537700082056948, Number of Clusters: 1, Davies-Bouldin Index: 0.6073231502677238\n",
      "EPS: 45, Min_Samples: 30, Silhouette Score: 0.7537700082056948, Number of Clusters: 1, Davies-Bouldin Index: 0.6073231502677238\n",
      "EPS: 46, Min_Samples: 5, Silhouette Score: 0.7144799261228147, Number of Clusters: 3, Davies-Bouldin Index: 0.47959611704339816\n",
      "EPS: 46, Min_Samples: 6, Silhouette Score: 0.7144799261228147, Number of Clusters: 3, Davies-Bouldin Index: 0.47959611704339816\n",
      "EPS: 46, Min_Samples: 7, Silhouette Score: 0.7144799261228147, Number of Clusters: 3, Davies-Bouldin Index: 0.47959611704339816\n",
      "EPS: 46, Min_Samples: 8, Silhouette Score: 0.7144799261228147, Number of Clusters: 3, Davies-Bouldin Index: 0.47959611704339816\n",
      "EPS: 46, Min_Samples: 9, Silhouette Score: 0.7144799261228147, Number of Clusters: 3, Davies-Bouldin Index: 0.47959611704339816\n",
      "EPS: 46, Min_Samples: 10, Silhouette Score: 0.7144799261228147, Number of Clusters: 3, Davies-Bouldin Index: 0.47959611704339816\n",
      "EPS: 46, Min_Samples: 11, Silhouette Score: 0.7144799261228147, Number of Clusters: 3, Davies-Bouldin Index: 0.47959611704339816\n",
      "EPS: 46, Min_Samples: 12, Silhouette Score: 0.7144799261228147, Number of Clusters: 3, Davies-Bouldin Index: 0.47959611704339816\n",
      "EPS: 46, Min_Samples: 13, Silhouette Score: 0.7118404273583083, Number of Clusters: 3, Davies-Bouldin Index: 0.6513393049019016\n",
      "EPS: 46, Min_Samples: 14, Silhouette Score: 0.7118404273583083, Number of Clusters: 3, Davies-Bouldin Index: 0.6513393049019016\n",
      "EPS: 46, Min_Samples: 15, Silhouette Score: 0.7204054090059782, Number of Clusters: 2, Davies-Bouldin Index: 0.7009466384379525\n",
      "EPS: 46, Min_Samples: 16, Silhouette Score: 0.7204054090059782, Number of Clusters: 2, Davies-Bouldin Index: 0.7009466384379525\n",
      "EPS: 46, Min_Samples: 17, Silhouette Score: 0.7204054090059782, Number of Clusters: 2, Davies-Bouldin Index: 0.7009466384379525\n",
      "EPS: 46, Min_Samples: 18, Silhouette Score: 0.7204054090059782, Number of Clusters: 2, Davies-Bouldin Index: 0.7009466384379525\n",
      "EPS: 46, Min_Samples: 19, Silhouette Score: 0.7204054090059782, Number of Clusters: 2, Davies-Bouldin Index: 0.7009466384379525\n",
      "EPS: 46, Min_Samples: 20, Silhouette Score: 0.7204054090059782, Number of Clusters: 2, Davies-Bouldin Index: 0.7009466384379525\n",
      "EPS: 46, Min_Samples: 21, Silhouette Score: 0.7204054090059782, Number of Clusters: 2, Davies-Bouldin Index: 0.7009466384379525\n",
      "EPS: 46, Min_Samples: 22, Silhouette Score: 0.7324542581789171, Number of Clusters: 2, Davies-Bouldin Index: 0.8964643567122318\n",
      "EPS: 46, Min_Samples: 23, Silhouette Score: 0.7324542581789171, Number of Clusters: 2, Davies-Bouldin Index: 0.8964643567122318\n",
      "EPS: 46, Min_Samples: 24, Silhouette Score: 0.7473322710941325, Number of Clusters: 2, Davies-Bouldin Index: 1.2137264869037356\n",
      "EPS: 46, Min_Samples: 25, Silhouette Score: 0.7473322710941325, Number of Clusters: 2, Davies-Bouldin Index: 1.2137264869037356\n",
      "EPS: 46, Min_Samples: 26, Silhouette Score: 0.7537700082056948, Number of Clusters: 1, Davies-Bouldin Index: 0.6073231502677238\n",
      "EPS: 46, Min_Samples: 27, Silhouette Score: 0.7537700082056948, Number of Clusters: 1, Davies-Bouldin Index: 0.6073231502677238\n",
      "EPS: 46, Min_Samples: 28, Silhouette Score: 0.7537700082056948, Number of Clusters: 1, Davies-Bouldin Index: 0.6073231502677238\n",
      "EPS: 46, Min_Samples: 29, Silhouette Score: 0.7537700082056948, Number of Clusters: 1, Davies-Bouldin Index: 0.6073231502677238\n",
      "EPS: 46, Min_Samples: 30, Silhouette Score: 0.7537700082056948, Number of Clusters: 1, Davies-Bouldin Index: 0.6073231502677238\n",
      "EPS: 47, Min_Samples: 5, Silhouette Score: 0.7144799261228147, Number of Clusters: 3, Davies-Bouldin Index: 0.47959611704339816\n",
      "EPS: 47, Min_Samples: 6, Silhouette Score: 0.7144799261228147, Number of Clusters: 3, Davies-Bouldin Index: 0.47959611704339816\n",
      "EPS: 47, Min_Samples: 7, Silhouette Score: 0.7144799261228147, Number of Clusters: 3, Davies-Bouldin Index: 0.47959611704339816\n",
      "EPS: 47, Min_Samples: 8, Silhouette Score: 0.7144799261228147, Number of Clusters: 3, Davies-Bouldin Index: 0.47959611704339816\n",
      "EPS: 47, Min_Samples: 9, Silhouette Score: 0.7144799261228147, Number of Clusters: 3, Davies-Bouldin Index: 0.47959611704339816\n",
      "EPS: 47, Min_Samples: 10, Silhouette Score: 0.7144799261228147, Number of Clusters: 3, Davies-Bouldin Index: 0.47959611704339816\n",
      "EPS: 47, Min_Samples: 11, Silhouette Score: 0.7144799261228147, Number of Clusters: 3, Davies-Bouldin Index: 0.47959611704339816\n",
      "EPS: 47, Min_Samples: 12, Silhouette Score: 0.7144799261228147, Number of Clusters: 3, Davies-Bouldin Index: 0.47959611704339816\n",
      "EPS: 47, Min_Samples: 13, Silhouette Score: 0.7115145692984067, Number of Clusters: 3, Davies-Bouldin Index: 0.674473115327682\n",
      "EPS: 47, Min_Samples: 14, Silhouette Score: 0.7115145692984067, Number of Clusters: 3, Davies-Bouldin Index: 0.674473115327682\n",
      "EPS: 47, Min_Samples: 15, Silhouette Score: 0.7201443792886855, Number of Clusters: 2, Davies-Bouldin Index: 0.697005844232196\n",
      "EPS: 47, Min_Samples: 16, Silhouette Score: 0.7201443792886855, Number of Clusters: 2, Davies-Bouldin Index: 0.697005844232196\n",
      "EPS: 47, Min_Samples: 17, Silhouette Score: 0.7201443792886855, Number of Clusters: 2, Davies-Bouldin Index: 0.697005844232196\n",
      "EPS: 47, Min_Samples: 18, Silhouette Score: 0.7201443792886855, Number of Clusters: 2, Davies-Bouldin Index: 0.697005844232196\n",
      "EPS: 47, Min_Samples: 19, Silhouette Score: 0.7201443792886855, Number of Clusters: 2, Davies-Bouldin Index: 0.697005844232196\n",
      "EPS: 47, Min_Samples: 20, Silhouette Score: 0.7201443792886855, Number of Clusters: 2, Davies-Bouldin Index: 0.697005844232196\n",
      "EPS: 47, Min_Samples: 21, Silhouette Score: 0.7201443792886855, Number of Clusters: 2, Davies-Bouldin Index: 0.697005844232196\n",
      "EPS: 47, Min_Samples: 22, Silhouette Score: 0.7201443792886855, Number of Clusters: 2, Davies-Bouldin Index: 0.697005844232196\n",
      "EPS: 47, Min_Samples: 23, Silhouette Score: 0.7327366598488487, Number of Clusters: 2, Davies-Bouldin Index: 0.9115769405693742\n",
      "EPS: 47, Min_Samples: 24, Silhouette Score: 0.7327366598488487, Number of Clusters: 2, Davies-Bouldin Index: 0.9115769405693742\n",
      "EPS: 47, Min_Samples: 25, Silhouette Score: 0.7410549929224401, Number of Clusters: 2, Davies-Bouldin Index: 1.1080024213636692\n",
      "EPS: 47, Min_Samples: 26, Silhouette Score: 0.7471771142415504, Number of Clusters: 2, Davies-Bouldin Index: 1.2747546802300427\n",
      "EPS: 47, Min_Samples: 27, Silhouette Score: 0.7537700082056948, Number of Clusters: 1, Davies-Bouldin Index: 0.6073231502677238\n",
      "EPS: 47, Min_Samples: 28, Silhouette Score: 0.7537700082056948, Number of Clusters: 1, Davies-Bouldin Index: 0.6073231502677238\n",
      "EPS: 47, Min_Samples: 29, Silhouette Score: 0.7537700082056948, Number of Clusters: 1, Davies-Bouldin Index: 0.6073231502677238\n",
      "EPS: 47, Min_Samples: 30, Silhouette Score: 0.7537700082056948, Number of Clusters: 1, Davies-Bouldin Index: 0.6073231502677238\n",
      "EPS: 48, Min_Samples: 5, Silhouette Score: 0.7144799261228147, Number of Clusters: 3, Davies-Bouldin Index: 0.47959611704339816\n",
      "EPS: 48, Min_Samples: 6, Silhouette Score: 0.7144799261228147, Number of Clusters: 3, Davies-Bouldin Index: 0.47959611704339816\n",
      "EPS: 48, Min_Samples: 7, Silhouette Score: 0.7144799261228147, Number of Clusters: 3, Davies-Bouldin Index: 0.47959611704339816\n",
      "EPS: 48, Min_Samples: 8, Silhouette Score: 0.7144799261228147, Number of Clusters: 3, Davies-Bouldin Index: 0.47959611704339816\n",
      "EPS: 48, Min_Samples: 9, Silhouette Score: 0.7144799261228147, Number of Clusters: 3, Davies-Bouldin Index: 0.47959611704339816\n",
      "EPS: 48, Min_Samples: 10, Silhouette Score: 0.7144799261228147, Number of Clusters: 3, Davies-Bouldin Index: 0.47959611704339816\n",
      "EPS: 48, Min_Samples: 11, Silhouette Score: 0.7144799261228147, Number of Clusters: 3, Davies-Bouldin Index: 0.47959611704339816\n",
      "EPS: 48, Min_Samples: 12, Silhouette Score: 0.7144799261228147, Number of Clusters: 3, Davies-Bouldin Index: 0.47959611704339816\n",
      "EPS: 48, Min_Samples: 13, Silhouette Score: 0.7144799261228147, Number of Clusters: 3, Davies-Bouldin Index: 0.47959611704339816\n",
      "EPS: 48, Min_Samples: 14, Silhouette Score: 0.7115145692984067, Number of Clusters: 3, Davies-Bouldin Index: 0.674473115327682\n",
      "EPS: 48, Min_Samples: 15, Silhouette Score: 0.7201443792886855, Number of Clusters: 2, Davies-Bouldin Index: 0.697005844232196\n",
      "EPS: 48, Min_Samples: 16, Silhouette Score: 0.7201443792886855, Number of Clusters: 2, Davies-Bouldin Index: 0.697005844232196\n",
      "EPS: 48, Min_Samples: 17, Silhouette Score: 0.7201443792886855, Number of Clusters: 2, Davies-Bouldin Index: 0.697005844232196\n",
      "EPS: 48, Min_Samples: 18, Silhouette Score: 0.7201443792886855, Number of Clusters: 2, Davies-Bouldin Index: 0.697005844232196\n",
      "EPS: 48, Min_Samples: 19, Silhouette Score: 0.7201443792886855, Number of Clusters: 2, Davies-Bouldin Index: 0.697005844232196\n",
      "EPS: 48, Min_Samples: 20, Silhouette Score: 0.7201443792886855, Number of Clusters: 2, Davies-Bouldin Index: 0.697005844232196\n",
      "EPS: 48, Min_Samples: 21, Silhouette Score: 0.7201443792886855, Number of Clusters: 2, Davies-Bouldin Index: 0.697005844232196\n",
      "EPS: 48, Min_Samples: 22, Silhouette Score: 0.7201443792886855, Number of Clusters: 2, Davies-Bouldin Index: 0.697005844232196\n",
      "EPS: 48, Min_Samples: 23, Silhouette Score: 0.7201443792886855, Number of Clusters: 2, Davies-Bouldin Index: 0.697005844232196\n",
      "EPS: 48, Min_Samples: 24, Silhouette Score: 0.7201443792886855, Number of Clusters: 2, Davies-Bouldin Index: 0.697005844232196\n",
      "EPS: 48, Min_Samples: 25, Silhouette Score: 0.7358387218509002, Number of Clusters: 2, Davies-Bouldin Index: 0.9788948845277149\n",
      "EPS: 48, Min_Samples: 26, Silhouette Score: 0.7385950061456784, Number of Clusters: 2, Davies-Bouldin Index: 1.044235396966912\n",
      "EPS: 48, Min_Samples: 27, Silhouette Score: 0.7385950061456784, Number of Clusters: 2, Davies-Bouldin Index: 1.044235396966912\n",
      "EPS: 48, Min_Samples: 28, Silhouette Score: 0.7537700082056948, Number of Clusters: 1, Davies-Bouldin Index: 0.6073231502677238\n",
      "EPS: 48, Min_Samples: 29, Silhouette Score: 0.7537700082056948, Number of Clusters: 1, Davies-Bouldin Index: 0.6073231502677238\n",
      "EPS: 48, Min_Samples: 30, Silhouette Score: 0.7537700082056948, Number of Clusters: 1, Davies-Bouldin Index: 0.6073231502677238\n",
      "EPS: 49, Min_Samples: 5, Silhouette Score: 0.7144799261228147, Number of Clusters: 3, Davies-Bouldin Index: 0.47959611704339816\n",
      "EPS: 49, Min_Samples: 6, Silhouette Score: 0.7144799261228147, Number of Clusters: 3, Davies-Bouldin Index: 0.47959611704339816\n",
      "EPS: 49, Min_Samples: 7, Silhouette Score: 0.7144799261228147, Number of Clusters: 3, Davies-Bouldin Index: 0.47959611704339816\n",
      "EPS: 49, Min_Samples: 8, Silhouette Score: 0.7144799261228147, Number of Clusters: 3, Davies-Bouldin Index: 0.47959611704339816\n",
      "EPS: 49, Min_Samples: 9, Silhouette Score: 0.7144799261228147, Number of Clusters: 3, Davies-Bouldin Index: 0.47959611704339816\n",
      "EPS: 49, Min_Samples: 10, Silhouette Score: 0.7144799261228147, Number of Clusters: 3, Davies-Bouldin Index: 0.47959611704339816\n",
      "EPS: 49, Min_Samples: 11, Silhouette Score: 0.7144799261228147, Number of Clusters: 3, Davies-Bouldin Index: 0.47959611704339816\n",
      "EPS: 49, Min_Samples: 12, Silhouette Score: 0.7144799261228147, Number of Clusters: 3, Davies-Bouldin Index: 0.47959611704339816\n",
      "EPS: 49, Min_Samples: 13, Silhouette Score: 0.7144799261228147, Number of Clusters: 3, Davies-Bouldin Index: 0.47959611704339816\n",
      "EPS: 49, Min_Samples: 14, Silhouette Score: 0.7144799261228147, Number of Clusters: 3, Davies-Bouldin Index: 0.47959611704339816\n",
      "EPS: 49, Min_Samples: 15, Silhouette Score: 0.7144799261228147, Number of Clusters: 2, Davies-Bouldin Index: 0.47959611704339816\n",
      "EPS: 49, Min_Samples: 16, Silhouette Score: 0.7189556640898316, Number of Clusters: 2, Davies-Bouldin Index: 0.6537990980159053\n",
      "EPS: 49, Min_Samples: 17, Silhouette Score: 0.7189556640898316, Number of Clusters: 2, Davies-Bouldin Index: 0.6537990980159053\n",
      "EPS: 49, Min_Samples: 18, Silhouette Score: 0.7189556640898316, Number of Clusters: 2, Davies-Bouldin Index: 0.6537990980159053\n",
      "EPS: 49, Min_Samples: 19, Silhouette Score: 0.7189556640898316, Number of Clusters: 2, Davies-Bouldin Index: 0.6537990980159053\n",
      "EPS: 49, Min_Samples: 20, Silhouette Score: 0.7198111022754403, Number of Clusters: 2, Davies-Bouldin Index: 0.6885388272573074\n",
      "EPS: 49, Min_Samples: 21, Silhouette Score: 0.7198111022754403, Number of Clusters: 2, Davies-Bouldin Index: 0.6885388272573074\n",
      "EPS: 49, Min_Samples: 22, Silhouette Score: 0.7198111022754403, Number of Clusters: 2, Davies-Bouldin Index: 0.6885388272573074\n",
      "EPS: 49, Min_Samples: 23, Silhouette Score: 0.7198111022754403, Number of Clusters: 2, Davies-Bouldin Index: 0.6885388272573074\n",
      "EPS: 49, Min_Samples: 24, Silhouette Score: 0.7198111022754403, Number of Clusters: 2, Davies-Bouldin Index: 0.6885388272573074\n",
      "EPS: 49, Min_Samples: 25, Silhouette Score: 0.7292993212357284, Number of Clusters: 2, Davies-Bouldin Index: 0.847656345109085\n",
      "EPS: 49, Min_Samples: 26, Silhouette Score: 0.7390853966599615, Number of Clusters: 2, Davies-Bouldin Index: 1.068386819299482\n",
      "EPS: 49, Min_Samples: 27, Silhouette Score: 0.7390853966599615, Number of Clusters: 2, Davies-Bouldin Index: 1.068386819299482\n",
      "EPS: 49, Min_Samples: 28, Silhouette Score: 0.7537700082056948, Number of Clusters: 1, Davies-Bouldin Index: 0.6073231502677238\n",
      "EPS: 49, Min_Samples: 29, Silhouette Score: 0.7537700082056948, Number of Clusters: 1, Davies-Bouldin Index: 0.6073231502677238\n",
      "EPS: 49, Min_Samples: 30, Silhouette Score: 0.7537700082056948, Number of Clusters: 1, Davies-Bouldin Index: 0.6073231502677238\n",
      "EPS: 50, Min_Samples: 5, Silhouette Score: 0.7144799261228147, Number of Clusters: 3, Davies-Bouldin Index: 0.47959611704339816\n",
      "EPS: 50, Min_Samples: 6, Silhouette Score: 0.7144799261228147, Number of Clusters: 3, Davies-Bouldin Index: 0.47959611704339816\n",
      "EPS: 50, Min_Samples: 7, Silhouette Score: 0.7144799261228147, Number of Clusters: 3, Davies-Bouldin Index: 0.47959611704339816\n",
      "EPS: 50, Min_Samples: 8, Silhouette Score: 0.7144799261228147, Number of Clusters: 3, Davies-Bouldin Index: 0.47959611704339816\n",
      "EPS: 50, Min_Samples: 9, Silhouette Score: 0.7144799261228147, Number of Clusters: 3, Davies-Bouldin Index: 0.47959611704339816\n",
      "EPS: 50, Min_Samples: 10, Silhouette Score: 0.7144799261228147, Number of Clusters: 3, Davies-Bouldin Index: 0.47959611704339816\n",
      "EPS: 50, Min_Samples: 11, Silhouette Score: 0.7144799261228147, Number of Clusters: 3, Davies-Bouldin Index: 0.47959611704339816\n",
      "EPS: 50, Min_Samples: 12, Silhouette Score: 0.7144799261228147, Number of Clusters: 3, Davies-Bouldin Index: 0.47959611704339816\n",
      "EPS: 50, Min_Samples: 13, Silhouette Score: 0.7144799261228147, Number of Clusters: 3, Davies-Bouldin Index: 0.47959611704339816\n",
      "EPS: 50, Min_Samples: 14, Silhouette Score: 0.7144799261228147, Number of Clusters: 3, Davies-Bouldin Index: 0.47959611704339816\n",
      "EPS: 50, Min_Samples: 15, Silhouette Score: 0.7144799261228147, Number of Clusters: 2, Davies-Bouldin Index: 0.47959611704339816\n",
      "EPS: 50, Min_Samples: 16, Silhouette Score: 0.7144799261228147, Number of Clusters: 2, Davies-Bouldin Index: 0.47959611704339816\n",
      "EPS: 50, Min_Samples: 17, Silhouette Score: 0.7144799261228147, Number of Clusters: 2, Davies-Bouldin Index: 0.47959611704339816\n",
      "EPS: 50, Min_Samples: 18, Silhouette Score: 0.7144799261228147, Number of Clusters: 2, Davies-Bouldin Index: 0.47959611704339816\n",
      "EPS: 50, Min_Samples: 19, Silhouette Score: 0.7171372229866696, Number of Clusters: 2, Davies-Bouldin Index: 0.5820465088236789\n",
      "EPS: 50, Min_Samples: 20, Silhouette Score: 0.7184281510372111, Number of Clusters: 2, Davies-Bouldin Index: 0.6261567031425267\n",
      "EPS: 50, Min_Samples: 21, Silhouette Score: 0.7184281510372111, Number of Clusters: 2, Davies-Bouldin Index: 0.6261567031425267\n",
      "EPS: 50, Min_Samples: 22, Silhouette Score: 0.7195042395935229, Number of Clusters: 2, Davies-Bouldin Index: 0.6747936908850608\n",
      "EPS: 50, Min_Samples: 23, Silhouette Score: 0.7195042395935229, Number of Clusters: 2, Davies-Bouldin Index: 0.6747936908850608\n",
      "EPS: 50, Min_Samples: 24, Silhouette Score: 0.7195042395935229, Number of Clusters: 2, Davies-Bouldin Index: 0.6747936908850608\n",
      "EPS: 50, Min_Samples: 25, Silhouette Score: 0.7249430443565634, Number of Clusters: 2, Davies-Bouldin Index: 0.7663437213377272\n",
      "EPS: 50, Min_Samples: 26, Silhouette Score: 0.7294076807692385, Number of Clusters: 2, Davies-Bouldin Index: 0.8527177283215734\n",
      "EPS: 50, Min_Samples: 27, Silhouette Score: 0.7294076807692385, Number of Clusters: 2, Davies-Bouldin Index: 0.8527177283215734\n",
      "EPS: 50, Min_Samples: 28, Silhouette Score: 0.7395290762896685, Number of Clusters: 2, Davies-Bouldin Index: 1.0918697664113164\n",
      "EPS: 50, Min_Samples: 29, Silhouette Score: 0.7429097667849099, Number of Clusters: 2, Davies-Bouldin Index: 1.1700700151009833\n",
      "EPS: 50, Min_Samples: 30, Silhouette Score: 0.7537700082056948, Number of Clusters: 1, Davies-Bouldin Index: 0.6073231502677238\n"
     ]
    }
   ],
   "source": [
    "# Sample parameter grid to explore\n",
    "\n",
    "eps_values = [25,30,35,40,41,42,43,44,45,46,47,48,49,50]  # Example values (After first tests, we see interesant add values between 40-55)\n",
    "min_samples_values = [5,6,7,8,9,10, 11, 12, 13, 14, 15, 16, 17, 18, 19, 20, 21, 22, 23, 24, 25, 26, 27, 28, 29, 30] # After first tests, we see interesant add values between 5-10)\n",
    "\n",
    "\n",
    "for eps in eps_values:\n",
    "    for min_samples in min_samples_values:\n",
    "        # Initialize and fit DBSCAN with the current parameter set\n",
    "        dbscan = DBSCAN(eps=eps, min_samples=min_samples, metric='manhattan')\n",
    "        dbscan.fit(Xca)\n",
    "        \n",
    "        # Compute the silhouette score if more than one cluster excluding noise\n",
    "        if len(np.unique(dbscan.labels_)) > 1:\n",
    "            score = silhouette_score(Xca, dbscan.labels_)\n",
    "            db_index = davies_bouldin_score(Xca, dbscan.labels_)\n",
    "            num_clusters = len(set(dbscan.labels_)) - (1 if -1 in dbscan.labels_ else 0)\n",
    "            print( f'EPS: {eps}, Min_Samples: {min_samples}, Silhouette Score: {score}, Number of Clusters: {num_clusters}, Davies-Bouldin Index: {db_index}')\n",
    "            \n"
   ]
  },
  {
   "cell_type": "markdown",
   "id": "6e1edfc3-fcac-4f89-9ca8-dac3af115ba6",
   "metadata": {},
   "source": [
    "Options:\n",
    "\n",
    "EPS: 35, Min_Samples: 11, Silhouette Score: 0.7146312390053665, Number of Clusters: 5, Davies-Bouldin Index: 0.5613690282903611\n"
   ]
  },
  {
   "cell_type": "markdown",
   "id": "fce2f7d1-82af-4303-a335-d66cafd3530b",
   "metadata": {
    "tags": []
   },
   "source": [
    "## TEST CHERISEV METRIC"
   ]
  },
  {
   "cell_type": "markdown",
   "id": "27a67fca-5dbb-4dfe-b866-084f34201925",
   "metadata": {},
   "source": [
    "Chebyshev Distance (chebyshev): It calculates the maximum absolute difference between the coordinates of the two points. It is useful when you want to measure the distance between two points in a chessboard-like grid."
   ]
  },
  {
   "cell_type": "code",
   "execution_count": 89,
   "id": "89b179c9-3a2f-4552-abb7-ca54cec81d6b",
   "metadata": {
    "tags": []
   },
   "outputs": [
    {
     "name": "stdout",
     "output_type": "stream",
     "text": [
      "EPS: 20, Min_Samples: 5, Silhouette Score: 0.468914098934253, Number of Clusters: 6, Davies-Bouldin Index: 0.7086955110414142\n",
      "EPS: 20, Min_Samples: 6, Silhouette Score: 0.468914098934253, Number of Clusters: 6, Davies-Bouldin Index: 0.7086955110414142\n",
      "EPS: 20, Min_Samples: 7, Silhouette Score: 0.468914098934253, Number of Clusters: 6, Davies-Bouldin Index: 0.7086955110414142\n",
      "EPS: 20, Min_Samples: 8, Silhouette Score: 0.468914098934253, Number of Clusters: 6, Davies-Bouldin Index: 0.7086955110414142\n",
      "EPS: 20, Min_Samples: 9, Silhouette Score: 0.468914098934253, Number of Clusters: 6, Davies-Bouldin Index: 0.7086955110414142\n",
      "EPS: 20, Min_Samples: 10, Silhouette Score: 0.466904757841602, Number of Clusters: 6, Davies-Bouldin Index: 0.9085682397008537\n",
      "EPS: 20, Min_Samples: 11, Silhouette Score: 0.4658894152101565, Number of Clusters: 5, Davies-Bouldin Index: 0.8654875299387776\n",
      "EPS: 20, Min_Samples: 12, Silhouette Score: 0.4658894152101565, Number of Clusters: 5, Davies-Bouldin Index: 0.8654875299387776\n",
      "EPS: 20, Min_Samples: 13, Silhouette Score: 0.4658894152101565, Number of Clusters: 5, Davies-Bouldin Index: 0.8654875299387776\n",
      "EPS: 20, Min_Samples: 14, Silhouette Score: 0.6584826758044003, Number of Clusters: 3, Davies-Bouldin Index: 0.7954707130292986\n",
      "EPS: 20, Min_Samples: 15, Silhouette Score: 0.6584826758044003, Number of Clusters: 3, Davies-Bouldin Index: 0.7954707130292986\n",
      "EPS: 20, Min_Samples: 16, Silhouette Score: 0.6815410479446333, Number of Clusters: 2, Davies-Bouldin Index: 0.9136071065661954\n",
      "EPS: 20, Min_Samples: 17, Silhouette Score: 0.6815410479446333, Number of Clusters: 2, Davies-Bouldin Index: 0.9136071065661954\n",
      "EPS: 20, Min_Samples: 18, Silhouette Score: 0.7203521678182919, Number of Clusters: 1, Davies-Bouldin Index: 0.876927445461846\n",
      "EPS: 20, Min_Samples: 19, Silhouette Score: 0.7203521678182919, Number of Clusters: 1, Davies-Bouldin Index: 0.876927445461846\n",
      "EPS: 20, Min_Samples: 20, Silhouette Score: 0.7203521678182919, Number of Clusters: 1, Davies-Bouldin Index: 0.876927445461846\n",
      "EPS: 20, Min_Samples: 21, Silhouette Score: 0.7203521678182919, Number of Clusters: 1, Davies-Bouldin Index: 0.876927445461846\n",
      "EPS: 20, Min_Samples: 22, Silhouette Score: 0.7203521678182919, Number of Clusters: 1, Davies-Bouldin Index: 0.876927445461846\n",
      "EPS: 20, Min_Samples: 23, Silhouette Score: 0.7203521678182919, Number of Clusters: 1, Davies-Bouldin Index: 0.876927445461846\n",
      "EPS: 20, Min_Samples: 24, Silhouette Score: 0.7203521678182919, Number of Clusters: 1, Davies-Bouldin Index: 0.876927445461846\n",
      "EPS: 20, Min_Samples: 25, Silhouette Score: 0.7203521678182919, Number of Clusters: 1, Davies-Bouldin Index: 0.876927445461846\n",
      "EPS: 20, Min_Samples: 26, Silhouette Score: 0.7203521678182919, Number of Clusters: 1, Davies-Bouldin Index: 0.876927445461846\n",
      "EPS: 20, Min_Samples: 27, Silhouette Score: 0.7203521678182919, Number of Clusters: 1, Davies-Bouldin Index: 0.876927445461846\n",
      "EPS: 20, Min_Samples: 28, Silhouette Score: 0.7203521678182919, Number of Clusters: 1, Davies-Bouldin Index: 0.876927445461846\n",
      "EPS: 20, Min_Samples: 29, Silhouette Score: 0.7203521678182919, Number of Clusters: 1, Davies-Bouldin Index: 0.876927445461846\n",
      "EPS: 20, Min_Samples: 30, Silhouette Score: 0.7203521678182919, Number of Clusters: 1, Davies-Bouldin Index: 0.876927445461846\n",
      "EPS: 21, Min_Samples: 5, Silhouette Score: 0.713195169234198, Number of Clusters: 5, Davies-Bouldin Index: 0.4556333684942048\n",
      "EPS: 21, Min_Samples: 6, Silhouette Score: 0.711871691539842, Number of Clusters: 5, Davies-Bouldin Index: 0.6502072812656419\n",
      "EPS: 21, Min_Samples: 7, Silhouette Score: 0.711871691539842, Number of Clusters: 5, Davies-Bouldin Index: 0.6502072812656419\n",
      "EPS: 21, Min_Samples: 8, Silhouette Score: 0.711871691539842, Number of Clusters: 5, Davies-Bouldin Index: 0.6502072812656419\n",
      "EPS: 21, Min_Samples: 9, Silhouette Score: 0.711871691539842, Number of Clusters: 5, Davies-Bouldin Index: 0.6502072812656419\n",
      "EPS: 21, Min_Samples: 10, Silhouette Score: 0.711871691539842, Number of Clusters: 5, Davies-Bouldin Index: 0.6502072812656419\n",
      "EPS: 21, Min_Samples: 11, Silhouette Score: 0.7133876865705904, Number of Clusters: 4, Davies-Bouldin Index: 0.6462244074545358\n",
      "EPS: 21, Min_Samples: 12, Silhouette Score: 0.7133876865705904, Number of Clusters: 4, Davies-Bouldin Index: 0.6462244074545358\n",
      "EPS: 21, Min_Samples: 13, Silhouette Score: 0.7133876865705904, Number of Clusters: 4, Davies-Bouldin Index: 0.6462244074545358\n",
      "EPS: 21, Min_Samples: 14, Silhouette Score: 0.7204939468096946, Number of Clusters: 3, Davies-Bouldin Index: 0.628706496145044\n",
      "EPS: 21, Min_Samples: 15, Silhouette Score: 0.6978879632595063, Number of Clusters: 3, Davies-Bouldin Index: 0.6951402385318687\n",
      "EPS: 21, Min_Samples: 16, Silhouette Score: 0.69963030442458, Number of Clusters: 3, Davies-Bouldin Index: 0.7253411277686727\n",
      "EPS: 21, Min_Samples: 17, Silhouette Score: 0.69963030442458, Number of Clusters: 3, Davies-Bouldin Index: 0.7253411277686727\n",
      "EPS: 21, Min_Samples: 18, Silhouette Score: 0.7425198509640478, Number of Clusters: 1, Davies-Bouldin Index: 0.7040536313977872\n",
      "EPS: 21, Min_Samples: 19, Silhouette Score: 0.7288813508100529, Number of Clusters: 1, Davies-Bouldin Index: 0.8105919544596685\n",
      "EPS: 21, Min_Samples: 20, Silhouette Score: 0.7288813508100529, Number of Clusters: 1, Davies-Bouldin Index: 0.8105919544596685\n",
      "EPS: 21, Min_Samples: 21, Silhouette Score: 0.7288813508100529, Number of Clusters: 1, Davies-Bouldin Index: 0.8105919544596685\n",
      "EPS: 21, Min_Samples: 22, Silhouette Score: 0.7288813508100529, Number of Clusters: 1, Davies-Bouldin Index: 0.8105919544596685\n",
      "EPS: 21, Min_Samples: 23, Silhouette Score: 0.7288813508100529, Number of Clusters: 1, Davies-Bouldin Index: 0.8105919544596685\n",
      "EPS: 21, Min_Samples: 24, Silhouette Score: 0.7288813508100529, Number of Clusters: 1, Davies-Bouldin Index: 0.8105919544596685\n",
      "EPS: 21, Min_Samples: 25, Silhouette Score: 0.7288813508100529, Number of Clusters: 1, Davies-Bouldin Index: 0.8105919544596685\n",
      "EPS: 21, Min_Samples: 26, Silhouette Score: 0.7288813508100529, Number of Clusters: 1, Davies-Bouldin Index: 0.8105919544596685\n",
      "EPS: 21, Min_Samples: 27, Silhouette Score: 0.7288813508100529, Number of Clusters: 1, Davies-Bouldin Index: 0.8105919544596685\n",
      "EPS: 21, Min_Samples: 28, Silhouette Score: 0.7288813508100529, Number of Clusters: 1, Davies-Bouldin Index: 0.8105919544596685\n",
      "EPS: 21, Min_Samples: 29, Silhouette Score: 0.7288813508100529, Number of Clusters: 1, Davies-Bouldin Index: 0.8105919544596685\n",
      "EPS: 21, Min_Samples: 30, Silhouette Score: 0.7288813508100529, Number of Clusters: 1, Davies-Bouldin Index: 0.8105919544596685\n",
      "EPS: 22, Min_Samples: 5, Silhouette Score: 0.713195169234198, Number of Clusters: 5, Davies-Bouldin Index: 0.4556333684942048\n",
      "EPS: 22, Min_Samples: 6, Silhouette Score: 0.713195169234198, Number of Clusters: 5, Davies-Bouldin Index: 0.4556333684942048\n",
      "EPS: 22, Min_Samples: 7, Silhouette Score: 0.713195169234198, Number of Clusters: 5, Davies-Bouldin Index: 0.4556333684942048\n",
      "EPS: 22, Min_Samples: 8, Silhouette Score: 0.713195169234198, Number of Clusters: 5, Davies-Bouldin Index: 0.4556333684942048\n",
      "EPS: 22, Min_Samples: 9, Silhouette Score: 0.713195169234198, Number of Clusters: 5, Davies-Bouldin Index: 0.4556333684942048\n",
      "EPS: 22, Min_Samples: 10, Silhouette Score: 0.713195169234198, Number of Clusters: 5, Davies-Bouldin Index: 0.4556333684942048\n",
      "EPS: 22, Min_Samples: 11, Silhouette Score: 0.7147244893988302, Number of Clusters: 4, Davies-Bouldin Index: 0.5603656623502666\n",
      "EPS: 22, Min_Samples: 12, Silhouette Score: 0.7147244893988302, Number of Clusters: 4, Davies-Bouldin Index: 0.5603656623502666\n",
      "EPS: 22, Min_Samples: 13, Silhouette Score: 0.7147244893988302, Number of Clusters: 4, Davies-Bouldin Index: 0.5603656623502666\n",
      "EPS: 22, Min_Samples: 14, Silhouette Score: 0.7147244893988302, Number of Clusters: 4, Davies-Bouldin Index: 0.5603656623502666\n",
      "EPS: 22, Min_Samples: 15, Silhouette Score: 0.7204939468096946, Number of Clusters: 3, Davies-Bouldin Index: 0.628706496145044\n",
      "EPS: 22, Min_Samples: 16, Silhouette Score: 0.7206461528386967, Number of Clusters: 3, Davies-Bouldin Index: 0.6460807236662869\n",
      "EPS: 22, Min_Samples: 17, Silhouette Score: 0.7206049075838606, Number of Clusters: 3, Davies-Bouldin Index: 0.6659634161429753\n",
      "EPS: 22, Min_Samples: 18, Silhouette Score: 0.7537700082056948, Number of Clusters: 1, Davies-Bouldin Index: 0.6073231502677238\n",
      "EPS: 22, Min_Samples: 19, Silhouette Score: 0.7537700082056948, Number of Clusters: 1, Davies-Bouldin Index: 0.6073231502677238\n",
      "EPS: 22, Min_Samples: 20, Silhouette Score: 0.7537700082056948, Number of Clusters: 1, Davies-Bouldin Index: 0.6073231502677238\n",
      "EPS: 22, Min_Samples: 21, Silhouette Score: 0.7537700082056948, Number of Clusters: 1, Davies-Bouldin Index: 0.6073231502677238\n",
      "EPS: 22, Min_Samples: 22, Silhouette Score: 0.7537700082056948, Number of Clusters: 1, Davies-Bouldin Index: 0.6073231502677238\n",
      "EPS: 22, Min_Samples: 23, Silhouette Score: 0.7537700082056948, Number of Clusters: 1, Davies-Bouldin Index: 0.6073231502677238\n",
      "EPS: 22, Min_Samples: 24, Silhouette Score: 0.7537700082056948, Number of Clusters: 1, Davies-Bouldin Index: 0.6073231502677238\n",
      "EPS: 22, Min_Samples: 25, Silhouette Score: 0.7537700082056948, Number of Clusters: 1, Davies-Bouldin Index: 0.6073231502677238\n",
      "EPS: 22, Min_Samples: 26, Silhouette Score: 0.7537700082056948, Number of Clusters: 1, Davies-Bouldin Index: 0.6073231502677238\n",
      "EPS: 22, Min_Samples: 27, Silhouette Score: 0.7537700082056948, Number of Clusters: 1, Davies-Bouldin Index: 0.6073231502677238\n",
      "EPS: 22, Min_Samples: 28, Silhouette Score: 0.7537700082056948, Number of Clusters: 1, Davies-Bouldin Index: 0.6073231502677238\n",
      "EPS: 22, Min_Samples: 29, Silhouette Score: 0.7537700082056948, Number of Clusters: 1, Davies-Bouldin Index: 0.6073231502677238\n",
      "EPS: 22, Min_Samples: 30, Silhouette Score: 0.7537700082056948, Number of Clusters: 1, Davies-Bouldin Index: 0.6073231502677238\n",
      "EPS: 23, Min_Samples: 5, Silhouette Score: 0.713195169234198, Number of Clusters: 5, Davies-Bouldin Index: 0.4556333684942048\n",
      "EPS: 23, Min_Samples: 6, Silhouette Score: 0.713195169234198, Number of Clusters: 5, Davies-Bouldin Index: 0.4556333684942048\n",
      "EPS: 23, Min_Samples: 7, Silhouette Score: 0.713195169234198, Number of Clusters: 5, Davies-Bouldin Index: 0.4556333684942048\n",
      "EPS: 23, Min_Samples: 8, Silhouette Score: 0.713195169234198, Number of Clusters: 5, Davies-Bouldin Index: 0.4556333684942048\n",
      "EPS: 23, Min_Samples: 9, Silhouette Score: 0.713195169234198, Number of Clusters: 5, Davies-Bouldin Index: 0.4556333684942048\n",
      "EPS: 23, Min_Samples: 10, Silhouette Score: 0.713195169234198, Number of Clusters: 5, Davies-Bouldin Index: 0.4556333684942048\n",
      "EPS: 23, Min_Samples: 11, Silhouette Score: 0.7147244893988302, Number of Clusters: 4, Davies-Bouldin Index: 0.5603656623502666\n",
      "EPS: 23, Min_Samples: 12, Silhouette Score: 0.7147244893988302, Number of Clusters: 4, Davies-Bouldin Index: 0.5603656623502666\n",
      "EPS: 23, Min_Samples: 13, Silhouette Score: 0.7147244893988302, Number of Clusters: 4, Davies-Bouldin Index: 0.5603656623502666\n",
      "EPS: 23, Min_Samples: 14, Silhouette Score: 0.7147244893988302, Number of Clusters: 4, Davies-Bouldin Index: 0.5603656623502666\n",
      "EPS: 23, Min_Samples: 15, Silhouette Score: 0.7204939468096946, Number of Clusters: 3, Davies-Bouldin Index: 0.628706496145044\n",
      "EPS: 23, Min_Samples: 16, Silhouette Score: 0.7204939468096946, Number of Clusters: 3, Davies-Bouldin Index: 0.628706496145044\n",
      "EPS: 23, Min_Samples: 17, Silhouette Score: 0.7206461528386967, Number of Clusters: 3, Davies-Bouldin Index: 0.6460807236662869\n",
      "EPS: 23, Min_Samples: 18, Silhouette Score: 0.7282661325520845, Number of Clusters: 2, Davies-Bouldin Index: 1.2336837024312157\n",
      "EPS: 23, Min_Samples: 19, Silhouette Score: 0.7537700082056948, Number of Clusters: 1, Davies-Bouldin Index: 0.6073231502677238\n",
      "EPS: 23, Min_Samples: 20, Silhouette Score: 0.7537700082056948, Number of Clusters: 1, Davies-Bouldin Index: 0.6073231502677238\n",
      "EPS: 23, Min_Samples: 21, Silhouette Score: 0.7537700082056948, Number of Clusters: 1, Davies-Bouldin Index: 0.6073231502677238\n",
      "EPS: 23, Min_Samples: 22, Silhouette Score: 0.7537700082056948, Number of Clusters: 1, Davies-Bouldin Index: 0.6073231502677238\n",
      "EPS: 23, Min_Samples: 23, Silhouette Score: 0.7537700082056948, Number of Clusters: 1, Davies-Bouldin Index: 0.6073231502677238\n",
      "EPS: 23, Min_Samples: 24, Silhouette Score: 0.7537700082056948, Number of Clusters: 1, Davies-Bouldin Index: 0.6073231502677238\n",
      "EPS: 23, Min_Samples: 25, Silhouette Score: 0.7537700082056948, Number of Clusters: 1, Davies-Bouldin Index: 0.6073231502677238\n",
      "EPS: 23, Min_Samples: 26, Silhouette Score: 0.7537700082056948, Number of Clusters: 1, Davies-Bouldin Index: 0.6073231502677238\n",
      "EPS: 23, Min_Samples: 27, Silhouette Score: 0.7537700082056948, Number of Clusters: 1, Davies-Bouldin Index: 0.6073231502677238\n",
      "EPS: 23, Min_Samples: 28, Silhouette Score: 0.7537700082056948, Number of Clusters: 1, Davies-Bouldin Index: 0.6073231502677238\n",
      "EPS: 23, Min_Samples: 29, Silhouette Score: 0.7537700082056948, Number of Clusters: 1, Davies-Bouldin Index: 0.6073231502677238\n",
      "EPS: 23, Min_Samples: 30, Silhouette Score: 0.7537700082056948, Number of Clusters: 1, Davies-Bouldin Index: 0.6073231502677238\n",
      "EPS: 24, Min_Samples: 5, Silhouette Score: 0.713195169234198, Number of Clusters: 5, Davies-Bouldin Index: 0.4556333684942048\n",
      "EPS: 24, Min_Samples: 6, Silhouette Score: 0.713195169234198, Number of Clusters: 5, Davies-Bouldin Index: 0.4556333684942048\n",
      "EPS: 24, Min_Samples: 7, Silhouette Score: 0.713195169234198, Number of Clusters: 5, Davies-Bouldin Index: 0.4556333684942048\n",
      "EPS: 24, Min_Samples: 8, Silhouette Score: 0.713195169234198, Number of Clusters: 5, Davies-Bouldin Index: 0.4556333684942048\n",
      "EPS: 24, Min_Samples: 9, Silhouette Score: 0.713195169234198, Number of Clusters: 5, Davies-Bouldin Index: 0.4556333684942048\n",
      "EPS: 24, Min_Samples: 10, Silhouette Score: 0.713195169234198, Number of Clusters: 5, Davies-Bouldin Index: 0.4556333684942048\n",
      "EPS: 24, Min_Samples: 11, Silhouette Score: 0.7147244893988302, Number of Clusters: 4, Davies-Bouldin Index: 0.5603656623502666\n",
      "EPS: 24, Min_Samples: 12, Silhouette Score: 0.7147244893988302, Number of Clusters: 4, Davies-Bouldin Index: 0.5603656623502666\n",
      "EPS: 24, Min_Samples: 13, Silhouette Score: 0.7147244893988302, Number of Clusters: 4, Davies-Bouldin Index: 0.5603656623502666\n",
      "EPS: 24, Min_Samples: 14, Silhouette Score: 0.7147244893988302, Number of Clusters: 4, Davies-Bouldin Index: 0.5603656623502666\n",
      "EPS: 24, Min_Samples: 15, Silhouette Score: 0.7204939468096946, Number of Clusters: 3, Davies-Bouldin Index: 0.628706496145044\n",
      "EPS: 24, Min_Samples: 16, Silhouette Score: 0.7204939468096946, Number of Clusters: 3, Davies-Bouldin Index: 0.628706496145044\n",
      "EPS: 24, Min_Samples: 17, Silhouette Score: 0.7206461528386967, Number of Clusters: 3, Davies-Bouldin Index: 0.6460807236662869\n",
      "EPS: 24, Min_Samples: 18, Silhouette Score: 0.7282661325520845, Number of Clusters: 2, Davies-Bouldin Index: 1.2336837024312157\n",
      "EPS: 24, Min_Samples: 19, Silhouette Score: 0.7537700082056948, Number of Clusters: 1, Davies-Bouldin Index: 0.6073231502677238\n",
      "EPS: 24, Min_Samples: 20, Silhouette Score: 0.7537700082056948, Number of Clusters: 1, Davies-Bouldin Index: 0.6073231502677238\n",
      "EPS: 24, Min_Samples: 21, Silhouette Score: 0.7537700082056948, Number of Clusters: 1, Davies-Bouldin Index: 0.6073231502677238\n",
      "EPS: 24, Min_Samples: 22, Silhouette Score: 0.7537700082056948, Number of Clusters: 1, Davies-Bouldin Index: 0.6073231502677238\n",
      "EPS: 24, Min_Samples: 23, Silhouette Score: 0.7537700082056948, Number of Clusters: 1, Davies-Bouldin Index: 0.6073231502677238\n",
      "EPS: 24, Min_Samples: 24, Silhouette Score: 0.7537700082056948, Number of Clusters: 1, Davies-Bouldin Index: 0.6073231502677238\n",
      "EPS: 24, Min_Samples: 25, Silhouette Score: 0.7537700082056948, Number of Clusters: 1, Davies-Bouldin Index: 0.6073231502677238\n",
      "EPS: 24, Min_Samples: 26, Silhouette Score: 0.7537700082056948, Number of Clusters: 1, Davies-Bouldin Index: 0.6073231502677238\n",
      "EPS: 24, Min_Samples: 27, Silhouette Score: 0.7537700082056948, Number of Clusters: 1, Davies-Bouldin Index: 0.6073231502677238\n",
      "EPS: 24, Min_Samples: 28, Silhouette Score: 0.7537700082056948, Number of Clusters: 1, Davies-Bouldin Index: 0.6073231502677238\n",
      "EPS: 24, Min_Samples: 29, Silhouette Score: 0.7537700082056948, Number of Clusters: 1, Davies-Bouldin Index: 0.6073231502677238\n",
      "EPS: 24, Min_Samples: 30, Silhouette Score: 0.7537700082056948, Number of Clusters: 1, Davies-Bouldin Index: 0.6073231502677238\n",
      "EPS: 25, Min_Samples: 5, Silhouette Score: 0.713195169234198, Number of Clusters: 5, Davies-Bouldin Index: 0.4556333684942048\n",
      "EPS: 25, Min_Samples: 6, Silhouette Score: 0.713195169234198, Number of Clusters: 5, Davies-Bouldin Index: 0.4556333684942048\n",
      "EPS: 25, Min_Samples: 7, Silhouette Score: 0.713195169234198, Number of Clusters: 5, Davies-Bouldin Index: 0.4556333684942048\n",
      "EPS: 25, Min_Samples: 8, Silhouette Score: 0.713195169234198, Number of Clusters: 5, Davies-Bouldin Index: 0.4556333684942048\n",
      "EPS: 25, Min_Samples: 9, Silhouette Score: 0.713195169234198, Number of Clusters: 5, Davies-Bouldin Index: 0.4556333684942048\n",
      "EPS: 25, Min_Samples: 10, Silhouette Score: 0.713195169234198, Number of Clusters: 5, Davies-Bouldin Index: 0.4556333684942048\n",
      "EPS: 25, Min_Samples: 11, Silhouette Score: 0.7147244893988302, Number of Clusters: 4, Davies-Bouldin Index: 0.5603656623502666\n",
      "EPS: 25, Min_Samples: 12, Silhouette Score: 0.7147244893988302, Number of Clusters: 4, Davies-Bouldin Index: 0.5603656623502666\n",
      "EPS: 25, Min_Samples: 13, Silhouette Score: 0.7147244893988302, Number of Clusters: 4, Davies-Bouldin Index: 0.5603656623502666\n",
      "EPS: 25, Min_Samples: 14, Silhouette Score: 0.7147244893988302, Number of Clusters: 4, Davies-Bouldin Index: 0.5603656623502666\n",
      "EPS: 25, Min_Samples: 15, Silhouette Score: 0.7204939468096946, Number of Clusters: 3, Davies-Bouldin Index: 0.628706496145044\n",
      "EPS: 25, Min_Samples: 16, Silhouette Score: 0.7204939468096946, Number of Clusters: 3, Davies-Bouldin Index: 0.628706496145044\n",
      "EPS: 25, Min_Samples: 17, Silhouette Score: 0.7204939468096946, Number of Clusters: 3, Davies-Bouldin Index: 0.628706496145044\n",
      "EPS: 25, Min_Samples: 18, Silhouette Score: 0.7282661325520845, Number of Clusters: 2, Davies-Bouldin Index: 1.2336837024312157\n",
      "EPS: 25, Min_Samples: 19, Silhouette Score: 0.7537700082056948, Number of Clusters: 1, Davies-Bouldin Index: 0.6073231502677238\n",
      "EPS: 25, Min_Samples: 20, Silhouette Score: 0.7537700082056948, Number of Clusters: 1, Davies-Bouldin Index: 0.6073231502677238\n",
      "EPS: 25, Min_Samples: 21, Silhouette Score: 0.7537700082056948, Number of Clusters: 1, Davies-Bouldin Index: 0.6073231502677238\n",
      "EPS: 25, Min_Samples: 22, Silhouette Score: 0.7537700082056948, Number of Clusters: 1, Davies-Bouldin Index: 0.6073231502677238\n",
      "EPS: 25, Min_Samples: 23, Silhouette Score: 0.7537700082056948, Number of Clusters: 1, Davies-Bouldin Index: 0.6073231502677238\n",
      "EPS: 25, Min_Samples: 24, Silhouette Score: 0.7537700082056948, Number of Clusters: 1, Davies-Bouldin Index: 0.6073231502677238\n",
      "EPS: 25, Min_Samples: 25, Silhouette Score: 0.7537700082056948, Number of Clusters: 1, Davies-Bouldin Index: 0.6073231502677238\n",
      "EPS: 25, Min_Samples: 26, Silhouette Score: 0.7537700082056948, Number of Clusters: 1, Davies-Bouldin Index: 0.6073231502677238\n",
      "EPS: 25, Min_Samples: 27, Silhouette Score: 0.7537700082056948, Number of Clusters: 1, Davies-Bouldin Index: 0.6073231502677238\n",
      "EPS: 25, Min_Samples: 28, Silhouette Score: 0.7537700082056948, Number of Clusters: 1, Davies-Bouldin Index: 0.6073231502677238\n",
      "EPS: 25, Min_Samples: 29, Silhouette Score: 0.7537700082056948, Number of Clusters: 1, Davies-Bouldin Index: 0.6073231502677238\n",
      "EPS: 25, Min_Samples: 30, Silhouette Score: 0.7537700082056948, Number of Clusters: 1, Davies-Bouldin Index: 0.6073231502677238\n",
      "EPS: 30, Min_Samples: 5, Silhouette Score: 0.713195169234198, Number of Clusters: 5, Davies-Bouldin Index: 0.4556333684942048\n",
      "EPS: 30, Min_Samples: 6, Silhouette Score: 0.713195169234198, Number of Clusters: 5, Davies-Bouldin Index: 0.4556333684942048\n",
      "EPS: 30, Min_Samples: 7, Silhouette Score: 0.713195169234198, Number of Clusters: 5, Davies-Bouldin Index: 0.4556333684942048\n",
      "EPS: 30, Min_Samples: 8, Silhouette Score: 0.713195169234198, Number of Clusters: 5, Davies-Bouldin Index: 0.4556333684942048\n",
      "EPS: 30, Min_Samples: 9, Silhouette Score: 0.713195169234198, Number of Clusters: 5, Davies-Bouldin Index: 0.4556333684942048\n",
      "EPS: 30, Min_Samples: 10, Silhouette Score: 0.713195169234198, Number of Clusters: 5, Davies-Bouldin Index: 0.4556333684942048\n",
      "EPS: 30, Min_Samples: 11, Silhouette Score: 0.7147244893988302, Number of Clusters: 4, Davies-Bouldin Index: 0.5603656623502666\n",
      "EPS: 30, Min_Samples: 12, Silhouette Score: 0.7147244893988302, Number of Clusters: 4, Davies-Bouldin Index: 0.5603656623502666\n",
      "EPS: 30, Min_Samples: 13, Silhouette Score: 0.7147244893988302, Number of Clusters: 4, Davies-Bouldin Index: 0.5603656623502666\n",
      "EPS: 30, Min_Samples: 14, Silhouette Score: 0.7147244893988302, Number of Clusters: 4, Davies-Bouldin Index: 0.5603656623502666\n",
      "EPS: 30, Min_Samples: 15, Silhouette Score: 0.7204939468096946, Number of Clusters: 3, Davies-Bouldin Index: 0.628706496145044\n",
      "EPS: 30, Min_Samples: 16, Silhouette Score: 0.7204939468096946, Number of Clusters: 3, Davies-Bouldin Index: 0.628706496145044\n",
      "EPS: 30, Min_Samples: 17, Silhouette Score: 0.7204939468096946, Number of Clusters: 3, Davies-Bouldin Index: 0.628706496145044\n",
      "EPS: 30, Min_Samples: 18, Silhouette Score: 0.7285407818814162, Number of Clusters: 2, Davies-Bouldin Index: 1.2420961250167708\n",
      "EPS: 30, Min_Samples: 19, Silhouette Score: 0.7285407818814162, Number of Clusters: 2, Davies-Bouldin Index: 1.2420961250167708\n",
      "EPS: 30, Min_Samples: 20, Silhouette Score: 0.7537700082056948, Number of Clusters: 1, Davies-Bouldin Index: 0.6073231502677238\n",
      "EPS: 30, Min_Samples: 21, Silhouette Score: 0.7537700082056948, Number of Clusters: 1, Davies-Bouldin Index: 0.6073231502677238\n",
      "EPS: 30, Min_Samples: 22, Silhouette Score: 0.7537700082056948, Number of Clusters: 1, Davies-Bouldin Index: 0.6073231502677238\n",
      "EPS: 30, Min_Samples: 23, Silhouette Score: 0.7537700082056948, Number of Clusters: 1, Davies-Bouldin Index: 0.6073231502677238\n",
      "EPS: 30, Min_Samples: 24, Silhouette Score: 0.7537700082056948, Number of Clusters: 1, Davies-Bouldin Index: 0.6073231502677238\n",
      "EPS: 30, Min_Samples: 25, Silhouette Score: 0.7537700082056948, Number of Clusters: 1, Davies-Bouldin Index: 0.6073231502677238\n",
      "EPS: 30, Min_Samples: 26, Silhouette Score: 0.7537700082056948, Number of Clusters: 1, Davies-Bouldin Index: 0.6073231502677238\n",
      "EPS: 30, Min_Samples: 27, Silhouette Score: 0.7537700082056948, Number of Clusters: 1, Davies-Bouldin Index: 0.6073231502677238\n",
      "EPS: 30, Min_Samples: 28, Silhouette Score: 0.7537700082056948, Number of Clusters: 1, Davies-Bouldin Index: 0.6073231502677238\n",
      "EPS: 30, Min_Samples: 29, Silhouette Score: 0.7537700082056948, Number of Clusters: 1, Davies-Bouldin Index: 0.6073231502677238\n",
      "EPS: 30, Min_Samples: 30, Silhouette Score: 0.7537700082056948, Number of Clusters: 1, Davies-Bouldin Index: 0.6073231502677238\n",
      "EPS: 35, Min_Samples: 5, Silhouette Score: 0.7537700082056948, Number of Clusters: 2, Davies-Bouldin Index: 0.6073231502677238\n",
      "EPS: 35, Min_Samples: 6, Silhouette Score: 0.7537700082056948, Number of Clusters: 2, Davies-Bouldin Index: 0.6073231502677238\n",
      "EPS: 35, Min_Samples: 7, Silhouette Score: 0.7537700082056948, Number of Clusters: 2, Davies-Bouldin Index: 0.6073231502677238\n",
      "EPS: 35, Min_Samples: 8, Silhouette Score: 0.7537700082056948, Number of Clusters: 2, Davies-Bouldin Index: 0.6073231502677238\n",
      "EPS: 35, Min_Samples: 9, Silhouette Score: 0.7537700082056948, Number of Clusters: 2, Davies-Bouldin Index: 0.6073231502677238\n",
      "EPS: 35, Min_Samples: 10, Silhouette Score: 0.7537700082056948, Number of Clusters: 2, Davies-Bouldin Index: 0.6073231502677238\n",
      "EPS: 35, Min_Samples: 11, Silhouette Score: 0.7537700082056948, Number of Clusters: 2, Davies-Bouldin Index: 0.6073231502677238\n",
      "EPS: 35, Min_Samples: 12, Silhouette Score: 0.7537700082056948, Number of Clusters: 2, Davies-Bouldin Index: 0.6073231502677238\n",
      "EPS: 35, Min_Samples: 13, Silhouette Score: 0.7537700082056948, Number of Clusters: 2, Davies-Bouldin Index: 0.6073231502677238\n",
      "EPS: 35, Min_Samples: 14, Silhouette Score: 0.7537700082056948, Number of Clusters: 2, Davies-Bouldin Index: 0.6073231502677238\n",
      "EPS: 35, Min_Samples: 15, Silhouette Score: 0.7537700082056948, Number of Clusters: 2, Davies-Bouldin Index: 0.6073231502677238\n",
      "EPS: 35, Min_Samples: 16, Silhouette Score: 0.7537700082056948, Number of Clusters: 2, Davies-Bouldin Index: 0.6073231502677238\n",
      "EPS: 35, Min_Samples: 17, Silhouette Score: 0.7537700082056948, Number of Clusters: 2, Davies-Bouldin Index: 0.6073231502677238\n",
      "EPS: 35, Min_Samples: 18, Silhouette Score: 0.7537700082056948, Number of Clusters: 2, Davies-Bouldin Index: 0.6073231502677238\n",
      "EPS: 35, Min_Samples: 19, Silhouette Score: 0.7537700082056948, Number of Clusters: 2, Davies-Bouldin Index: 0.6073231502677238\n",
      "EPS: 35, Min_Samples: 20, Silhouette Score: 0.7537700082056948, Number of Clusters: 2, Davies-Bouldin Index: 0.6073231502677238\n",
      "EPS: 35, Min_Samples: 21, Silhouette Score: 0.7537700082056948, Number of Clusters: 2, Davies-Bouldin Index: 0.6073231502677238\n",
      "EPS: 35, Min_Samples: 22, Silhouette Score: 0.7537700082056948, Number of Clusters: 2, Davies-Bouldin Index: 0.6073231502677238\n",
      "EPS: 35, Min_Samples: 23, Silhouette Score: 0.7537700082056948, Number of Clusters: 2, Davies-Bouldin Index: 0.6073231502677238\n",
      "EPS: 35, Min_Samples: 24, Silhouette Score: 0.7537700082056948, Number of Clusters: 2, Davies-Bouldin Index: 0.6073231502677238\n",
      "EPS: 35, Min_Samples: 25, Silhouette Score: 0.7537700082056948, Number of Clusters: 2, Davies-Bouldin Index: 0.6073231502677238\n",
      "EPS: 35, Min_Samples: 26, Silhouette Score: 0.7537700082056948, Number of Clusters: 2, Davies-Bouldin Index: 0.6073231502677238\n",
      "EPS: 35, Min_Samples: 27, Silhouette Score: 0.7537700082056948, Number of Clusters: 2, Davies-Bouldin Index: 0.6073231502677238\n",
      "EPS: 35, Min_Samples: 28, Silhouette Score: 0.7537700082056948, Number of Clusters: 2, Davies-Bouldin Index: 0.6073231502677238\n",
      "EPS: 35, Min_Samples: 29, Silhouette Score: 0.7537700082056948, Number of Clusters: 2, Davies-Bouldin Index: 0.6073231502677238\n",
      "EPS: 35, Min_Samples: 30, Silhouette Score: 0.7537700082056948, Number of Clusters: 2, Davies-Bouldin Index: 0.6073231502677238\n",
      "EPS: 40, Min_Samples: 5, Silhouette Score: 0.7537700082056948, Number of Clusters: 2, Davies-Bouldin Index: 0.6073231502677238\n",
      "EPS: 40, Min_Samples: 6, Silhouette Score: 0.7537700082056948, Number of Clusters: 2, Davies-Bouldin Index: 0.6073231502677238\n",
      "EPS: 40, Min_Samples: 7, Silhouette Score: 0.7537700082056948, Number of Clusters: 2, Davies-Bouldin Index: 0.6073231502677238\n",
      "EPS: 40, Min_Samples: 8, Silhouette Score: 0.7537700082056948, Number of Clusters: 2, Davies-Bouldin Index: 0.6073231502677238\n",
      "EPS: 40, Min_Samples: 9, Silhouette Score: 0.7537700082056948, Number of Clusters: 2, Davies-Bouldin Index: 0.6073231502677238\n",
      "EPS: 40, Min_Samples: 10, Silhouette Score: 0.7537700082056948, Number of Clusters: 2, Davies-Bouldin Index: 0.6073231502677238\n",
      "EPS: 40, Min_Samples: 11, Silhouette Score: 0.7537700082056948, Number of Clusters: 2, Davies-Bouldin Index: 0.6073231502677238\n",
      "EPS: 40, Min_Samples: 12, Silhouette Score: 0.7537700082056948, Number of Clusters: 2, Davies-Bouldin Index: 0.6073231502677238\n",
      "EPS: 40, Min_Samples: 13, Silhouette Score: 0.7537700082056948, Number of Clusters: 2, Davies-Bouldin Index: 0.6073231502677238\n",
      "EPS: 40, Min_Samples: 14, Silhouette Score: 0.7537700082056948, Number of Clusters: 2, Davies-Bouldin Index: 0.6073231502677238\n",
      "EPS: 40, Min_Samples: 15, Silhouette Score: 0.7537700082056948, Number of Clusters: 2, Davies-Bouldin Index: 0.6073231502677238\n",
      "EPS: 40, Min_Samples: 16, Silhouette Score: 0.7537700082056948, Number of Clusters: 2, Davies-Bouldin Index: 0.6073231502677238\n",
      "EPS: 40, Min_Samples: 17, Silhouette Score: 0.7537700082056948, Number of Clusters: 2, Davies-Bouldin Index: 0.6073231502677238\n",
      "EPS: 40, Min_Samples: 18, Silhouette Score: 0.7537700082056948, Number of Clusters: 2, Davies-Bouldin Index: 0.6073231502677238\n",
      "EPS: 40, Min_Samples: 19, Silhouette Score: 0.7537700082056948, Number of Clusters: 2, Davies-Bouldin Index: 0.6073231502677238\n",
      "EPS: 40, Min_Samples: 20, Silhouette Score: 0.7537700082056948, Number of Clusters: 2, Davies-Bouldin Index: 0.6073231502677238\n",
      "EPS: 40, Min_Samples: 21, Silhouette Score: 0.7537700082056948, Number of Clusters: 2, Davies-Bouldin Index: 0.6073231502677238\n",
      "EPS: 40, Min_Samples: 22, Silhouette Score: 0.7537700082056948, Number of Clusters: 2, Davies-Bouldin Index: 0.6073231502677238\n",
      "EPS: 40, Min_Samples: 23, Silhouette Score: 0.7537700082056948, Number of Clusters: 2, Davies-Bouldin Index: 0.6073231502677238\n",
      "EPS: 40, Min_Samples: 24, Silhouette Score: 0.7537700082056948, Number of Clusters: 2, Davies-Bouldin Index: 0.6073231502677238\n",
      "EPS: 40, Min_Samples: 25, Silhouette Score: 0.7537700082056948, Number of Clusters: 2, Davies-Bouldin Index: 0.6073231502677238\n",
      "EPS: 40, Min_Samples: 26, Silhouette Score: 0.7537700082056948, Number of Clusters: 2, Davies-Bouldin Index: 0.6073231502677238\n",
      "EPS: 40, Min_Samples: 27, Silhouette Score: 0.7537700082056948, Number of Clusters: 2, Davies-Bouldin Index: 0.6073231502677238\n",
      "EPS: 40, Min_Samples: 28, Silhouette Score: 0.7537700082056948, Number of Clusters: 2, Davies-Bouldin Index: 0.6073231502677238\n",
      "EPS: 40, Min_Samples: 29, Silhouette Score: 0.7537700082056948, Number of Clusters: 2, Davies-Bouldin Index: 0.6073231502677238\n",
      "EPS: 40, Min_Samples: 30, Silhouette Score: 0.7537700082056948, Number of Clusters: 2, Davies-Bouldin Index: 0.6073231502677238\n",
      "EPS: 45, Min_Samples: 5, Silhouette Score: 0.7537700082056948, Number of Clusters: 2, Davies-Bouldin Index: 0.6073231502677238\n",
      "EPS: 45, Min_Samples: 6, Silhouette Score: 0.7537700082056948, Number of Clusters: 2, Davies-Bouldin Index: 0.6073231502677238\n",
      "EPS: 45, Min_Samples: 7, Silhouette Score: 0.7537700082056948, Number of Clusters: 2, Davies-Bouldin Index: 0.6073231502677238\n",
      "EPS: 45, Min_Samples: 8, Silhouette Score: 0.7537700082056948, Number of Clusters: 2, Davies-Bouldin Index: 0.6073231502677238\n",
      "EPS: 45, Min_Samples: 9, Silhouette Score: 0.7537700082056948, Number of Clusters: 2, Davies-Bouldin Index: 0.6073231502677238\n",
      "EPS: 45, Min_Samples: 10, Silhouette Score: 0.7537700082056948, Number of Clusters: 2, Davies-Bouldin Index: 0.6073231502677238\n",
      "EPS: 45, Min_Samples: 11, Silhouette Score: 0.7537700082056948, Number of Clusters: 2, Davies-Bouldin Index: 0.6073231502677238\n",
      "EPS: 45, Min_Samples: 12, Silhouette Score: 0.7537700082056948, Number of Clusters: 2, Davies-Bouldin Index: 0.6073231502677238\n",
      "EPS: 45, Min_Samples: 13, Silhouette Score: 0.7537700082056948, Number of Clusters: 2, Davies-Bouldin Index: 0.6073231502677238\n",
      "EPS: 45, Min_Samples: 14, Silhouette Score: 0.7537700082056948, Number of Clusters: 2, Davies-Bouldin Index: 0.6073231502677238\n",
      "EPS: 45, Min_Samples: 15, Silhouette Score: 0.7537700082056948, Number of Clusters: 2, Davies-Bouldin Index: 0.6073231502677238\n",
      "EPS: 45, Min_Samples: 16, Silhouette Score: 0.7537700082056948, Number of Clusters: 2, Davies-Bouldin Index: 0.6073231502677238\n",
      "EPS: 45, Min_Samples: 17, Silhouette Score: 0.7537700082056948, Number of Clusters: 2, Davies-Bouldin Index: 0.6073231502677238\n",
      "EPS: 45, Min_Samples: 18, Silhouette Score: 0.7537700082056948, Number of Clusters: 2, Davies-Bouldin Index: 0.6073231502677238\n",
      "EPS: 45, Min_Samples: 19, Silhouette Score: 0.7537700082056948, Number of Clusters: 2, Davies-Bouldin Index: 0.6073231502677238\n",
      "EPS: 45, Min_Samples: 20, Silhouette Score: 0.7537700082056948, Number of Clusters: 2, Davies-Bouldin Index: 0.6073231502677238\n",
      "EPS: 45, Min_Samples: 21, Silhouette Score: 0.7537700082056948, Number of Clusters: 2, Davies-Bouldin Index: 0.6073231502677238\n",
      "EPS: 45, Min_Samples: 22, Silhouette Score: 0.7537700082056948, Number of Clusters: 2, Davies-Bouldin Index: 0.6073231502677238\n",
      "EPS: 45, Min_Samples: 23, Silhouette Score: 0.7537700082056948, Number of Clusters: 2, Davies-Bouldin Index: 0.6073231502677238\n",
      "EPS: 45, Min_Samples: 24, Silhouette Score: 0.7537700082056948, Number of Clusters: 2, Davies-Bouldin Index: 0.6073231502677238\n",
      "EPS: 45, Min_Samples: 25, Silhouette Score: 0.7537700082056948, Number of Clusters: 2, Davies-Bouldin Index: 0.6073231502677238\n",
      "EPS: 45, Min_Samples: 26, Silhouette Score: 0.7537700082056948, Number of Clusters: 2, Davies-Bouldin Index: 0.6073231502677238\n",
      "EPS: 45, Min_Samples: 27, Silhouette Score: 0.7537700082056948, Number of Clusters: 2, Davies-Bouldin Index: 0.6073231502677238\n",
      "EPS: 45, Min_Samples: 28, Silhouette Score: 0.7537700082056948, Number of Clusters: 2, Davies-Bouldin Index: 0.6073231502677238\n",
      "EPS: 45, Min_Samples: 29, Silhouette Score: 0.7537700082056948, Number of Clusters: 2, Davies-Bouldin Index: 0.6073231502677238\n",
      "EPS: 45, Min_Samples: 30, Silhouette Score: 0.7537700082056948, Number of Clusters: 2, Davies-Bouldin Index: 0.6073231502677238\n"
     ]
    }
   ],
   "source": [
    "# Sample parameter grid to explore\n",
    "\n",
    "eps_values = [20,21,22,23,24,25,30,35,40,45]  # Example values (After first tests, we see interesant add values between 20 and 25)\n",
    "min_samples_values = [5,6,7,8,9,10, 11, 12, 13, 14, 15, 16, 17, 18, 19, 20, 21, 22, 23, 24, 25, 26, 27, 28, 29, 30] # After first tests, we see interesant add values between 5-10)\n",
    "\n",
    "\n",
    "for eps in eps_values:\n",
    "    for min_samples in min_samples_values:\n",
    "        # Initialize and fit DBSCAN with the current parameter set\n",
    "        dbscan = DBSCAN(eps=eps, min_samples=min_samples, metric='chebyshev')\n",
    "        dbscan.fit(Xca)\n",
    "        \n",
    "        # Compute the silhouette score if more than one cluster excluding noise\n",
    "        if len(np.unique(dbscan.labels_)) > 1:\n",
    "            score = silhouette_score(Xca, dbscan.labels_)\n",
    "            db_index = davies_bouldin_score(Xca, dbscan.labels_)\n",
    "            num_clusters = len(set(dbscan.labels_)) - (1 if -1 in dbscan.labels_ else 0)\n",
    "            print( f'EPS: {eps}, Min_Samples: {min_samples}, Silhouette Score: {score}, Number of Clusters: {num_clusters}, Davies-Bouldin Index: {db_index}')\n",
    "            \n"
   ]
  },
  {
   "cell_type": "markdown",
   "id": "1000b62d-43fb-4e74-aefb-cc003e087e7d",
   "metadata": {},
   "source": [
    "OPTIONS\n",
    "\n",
    "EPS: 25, Min_Samples: 9, Silhouette Score: 0.7131012596848337, Number of Clusters: 5, Davies-Bouldin Index: 0.45635034976281585\n"
   ]
  },
  {
   "cell_type": "markdown",
   "id": "9bc881df-c80a-4d2b-9de3-91b3729dc957",
   "metadata": {
    "tags": []
   },
   "source": [
    "## FINAL CHOICE"
   ]
  },
  {
   "cell_type": "markdown",
   "id": "d3a152af-5aee-48f0-b600-0709c7281f84",
   "metadata": {},
   "source": [
    "\n",
    "Thinking in future feeding, less number de EPS es better for avoid grow the Davies-Bouldin Index, and good for the same reason, so a middle value of EPS.  5 clusters give several options and we admit the error Davies-Bouldin Index, because the data is not balanced.\n",
    "\n",
    "- EUCLIDEAN\n",
    "\n",
    "EPS: 30, Min_Samples: 9, Silhouette Score: 0.7131012596848337, Number of Clusters: 5, Davies-Bouldin Index: 0.45635034976281585"
   ]
  },
  {
   "cell_type": "code",
   "execution_count": 96,
   "id": "c9534ab7-fa4c-49e3-8f95-c93435ba3082",
   "metadata": {
    "tags": []
   },
   "outputs": [],
   "source": [
    "# Initialize and fit DBSCAN for campsites\n",
    "dbscan_campsites = DBSCAN(eps=30, min_samples=9, metric='euclidean').fit(Xca)\n",
    "\n",
    "# Assign cluster labels\n",
    "df_campsites['cluster'] = dbscan_campsites.labels_\n",
    "\n"
   ]
  },
  {
   "cell_type": "code",
   "execution_count": 98,
   "id": "3ea0c5d7-b268-4084-8953-0804e0c74513",
   "metadata": {
    "tags": []
   },
   "outputs": [
    {
     "data": {
      "text/plain": [
       "cluster\n",
       " 0    3329\n",
       " 4      19\n",
       " 3      17\n",
       " 2      14\n",
       " 1      10\n",
       "-1       1\n",
       "Name: count, dtype: int64"
      ]
     },
     "execution_count": 98,
     "metadata": {},
     "output_type": "execute_result"
    }
   ],
   "source": [
    "df_campsites['cluster'].value_counts()"
   ]
  },
  {
   "cell_type": "markdown",
   "id": "60b936fb-cbc8-4112-86f5-f866bba72d9c",
   "metadata": {},
   "source": [
    "- MANHATTAN\n",
    "\n",
    "EPS: 40, Min_Samples: 11, Silhouette Score: 0.7146312390053665, Number of Clusters: 5, Davies-Bouldin Index: 0.5613690282903611"
   ]
  },
  {
   "cell_type": "code",
   "execution_count": 100,
   "id": "339dc3dc-d8c3-4620-9ab8-8fb9197d003e",
   "metadata": {
    "tags": []
   },
   "outputs": [],
   "source": [
    "# Initialize and fit DBSCAN for campsites\n",
    "dbscan_campsites = DBSCAN(eps=40, min_samples=11, metric='manhattan').fit(Xca)\n",
    "\n",
    "# Assign cluster labels\n",
    "df_campsites['cluster'] = dbscan_campsites.labels_\n",
    "\n"
   ]
  },
  {
   "cell_type": "code",
   "execution_count": 102,
   "id": "8086b1fd-5426-4241-996b-55256a87d048",
   "metadata": {
    "tags": []
   },
   "outputs": [
    {
     "data": {
      "text/plain": [
       "cluster\n",
       "0    3329\n",
       "4      19\n",
       "3      17\n",
       "2      14\n",
       "1      11\n",
       "Name: count, dtype: int64"
      ]
     },
     "execution_count": 102,
     "metadata": {},
     "output_type": "execute_result"
    }
   ],
   "source": [
    "df_campsites['cluster'].value_counts()"
   ]
  },
  {
   "cell_type": "markdown",
   "id": "10745f71-c0f6-4c55-b392-8472b1a3751c",
   "metadata": {},
   "source": [
    "- CHERISEV\n",
    "\n",
    "EPS: 22, Min_Samples: 5, Silhouette Score: 0.713195169234198, Number of Clusters: 5, Davies-Bouldin Index: 0.4556333684942048\n",
    "\n",
    "EPS: 22, Min_Samples: 11, Silhouette Score: 0.7147244893988302, Number of Clusters: 4, Davies-Bouldin Index: 0.5603656623502666\n",
    "\n",
    "EPS: 25, Min_Samples: 9, Silhouette Score: 0.7131012596848337, Number of Clusters: 5, Davies-Bouldin Index: 0.45635034976281585"
   ]
  },
  {
   "cell_type": "code",
   "execution_count": 105,
   "id": "e2b2a21d-2edc-4c84-a617-b5919d000cf4",
   "metadata": {
    "tags": []
   },
   "outputs": [],
   "source": [
    "dbscan_campsites = DBSCAN(eps=22, min_samples=5, metric='chebyshev').fit(Xca)\n",
    "\n",
    "# Assign cluster labels\n",
    "df_campsites['cluster'] = dbscan_campsites.labels_"
   ]
  },
  {
   "cell_type": "code",
   "execution_count": 107,
   "id": "c00a70c1-c2b9-459c-9803-ced198619f71",
   "metadata": {
    "tags": []
   },
   "outputs": [
    {
     "data": {
      "text/plain": [
       "cluster\n",
       " 0    3329\n",
       " 4      19\n",
       " 3      17\n",
       " 2      14\n",
       " 1      10\n",
       "-1       1\n",
       "Name: count, dtype: int64"
      ]
     },
     "execution_count": 107,
     "metadata": {},
     "output_type": "execute_result"
    }
   ],
   "source": [
    "df_campsites['cluster'].value_counts()"
   ]
  },
  {
   "cell_type": "code",
   "execution_count": 109,
   "id": "f83a8e1c-621d-4571-a250-146de3e396cf",
   "metadata": {
    "tags": []
   },
   "outputs": [],
   "source": [
    "dbscan_campsites = DBSCAN(eps=22, min_samples=11, metric='chebyshev').fit(Xca)\n",
    "\n",
    "# Assign cluster labels\n",
    "df_campsites['cluster'] = dbscan_campsites.labels_"
   ]
  },
  {
   "cell_type": "code",
   "execution_count": 111,
   "id": "6ba28a00-c3ab-438e-825d-0800b715ca71",
   "metadata": {
    "tags": []
   },
   "outputs": [
    {
     "data": {
      "text/plain": [
       "cluster\n",
       " 0    3329\n",
       " 3      19\n",
       " 2      17\n",
       " 1      14\n",
       "-1      11\n",
       "Name: count, dtype: int64"
      ]
     },
     "execution_count": 111,
     "metadata": {},
     "output_type": "execute_result"
    }
   ],
   "source": [
    "df_campsites['cluster'].value_counts()"
   ]
  },
  {
   "cell_type": "code",
   "execution_count": 113,
   "id": "3605a261-2a6e-4f3b-b8b2-89b2f8a76b19",
   "metadata": {
    "tags": []
   },
   "outputs": [],
   "source": [
    "dbscan_campsites = DBSCAN(eps=25, min_samples=9, metric='chebyshev').fit(Xca)\n",
    "\n",
    "# Assign cluster labels\n",
    "df_campsites['cluster'] = dbscan_campsites.labels_"
   ]
  },
  {
   "cell_type": "code",
   "execution_count": 115,
   "id": "2d1aa428-823f-4531-a31a-54b0ce26863b",
   "metadata": {
    "tags": []
   },
   "outputs": [
    {
     "data": {
      "text/plain": [
       "cluster\n",
       " 0    3329\n",
       " 4      19\n",
       " 3      17\n",
       " 2      14\n",
       " 1      10\n",
       "-1       1\n",
       "Name: count, dtype: int64"
      ]
     },
     "execution_count": 115,
     "metadata": {},
     "output_type": "execute_result"
    }
   ],
   "source": [
    "df_campsites['cluster'].value_counts()"
   ]
  },
  {
   "cell_type": "markdown",
   "id": "e4a7497d-4e58-4787-8bb3-41a411fc0455",
   "metadata": {},
   "source": [
    "## FINAL MODEL"
   ]
  },
  {
   "cell_type": "code",
   "execution_count": 119,
   "id": "6a232a3d-b8fa-4034-bc17-82163a290a7b",
   "metadata": {
    "tags": []
   },
   "outputs": [],
   "source": [
    "# Initialize and fit DBSCAN for campsites with results EPS: 30, Min_Samples: 9\n",
    "\n",
    "\n",
    "dbscan_optimal_campsites = DBSCAN(eps=30, min_samples=9, metric='euclidean').fit(Xca)\n",
    "\n",
    "# Assign cluster labels\n",
    "df_campsites['cluster'] = dbscan_optimal_campsites.labels_\n"
   ]
  },
  {
   "cell_type": "code",
   "execution_count": 48,
   "id": "03109f01-f03a-46e2-81d4-ff45c11f2894",
   "metadata": {
    "tags": []
   },
   "outputs": [
    {
     "name": "stdout",
     "output_type": "stream",
     "text": [
      "Cluster ID: 0\n",
      "Average Distance: 35.227059389675816, Average Rating: 4.126224188790561\n",
      "Wild: 2078, Beach: 1044\n",
      "City Type: {'City': 0, 'Town': 1, 'Village': 2}, Beach: {'Campsite': 0, 'Glamping': 1, 'Camper': 2}\n",
      "      type  luxury  beach  wild  rating  distance_km  longitude   latitude  \\\n",
      "0        0       0      0     0     3.9     9.458117  -3.603361  40.453734   \n",
      "1        1       0      0     0     3.9    20.181317  -3.603361  40.453734   \n",
      "2        1       0      0     0     3.9    24.875383  -3.603361  40.453734   \n",
      "3        1       0      0     0     3.9    10.851165  -3.603361  40.453734   \n",
      "4        1       0      0     0     3.9    28.066198  -3.603361  40.453734   \n",
      "...    ...     ...    ...   ...     ...          ...        ...        ...   \n",
      "3564     2       0      0     1     4.4    22.713277  -0.206368  43.129771   \n",
      "3565     2       0      0     1     4.5    47.411886  -0.915795  43.142601   \n",
      "3566     2       0      0     1     4.5    32.475489  -0.068011  43.104360   \n",
      "3567     2       0      0     1     3.9    55.532844   0.187680  43.007577   \n",
      "3568     2       2      0     1     4.3    48.362166   3.155037  48.907573   \n",
      "\n",
      "      cluster  \n",
      "0           0  \n",
      "1           0  \n",
      "2           0  \n",
      "3           0  \n",
      "4           0  \n",
      "...       ...  \n",
      "3564        0  \n",
      "3565        0  \n",
      "3566        0  \n",
      "3567        0  \n",
      "3568        0  \n",
      "\n",
      "[3390 rows x 9 columns] \n",
      "\n"
     ]
    }
   ],
   "source": [
    "for cluster_id in np.unique(dbscan_optimal_campsites.labels_):\n",
    "    if cluster_id == -1:\n",
    "        continue  # Exclude noise\n",
    "    cluster_members = df_campsites[df_campsites['cluster'] == cluster_id]\n",
    "    print(f\"Cluster ID: {cluster_id}\")\n",
    "    \n",
    "    # Example: Find the average distance and ratings, and count characteristics\n",
    "    avg_distance = cluster_members['distance_km'].mean()\n",
    "    avg_rating = cluster_members['rating'].mean()\n",
    "    wild_count = cluster_members['wild'].sum()\n",
    "    beach_count = cluster_members['beach'].sum()\n",
    "    type_count = cluster_members['type'].sum()\n",
    "    luxury_count = cluster_members['luxury'].sum()\n",
    "    \n",
    "    print(f\"Average Distance: {avg_distance}, Average Rating: {avg_rating}\")\n",
    "    print(f\"Wild: {wild_count}, Beach: {beach_count}\")\n",
    "    print(f\"City Type: {type}, Beach: {luxury}\")\n",
    "    \n",
    "    # Further analysis based on 'type' or other factors here\n",
    "    print(cluster_members, \"\\n\")"
   ]
  },
  {
   "cell_type": "code",
   "execution_count": 49,
   "id": "4c39db2b-fd30-473c-9901-fd002eba37b0",
   "metadata": {},
   "outputs": [],
   "source": [
    "from geopy.distance import great_circle\n",
    "\n",
    "def find_nearby_coworks(campsite, coworks, max_distance_km):\n",
    "    nearby_coworks = []\n",
    "    for _, cowork in coworks.iterrows():\n",
    "        dist = great_circle((campsite.latitude, campsite.longitude), (cowork.latitude, cowork.longitude)).kilometers\n",
    "        if dist <= max_distance_km:\n",
    "            nearby_coworks.append(cowork)\n",
    "    return nearby_coworks\n",
    "\n",
    "# Example usage for the first campsite\n",
    "campsite = df_campsites.iloc[0]\n",
    "nearby_coworks = find_nearby_coworks(campsite, df_cowork, 1)  # finding coworks within 1 km"
   ]
  },
  {
   "cell_type": "code",
   "execution_count": 50,
   "id": "c22034ff-12c6-4bbc-8f75-d8ef4305d7dc",
   "metadata": {
    "tags": []
   },
   "outputs": [],
   "source": [
    "campsite = df_campsites.iloc[0]\n",
    "nearby_coworks = find_nearby_coworks(campsite, df_cowork, 1) "
   ]
  },
  {
   "cell_type": "code",
   "execution_count": 51,
   "id": "1768a988-60bb-4f6f-8425-3559d6dcf578",
   "metadata": {
    "tags": []
   },
   "outputs": [
    {
     "data": {
      "text/plain": [
       "type            0.000000\n",
       "luxury          0.000000\n",
       "beach           0.000000\n",
       "wild            0.000000\n",
       "rating          3.900000\n",
       "distance_km     9.458117\n",
       "longitude      -3.603361\n",
       "latitude       40.453734\n",
       "cluster         0.000000\n",
       "Name: 0, dtype: float64"
      ]
     },
     "execution_count": 51,
     "metadata": {},
     "output_type": "execute_result"
    }
   ],
   "source": [
    "campsite"
   ]
  },
  {
   "cell_type": "code",
   "execution_count": 52,
   "id": "3fcafd97-b0ea-493d-b5e3-78592c745fd8",
   "metadata": {
    "tags": []
   },
   "outputs": [
    {
     "data": {
      "text/plain": [
       "[]"
      ]
     },
     "execution_count": 52,
     "metadata": {},
     "output_type": "execute_result"
    }
   ],
   "source": [
    "nearby_coworks"
   ]
  },
  {
   "cell_type": "code",
   "execution_count": 53,
   "id": "f33979b7-898f-47b8-b4e8-7c10d9d114e1",
   "metadata": {
    "tags": []
   },
   "outputs": [
    {
     "ename": "ValueError",
     "evalue": "max() arg is an empty sequence",
     "output_type": "error",
     "traceback": [
      "\u001b[1;31m---------------------------------------------------------------------------\u001b[0m",
      "\u001b[1;31mValueError\u001b[0m                                Traceback (most recent call last)",
      "Cell \u001b[1;32mIn[53], line 5\u001b[0m\n\u001b[0;32m      2\u001b[0m distances \u001b[38;5;241m=\u001b[39m [entry[\u001b[38;5;124m'\u001b[39m\u001b[38;5;124mdistance_km\u001b[39m\u001b[38;5;124m'\u001b[39m] \u001b[38;5;28;01mfor\u001b[39;00m entry \u001b[38;5;129;01min\u001b[39;00m nearby_coworks]\n\u001b[0;32m      4\u001b[0m \u001b[38;5;66;03m# Encontrar el máximo\u001b[39;00m\n\u001b[1;32m----> 5\u001b[0m max_distance \u001b[38;5;241m=\u001b[39m \u001b[38;5;28mmax\u001b[39m(distances)\n\u001b[0;32m      6\u001b[0m \u001b[38;5;66;03m# Encontrar el mínimo\u001b[39;00m\n\u001b[0;32m      7\u001b[0m min_distance \u001b[38;5;241m=\u001b[39m \u001b[38;5;28mmin\u001b[39m(distances)\n",
      "\u001b[1;31mValueError\u001b[0m: max() arg is an empty sequence"
     ]
    }
   ],
   "source": [
    "# Extraer los valores de distancia_km\n",
    "distances = [entry['distance_km'] for entry in nearby_coworks]\n",
    "\n",
    "# Encontrar el máximo\n",
    "max_distance = max(distances)\n",
    "# Encontrar el mínimo\n",
    "min_distance = min(distances)"
   ]
  },
  {
   "cell_type": "code",
   "execution_count": null,
   "id": "4e72b6a3-62d3-44d7-8420-3362d8c3553b",
   "metadata": {
    "tags": []
   },
   "outputs": [],
   "source": [
    "max_distance"
   ]
  },
  {
   "cell_type": "code",
   "execution_count": null,
   "id": "4805ed2b-786f-48dd-881d-323fae0cc37a",
   "metadata": {
    "tags": []
   },
   "outputs": [],
   "source": [
    "min_distance"
   ]
  },
  {
   "cell_type": "code",
   "execution_count": null,
   "id": "594feb8d-92ac-40e1-88a2-d10fc03d98ff",
   "metadata": {
    "tags": []
   },
   "outputs": [],
   "source": [
    "campsite = df_campsites.iloc[100]"
   ]
  },
  {
   "cell_type": "code",
   "execution_count": null,
   "id": "9a3ecddb-153f-40ad-9322-236216bab860",
   "metadata": {
    "tags": []
   },
   "outputs": [],
   "source": [
    "nearby_coworks = find_nearby_coworks(campsite, df_cowork, 1)"
   ]
  },
  {
   "cell_type": "code",
   "execution_count": null,
   "id": "1ad78eaf-248b-41f9-9f0d-1765309d4469",
   "metadata": {
    "tags": []
   },
   "outputs": [],
   "source": [
    "campsite"
   ]
  },
  {
   "cell_type": "code",
   "execution_count": null,
   "id": "e65e5e61-0226-4785-a878-3f5a38886417",
   "metadata": {
    "tags": []
   },
   "outputs": [],
   "source": [
    "nearby_coworks"
   ]
  },
  {
   "cell_type": "code",
   "execution_count": null,
   "id": "ae19bb84-8e87-4503-b7df-cf4ece63071f",
   "metadata": {},
   "outputs": [],
   "source": []
  },
  {
   "cell_type": "code",
   "execution_count": null,
   "id": "6c17d7f4-0cb2-4b55-90b0-29787e54b5b9",
   "metadata": {},
   "outputs": [],
   "source": [
    "for cluster_id in np.unique(dbscan.labels_):\n",
    "    if cluster_id == -1:\n",
    "        continue  # Exclude noise\n",
    "    cluster_members = df[df['cluster'] == cluster_id]\n",
    "    print(f\"Cluster ID: {cluster_id}\")\n",
    "    \n",
    "    # Example: Find the average distance and ratings, and count characteristics\n",
    "    avg_distance = cluster_members['distance'].mean()\n",
    "    avg_rating = cluster_members['rating'].mean()\n",
    "    wild_count = cluster_members['wild'].sum()\n",
    "    beach_count = cluster_members['Beach'].sum()\n",
    "    \n",
    "    print(f\"Average Distance: {avg_distance}, Average Rating: {avg_rating}\")\n",
    "    print(f\"Wild: {wild_count}, Beach: {beach_count}\")\n",
    "    \n",
    "    # Further analysis based on 'type' or other factors here\n",
    "    print(cluster_members, \"\\n\")"
   ]
  },
  {
   "cell_type": "code",
   "execution_count": null,
   "id": "52351a03-6c8c-4238-bee2-1303c5de843e",
   "metadata": {},
   "outputs": [],
   "source": []
  },
  {
   "cell_type": "code",
   "execution_count": null,
   "id": "35d42c82-2243-48dc-8d89-0dcb443cb8a6",
   "metadata": {},
   "outputs": [],
   "source": []
  },
  {
   "cell_type": "code",
   "execution_count": null,
   "id": "e5f6df50-8589-4311-a2ef-8e784caed2a7",
   "metadata": {},
   "outputs": [],
   "source": []
  },
  {
   "cell_type": "code",
   "execution_count": null,
   "id": "556335ef-7d93-47bf-99c6-2eca2226c9c9",
   "metadata": {},
   "outputs": [],
   "source": [
    "# Assuming you add results to your dataframe or a separate list\n",
    "df_campsites['nearby_coworks_count'] = df_campsites.apply(lambda x: len(find_nearby_coworks(x, df_cowork, 1)), axis=1)\n",
    "\n",
    "# Recommend campsites with at least one coworking space nearby\n",
    "recommended_campsites = df_campsites[df_campsites['nearby_coworks_count'] > 0]"
   ]
  },
  {
   "cell_type": "code",
   "execution_count": null,
   "id": "0aa05eea-fc8a-47f8-ac99-f2358591e702",
   "metadata": {},
   "outputs": [],
   "source": []
  },
  {
   "cell_type": "code",
   "execution_count": null,
   "id": "5529b2bc-76b5-4855-af82-552abeb1af5d",
   "metadata": {},
   "outputs": [],
   "source": []
  },
  {
   "cell_type": "code",
   "execution_count": null,
   "id": "4c9b9713-092d-4ee3-81f6-006f0abe9697",
   "metadata": {},
   "outputs": [],
   "source": []
  },
  {
   "cell_type": "code",
   "execution_count": null,
   "id": "91720ce1-cc2e-41ec-8321-432871fb2c45",
   "metadata": {},
   "outputs": [],
   "source": []
  },
  {
   "cell_type": "code",
   "execution_count": null,
   "id": "575d29f8-a9f7-42e3-89a7-45dcfef14bb6",
   "metadata": {},
   "outputs": [],
   "source": []
  },
  {
   "cell_type": "code",
   "execution_count": null,
   "id": "ae127482-a0ab-48dd-a263-e18ba691b667",
   "metadata": {},
   "outputs": [],
   "source": []
  },
  {
   "cell_type": "code",
   "execution_count": null,
   "id": "ad26c43f-a2ca-4db5-aa98-ce30f7424fe0",
   "metadata": {},
   "outputs": [],
   "source": []
  },
  {
   "cell_type": "code",
   "execution_count": null,
   "id": "4670ab84-9f32-4ef4-8430-b5bebf3ef969",
   "metadata": {},
   "outputs": [],
   "source": []
  },
  {
   "cell_type": "code",
   "execution_count": null,
   "id": "6e8d0da7-bad4-4880-900c-b0c312c9ef4d",
   "metadata": {
    "tags": []
   },
   "outputs": [],
   "source": []
  },
  {
   "cell_type": "code",
   "execution_count": null,
   "id": "46a67d37-122a-4b54-b012-f9d14e114069",
   "metadata": {},
   "outputs": [],
   "source": [
    "# Calculate silhouette score, only if more than 1 cluster and noise exists\n",
    "\n",
    "if len(np.unique(dbscan_campsites.labels_)) > 1:\n",
    "    silhouette_avg = silhouette_score(Xca, dbscan_campsites.labels_)\n",
    "    print(\"Silhouette Score:\", silhouette_avg)\n",
    "else:\n",
    "    print(\"Not enough clusters to compute the silhouette score.\")"
   ]
  },
  {
   "cell_type": "code",
   "execution_count": null,
   "id": "31ce5918-a9a4-45bb-8cb6-7fc81f08ae99",
   "metadata": {
    "tags": []
   },
   "outputs": [],
   "source": [
    "df_campsites['cluster'].value_counts()"
   ]
  },
  {
   "cell_type": "code",
   "execution_count": null,
   "id": "fed2f1a0-0dd5-455e-a2e6-0d2da2884f31",
   "metadata": {
    "tags": []
   },
   "outputs": [],
   "source": [
    "# SPA Modification\n",
    "\n",
    "# Initialize and fit DBSCAN for campsites\n",
    "\n",
    "dbscan_campsites_spa = DBSCAN(eps=50, min_samples=16, metric = 'manhattan').fit(Xca)\n",
    "\n",
    "# Assign cluster labels\n",
    "df_campsites['cluster'] = dbscan_campsites_spa.labels_\n",
    "\n"
   ]
  },
  {
   "cell_type": "code",
   "execution_count": null,
   "id": "59019024-9a8b-4c6f-b0c1-b5b10999262a",
   "metadata": {
    "tags": []
   },
   "outputs": [],
   "source": [
    "# Calculate silhouette score, only if more than 1 cluster and noise exists\n",
    "\n",
    "if len(np.unique(dbscan_campsites_spa.labels_)) > 1:\n",
    "    silhouette_avg = silhouette_score(Xca, dbscan_campsites_spa.labels_)\n",
    "    print(\"Silhouette Score:\", silhouette_avg)\n",
    "else:\n",
    "    print(\"Not enough clusters to compute the silhouette score.\")"
   ]
  },
  {
   "cell_type": "code",
   "execution_count": null,
   "id": "f11044bd-6a21-489c-9b02-9c7f19b18267",
   "metadata": {
    "tags": []
   },
   "outputs": [],
   "source": [
    "df_campsites['cluster'].value_counts()"
   ]
  },
  {
   "cell_type": "code",
   "execution_count": null,
   "id": "b4afedb8-b741-41f0-83c3-4c80057ebebe",
   "metadata": {
    "tags": []
   },
   "outputs": [],
   "source": [
    "dffiltered = df_campsites[df_campsites[\"cluster\"] == 2]"
   ]
  },
  {
   "cell_type": "code",
   "execution_count": null,
   "id": "dac64c15-7cdb-4e9b-a94c-d99d0f134179",
   "metadata": {},
   "outputs": [],
   "source": []
  },
  {
   "cell_type": "code",
   "execution_count": null,
   "id": "00e21edf-d36d-4c9e-b2f5-de7843dc6a19",
   "metadata": {
    "tags": []
   },
   "outputs": [],
   "source": [
    "import folium\n",
    "\n",
    "# Create a map centered at an average location\n",
    "map_center = [df_campsites['latitude'].mean(), df_campsites['longitude'].mean()]\n",
    "m = folium.Map(location=map_center, zoom_start=6)\n",
    "\n",
    "# Add points to the map\n",
    "for _, row in df_campsites.iterrows():\n",
    "    if row['cluster'] != -1:  # Excluding noise points\n",
    "        folium.Marker(location=[row['latitude'], row['longitude']],\n",
    "                      popup=f'Cluster: {row[\"cluster\"]}',\n",
    "                      icon=folium.Icon(color='blue' if row['cluster'] == 0 else 'red')).add_to(m)\n",
    "\n",
    "# To display the map in a Jupyter Notebook\n",
    "m"
   ]
  },
  {
   "cell_type": "code",
   "execution_count": null,
   "id": "b7161b97-8756-4b9c-9609-fa53a746cc71",
   "metadata": {
    "tags": []
   },
   "outputs": [],
   "source": [
    "# Initialize DBSCAN with the best parameters and fit\n",
    "dbscan_optimal = DBSCAN(eps=50, min_samples=5, metric='manhattan')\n",
    "dbscan_optimal.fit(Xca)\n",
    "\n",
    "# Assign cluster labels with the best DBSCAN model\n",
    "df_campsites['cluster'] = dbscan_optimal.labels_"
   ]
  },
  {
   "cell_type": "code",
   "execution_count": null,
   "id": "41357c6d-f7dd-4444-9ae7-81e7b4d45be0",
   "metadata": {
    "tags": []
   },
   "outputs": [],
   "source": [
    "EPS: 50, Min_Samples: 5, Silhouette Score: 0.6702495784956092, Number of Clusters: 8"
   ]
  }
 ],
 "metadata": {
  "kernelspec": {
   "display_name": "Python 3 (ipykernel)",
   "language": "python",
   "name": "python3"
  },
  "language_info": {
   "codemirror_mode": {
    "name": "ipython",
    "version": 3
   },
   "file_extension": ".py",
   "mimetype": "text/x-python",
   "name": "python",
   "nbconvert_exporter": "python",
   "pygments_lexer": "ipython3",
   "version": "3.11.5"
  }
 },
 "nbformat": 4,
 "nbformat_minor": 5
}

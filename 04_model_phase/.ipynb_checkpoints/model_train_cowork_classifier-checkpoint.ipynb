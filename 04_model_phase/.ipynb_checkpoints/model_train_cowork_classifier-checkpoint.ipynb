{
 "cells": [
  {
   "cell_type": "code",
   "execution_count": 1,
   "id": "e7792a12-c2ac-47b9-a36d-c1e1dad0596a",
   "metadata": {
    "tags": []
   },
   "outputs": [],
   "source": [
    "#Basic Libraries 📚\n",
    "\n",
    "import pandas as pd\n",
    "import os\n",
    "import sys\n",
    "import matplotlib.pyplot as plt"
   ]
  },
  {
   "cell_type": "code",
   "execution_count": 2,
   "id": "d89fa87b-b769-4486-b65f-d526c54b753d",
   "metadata": {},
   "outputs": [],
   "source": [
    "# Basic Modules & Useful Installations\n",
    "\n",
    "import warnings\n",
    "warnings.simplefilter(action='ignore')\n",
    "from geopy.distance import geodesic"
   ]
  },
  {
   "cell_type": "code",
   "execution_count": 3,
   "id": "55d184cf-171c-424f-89e8-2945e4343454",
   "metadata": {
    "tags": []
   },
   "outputs": [],
   "source": [
    "# Geo Libraries 📚\n",
    "\n",
    "import pandas as pd\n",
    "import geopandas as gpd\n",
    "from shapely.geometry import Point"
   ]
  },
  {
   "cell_type": "code",
   "execution_count": 4,
   "id": "93029b7c-6fff-40f8-8b13-3ddec9f342b6",
   "metadata": {},
   "outputs": [],
   "source": [
    "# Machine Learning Libraries\n",
    "\n",
    "from sklearn.model_selection import train_test_split\n",
    "from sklearn.ensemble import RandomForestClassifier\n",
    "from sklearn.ensemble import GradientBoostingClassifier\n",
    "from sklearn.metrics import accuracy_score, classification_report\n",
    "from sklearn.preprocessing import LabelEncoder\n",
    "from sklearn.tree import DecisionTreeClassifier\n",
    "from sklearn.neighbors import KNeighborsClassifier\n",
    "from sklearn.mixture import GaussianMixture"
   ]
  },
  {
   "cell_type": "code",
   "execution_count": 5,
   "id": "dca8c023-f7cb-4a55-b941-93cb68496356",
   "metadata": {},
   "outputs": [],
   "source": [
    "# Completed Caracterization 🔧 \n",
    "\n",
    "def data_caracterization(df):\n",
    "    \n",
    "    columns = df.columns.tolist()\n",
    "    (dfrows,dfcolumns) = df.shape\n",
    "    df.reset_index()\n",
    "    print(f'Caracterization:\\n')\n",
    "    print(f'Number of Rows: {dfrows}\\n')\n",
    "    print(f'Number of Columns: {dfcolumns}\\n')\n",
    "    print(f'Columns Names/Variables/Features: {columns}\\n')\n",
    "    df.info()\n",
    "    print(f'\\n Head:\\n')\n",
    "    \n",
    "    return df.head(5)"
   ]
  },
  {
   "cell_type": "code",
   "execution_count": 6,
   "id": "c799889f-2cff-49e5-888a-e95039c9629a",
   "metadata": {},
   "outputs": [],
   "source": [
    "# Construct Wild distance\n",
    "\n",
    "def calculate_distance_row(row):\n",
    "    \n",
    "    coordinates_1 = (row['lat_buf'], row['long_buf'])\n",
    "    coordinates_2 = (row['latitude'], row['longitude'])\n",
    "    \n",
    "    return geodesic(coordinates_1, coordinates_2).kilometers"
   ]
  },
  {
   "cell_type": "code",
   "execution_count": 7,
   "id": "0f05a9c4-64c0-403c-b7c9-ac5339a214cc",
   "metadata": {
    "tags": []
   },
   "outputs": [
    {
     "name": "stdout",
     "output_type": "stream",
     "text": [
      "Current working directory is: C:\\Users\\Oscar\\Documents\\00_Ironhack\\P3_Final\n"
     ]
    }
   ],
   "source": [
    "# Construct reading relative path\n",
    "relative_path = \"my-jobcation-path/02_data_cleaning_phase/01_Preprocessing & Clean/coworkings_chars.csv\"\n",
    "relative_path2 = \"my-jobcation-path/02_data_cleaning_phase/01_Preprocessing & Clean/campsites_chars.csv\"\n",
    "\n",
    "# Change directory\n",
    "os.chdir('C:\\\\Users\\\\Oscar\\\\Documents\\\\00_Ironhack\\\\P3_Final\\\\') #Change for your own directory\n",
    "\n",
    "# Check directory\n",
    "current_directory = os.getcwd()\n",
    "print(\"Current working directory is:\", current_directory)"
   ]
  },
  {
   "cell_type": "code",
   "execution_count": 8,
   "id": "84d8c54c-b62a-409a-8d7e-1720ad19d1ba",
   "metadata": {
    "tags": []
   },
   "outputs": [],
   "source": [
    "# Construct absolute paths\n",
    "\n",
    "coworkings_path = os.path.join(current_directory, relative_path)\n",
    "campsites_path = os.path.join(current_directory, relative_path2)\n"
   ]
  },
  {
   "cell_type": "code",
   "execution_count": 9,
   "id": "82fab10a-9c30-4008-beae-1dcdd55a462d",
   "metadata": {
    "tags": []
   },
   "outputs": [
    {
     "name": "stdout",
     "output_type": "stream",
     "text": [
      "The file has been loaded successfully.\n"
     ]
    }
   ],
   "source": [
    "# Coworkings reading\n",
    "\n",
    "if os.path.exists(coworkings_path):\n",
    "    try:\n",
    "        # Try to read the CSV file\n",
    "        data = pd.read_csv(coworkings_path)\n",
    "        print(\"The file has been loaded successfully.\")\n",
    "        # Now you can work with the 'data' DataFrame\n",
    "    except Exception as e:\n",
    "        print(\"An error occurred while reading the file:\", e)\n",
    "else:\n",
    "    print(\"The file does not exist at the specified path:\", coworkings_path)"
   ]
  },
  {
   "cell_type": "code",
   "execution_count": 10,
   "id": "0f83119b-322f-49d4-b2a1-d57e64645569",
   "metadata": {
    "tags": []
   },
   "outputs": [
    {
     "name": "stdout",
     "output_type": "stream",
     "text": [
      "The file has been loaded successfully.\n"
     ]
    }
   ],
   "source": [
    "# Campsites reading\n",
    "\n",
    "if os.path.exists(campsites_path):\n",
    "    try:\n",
    "        # Try to read the CSV file\n",
    "        data2 = pd.read_csv(campsites_path)\n",
    "        print(\"The file has been loaded successfully.\")\n",
    "        # Now you can work with the 'data' DataFrame\n",
    "    except Exception as e:\n",
    "        print(\"An error occurred while reading the file:\", e)\n",
    "else:\n",
    "    print(\"The file does not exist at the specified path:\", campsites_path)"
   ]
  },
  {
   "cell_type": "code",
   "execution_count": 11,
   "id": "672cbcd4-4173-4ace-aa11-6c9eda7aa379",
   "metadata": {
    "tags": []
   },
   "outputs": [],
   "source": [
    "# Dataframe Creation\n",
    "\n",
    "dfco = data.copy()\n",
    "dfca = data2.copy()\n"
   ]
  },
  {
   "cell_type": "code",
   "execution_count": 23,
   "id": "798be586-0ea7-4793-addb-2565f9eec81e",
   "metadata": {
    "tags": []
   },
   "outputs": [
    {
     "data": {
      "text/html": [
       "<div>\n",
       "<style scoped>\n",
       "    .dataframe tbody tr th:only-of-type {\n",
       "        vertical-align: middle;\n",
       "    }\n",
       "\n",
       "    .dataframe tbody tr th {\n",
       "        vertical-align: top;\n",
       "    }\n",
       "\n",
       "    .dataframe thead th {\n",
       "        text-align: right;\n",
       "    }\n",
       "</style>\n",
       "<table border=\"1\" class=\"dataframe\">\n",
       "  <thead>\n",
       "    <tr style=\"text-align: right;\">\n",
       "      <th></th>\n",
       "      <th>name</th>\n",
       "      <th>address</th>\n",
       "      <th>city</th>\n",
       "      <th>website</th>\n",
       "      <th>schedule</th>\n",
       "      <th>rating</th>\n",
       "      <th>lat_buf</th>\n",
       "      <th>long_buf</th>\n",
       "      <th>latitude</th>\n",
       "      <th>longitude</th>\n",
       "      <th>distance_km</th>\n",
       "      <th>type</th>\n",
       "      <th>luxury</th>\n",
       "      <th>beach</th>\n",
       "      <th>wild</th>\n",
       "    </tr>\n",
       "  </thead>\n",
       "  <tbody>\n",
       "    <tr>\n",
       "      <th>0</th>\n",
       "      <td>Camping Osuna</td>\n",
       "      <td>C. Jardines de Aranjuez s/n Madrid</td>\n",
       "      <td>Madrid</td>\n",
       "      <td>http://www.campingosuna.com/</td>\n",
       "      <td>Monday: 8:00 AM – 11:30 PM Tuesday: 8:00 AM – ...</td>\n",
       "      <td>3.9</td>\n",
       "      <td>40.416775</td>\n",
       "      <td>-3.703790</td>\n",
       "      <td>40.453734</td>\n",
       "      <td>-3.603361</td>\n",
       "      <td>9.458117</td>\n",
       "      <td>City</td>\n",
       "      <td>Campsite</td>\n",
       "      <td>0</td>\n",
       "      <td>0</td>\n",
       "    </tr>\n",
       "    <tr>\n",
       "      <th>1</th>\n",
       "      <td>Camping Osuna</td>\n",
       "      <td>C. Jardines de Aranjuez s/n Madrid</td>\n",
       "      <td>Alcalá de Henares</td>\n",
       "      <td>http://www.campingosuna.com/</td>\n",
       "      <td>Monday: 8:00 AM – 11:30 PM Tuesday: 8:00 AM – ...</td>\n",
       "      <td>3.9</td>\n",
       "      <td>40.484390</td>\n",
       "      <td>-3.368802</td>\n",
       "      <td>40.453734</td>\n",
       "      <td>-3.603361</td>\n",
       "      <td>20.181317</td>\n",
       "      <td>Town</td>\n",
       "      <td>Campsite</td>\n",
       "      <td>0</td>\n",
       "      <td>0</td>\n",
       "    </tr>\n",
       "    <tr>\n",
       "      <th>2</th>\n",
       "      <td>Camping Osuna</td>\n",
       "      <td>C. Jardines de Aranjuez s/n Madrid</td>\n",
       "      <td>Fuenlabrada</td>\n",
       "      <td>http://www.campingosuna.com/</td>\n",
       "      <td>Monday: 8:00 AM – 11:30 PM Tuesday: 8:00 AM – ...</td>\n",
       "      <td>3.9</td>\n",
       "      <td>40.290206</td>\n",
       "      <td>-3.803548</td>\n",
       "      <td>40.453734</td>\n",
       "      <td>-3.603361</td>\n",
       "      <td>24.875383</td>\n",
       "      <td>Town</td>\n",
       "      <td>Campsite</td>\n",
       "      <td>0</td>\n",
       "      <td>0</td>\n",
       "    </tr>\n",
       "    <tr>\n",
       "      <th>3</th>\n",
       "      <td>Camping Osuna</td>\n",
       "      <td>C. Jardines de Aranjuez s/n Madrid</td>\n",
       "      <td>Torrejón de Ardoz</td>\n",
       "      <td>http://www.campingosuna.com/</td>\n",
       "      <td>Monday: 8:00 AM – 11:30 PM Tuesday: 8:00 AM – ...</td>\n",
       "      <td>3.9</td>\n",
       "      <td>40.456755</td>\n",
       "      <td>-3.475497</td>\n",
       "      <td>40.453734</td>\n",
       "      <td>-3.603361</td>\n",
       "      <td>10.851165</td>\n",
       "      <td>Town</td>\n",
       "      <td>Campsite</td>\n",
       "      <td>0</td>\n",
       "      <td>0</td>\n",
       "    </tr>\n",
       "    <tr>\n",
       "      <th>4</th>\n",
       "      <td>Camping Osuna</td>\n",
       "      <td>C. Jardines de Aranjuez s/n Madrid</td>\n",
       "      <td>Parla</td>\n",
       "      <td>http://www.campingosuna.com/</td>\n",
       "      <td>Monday: 8:00 AM – 11:30 PM Tuesday: 8:00 AM – ...</td>\n",
       "      <td>3.9</td>\n",
       "      <td>40.237306</td>\n",
       "      <td>-3.773987</td>\n",
       "      <td>40.453734</td>\n",
       "      <td>-3.603361</td>\n",
       "      <td>28.066198</td>\n",
       "      <td>Town</td>\n",
       "      <td>Campsite</td>\n",
       "      <td>0</td>\n",
       "      <td>0</td>\n",
       "    </tr>\n",
       "    <tr>\n",
       "      <th>...</th>\n",
       "      <td>...</td>\n",
       "      <td>...</td>\n",
       "      <td>...</td>\n",
       "      <td>...</td>\n",
       "      <td>...</td>\n",
       "      <td>...</td>\n",
       "      <td>...</td>\n",
       "      <td>...</td>\n",
       "      <td>...</td>\n",
       "      <td>...</td>\n",
       "      <td>...</td>\n",
       "      <td>...</td>\n",
       "      <td>...</td>\n",
       "      <td>...</td>\n",
       "      <td>...</td>\n",
       "    </tr>\n",
       "    <tr>\n",
       "      <th>3570</th>\n",
       "      <td>Camping Saillet</td>\n",
       "      <td>au stade le long du Gave CD 937 Lestelle-Bétha...</td>\n",
       "      <td>Pau</td>\n",
       "      <td>https://www.camping-le-saillet.com/</td>\n",
       "      <td>Monday: 9:00 AM – 8:00 PM Tuesday: 9:00 AM – 8...</td>\n",
       "      <td>4.4</td>\n",
       "      <td>43.295100</td>\n",
       "      <td>-0.370797</td>\n",
       "      <td>43.129771</td>\n",
       "      <td>-0.206368</td>\n",
       "      <td>22.713277</td>\n",
       "      <td>Village</td>\n",
       "      <td>Campsite</td>\n",
       "      <td>0</td>\n",
       "      <td>1</td>\n",
       "    </tr>\n",
       "    <tr>\n",
       "      <th>3571</th>\n",
       "      <td>Camping Elizanburu</td>\n",
       "      <td>Vge de Suhare Ossas-Suhare</td>\n",
       "      <td>Pau</td>\n",
       "      <td>http://alphadev.gitlab.io/site-camping-elizanb...</td>\n",
       "      <td>Schedule not available</td>\n",
       "      <td>4.5</td>\n",
       "      <td>43.295100</td>\n",
       "      <td>-0.370797</td>\n",
       "      <td>43.142601</td>\n",
       "      <td>-0.915795</td>\n",
       "      <td>47.411886</td>\n",
       "      <td>Village</td>\n",
       "      <td>Campsite</td>\n",
       "      <td>0</td>\n",
       "      <td>1</td>\n",
       "    </tr>\n",
       "    <tr>\n",
       "      <th>3572</th>\n",
       "      <td>Camping éco-responsable D'Arrouach Lourdes 4 é...</td>\n",
       "      <td>9 Rue des 3 Archanges Lourdes</td>\n",
       "      <td>Pau</td>\n",
       "      <td>http://www.camping-arrouach.com/</td>\n",
       "      <td>Schedule not available</td>\n",
       "      <td>4.5</td>\n",
       "      <td>43.295100</td>\n",
       "      <td>-0.370797</td>\n",
       "      <td>43.104360</td>\n",
       "      <td>-0.068011</td>\n",
       "      <td>32.475489</td>\n",
       "      <td>Village</td>\n",
       "      <td>Campsite</td>\n",
       "      <td>0</td>\n",
       "      <td>1</td>\n",
       "    </tr>\n",
       "    <tr>\n",
       "      <th>3573</th>\n",
       "      <td>Camping Saint Roch</td>\n",
       "      <td>573 route des 2 cols Campan</td>\n",
       "      <td>Pau</td>\n",
       "      <td>http://www.camping-saint-roch.com/</td>\n",
       "      <td>Monday: 9:00 AM – 7:00 PM Tuesday: 9:00 AM – 7...</td>\n",
       "      <td>3.9</td>\n",
       "      <td>43.295100</td>\n",
       "      <td>-0.370797</td>\n",
       "      <td>43.007577</td>\n",
       "      <td>0.187680</td>\n",
       "      <td>55.532844</td>\n",
       "      <td>Village</td>\n",
       "      <td>Campsite</td>\n",
       "      <td>0</td>\n",
       "      <td>1</td>\n",
       "    </tr>\n",
       "    <tr>\n",
       "      <th>3574</th>\n",
       "      <td>Caravaning du Choisel</td>\n",
       "      <td>Rue Petits Champs Courcelles Saint-Cyr-sur-Morin</td>\n",
       "      <td>Aulnay-sous-Bois</td>\n",
       "      <td>https://www.campingduchoisel.com/</td>\n",
       "      <td>Monday: 9:00 AM – 7:00 PM Tuesday: 9:00 AM – 7...</td>\n",
       "      <td>4.3</td>\n",
       "      <td>48.941215</td>\n",
       "      <td>2.497071</td>\n",
       "      <td>48.907573</td>\n",
       "      <td>3.155037</td>\n",
       "      <td>48.362166</td>\n",
       "      <td>Village</td>\n",
       "      <td>Camper</td>\n",
       "      <td>0</td>\n",
       "      <td>1</td>\n",
       "    </tr>\n",
       "  </tbody>\n",
       "</table>\n",
       "<p>3575 rows × 15 columns</p>\n",
       "</div>"
      ],
      "text/plain": [
       "                                                   name  \\\n",
       "0                                         Camping Osuna   \n",
       "1                                         Camping Osuna   \n",
       "2                                         Camping Osuna   \n",
       "3                                         Camping Osuna   \n",
       "4                                         Camping Osuna   \n",
       "...                                                 ...   \n",
       "3570                                    Camping Saillet   \n",
       "3571                                 Camping Elizanburu   \n",
       "3572  Camping éco-responsable D'Arrouach Lourdes 4 é...   \n",
       "3573                                 Camping Saint Roch   \n",
       "3574                              Caravaning du Choisel   \n",
       "\n",
       "                                                address               city  \\\n",
       "0                    C. Jardines de Aranjuez s/n Madrid             Madrid   \n",
       "1                    C. Jardines de Aranjuez s/n Madrid  Alcalá de Henares   \n",
       "2                    C. Jardines de Aranjuez s/n Madrid        Fuenlabrada   \n",
       "3                    C. Jardines de Aranjuez s/n Madrid  Torrejón de Ardoz   \n",
       "4                    C. Jardines de Aranjuez s/n Madrid              Parla   \n",
       "...                                                 ...                ...   \n",
       "3570  au stade le long du Gave CD 937 Lestelle-Bétha...                Pau   \n",
       "3571                         Vge de Suhare Ossas-Suhare                Pau   \n",
       "3572                      9 Rue des 3 Archanges Lourdes                Pau   \n",
       "3573                        573 route des 2 cols Campan                Pau   \n",
       "3574   Rue Petits Champs Courcelles Saint-Cyr-sur-Morin   Aulnay-sous-Bois   \n",
       "\n",
       "                                                website  \\\n",
       "0                          http://www.campingosuna.com/   \n",
       "1                          http://www.campingosuna.com/   \n",
       "2                          http://www.campingosuna.com/   \n",
       "3                          http://www.campingosuna.com/   \n",
       "4                          http://www.campingosuna.com/   \n",
       "...                                                 ...   \n",
       "3570                https://www.camping-le-saillet.com/   \n",
       "3571  http://alphadev.gitlab.io/site-camping-elizanb...   \n",
       "3572                   http://www.camping-arrouach.com/   \n",
       "3573                 http://www.camping-saint-roch.com/   \n",
       "3574                  https://www.campingduchoisel.com/   \n",
       "\n",
       "                                               schedule  rating    lat_buf  \\\n",
       "0     Monday: 8:00 AM – 11:30 PM Tuesday: 8:00 AM – ...     3.9  40.416775   \n",
       "1     Monday: 8:00 AM – 11:30 PM Tuesday: 8:00 AM – ...     3.9  40.484390   \n",
       "2     Monday: 8:00 AM – 11:30 PM Tuesday: 8:00 AM – ...     3.9  40.290206   \n",
       "3     Monday: 8:00 AM – 11:30 PM Tuesday: 8:00 AM – ...     3.9  40.456755   \n",
       "4     Monday: 8:00 AM – 11:30 PM Tuesday: 8:00 AM – ...     3.9  40.237306   \n",
       "...                                                 ...     ...        ...   \n",
       "3570  Monday: 9:00 AM – 8:00 PM Tuesday: 9:00 AM – 8...     4.4  43.295100   \n",
       "3571                             Schedule not available     4.5  43.295100   \n",
       "3572                             Schedule not available     4.5  43.295100   \n",
       "3573  Monday: 9:00 AM – 7:00 PM Tuesday: 9:00 AM – 7...     3.9  43.295100   \n",
       "3574  Monday: 9:00 AM – 7:00 PM Tuesday: 9:00 AM – 7...     4.3  48.941215   \n",
       "\n",
       "      long_buf   latitude  longitude  distance_km     type    luxury  beach  \\\n",
       "0    -3.703790  40.453734  -3.603361     9.458117     City  Campsite      0   \n",
       "1    -3.368802  40.453734  -3.603361    20.181317     Town  Campsite      0   \n",
       "2    -3.803548  40.453734  -3.603361    24.875383     Town  Campsite      0   \n",
       "3    -3.475497  40.453734  -3.603361    10.851165     Town  Campsite      0   \n",
       "4    -3.773987  40.453734  -3.603361    28.066198     Town  Campsite      0   \n",
       "...        ...        ...        ...          ...      ...       ...    ...   \n",
       "3570 -0.370797  43.129771  -0.206368    22.713277  Village  Campsite      0   \n",
       "3571 -0.370797  43.142601  -0.915795    47.411886  Village  Campsite      0   \n",
       "3572 -0.370797  43.104360  -0.068011    32.475489  Village  Campsite      0   \n",
       "3573 -0.370797  43.007577   0.187680    55.532844  Village  Campsite      0   \n",
       "3574  2.497071  48.907573   3.155037    48.362166  Village    Camper      0   \n",
       "\n",
       "      wild  \n",
       "0        0  \n",
       "1        0  \n",
       "2        0  \n",
       "3        0  \n",
       "4        0  \n",
       "...    ...  \n",
       "3570     1  \n",
       "3571     1  \n",
       "3572     1  \n",
       "3573     1  \n",
       "3574     1  \n",
       "\n",
       "[3575 rows x 15 columns]"
      ]
     },
     "execution_count": 23,
     "metadata": {},
     "output_type": "execute_result"
    }
   ],
   "source": [
    "dfca"
   ]
  },
  {
   "cell_type": "markdown",
   "id": "a7df7f0f-6d9a-4ebf-a523-7ff094a81280",
   "metadata": {},
   "source": [
    "## POINTS AND DISTANCES"
   ]
  },
  {
   "cell_type": "code",
   "execution_count": null,
   "id": "689d2323-0543-47aa-9020-2e0d01913c38",
   "metadata": {},
   "outputs": [],
   "source": [
    "geometry = [Point(xy) for xy in zip(df['X'], df['Y'])]"
   ]
  },
  {
   "cell_type": "markdown",
   "id": "159444cc-27d2-4af6-9cc6-05b1643ed8a8",
   "metadata": {
    "tags": []
   },
   "source": [
    "## ENCODING"
   ]
  },
  {
   "cell_type": "markdown",
   "id": "040e5b7e-78b0-4a46-bc34-0708940e04a9",
   "metadata": {},
   "source": [
    "Random Forest ---> the one we will choose, because I understand it better than gradient boosting."
   ]
  },
  {
   "cell_type": "code",
   "execution_count": null,
   "id": "4f16e837-468e-4c06-95f6-aceaaa037819",
   "metadata": {},
   "outputs": [],
   "source": [
    "X_content = df[[\"age_encoded\", \"way_travel_encoded\", \"sentiment_encoded\", \"destination_encoded\", \"rating\"]]\n",
    "y_content = df[\"cat_sites_reduced_encoded\"]\n",
    "\n",
    "X_train_content, X_test_content, y_train_content, y_test_content = train_test_split(X_content, y_content, test_size=0.2, random_state=42)"
   ]
  },
  {
   "cell_type": "code",
   "execution_count": null,
   "id": "79db7b7c-5a1b-4d17-a267-8baeb27d0dfe",
   "metadata": {},
   "outputs": [],
   "source": [
    "rf_content = RandomForestClassifier(n_estimators=100, random_state=42)\n",
    "\n",
    "rf_content.fit(X_train_content, y_train_content)\n",
    "\n",
    "y_pred_rf = rf_content.predict(X_test_content)\n",
    "accuracy_rf = accuracy_score(y_test_content, y_pred_rf)\n",
    "print(f'Random Forest - Accuracy: {accuracy_rf:.3f}')"
   ]
  },
  {
   "cell_type": "code",
   "execution_count": null,
   "id": "d8ddda8c-bf21-4d15-ada1-b1c0e5551f64",
   "metadata": {},
   "outputs": [],
   "source": [
    "# Generating the classification report\n",
    "classification_rep = classification_report(y_test_content, y_pred_rf)\n",
    "\n",
    "print(\"Random Forest Classification Report:\")\n",
    "print(classification_rep)"
   ]
  },
  {
   "cell_type": "markdown",
   "id": "b36001e9-7cb9-4c34-9c6d-0d6a154a84c9",
   "metadata": {},
   "source": [
    "Decision Tree"
   ]
  },
  {
   "cell_type": "code",
   "execution_count": null,
   "id": "3b7519ef-1e57-4c4c-9091-3f1d6f77dd72",
   "metadata": {},
   "outputs": [],
   "source": [
    "dt_model = DecisionTreeClassifier(random_state=42)\n",
    "dt_model.fit(X_train_content, y_train_content)\n",
    "\n",
    "y_pred_dt = dt_model.predict(X_test_content)\n",
    "\n",
    "accuracy_dt = accuracy_score(y_test_content, y_pred_dt)\n",
    "print(\"Decision Tree Accuracy:\", accuracy_dt)"
   ]
  },
  {
   "cell_type": "markdown",
   "id": "3237d2fa-b163-489e-9a65-ecba3b577b9d",
   "metadata": {},
   "source": [
    "Naïve Bayes"
   ]
  },
  {
   "cell_type": "code",
   "execution_count": null,
   "id": "9ee124e1-0401-4095-9b8f-ce89fcab2530",
   "metadata": {},
   "outputs": [],
   "source": [
    "nb_model = GaussianNB()\n",
    "nb_model.fit(X_train_content, y_train_content)\n",
    "\n",
    "y_pred_nb = nb_model.predict(X_test_content)\n",
    "\n",
    "accuracy_nb = accuracy_score(y_test_content, y_pred_nb)\n",
    "print(\"Naive Bayes Accuracy:\", accuracy_nb)"
   ]
  },
  {
   "cell_type": "markdown",
   "id": "a8d48175-a2d9-41c9-9721-cb3609c3dfcd",
   "metadata": {},
   "source": [
    "Gradient boosting"
   ]
  },
  {
   "cell_type": "code",
   "execution_count": null,
   "id": "9d51bc37-0344-499e-84b5-57867550a200",
   "metadata": {},
   "outputs": [],
   "source": [
    "\n",
    "gradient_boosting_classifier = GradientBoostingClassifier()\n",
    "\n",
    "gradient_boosting_classifier.fit(X_train_content, y_train_content)\n",
    "\n",
    "y_pred_gb = gradient_boosting_classifier.predict(X_test_content)\n",
    "\n",
    "accuracy_gb = accuracy_score(y_test_content, y_pred_gb)\n",
    "\n",
    "print(f'Gradient Boosting - Accuracy: {accuracy_gb:.2f}')"
   ]
  },
  {
   "cell_type": "markdown",
   "id": "c41a4e21-9c22-4a24-a04d-7b5ea496fd9b",
   "metadata": {},
   "source": [
    "KNN"
   ]
  },
  {
   "cell_type": "code",
   "execution_count": null,
   "id": "aa17ba01-c4fa-4617-9f4e-69fb37f85770",
   "metadata": {},
   "outputs": [],
   "source": [
    "knn_classifier = KNeighborsClassifier()\n",
    "\n",
    "knn_classifier.fit(X_train_content, y_train_content)\n",
    "\n",
    "y_pred_knn = knn_classifier.predict(X_test_content)\n",
    "\n",
    "accuracy_knn = accuracy_score(y_test_content, y_pred_knn)\n",
    "\n",
    "print(f'K-Nearest Neighbors - Accuracy: {accuracy_knn:.2f}')"
   ]
  },
  {
   "cell_type": "markdown",
   "id": "056ca84a-e752-4730-a2c3-9b969732e7d6",
   "metadata": {},
   "source": [
    "Gaussian mixture"
   ]
  },
  {
   "cell_type": "code",
   "execution_count": null,
   "id": "0da9fad5-f46f-4513-ba1d-966f2af93469",
   "metadata": {},
   "outputs": [],
   "source": [
    "n_components = 4  # Set the number of components (clusters) in the GMM\n",
    "gmm_model = GaussianMixture(n_components=n_components, random_state=42)\n",
    "gmm_model.fit(X_train_content)\n",
    "\n",
    "y_pred_gmm = gmm_model.predict(X_test_content)\n",
    "\n",
    "# GMM is an unsupervised algorithm, so there's no accuracy score to calculate.\n",
    "# Instead, GMM is used for clustering and density estimation tasks.\n",
    "# You can use metrics like AIC, BIC, or silhouette score to evaluate the quality of the clustering.\n",
    "\n",
    "# Example of AIC (Akaike Information Criterion) to evaluate the GMM\n",
    "aic_score = gmm_model.aic(X_train_content)\n",
    "print(\"AIC Score:\", aic_score)\n",
    "\n",
    "# Example of BIC (Bayesian Information Criterion) to evaluate the GMM\n",
    "bic_score = gmm_model.bic(X_train_content)\n",
    "print(\"BIC Score:\", bic_score)"
   ]
  },
  {
   "cell_type": "markdown",
   "id": "f368ab99-c3f7-4624-a993-cb86f58a554f",
   "metadata": {},
   "source": [
    "XGBBOOST"
   ]
  },
  {
   "cell_type": "code",
   "execution_count": null,
   "id": "13fd5428-8ac8-4662-9eb9-450919396a6a",
   "metadata": {},
   "outputs": [],
   "source": [
    "from xgboost import XGBClassifier\n",
    "\n",
    "xgb_classifier = XGBClassifier()\n",
    "xgb_classifier.fit(X_train, y_train)\n",
    "\n",
    "y_pred = xgb_classifier.predict_proba(X_test)[:,1]\n",
    "\n",
    "mide_error('XGBboost', y_pred)"
   ]
  },
  {
   "cell_type": "markdown",
   "id": "501e8da4-ea93-40fc-b8c0-dae6cefef72c",
   "metadata": {},
   "source": [
    "LIGHTGBOST (Más rápido) (Classifier o regresor)"
   ]
  },
  {
   "cell_type": "code",
   "execution_count": null,
   "id": "1ae8e58c-b28c-43ee-9d8d-853e7fb90dd0",
   "metadata": {},
   "outputs": [],
   "source": []
  },
  {
   "cell_type": "code",
   "execution_count": null,
   "id": "7b648dc4-faf5-4cae-b522-8d4ad353234e",
   "metadata": {
    "tags": []
   },
   "outputs": [],
   "source": [
    "# Construct reading relative path\n",
    "relative_path8 = \"my-jobcation-path/02_data_cleaning_phase/01_Preprocessing & Clean/coworkings_chars.csv\"\n",
    "relative_path9 = \"my-jobcation-path/02_data_cleaning_phase/01_Preprocessing & Clean/campsites_chars.csv\"\n",
    "\n",
    "# Construct absolute paths\n",
    "coworkings_save_path = os.path.join(current_directory, relative_path8)\n",
    "campsites_save_path = os.path.join(current_directory, relative_path9)"
   ]
  },
  {
   "cell_type": "code",
   "execution_count": null,
   "id": "437c95fb-f608-40c3-9fe8-2f5d0a85cd0f",
   "metadata": {
    "tags": []
   },
   "outputs": [],
   "source": [
    "# Save and Encoding \n",
    "\n",
    "dfcoworks.to_csv(coworkings_save_path, index=False, encoding='utf-8')\n",
    "dfcamps.to_csv(campsites_save_path, index=False, encoding='utf-8')"
   ]
  }
 ],
 "metadata": {
  "kernelspec": {
   "display_name": "Python 3 (ipykernel)",
   "language": "python",
   "name": "python3"
  },
  "language_info": {
   "codemirror_mode": {
    "name": "ipython",
    "version": 3
   },
   "file_extension": ".py",
   "mimetype": "text/x-python",
   "name": "python",
   "nbconvert_exporter": "python",
   "pygments_lexer": "ipython3",
   "version": "3.11.5"
  }
 },
 "nbformat": 4,
 "nbformat_minor": 5
}

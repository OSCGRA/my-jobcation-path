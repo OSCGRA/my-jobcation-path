{
 "cells": [
  {
   "cell_type": "code",
   "execution_count": 1,
   "id": "c51623b4-bf3f-4e93-966e-ab15ac78cfcf",
   "metadata": {
    "collapsed": true,
    "jupyter": {
     "outputs_hidden": true
    },
    "tags": []
   },
   "outputs": [
    {
     "name": "stdout",
     "output_type": "stream",
     "text": [
      "Requirement already satisfied: tensorflow in c:\\users\\oscar\\anaconda3\\lib\\site-packages (2.16.1)\n",
      "Requirement already satisfied: tensorflow-intel==2.16.1 in c:\\users\\oscar\\anaconda3\\lib\\site-packages (from tensorflow) (2.16.1)\n",
      "Requirement already satisfied: absl-py>=1.0.0 in c:\\users\\oscar\\anaconda3\\lib\\site-packages (from tensorflow-intel==2.16.1->tensorflow) (2.1.0)\n",
      "Requirement already satisfied: astunparse>=1.6.0 in c:\\users\\oscar\\anaconda3\\lib\\site-packages (from tensorflow-intel==2.16.1->tensorflow) (1.6.3)\n",
      "Requirement already satisfied: flatbuffers>=23.5.26 in c:\\users\\oscar\\anaconda3\\lib\\site-packages (from tensorflow-intel==2.16.1->tensorflow) (24.3.7)\n",
      "Requirement already satisfied: gast!=0.5.0,!=0.5.1,!=0.5.2,>=0.2.1 in c:\\users\\oscar\\anaconda3\\lib\\site-packages (from tensorflow-intel==2.16.1->tensorflow) (0.5.4)\n",
      "Requirement already satisfied: google-pasta>=0.1.1 in c:\\users\\oscar\\anaconda3\\lib\\site-packages (from tensorflow-intel==2.16.1->tensorflow) (0.2.0)\n",
      "Requirement already satisfied: h5py>=3.10.0 in c:\\users\\oscar\\anaconda3\\lib\\site-packages (from tensorflow-intel==2.16.1->tensorflow) (3.10.0)\n",
      "Requirement already satisfied: libclang>=13.0.0 in c:\\users\\oscar\\anaconda3\\lib\\site-packages (from tensorflow-intel==2.16.1->tensorflow) (18.1.1)\n",
      "Requirement already satisfied: ml-dtypes~=0.3.1 in c:\\users\\oscar\\anaconda3\\lib\\site-packages (from tensorflow-intel==2.16.1->tensorflow) (0.3.2)\n",
      "Requirement already satisfied: opt-einsum>=2.3.2 in c:\\users\\oscar\\anaconda3\\lib\\site-packages (from tensorflow-intel==2.16.1->tensorflow) (3.3.0)\n",
      "Requirement already satisfied: packaging in c:\\users\\oscar\\anaconda3\\lib\\site-packages (from tensorflow-intel==2.16.1->tensorflow) (23.1)\n",
      "Requirement already satisfied: protobuf!=4.21.0,!=4.21.1,!=4.21.2,!=4.21.3,!=4.21.4,!=4.21.5,<5.0.0dev,>=3.20.3 in c:\\users\\oscar\\anaconda3\\lib\\site-packages (from tensorflow-intel==2.16.1->tensorflow) (4.25.3)\n",
      "Requirement already satisfied: requests<3,>=2.21.0 in c:\\users\\oscar\\anaconda3\\lib\\site-packages (from tensorflow-intel==2.16.1->tensorflow) (2.31.0)\n",
      "Requirement already satisfied: setuptools in c:\\users\\oscar\\anaconda3\\lib\\site-packages (from tensorflow-intel==2.16.1->tensorflow) (68.0.0)\n",
      "Requirement already satisfied: six>=1.12.0 in c:\\users\\oscar\\anaconda3\\lib\\site-packages (from tensorflow-intel==2.16.1->tensorflow) (1.16.0)\n",
      "Requirement already satisfied: termcolor>=1.1.0 in c:\\users\\oscar\\anaconda3\\lib\\site-packages (from tensorflow-intel==2.16.1->tensorflow) (2.4.0)\n",
      "Requirement already satisfied: typing-extensions>=3.6.6 in c:\\users\\oscar\\anaconda3\\lib\\site-packages (from tensorflow-intel==2.16.1->tensorflow) (4.5.0)\n",
      "Requirement already satisfied: wrapt>=1.11.0 in c:\\users\\oscar\\anaconda3\\lib\\site-packages (from tensorflow-intel==2.16.1->tensorflow) (1.14.1)\n",
      "Requirement already satisfied: grpcio<2.0,>=1.24.3 in c:\\users\\oscar\\anaconda3\\lib\\site-packages (from tensorflow-intel==2.16.1->tensorflow) (1.62.1)\n",
      "Requirement already satisfied: tensorboard<2.17,>=2.16 in c:\\users\\oscar\\anaconda3\\lib\\site-packages (from tensorflow-intel==2.16.1->tensorflow) (2.16.2)\n",
      "Requirement already satisfied: keras>=3.0.0 in c:\\users\\oscar\\anaconda3\\lib\\site-packages (from tensorflow-intel==2.16.1->tensorflow) (3.1.0)\n",
      "Requirement already satisfied: tensorflow-io-gcs-filesystem>=0.23.1 in c:\\users\\oscar\\anaconda3\\lib\\site-packages (from tensorflow-intel==2.16.1->tensorflow) (0.31.0)\n",
      "Requirement already satisfied: numpy<2.0.0,>=1.23.5 in c:\\users\\oscar\\anaconda3\\lib\\site-packages (from tensorflow-intel==2.16.1->tensorflow) (1.24.2)\n",
      "Requirement already satisfied: wheel<1.0,>=0.23.0 in c:\\users\\oscar\\anaconda3\\lib\\site-packages (from astunparse>=1.6.0->tensorflow-intel==2.16.1->tensorflow) (0.38.4)\n",
      "Requirement already satisfied: rich in c:\\users\\oscar\\anaconda3\\lib\\site-packages (from keras>=3.0.0->tensorflow-intel==2.16.1->tensorflow) (13.7.1)\n",
      "Requirement already satisfied: namex in c:\\users\\oscar\\anaconda3\\lib\\site-packages (from keras>=3.0.0->tensorflow-intel==2.16.1->tensorflow) (0.0.7)\n",
      "Requirement already satisfied: optree in c:\\users\\oscar\\anaconda3\\lib\\site-packages (from keras>=3.0.0->tensorflow-intel==2.16.1->tensorflow) (0.10.0)\n",
      "Requirement already satisfied: charset-normalizer<4,>=2 in c:\\users\\oscar\\anaconda3\\lib\\site-packages (from requests<3,>=2.21.0->tensorflow-intel==2.16.1->tensorflow) (2.0.4)\n",
      "Requirement already satisfied: idna<4,>=2.5 in c:\\users\\oscar\\anaconda3\\lib\\site-packages (from requests<3,>=2.21.0->tensorflow-intel==2.16.1->tensorflow) (3.4)\n",
      "Requirement already satisfied: urllib3<3,>=1.21.1 in c:\\users\\oscar\\anaconda3\\lib\\site-packages (from requests<3,>=2.21.0->tensorflow-intel==2.16.1->tensorflow) (1.26.16)\n",
      "Requirement already satisfied: certifi>=2017.4.17 in c:\\users\\oscar\\anaconda3\\lib\\site-packages (from requests<3,>=2.21.0->tensorflow-intel==2.16.1->tensorflow) (2024.2.2)\n",
      "Requirement already satisfied: markdown>=2.6.8 in c:\\users\\oscar\\anaconda3\\lib\\site-packages (from tensorboard<2.17,>=2.16->tensorflow-intel==2.16.1->tensorflow) (3.4.1)\n",
      "Requirement already satisfied: tensorboard-data-server<0.8.0,>=0.7.0 in c:\\users\\oscar\\anaconda3\\lib\\site-packages (from tensorboard<2.17,>=2.16->tensorflow-intel==2.16.1->tensorflow) (0.7.2)\n",
      "Requirement already satisfied: werkzeug>=1.0.1 in c:\\users\\oscar\\anaconda3\\lib\\site-packages (from tensorboard<2.17,>=2.16->tensorflow-intel==2.16.1->tensorflow) (2.2.3)\n",
      "Requirement already satisfied: MarkupSafe>=2.1.1 in c:\\users\\oscar\\anaconda3\\lib\\site-packages (from werkzeug>=1.0.1->tensorboard<2.17,>=2.16->tensorflow-intel==2.16.1->tensorflow) (2.1.1)\n",
      "Requirement already satisfied: markdown-it-py>=2.2.0 in c:\\users\\oscar\\anaconda3\\lib\\site-packages (from rich->keras>=3.0.0->tensorflow-intel==2.16.1->tensorflow) (2.2.0)\n",
      "Requirement already satisfied: pygments<3.0.0,>=2.13.0 in c:\\users\\oscar\\anaconda3\\lib\\site-packages (from rich->keras>=3.0.0->tensorflow-intel==2.16.1->tensorflow) (2.15.1)\n",
      "Requirement already satisfied: mdurl~=0.1 in c:\\users\\oscar\\anaconda3\\lib\\site-packages (from markdown-it-py>=2.2.0->rich->keras>=3.0.0->tensorflow-intel==2.16.1->tensorflow) (0.1.0)\n",
      "Note: you may need to restart the kernel to use updated packages.\n"
     ]
    }
   ],
   "source": [
    "pip install  tensorflow"
   ]
  },
  {
   "cell_type": "code",
   "execution_count": 2,
   "id": "e7792a12-c2ac-47b9-a36d-c1e1dad0596a",
   "metadata": {
    "collapsed": true,
    "jupyter": {
     "outputs_hidden": true
    },
    "tags": []
   },
   "outputs": [],
   "source": [
    "#Basic Libraries 📚\n",
    "\n",
    "import pandas as pd\n",
    "import numpy as np\n",
    "import os\n",
    "import sys\n",
    "import matplotlib.pyplot as plt"
   ]
  },
  {
   "cell_type": "code",
   "execution_count": 3,
   "id": "d89fa87b-b769-4486-b65f-d526c54b753d",
   "metadata": {
    "collapsed": true,
    "jupyter": {
     "outputs_hidden": true
    }
   },
   "outputs": [],
   "source": [
    "# Basic Modules & Useful Installations\n",
    "\n",
    "import warnings\n",
    "warnings.simplefilter(action='ignore')\n",
    "from geopy.distance import geodesic"
   ]
  },
  {
   "cell_type": "code",
   "execution_count": 4,
   "id": "55d184cf-171c-424f-89e8-2945e4343454",
   "metadata": {
    "collapsed": true,
    "jupyter": {
     "outputs_hidden": true
    },
    "tags": []
   },
   "outputs": [],
   "source": [
    "# Geo Libraries 📚\n",
    "\n",
    "import pandas as pd\n",
    "import geopandas as gpd\n",
    "from shapely.geometry import Point"
   ]
  },
  {
   "cell_type": "code",
   "execution_count": 167,
   "id": "93029b7c-6fff-40f8-8b13-3ddec9f342b6",
   "metadata": {
    "tags": []
   },
   "outputs": [],
   "source": [
    "# Machine Learning Libraries\n",
    "\n",
    "from sklearn.model_selection import train_test_split\n",
    "from sklearn.multioutput import MultiOutputRegressor #This give several diferent options\n",
    "from sklearn.ensemble import GradientBoostingClassifier\n",
    "\n",
    "\n",
    "from sklearn.ensemble import RandomForestClassifier\n",
    "from sklearn.ensemble import GradientBoostingClassifier\n",
    "from sklearn.metrics import accuracy_score, classification_report\n",
    "from sklearn.preprocessing import LabelEncoder\n",
    "from sklearn.tree import DecisionTreeClassifier\n",
    "from sklearn.neighbors import KNeighborsClassifier\n",
    "from sklearn.mixture import GaussianMixture"
   ]
  },
  {
   "cell_type": "code",
   "execution_count": 6,
   "id": "470e4918-649e-4d3b-a8d8-bf8768d36b1b",
   "metadata": {
    "collapsed": true,
    "jupyter": {
     "outputs_hidden": true
    }
   },
   "outputs": [],
   "source": [
    "# Neural Networks\n",
    "\n",
    "import tensorflow as tf\n",
    "from tensorflow import keras"
   ]
  },
  {
   "cell_type": "code",
   "execution_count": 7,
   "id": "dca8c023-f7cb-4a55-b941-93cb68496356",
   "metadata": {
    "collapsed": true,
    "jupyter": {
     "outputs_hidden": true
    }
   },
   "outputs": [],
   "source": [
    "# Completed Caracterization 🔧 \n",
    "\n",
    "def data_caracterization(df):\n",
    "    \n",
    "    columns = df.columns.tolist()\n",
    "    (dfrows,dfcolumns) = df.shape\n",
    "    df.reset_index()\n",
    "    print(f'Caracterization:\\n')\n",
    "    print(f'Number of Rows: {dfrows}\\n')\n",
    "    print(f'Number of Columns: {dfcolumns}\\n')\n",
    "    print(f'Columns Names/Variables/Features: {columns}\\n')\n",
    "    df.info()\n",
    "    print(f'\\n Head:\\n')\n",
    "    \n",
    "    return df.head(5)"
   ]
  },
  {
   "cell_type": "code",
   "execution_count": 8,
   "id": "c799889f-2cff-49e5-888a-e95039c9629a",
   "metadata": {
    "collapsed": true,
    "jupyter": {
     "outputs_hidden": true
    }
   },
   "outputs": [],
   "source": [
    "# Construct Wild distance\n",
    "\n",
    "def calculate_distance_row(row):\n",
    "    \n",
    "    coordinates_1 = (row['lat_buf'], row['long_buf'])\n",
    "    coordinates_2 = (row['latitude'], row['longitude'])\n",
    "    \n",
    "    return geodesic(coordinates_1, coordinates_2).kilometers"
   ]
  },
  {
   "cell_type": "code",
   "execution_count": 9,
   "id": "0f05a9c4-64c0-403c-b7c9-ac5339a214cc",
   "metadata": {
    "collapsed": true,
    "jupyter": {
     "outputs_hidden": true
    },
    "tags": []
   },
   "outputs": [
    {
     "name": "stdout",
     "output_type": "stream",
     "text": [
      "Current working directory is: C:\\Users\\Oscar\\Documents\\00_Ironhack\\P3_Final\n"
     ]
    }
   ],
   "source": [
    "# Construct reading relative path\n",
    "relative_path = \"my-jobcation-path/02_data_cleaning_phase/01_Preprocessing & Clean/campsites_chars.csv\"\n",
    "\n",
    "# Change directory\n",
    "os.chdir('C:\\\\Users\\\\Oscar\\\\Documents\\\\00_Ironhack\\\\P3_Final\\\\') #Change for your own directory\n",
    "\n",
    "# Check directory\n",
    "current_directory = os.getcwd()\n",
    "print(\"Current working directory is:\", current_directory)"
   ]
  },
  {
   "cell_type": "code",
   "execution_count": 10,
   "id": "84d8c54c-b62a-409a-8d7e-1720ad19d1ba",
   "metadata": {
    "collapsed": true,
    "jupyter": {
     "outputs_hidden": true
    },
    "tags": []
   },
   "outputs": [],
   "source": [
    "# Construct absolute paths\n",
    "\n",
    "campsites_path = os.path.join(current_directory, relative_path)"
   ]
  },
  {
   "cell_type": "code",
   "execution_count": 11,
   "id": "0f83119b-322f-49d4-b2a1-d57e64645569",
   "metadata": {
    "collapsed": true,
    "jupyter": {
     "outputs_hidden": true
    },
    "tags": []
   },
   "outputs": [
    {
     "name": "stdout",
     "output_type": "stream",
     "text": [
      "The file has been loaded successfully.\n"
     ]
    }
   ],
   "source": [
    "# Campsites reading\n",
    "\n",
    "if os.path.exists(campsites_path):\n",
    "    try:\n",
    "        # Try to read the CSV file\n",
    "        data = pd.read_csv(campsites_path)\n",
    "        print(\"The file has been loaded successfully.\")\n",
    "        # Now you can work with the 'data' DataFrame\n",
    "    except Exception as e:\n",
    "        print(\"An error occurred while reading the file:\", e)\n",
    "else:\n",
    "    print(\"The file does not exist at the specified path:\", campsites_path)"
   ]
  },
  {
   "cell_type": "code",
   "execution_count": 12,
   "id": "672cbcd4-4173-4ace-aa11-6c9eda7aa379",
   "metadata": {
    "collapsed": true,
    "jupyter": {
     "outputs_hidden": true
    },
    "tags": []
   },
   "outputs": [],
   "source": [
    "# Dataframe Creation\n",
    "\n",
    "dfca = data.copy()\n"
   ]
  },
  {
   "cell_type": "code",
   "execution_count": 13,
   "id": "798be586-0ea7-4793-addb-2565f9eec81e",
   "metadata": {
    "collapsed": true,
    "jupyter": {
     "outputs_hidden": true
    },
    "tags": []
   },
   "outputs": [
    {
     "name": "stdout",
     "output_type": "stream",
     "text": [
      "Caracterization:\n",
      "\n",
      "Number of Rows: 3575\n",
      "\n",
      "Number of Columns: 15\n",
      "\n",
      "Columns Names/Variables/Features: ['name', 'address', 'city', 'website', 'schedule', 'longitude', 'latitude', 'distance_km', 'type', 'luxury', 'beach', 'wild', 'rating', 'long_buf', 'lat_buf']\n",
      "\n",
      "<class 'pandas.core.frame.DataFrame'>\n",
      "RangeIndex: 3575 entries, 0 to 3574\n",
      "Data columns (total 15 columns):\n",
      " #   Column       Non-Null Count  Dtype  \n",
      "---  ------       --------------  -----  \n",
      " 0   name         3575 non-null   object \n",
      " 1   address      3575 non-null   object \n",
      " 2   city         3575 non-null   object \n",
      " 3   website      3575 non-null   object \n",
      " 4   schedule     3575 non-null   object \n",
      " 5   longitude    3575 non-null   float64\n",
      " 6   latitude     3575 non-null   float64\n",
      " 7   distance_km  3575 non-null   float64\n",
      " 8   type         3359 non-null   object \n",
      " 9   luxury       3575 non-null   object \n",
      " 10  beach        3575 non-null   int64  \n",
      " 11  wild         3575 non-null   int64  \n",
      " 12  rating       3575 non-null   float64\n",
      " 13  long_buf     3575 non-null   float64\n",
      " 14  lat_buf      3575 non-null   float64\n",
      "dtypes: float64(6), int64(2), object(7)\n",
      "memory usage: 419.1+ KB\n",
      "\n",
      " Head:\n",
      "\n"
     ]
    },
    {
     "data": {
      "text/html": [
       "<div>\n",
       "<style scoped>\n",
       "    .dataframe tbody tr th:only-of-type {\n",
       "        vertical-align: middle;\n",
       "    }\n",
       "\n",
       "    .dataframe tbody tr th {\n",
       "        vertical-align: top;\n",
       "    }\n",
       "\n",
       "    .dataframe thead th {\n",
       "        text-align: right;\n",
       "    }\n",
       "</style>\n",
       "<table border=\"1\" class=\"dataframe\">\n",
       "  <thead>\n",
       "    <tr style=\"text-align: right;\">\n",
       "      <th></th>\n",
       "      <th>name</th>\n",
       "      <th>address</th>\n",
       "      <th>city</th>\n",
       "      <th>website</th>\n",
       "      <th>schedule</th>\n",
       "      <th>longitude</th>\n",
       "      <th>latitude</th>\n",
       "      <th>distance_km</th>\n",
       "      <th>type</th>\n",
       "      <th>luxury</th>\n",
       "      <th>beach</th>\n",
       "      <th>wild</th>\n",
       "      <th>rating</th>\n",
       "      <th>long_buf</th>\n",
       "      <th>lat_buf</th>\n",
       "    </tr>\n",
       "  </thead>\n",
       "  <tbody>\n",
       "    <tr>\n",
       "      <th>0</th>\n",
       "      <td>Camping Osuna</td>\n",
       "      <td>C. Jardines de Aranjuez s/n Madrid</td>\n",
       "      <td>Madrid</td>\n",
       "      <td>http://www.campingosuna.com/</td>\n",
       "      <td>Monday: 8:00 AM – 11:30 PM Tuesday: 8:00 AM – ...</td>\n",
       "      <td>-3.603361</td>\n",
       "      <td>40.453734</td>\n",
       "      <td>9.458117</td>\n",
       "      <td>City</td>\n",
       "      <td>Campsite</td>\n",
       "      <td>0</td>\n",
       "      <td>0</td>\n",
       "      <td>3.9</td>\n",
       "      <td>-3.703790</td>\n",
       "      <td>40.416775</td>\n",
       "    </tr>\n",
       "    <tr>\n",
       "      <th>1</th>\n",
       "      <td>Camping Osuna</td>\n",
       "      <td>C. Jardines de Aranjuez s/n Madrid</td>\n",
       "      <td>Alcalá de Henares</td>\n",
       "      <td>http://www.campingosuna.com/</td>\n",
       "      <td>Monday: 8:00 AM – 11:30 PM Tuesday: 8:00 AM – ...</td>\n",
       "      <td>-3.603361</td>\n",
       "      <td>40.453734</td>\n",
       "      <td>20.181317</td>\n",
       "      <td>Town</td>\n",
       "      <td>Campsite</td>\n",
       "      <td>0</td>\n",
       "      <td>0</td>\n",
       "      <td>3.9</td>\n",
       "      <td>-3.368802</td>\n",
       "      <td>40.484390</td>\n",
       "    </tr>\n",
       "    <tr>\n",
       "      <th>2</th>\n",
       "      <td>Camping Osuna</td>\n",
       "      <td>C. Jardines de Aranjuez s/n Madrid</td>\n",
       "      <td>Fuenlabrada</td>\n",
       "      <td>http://www.campingosuna.com/</td>\n",
       "      <td>Monday: 8:00 AM – 11:30 PM Tuesday: 8:00 AM – ...</td>\n",
       "      <td>-3.603361</td>\n",
       "      <td>40.453734</td>\n",
       "      <td>24.875383</td>\n",
       "      <td>Town</td>\n",
       "      <td>Campsite</td>\n",
       "      <td>0</td>\n",
       "      <td>0</td>\n",
       "      <td>3.9</td>\n",
       "      <td>-3.803548</td>\n",
       "      <td>40.290206</td>\n",
       "    </tr>\n",
       "    <tr>\n",
       "      <th>3</th>\n",
       "      <td>Camping Osuna</td>\n",
       "      <td>C. Jardines de Aranjuez s/n Madrid</td>\n",
       "      <td>Torrejón de Ardoz</td>\n",
       "      <td>http://www.campingosuna.com/</td>\n",
       "      <td>Monday: 8:00 AM – 11:30 PM Tuesday: 8:00 AM – ...</td>\n",
       "      <td>-3.603361</td>\n",
       "      <td>40.453734</td>\n",
       "      <td>10.851165</td>\n",
       "      <td>Town</td>\n",
       "      <td>Campsite</td>\n",
       "      <td>0</td>\n",
       "      <td>0</td>\n",
       "      <td>3.9</td>\n",
       "      <td>-3.475497</td>\n",
       "      <td>40.456755</td>\n",
       "    </tr>\n",
       "    <tr>\n",
       "      <th>4</th>\n",
       "      <td>Camping Osuna</td>\n",
       "      <td>C. Jardines de Aranjuez s/n Madrid</td>\n",
       "      <td>Parla</td>\n",
       "      <td>http://www.campingosuna.com/</td>\n",
       "      <td>Monday: 8:00 AM – 11:30 PM Tuesday: 8:00 AM – ...</td>\n",
       "      <td>-3.603361</td>\n",
       "      <td>40.453734</td>\n",
       "      <td>28.066198</td>\n",
       "      <td>Town</td>\n",
       "      <td>Campsite</td>\n",
       "      <td>0</td>\n",
       "      <td>0</td>\n",
       "      <td>3.9</td>\n",
       "      <td>-3.773987</td>\n",
       "      <td>40.237306</td>\n",
       "    </tr>\n",
       "  </tbody>\n",
       "</table>\n",
       "</div>"
      ],
      "text/plain": [
       "            name                             address               city  \\\n",
       "0  Camping Osuna  C. Jardines de Aranjuez s/n Madrid             Madrid   \n",
       "1  Camping Osuna  C. Jardines de Aranjuez s/n Madrid  Alcalá de Henares   \n",
       "2  Camping Osuna  C. Jardines de Aranjuez s/n Madrid        Fuenlabrada   \n",
       "3  Camping Osuna  C. Jardines de Aranjuez s/n Madrid  Torrejón de Ardoz   \n",
       "4  Camping Osuna  C. Jardines de Aranjuez s/n Madrid              Parla   \n",
       "\n",
       "                        website  \\\n",
       "0  http://www.campingosuna.com/   \n",
       "1  http://www.campingosuna.com/   \n",
       "2  http://www.campingosuna.com/   \n",
       "3  http://www.campingosuna.com/   \n",
       "4  http://www.campingosuna.com/   \n",
       "\n",
       "                                            schedule  longitude   latitude  \\\n",
       "0  Monday: 8:00 AM – 11:30 PM Tuesday: 8:00 AM – ...  -3.603361  40.453734   \n",
       "1  Monday: 8:00 AM – 11:30 PM Tuesday: 8:00 AM – ...  -3.603361  40.453734   \n",
       "2  Monday: 8:00 AM – 11:30 PM Tuesday: 8:00 AM – ...  -3.603361  40.453734   \n",
       "3  Monday: 8:00 AM – 11:30 PM Tuesday: 8:00 AM – ...  -3.603361  40.453734   \n",
       "4  Monday: 8:00 AM – 11:30 PM Tuesday: 8:00 AM – ...  -3.603361  40.453734   \n",
       "\n",
       "   distance_km  type    luxury  beach  wild  rating  long_buf    lat_buf  \n",
       "0     9.458117  City  Campsite      0     0     3.9 -3.703790  40.416775  \n",
       "1    20.181317  Town  Campsite      0     0     3.9 -3.368802  40.484390  \n",
       "2    24.875383  Town  Campsite      0     0     3.9 -3.803548  40.290206  \n",
       "3    10.851165  Town  Campsite      0     0     3.9 -3.475497  40.456755  \n",
       "4    28.066198  Town  Campsite      0     0     3.9 -3.773987  40.237306  "
      ]
     },
     "execution_count": 13,
     "metadata": {},
     "output_type": "execute_result"
    }
   ],
   "source": [
    "data_caracterization(dfca)"
   ]
  },
  {
   "cell_type": "markdown",
   "id": "159444cc-27d2-4af6-9cc6-05b1643ed8a8",
   "metadata": {
    "tags": []
   },
   "source": [
    "## ENCODING"
   ]
  },
  {
   "cell_type": "code",
   "execution_count": 19,
   "id": "d5a0de76-5edc-4075-b245-d0279682a666",
   "metadata": {
    "collapsed": true,
    "jupyter": {
     "outputs_hidden": true
    },
    "tags": []
   },
   "outputs": [],
   "source": [
    "# Encoding categoricals. We are going to use manual encoding because we need it for the model after.\n",
    "\n",
    "type = {\n",
    "    'City': 0,\n",
    "    'Town': 1,\n",
    "    'Village': 2,\n",
    "}\n",
    "\n",
    "\n",
    "luxury = {\n",
    "    'Campsite': 0,\n",
    "    'Glamping': 1,\n",
    "    'Camper': 2\n",
    "}\n",
    "\n",
    "\n",
    "# Now let's do the mapping\n",
    "\n",
    "dfgeoca['type'] = dfgeoca['type'].map(type)\n",
    "dfgeoca['luxury'] = dfgeoca['luxury'].map(luxury)"
   ]
  },
  {
   "cell_type": "code",
   "execution_count": 122,
   "id": "ed5f7a0e-b2f3-4a60-a710-fdcb1ee5e5cc",
   "metadata": {
    "collapsed": true,
    "jupyter": {
     "outputs_hidden": true
    },
    "tags": []
   },
   "outputs": [],
   "source": [
    "geocoding_columns = [\"type\", \"luxury\", \"beach\", \"wild\", \"rating\", \"long_buf\", \"lat_buf\",\"geometry\"] \n",
    "\n",
    "dfgeocoding = dfgeoca[geocoding_columns]"
   ]
  },
  {
   "cell_type": "code",
   "execution_count": 124,
   "id": "ab6a2ca0-eed2-4835-8ad3-be910426cf9d",
   "metadata": {
    "collapsed": true,
    "jupyter": {
     "outputs_hidden": true
    },
    "tags": []
   },
   "outputs": [],
   "source": [
    "encoding_column = [\"type\", \"luxury\", \"beach\", \"wild\", \"rating\", \"long_buf\", \"lat_buf\"] \n",
    "\n",
    "dfcoding = dfgeoca[encoding_column]"
   ]
  },
  {
   "cell_type": "markdown",
   "id": "a7df7f0f-6d9a-4ebf-a523-7ff094a81280",
   "metadata": {
    "tags": []
   },
   "source": [
    "## SETTING TARGET (Y)"
   ]
  },
  {
   "cell_type": "code",
   "execution_count": 153,
   "id": "069d289d-9b13-46bc-b801-8341f1add0b9",
   "metadata": {
    "tags": []
   },
   "outputs": [],
   "source": [
    "# For Neural Networks and  MultiOutPut Lineal Regresions\n",
    "\n",
    "y_columns = [\"long_buf\", \"lat_buf\"]\n",
    "\n",
    "X = dfcoding.drop( y_columns, axis = 1)\n",
    "\n",
    "y = dfcoding[y_columns]"
   ]
  },
  {
   "cell_type": "code",
   "execution_count": 155,
   "id": "689d2323-0543-47aa-9020-2e0d01913c38",
   "metadata": {
    "tags": []
   },
   "outputs": [],
   "source": [
    "# For Geometric Models\n",
    "\n",
    "geometry = [Point(xy) for xy in zip(dfcoding['lat_buf'], dfcoding['long_buf'])]"
   ]
  },
  {
   "cell_type": "code",
   "execution_count": 157,
   "id": "d223e600-3a8c-4ad9-9245-f7725ba3ea47",
   "metadata": {
    "tags": []
   },
   "outputs": [],
   "source": [
    "dfgeoca = gpd.GeoDataFrame(dfcoding, geometry=geometry)"
   ]
  },
  {
   "cell_type": "code",
   "execution_count": 159,
   "id": "c0f7528a-edc5-430c-a5b3-2201bc58c9ac",
   "metadata": {
    "tags": []
   },
   "outputs": [
    {
     "data": {
      "text/html": [
       "<div>\n",
       "<style scoped>\n",
       "    .dataframe tbody tr th:only-of-type {\n",
       "        vertical-align: middle;\n",
       "    }\n",
       "\n",
       "    .dataframe tbody tr th {\n",
       "        vertical-align: top;\n",
       "    }\n",
       "\n",
       "    .dataframe thead th {\n",
       "        text-align: right;\n",
       "    }\n",
       "</style>\n",
       "<table border=\"1\" class=\"dataframe\">\n",
       "  <thead>\n",
       "    <tr style=\"text-align: right;\">\n",
       "      <th></th>\n",
       "      <th>type</th>\n",
       "      <th>luxury</th>\n",
       "      <th>beach</th>\n",
       "      <th>wild</th>\n",
       "      <th>rating</th>\n",
       "      <th>long_buf</th>\n",
       "      <th>lat_buf</th>\n",
       "      <th>geometry</th>\n",
       "    </tr>\n",
       "  </thead>\n",
       "  <tbody>\n",
       "    <tr>\n",
       "      <th>0</th>\n",
       "      <td>0.0</td>\n",
       "      <td>0</td>\n",
       "      <td>0</td>\n",
       "      <td>0</td>\n",
       "      <td>3.9</td>\n",
       "      <td>-3.703790</td>\n",
       "      <td>40.416775</td>\n",
       "      <td>POINT (40.41678 -3.70379)</td>\n",
       "    </tr>\n",
       "    <tr>\n",
       "      <th>1</th>\n",
       "      <td>1.0</td>\n",
       "      <td>0</td>\n",
       "      <td>0</td>\n",
       "      <td>0</td>\n",
       "      <td>3.9</td>\n",
       "      <td>-3.368802</td>\n",
       "      <td>40.484390</td>\n",
       "      <td>POINT (40.48439 -3.36880)</td>\n",
       "    </tr>\n",
       "    <tr>\n",
       "      <th>2</th>\n",
       "      <td>1.0</td>\n",
       "      <td>0</td>\n",
       "      <td>0</td>\n",
       "      <td>0</td>\n",
       "      <td>3.9</td>\n",
       "      <td>-3.803548</td>\n",
       "      <td>40.290206</td>\n",
       "      <td>POINT (40.29021 -3.80355)</td>\n",
       "    </tr>\n",
       "    <tr>\n",
       "      <th>3</th>\n",
       "      <td>1.0</td>\n",
       "      <td>0</td>\n",
       "      <td>0</td>\n",
       "      <td>0</td>\n",
       "      <td>3.9</td>\n",
       "      <td>-3.475497</td>\n",
       "      <td>40.456755</td>\n",
       "      <td>POINT (40.45676 -3.47550)</td>\n",
       "    </tr>\n",
       "    <tr>\n",
       "      <th>4</th>\n",
       "      <td>1.0</td>\n",
       "      <td>0</td>\n",
       "      <td>0</td>\n",
       "      <td>0</td>\n",
       "      <td>3.9</td>\n",
       "      <td>-3.773987</td>\n",
       "      <td>40.237306</td>\n",
       "      <td>POINT (40.23731 -3.77399)</td>\n",
       "    </tr>\n",
       "    <tr>\n",
       "      <th>...</th>\n",
       "      <td>...</td>\n",
       "      <td>...</td>\n",
       "      <td>...</td>\n",
       "      <td>...</td>\n",
       "      <td>...</td>\n",
       "      <td>...</td>\n",
       "      <td>...</td>\n",
       "      <td>...</td>\n",
       "    </tr>\n",
       "    <tr>\n",
       "      <th>3570</th>\n",
       "      <td>2.0</td>\n",
       "      <td>0</td>\n",
       "      <td>0</td>\n",
       "      <td>1</td>\n",
       "      <td>4.4</td>\n",
       "      <td>-0.370797</td>\n",
       "      <td>43.295100</td>\n",
       "      <td>POINT (43.29510 -0.37080)</td>\n",
       "    </tr>\n",
       "    <tr>\n",
       "      <th>3571</th>\n",
       "      <td>2.0</td>\n",
       "      <td>0</td>\n",
       "      <td>0</td>\n",
       "      <td>1</td>\n",
       "      <td>4.5</td>\n",
       "      <td>-0.370797</td>\n",
       "      <td>43.295100</td>\n",
       "      <td>POINT (43.29510 -0.37080)</td>\n",
       "    </tr>\n",
       "    <tr>\n",
       "      <th>3572</th>\n",
       "      <td>2.0</td>\n",
       "      <td>0</td>\n",
       "      <td>0</td>\n",
       "      <td>1</td>\n",
       "      <td>4.5</td>\n",
       "      <td>-0.370797</td>\n",
       "      <td>43.295100</td>\n",
       "      <td>POINT (43.29510 -0.37080)</td>\n",
       "    </tr>\n",
       "    <tr>\n",
       "      <th>3573</th>\n",
       "      <td>2.0</td>\n",
       "      <td>0</td>\n",
       "      <td>0</td>\n",
       "      <td>1</td>\n",
       "      <td>3.9</td>\n",
       "      <td>-0.370797</td>\n",
       "      <td>43.295100</td>\n",
       "      <td>POINT (43.29510 -0.37080)</td>\n",
       "    </tr>\n",
       "    <tr>\n",
       "      <th>3574</th>\n",
       "      <td>2.0</td>\n",
       "      <td>2</td>\n",
       "      <td>0</td>\n",
       "      <td>1</td>\n",
       "      <td>4.3</td>\n",
       "      <td>2.497071</td>\n",
       "      <td>48.941215</td>\n",
       "      <td>POINT (48.94122 2.49707)</td>\n",
       "    </tr>\n",
       "  </tbody>\n",
       "</table>\n",
       "<p>3575 rows × 8 columns</p>\n",
       "</div>"
      ],
      "text/plain": [
       "      type  luxury  beach  wild  rating  long_buf    lat_buf  \\\n",
       "0      0.0       0      0     0     3.9 -3.703790  40.416775   \n",
       "1      1.0       0      0     0     3.9 -3.368802  40.484390   \n",
       "2      1.0       0      0     0     3.9 -3.803548  40.290206   \n",
       "3      1.0       0      0     0     3.9 -3.475497  40.456755   \n",
       "4      1.0       0      0     0     3.9 -3.773987  40.237306   \n",
       "...    ...     ...    ...   ...     ...       ...        ...   \n",
       "3570   2.0       0      0     1     4.4 -0.370797  43.295100   \n",
       "3571   2.0       0      0     1     4.5 -0.370797  43.295100   \n",
       "3572   2.0       0      0     1     4.5 -0.370797  43.295100   \n",
       "3573   2.0       0      0     1     3.9 -0.370797  43.295100   \n",
       "3574   2.0       2      0     1     4.3  2.497071  48.941215   \n",
       "\n",
       "                       geometry  \n",
       "0     POINT (40.41678 -3.70379)  \n",
       "1     POINT (40.48439 -3.36880)  \n",
       "2     POINT (40.29021 -3.80355)  \n",
       "3     POINT (40.45676 -3.47550)  \n",
       "4     POINT (40.23731 -3.77399)  \n",
       "...                         ...  \n",
       "3570  POINT (43.29510 -0.37080)  \n",
       "3571  POINT (43.29510 -0.37080)  \n",
       "3572  POINT (43.29510 -0.37080)  \n",
       "3573  POINT (43.29510 -0.37080)  \n",
       "3574   POINT (48.94122 2.49707)  \n",
       "\n",
       "[3575 rows x 8 columns]"
      ]
     },
     "execution_count": 159,
     "metadata": {},
     "output_type": "execute_result"
    }
   ],
   "source": [
    "dfgeoca"
   ]
  },
  {
   "cell_type": "markdown",
   "id": "120b2c3e-4b2d-4b19-a0c5-b24e0d9df002",
   "metadata": {},
   "source": [
    "## LINEAL REGRESSION MODEL"
   ]
  },
  {
   "cell_type": "code",
   "execution_count": 173,
   "id": "c65a0b38-e1b1-4529-80fa-e1c202e27212",
   "metadata": {
    "tags": []
   },
   "outputs": [],
   "source": [
    "X = dfgeoca[['type', 'luxury', 'beach', 'wild', 'rating']\n",
    "y = dfgeoca['geometry']"
   ]
  },
  {
   "cell_type": "code",
   "execution_count": 175,
   "id": "890dc77b-60a4-4def-b514-c74f1d7268b4",
   "metadata": {
    "tags": []
   },
   "outputs": [],
   "source": [
    "# Splitting the data into train and test sets (80% train, 20% test)\n",
    "\n",
    "X_train, X_test, y_train, y_test = train_test_split(dfcoding, df_y, test_size=0.2, random_state=42)"
   ]
  },
  {
   "cell_type": "code",
   "execution_count": 177,
   "id": "8c25199a-3448-4302-824f-a94456a7ec87",
   "metadata": {
    "collapsed": true,
    "jupyter": {
     "outputs_hidden": true
    },
    "tags": []
   },
   "outputs": [
    {
     "ename": "ValueError",
     "evalue": "Input X contains NaN.\nGradientBoostingClassifier does not accept missing values encoded as NaN natively. For supervised learning, you might want to consider sklearn.ensemble.HistGradientBoostingClassifier and Regressor which accept missing values encoded as NaNs natively. Alternatively, it is possible to preprocess the data, for instance by using an imputer transformer in a pipeline or drop samples with missing values. See https://scikit-learn.org/stable/modules/impute.html You can find a list of all estimators that handle NaN values at the following page: https://scikit-learn.org/stable/modules/impute.html#estimators-that-handle-nan-values",
     "output_type": "error",
     "traceback": [
      "\u001b[1;31m---------------------------------------------------------------------------\u001b[0m",
      "\u001b[1;31mValueError\u001b[0m                                Traceback (most recent call last)",
      "Cell \u001b[1;32mIn[177], line 3\u001b[0m\n\u001b[0;32m      1\u001b[0m gradient_boosting_classifier \u001b[38;5;241m=\u001b[39m GradientBoostingClassifier()\n\u001b[1;32m----> 3\u001b[0m gradient_boosting_classifier\u001b[38;5;241m.\u001b[39mfit(X_train, y_train)\n\u001b[0;32m      5\u001b[0m y_pred_gb \u001b[38;5;241m=\u001b[39m gradient_boosting_classifier\u001b[38;5;241m.\u001b[39mpredict(X_test)\n\u001b[0;32m      7\u001b[0m accuracy_gb \u001b[38;5;241m=\u001b[39m accuracy_score(y_test, y_pred_gb)\n",
      "File \u001b[1;32m~\\anaconda3\\Lib\\site-packages\\sklearn\\base.py:1151\u001b[0m, in \u001b[0;36m_fit_context.<locals>.decorator.<locals>.wrapper\u001b[1;34m(estimator, *args, **kwargs)\u001b[0m\n\u001b[0;32m   1144\u001b[0m     estimator\u001b[38;5;241m.\u001b[39m_validate_params()\n\u001b[0;32m   1146\u001b[0m \u001b[38;5;28;01mwith\u001b[39;00m config_context(\n\u001b[0;32m   1147\u001b[0m     skip_parameter_validation\u001b[38;5;241m=\u001b[39m(\n\u001b[0;32m   1148\u001b[0m         prefer_skip_nested_validation \u001b[38;5;129;01mor\u001b[39;00m global_skip_validation\n\u001b[0;32m   1149\u001b[0m     )\n\u001b[0;32m   1150\u001b[0m ):\n\u001b[1;32m-> 1151\u001b[0m     \u001b[38;5;28;01mreturn\u001b[39;00m fit_method(estimator, \u001b[38;5;241m*\u001b[39margs, \u001b[38;5;241m*\u001b[39m\u001b[38;5;241m*\u001b[39mkwargs)\n",
      "File \u001b[1;32m~\\anaconda3\\Lib\\site-packages\\sklearn\\ensemble\\_gb.py:416\u001b[0m, in \u001b[0;36mBaseGradientBoosting.fit\u001b[1;34m(self, X, y, sample_weight, monitor)\u001b[0m\n\u001b[0;32m    410\u001b[0m     \u001b[38;5;28mself\u001b[39m\u001b[38;5;241m.\u001b[39m_clear_state()\n\u001b[0;32m    412\u001b[0m \u001b[38;5;66;03m# Check input\u001b[39;00m\n\u001b[0;32m    413\u001b[0m \u001b[38;5;66;03m# Since check_array converts both X and y to the same dtype, but the\u001b[39;00m\n\u001b[0;32m    414\u001b[0m \u001b[38;5;66;03m# trees use different types for X and y, checking them separately.\u001b[39;00m\n\u001b[1;32m--> 416\u001b[0m X, y \u001b[38;5;241m=\u001b[39m \u001b[38;5;28mself\u001b[39m\u001b[38;5;241m.\u001b[39m_validate_data(\n\u001b[0;32m    417\u001b[0m     X, y, accept_sparse\u001b[38;5;241m=\u001b[39m[\u001b[38;5;124m\"\u001b[39m\u001b[38;5;124mcsr\u001b[39m\u001b[38;5;124m\"\u001b[39m, \u001b[38;5;124m\"\u001b[39m\u001b[38;5;124mcsc\u001b[39m\u001b[38;5;124m\"\u001b[39m, \u001b[38;5;124m\"\u001b[39m\u001b[38;5;124mcoo\u001b[39m\u001b[38;5;124m\"\u001b[39m], dtype\u001b[38;5;241m=\u001b[39mDTYPE, multi_output\u001b[38;5;241m=\u001b[39m\u001b[38;5;28;01mTrue\u001b[39;00m\n\u001b[0;32m    418\u001b[0m )\n\u001b[0;32m    420\u001b[0m sample_weight_is_none \u001b[38;5;241m=\u001b[39m sample_weight \u001b[38;5;129;01mis\u001b[39;00m \u001b[38;5;28;01mNone\u001b[39;00m\n\u001b[0;32m    422\u001b[0m sample_weight \u001b[38;5;241m=\u001b[39m _check_sample_weight(sample_weight, X)\n",
      "File \u001b[1;32m~\\anaconda3\\Lib\\site-packages\\sklearn\\base.py:621\u001b[0m, in \u001b[0;36mBaseEstimator._validate_data\u001b[1;34m(self, X, y, reset, validate_separately, cast_to_ndarray, **check_params)\u001b[0m\n\u001b[0;32m    619\u001b[0m         y \u001b[38;5;241m=\u001b[39m check_array(y, input_name\u001b[38;5;241m=\u001b[39m\u001b[38;5;124m\"\u001b[39m\u001b[38;5;124my\u001b[39m\u001b[38;5;124m\"\u001b[39m, \u001b[38;5;241m*\u001b[39m\u001b[38;5;241m*\u001b[39mcheck_y_params)\n\u001b[0;32m    620\u001b[0m     \u001b[38;5;28;01melse\u001b[39;00m:\n\u001b[1;32m--> 621\u001b[0m         X, y \u001b[38;5;241m=\u001b[39m check_X_y(X, y, \u001b[38;5;241m*\u001b[39m\u001b[38;5;241m*\u001b[39mcheck_params)\n\u001b[0;32m    622\u001b[0m     out \u001b[38;5;241m=\u001b[39m X, y\n\u001b[0;32m    624\u001b[0m \u001b[38;5;28;01mif\u001b[39;00m \u001b[38;5;129;01mnot\u001b[39;00m no_val_X \u001b[38;5;129;01mand\u001b[39;00m check_params\u001b[38;5;241m.\u001b[39mget(\u001b[38;5;124m\"\u001b[39m\u001b[38;5;124mensure_2d\u001b[39m\u001b[38;5;124m\"\u001b[39m, \u001b[38;5;28;01mTrue\u001b[39;00m):\n",
      "File \u001b[1;32m~\\anaconda3\\Lib\\site-packages\\sklearn\\utils\\validation.py:1147\u001b[0m, in \u001b[0;36mcheck_X_y\u001b[1;34m(X, y, accept_sparse, accept_large_sparse, dtype, order, copy, force_all_finite, ensure_2d, allow_nd, multi_output, ensure_min_samples, ensure_min_features, y_numeric, estimator)\u001b[0m\n\u001b[0;32m   1142\u001b[0m         estimator_name \u001b[38;5;241m=\u001b[39m _check_estimator_name(estimator)\n\u001b[0;32m   1143\u001b[0m     \u001b[38;5;28;01mraise\u001b[39;00m \u001b[38;5;167;01mValueError\u001b[39;00m(\n\u001b[0;32m   1144\u001b[0m         \u001b[38;5;124mf\u001b[39m\u001b[38;5;124m\"\u001b[39m\u001b[38;5;132;01m{\u001b[39;00mestimator_name\u001b[38;5;132;01m}\u001b[39;00m\u001b[38;5;124m requires y to be passed, but the target y is None\u001b[39m\u001b[38;5;124m\"\u001b[39m\n\u001b[0;32m   1145\u001b[0m     )\n\u001b[1;32m-> 1147\u001b[0m X \u001b[38;5;241m=\u001b[39m check_array(\n\u001b[0;32m   1148\u001b[0m     X,\n\u001b[0;32m   1149\u001b[0m     accept_sparse\u001b[38;5;241m=\u001b[39maccept_sparse,\n\u001b[0;32m   1150\u001b[0m     accept_large_sparse\u001b[38;5;241m=\u001b[39maccept_large_sparse,\n\u001b[0;32m   1151\u001b[0m     dtype\u001b[38;5;241m=\u001b[39mdtype,\n\u001b[0;32m   1152\u001b[0m     order\u001b[38;5;241m=\u001b[39morder,\n\u001b[0;32m   1153\u001b[0m     copy\u001b[38;5;241m=\u001b[39mcopy,\n\u001b[0;32m   1154\u001b[0m     force_all_finite\u001b[38;5;241m=\u001b[39mforce_all_finite,\n\u001b[0;32m   1155\u001b[0m     ensure_2d\u001b[38;5;241m=\u001b[39mensure_2d,\n\u001b[0;32m   1156\u001b[0m     allow_nd\u001b[38;5;241m=\u001b[39mallow_nd,\n\u001b[0;32m   1157\u001b[0m     ensure_min_samples\u001b[38;5;241m=\u001b[39mensure_min_samples,\n\u001b[0;32m   1158\u001b[0m     ensure_min_features\u001b[38;5;241m=\u001b[39mensure_min_features,\n\u001b[0;32m   1159\u001b[0m     estimator\u001b[38;5;241m=\u001b[39mestimator,\n\u001b[0;32m   1160\u001b[0m     input_name\u001b[38;5;241m=\u001b[39m\u001b[38;5;124m\"\u001b[39m\u001b[38;5;124mX\u001b[39m\u001b[38;5;124m\"\u001b[39m,\n\u001b[0;32m   1161\u001b[0m )\n\u001b[0;32m   1163\u001b[0m y \u001b[38;5;241m=\u001b[39m _check_y(y, multi_output\u001b[38;5;241m=\u001b[39mmulti_output, y_numeric\u001b[38;5;241m=\u001b[39my_numeric, estimator\u001b[38;5;241m=\u001b[39mestimator)\n\u001b[0;32m   1165\u001b[0m check_consistent_length(X, y)\n",
      "File \u001b[1;32m~\\anaconda3\\Lib\\site-packages\\sklearn\\utils\\validation.py:959\u001b[0m, in \u001b[0;36mcheck_array\u001b[1;34m(array, accept_sparse, accept_large_sparse, dtype, order, copy, force_all_finite, ensure_2d, allow_nd, ensure_min_samples, ensure_min_features, estimator, input_name)\u001b[0m\n\u001b[0;32m    953\u001b[0m         \u001b[38;5;28;01mraise\u001b[39;00m \u001b[38;5;167;01mValueError\u001b[39;00m(\n\u001b[0;32m    954\u001b[0m             \u001b[38;5;124m\"\u001b[39m\u001b[38;5;124mFound array with dim \u001b[39m\u001b[38;5;132;01m%d\u001b[39;00m\u001b[38;5;124m. \u001b[39m\u001b[38;5;132;01m%s\u001b[39;00m\u001b[38;5;124m expected <= 2.\u001b[39m\u001b[38;5;124m\"\u001b[39m\n\u001b[0;32m    955\u001b[0m             \u001b[38;5;241m%\u001b[39m (array\u001b[38;5;241m.\u001b[39mndim, estimator_name)\n\u001b[0;32m    956\u001b[0m         )\n\u001b[0;32m    958\u001b[0m     \u001b[38;5;28;01mif\u001b[39;00m force_all_finite:\n\u001b[1;32m--> 959\u001b[0m         _assert_all_finite(\n\u001b[0;32m    960\u001b[0m             array,\n\u001b[0;32m    961\u001b[0m             input_name\u001b[38;5;241m=\u001b[39minput_name,\n\u001b[0;32m    962\u001b[0m             estimator_name\u001b[38;5;241m=\u001b[39mestimator_name,\n\u001b[0;32m    963\u001b[0m             allow_nan\u001b[38;5;241m=\u001b[39mforce_all_finite \u001b[38;5;241m==\u001b[39m \u001b[38;5;124m\"\u001b[39m\u001b[38;5;124mallow-nan\u001b[39m\u001b[38;5;124m\"\u001b[39m,\n\u001b[0;32m    964\u001b[0m         )\n\u001b[0;32m    966\u001b[0m \u001b[38;5;28;01mif\u001b[39;00m ensure_min_samples \u001b[38;5;241m>\u001b[39m \u001b[38;5;241m0\u001b[39m:\n\u001b[0;32m    967\u001b[0m     n_samples \u001b[38;5;241m=\u001b[39m _num_samples(array)\n",
      "File \u001b[1;32m~\\anaconda3\\Lib\\site-packages\\sklearn\\utils\\validation.py:124\u001b[0m, in \u001b[0;36m_assert_all_finite\u001b[1;34m(X, allow_nan, msg_dtype, estimator_name, input_name)\u001b[0m\n\u001b[0;32m    121\u001b[0m \u001b[38;5;28;01mif\u001b[39;00m first_pass_isfinite:\n\u001b[0;32m    122\u001b[0m     \u001b[38;5;28;01mreturn\u001b[39;00m\n\u001b[1;32m--> 124\u001b[0m _assert_all_finite_element_wise(\n\u001b[0;32m    125\u001b[0m     X,\n\u001b[0;32m    126\u001b[0m     xp\u001b[38;5;241m=\u001b[39mxp,\n\u001b[0;32m    127\u001b[0m     allow_nan\u001b[38;5;241m=\u001b[39mallow_nan,\n\u001b[0;32m    128\u001b[0m     msg_dtype\u001b[38;5;241m=\u001b[39mmsg_dtype,\n\u001b[0;32m    129\u001b[0m     estimator_name\u001b[38;5;241m=\u001b[39mestimator_name,\n\u001b[0;32m    130\u001b[0m     input_name\u001b[38;5;241m=\u001b[39minput_name,\n\u001b[0;32m    131\u001b[0m )\n",
      "File \u001b[1;32m~\\anaconda3\\Lib\\site-packages\\sklearn\\utils\\validation.py:173\u001b[0m, in \u001b[0;36m_assert_all_finite_element_wise\u001b[1;34m(X, xp, allow_nan, msg_dtype, estimator_name, input_name)\u001b[0m\n\u001b[0;32m    156\u001b[0m \u001b[38;5;28;01mif\u001b[39;00m estimator_name \u001b[38;5;129;01mand\u001b[39;00m input_name \u001b[38;5;241m==\u001b[39m \u001b[38;5;124m\"\u001b[39m\u001b[38;5;124mX\u001b[39m\u001b[38;5;124m\"\u001b[39m \u001b[38;5;129;01mand\u001b[39;00m has_nan_error:\n\u001b[0;32m    157\u001b[0m     \u001b[38;5;66;03m# Improve the error message on how to handle missing values in\u001b[39;00m\n\u001b[0;32m    158\u001b[0m     \u001b[38;5;66;03m# scikit-learn.\u001b[39;00m\n\u001b[0;32m    159\u001b[0m     msg_err \u001b[38;5;241m+\u001b[39m\u001b[38;5;241m=\u001b[39m (\n\u001b[0;32m    160\u001b[0m         \u001b[38;5;124mf\u001b[39m\u001b[38;5;124m\"\u001b[39m\u001b[38;5;130;01m\\n\u001b[39;00m\u001b[38;5;132;01m{\u001b[39;00mestimator_name\u001b[38;5;132;01m}\u001b[39;00m\u001b[38;5;124m does not accept missing values\u001b[39m\u001b[38;5;124m\"\u001b[39m\n\u001b[0;32m    161\u001b[0m         \u001b[38;5;124m\"\u001b[39m\u001b[38;5;124m encoded as NaN natively. For supervised learning, you might want\u001b[39m\u001b[38;5;124m\"\u001b[39m\n\u001b[1;32m   (...)\u001b[0m\n\u001b[0;32m    171\u001b[0m         \u001b[38;5;124m\"\u001b[39m\u001b[38;5;124m#estimators-that-handle-nan-values\u001b[39m\u001b[38;5;124m\"\u001b[39m\n\u001b[0;32m    172\u001b[0m     )\n\u001b[1;32m--> 173\u001b[0m \u001b[38;5;28;01mraise\u001b[39;00m \u001b[38;5;167;01mValueError\u001b[39;00m(msg_err)\n",
      "\u001b[1;31mValueError\u001b[0m: Input X contains NaN.\nGradientBoostingClassifier does not accept missing values encoded as NaN natively. For supervised learning, you might want to consider sklearn.ensemble.HistGradientBoostingClassifier and Regressor which accept missing values encoded as NaNs natively. Alternatively, it is possible to preprocess the data, for instance by using an imputer transformer in a pipeline or drop samples with missing values. See https://scikit-learn.org/stable/modules/impute.html You can find a list of all estimators that handle NaN values at the following page: https://scikit-learn.org/stable/modules/impute.html#estimators-that-handle-nan-values"
     ]
    }
   ],
   "source": [
    "gradient_boosting_classifier = GradientBoostingClassifier()\n",
    "\n",
    "gradient_boosting_classifier.fit(X_train, y_train)\n",
    "\n",
    "y_pred_gb = gradient_boosting_classifier.predict(X_test)\n",
    "\n",
    "accuracy_gb = accuracy_score(y_test, y_pred_gb)\n",
    "\n",
    "print(f'Gradient Boosting - Accuracy: {accuracy_gb:.2f}')"
   ]
  },
  {
   "cell_type": "markdown",
   "id": "ee52c99b-0162-4fc6-957e-8dcb7b8ee15c",
   "metadata": {},
   "source": [
    "## NEURAL NETWORK WITH TENSOR FLOW"
   ]
  },
  {
   "cell_type": "code",
   "execution_count": 183,
   "id": "a48cf0ae-4141-43f6-bba1-ad32e53fa385",
   "metadata": {
    "tags": []
   },
   "outputs": [],
   "source": [
    "\n",
    "y_columns = [\"long_buf\", \"lat_buf\"]\n",
    "\n",
    "X = dfcoding.drop( y_columns, axis = 1)\n",
    "\n",
    "y = dfcoding[y_columns]"
   ]
  },
  {
   "cell_type": "code",
   "execution_count": 185,
   "id": "147df278-027a-4663-8e60-2988cce58a93",
   "metadata": {
    "tags": []
   },
   "outputs": [],
   "source": [
    "# Splitting the data into train and test sets (80% train, 20% test)\n",
    "X_train, X_test, y_train, y_test = train_test_split(dfcoding, df_y, test_size=0.2, random_state=42)"
   ]
  },
  {
   "cell_type": "code",
   "execution_count": 187,
   "id": "21305c69-382b-4a3d-b4ac-a34057db65f6",
   "metadata": {
    "tags": []
   },
   "outputs": [
    {
     "name": "stdout",
     "output_type": "stream",
     "text": [
      "Epoch 1/100\n",
      "\u001b[1m90/90\u001b[0m \u001b[32m━━━━━━━━━━━━━━━━━━━━\u001b[0m\u001b[37m\u001b[0m \u001b[1m0s\u001b[0m 517us/step - loss: 988.8320 \n",
      "Epoch 2/100\n",
      "\u001b[1m90/90\u001b[0m \u001b[32m━━━━━━━━━━━━━━━━━━━━\u001b[0m\u001b[37m\u001b[0m \u001b[1m0s\u001b[0m 483us/step - loss: 971.8610\n",
      "Epoch 3/100\n",
      "\u001b[1m90/90\u001b[0m \u001b[32m━━━━━━━━━━━━━━━━━━━━\u001b[0m\u001b[37m\u001b[0m \u001b[1m0s\u001b[0m 449us/step - loss: 955.6757\n",
      "Epoch 4/100\n",
      "\u001b[1m90/90\u001b[0m \u001b[32m━━━━━━━━━━━━━━━━━━━━\u001b[0m\u001b[37m\u001b[0m \u001b[1m0s\u001b[0m 449us/step - loss: 900.1495\n",
      "Epoch 5/100\n",
      "\u001b[1m90/90\u001b[0m \u001b[32m━━━━━━━━━━━━━━━━━━━━\u001b[0m\u001b[37m\u001b[0m \u001b[1m0s\u001b[0m 449us/step - loss: 856.0068\n",
      "Epoch 6/100\n",
      "\u001b[1m90/90\u001b[0m \u001b[32m━━━━━━━━━━━━━━━━━━━━\u001b[0m\u001b[37m\u001b[0m \u001b[1m0s\u001b[0m 461us/step - loss: 791.3463\n",
      "Epoch 7/100\n",
      "\u001b[1m90/90\u001b[0m \u001b[32m━━━━━━━━━━━━━━━━━━━━\u001b[0m\u001b[37m\u001b[0m \u001b[1m0s\u001b[0m 472us/step - loss: 729.7152\n",
      "Epoch 8/100\n",
      "\u001b[1m90/90\u001b[0m \u001b[32m━━━━━━━━━━━━━━━━━━━━\u001b[0m\u001b[37m\u001b[0m \u001b[1m0s\u001b[0m 472us/step - loss: 645.0249\n",
      "Epoch 9/100\n",
      "\u001b[1m90/90\u001b[0m \u001b[32m━━━━━━━━━━━━━━━━━━━━\u001b[0m\u001b[37m\u001b[0m \u001b[1m0s\u001b[0m 472us/step - loss: 561.2096\n",
      "Epoch 10/100\n",
      "\u001b[1m90/90\u001b[0m \u001b[32m━━━━━━━━━━━━━━━━━━━━\u001b[0m\u001b[37m\u001b[0m \u001b[1m0s\u001b[0m 483us/step - loss: 484.2704\n",
      "Epoch 11/100\n",
      "\u001b[1m90/90\u001b[0m \u001b[32m━━━━━━━━━━━━━━━━━━━━\u001b[0m\u001b[37m\u001b[0m \u001b[1m0s\u001b[0m 494us/step - loss: 377.9512\n",
      "Epoch 12/100\n",
      "\u001b[1m90/90\u001b[0m \u001b[32m━━━━━━━━━━━━━━━━━━━━\u001b[0m\u001b[37m\u001b[0m \u001b[1m0s\u001b[0m 472us/step - loss: 313.8022\n",
      "Epoch 13/100\n",
      "\u001b[1m90/90\u001b[0m \u001b[32m━━━━━━━━━━━━━━━━━━━━\u001b[0m\u001b[37m\u001b[0m \u001b[1m0s\u001b[0m 483us/step - loss: 261.9437\n",
      "Epoch 14/100\n",
      "\u001b[1m90/90\u001b[0m \u001b[32m━━━━━━━━━━━━━━━━━━━━\u001b[0m\u001b[37m\u001b[0m \u001b[1m0s\u001b[0m 472us/step - loss: 198.3349\n",
      "Epoch 15/100\n",
      "\u001b[1m90/90\u001b[0m \u001b[32m━━━━━━━━━━━━━━━━━━━━\u001b[0m\u001b[37m\u001b[0m \u001b[1m0s\u001b[0m 449us/step - loss: 169.3923\n",
      "Epoch 16/100\n",
      "\u001b[1m90/90\u001b[0m \u001b[32m━━━━━━━━━━━━━━━━━━━━\u001b[0m\u001b[37m\u001b[0m \u001b[1m0s\u001b[0m 461us/step - loss: 140.9206\n",
      "Epoch 17/100\n",
      "\u001b[1m90/90\u001b[0m \u001b[32m━━━━━━━━━━━━━━━━━━━━\u001b[0m\u001b[37m\u001b[0m \u001b[1m0s\u001b[0m 449us/step - loss: 133.3363\n",
      "Epoch 18/100\n",
      "\u001b[1m90/90\u001b[0m \u001b[32m━━━━━━━━━━━━━━━━━━━━\u001b[0m\u001b[37m\u001b[0m \u001b[1m0s\u001b[0m 483us/step - loss: 122.9486\n",
      "Epoch 19/100\n",
      "\u001b[1m90/90\u001b[0m \u001b[32m━━━━━━━━━━━━━━━━━━━━\u001b[0m\u001b[37m\u001b[0m \u001b[1m0s\u001b[0m 483us/step - loss: 140.8813\n",
      "Epoch 20/100\n",
      "\u001b[1m90/90\u001b[0m \u001b[32m━━━━━━━━━━━━━━━━━━━━\u001b[0m\u001b[37m\u001b[0m \u001b[1m0s\u001b[0m 461us/step - loss: 138.5429\n",
      "Epoch 21/100\n",
      "\u001b[1m90/90\u001b[0m \u001b[32m━━━━━━━━━━━━━━━━━━━━\u001b[0m\u001b[37m\u001b[0m \u001b[1m0s\u001b[0m 416us/step - loss: 139.1220\n",
      "Epoch 22/100\n",
      "\u001b[1m90/90\u001b[0m \u001b[32m━━━━━━━━━━━━━━━━━━━━\u001b[0m\u001b[37m\u001b[0m \u001b[1m0s\u001b[0m 416us/step - loss: 117.1473\n",
      "Epoch 23/100\n",
      "\u001b[1m90/90\u001b[0m \u001b[32m━━━━━━━━━━━━━━━━━━━━\u001b[0m\u001b[37m\u001b[0m \u001b[1m0s\u001b[0m 416us/step - loss: 143.1230\n",
      "Epoch 24/100\n",
      "\u001b[1m90/90\u001b[0m \u001b[32m━━━━━━━━━━━━━━━━━━━━\u001b[0m\u001b[37m\u001b[0m \u001b[1m0s\u001b[0m 438us/step - loss: 117.2854\n",
      "Epoch 25/100\n",
      "\u001b[1m90/90\u001b[0m \u001b[32m━━━━━━━━━━━━━━━━━━━━\u001b[0m\u001b[37m\u001b[0m \u001b[1m0s\u001b[0m 449us/step - loss: 127.4058\n",
      "Epoch 26/100\n",
      "\u001b[1m90/90\u001b[0m \u001b[32m━━━━━━━━━━━━━━━━━━━━\u001b[0m\u001b[37m\u001b[0m \u001b[1m0s\u001b[0m 427us/step - loss: 125.9644\n",
      "Epoch 27/100\n",
      "\u001b[1m90/90\u001b[0m \u001b[32m━━━━━━━━━━━━━━━━━━━━\u001b[0m\u001b[37m\u001b[0m \u001b[1m0s\u001b[0m 438us/step - loss: 126.9303\n",
      "Epoch 28/100\n",
      "\u001b[1m90/90\u001b[0m \u001b[32m━━━━━━━━━━━━━━━━━━━━\u001b[0m\u001b[37m\u001b[0m \u001b[1m0s\u001b[0m 416us/step - loss: 117.3964\n",
      "Epoch 29/100\n",
      "\u001b[1m90/90\u001b[0m \u001b[32m━━━━━━━━━━━━━━━━━━━━\u001b[0m\u001b[37m\u001b[0m \u001b[1m0s\u001b[0m 416us/step - loss: 139.1377\n",
      "Epoch 30/100\n",
      "\u001b[1m90/90\u001b[0m \u001b[32m━━━━━━━━━━━━━━━━━━━━\u001b[0m\u001b[37m\u001b[0m \u001b[1m0s\u001b[0m 427us/step - loss: 122.8646\n",
      "Epoch 31/100\n",
      "\u001b[1m90/90\u001b[0m \u001b[32m━━━━━━━━━━━━━━━━━━━━\u001b[0m\u001b[37m\u001b[0m \u001b[1m0s\u001b[0m 416us/step - loss: 148.3919\n",
      "Epoch 32/100\n",
      "\u001b[1m90/90\u001b[0m \u001b[32m━━━━━━━━━━━━━━━━━━━━\u001b[0m\u001b[37m\u001b[0m \u001b[1m0s\u001b[0m 416us/step - loss: 141.1222\n",
      "Epoch 33/100\n",
      "\u001b[1m90/90\u001b[0m \u001b[32m━━━━━━━━━━━━━━━━━━━━\u001b[0m\u001b[37m\u001b[0m \u001b[1m0s\u001b[0m 438us/step - loss: 130.7695\n",
      "Epoch 34/100\n",
      "\u001b[1m90/90\u001b[0m \u001b[32m━━━━━━━━━━━━━━━━━━━━\u001b[0m\u001b[37m\u001b[0m \u001b[1m0s\u001b[0m 404us/step - loss: 173.9965\n",
      "Epoch 35/100\n",
      "\u001b[1m90/90\u001b[0m \u001b[32m━━━━━━━━━━━━━━━━━━━━\u001b[0m\u001b[37m\u001b[0m \u001b[1m0s\u001b[0m 427us/step - loss: 125.1945\n",
      "Epoch 36/100\n",
      "\u001b[1m90/90\u001b[0m \u001b[32m━━━━━━━━━━━━━━━━━━━━\u001b[0m\u001b[37m\u001b[0m \u001b[1m0s\u001b[0m 427us/step - loss: 133.3591\n",
      "Epoch 37/100\n",
      "\u001b[1m90/90\u001b[0m \u001b[32m━━━━━━━━━━━━━━━━━━━━\u001b[0m\u001b[37m\u001b[0m \u001b[1m0s\u001b[0m 427us/step - loss: 119.0444\n",
      "Epoch 38/100\n",
      "\u001b[1m90/90\u001b[0m \u001b[32m━━━━━━━━━━━━━━━━━━━━\u001b[0m\u001b[37m\u001b[0m \u001b[1m0s\u001b[0m 427us/step - loss: 129.9419\n",
      "Epoch 39/100\n",
      "\u001b[1m90/90\u001b[0m \u001b[32m━━━━━━━━━━━━━━━━━━━━\u001b[0m\u001b[37m\u001b[0m \u001b[1m0s\u001b[0m 427us/step - loss: 138.3145\n",
      "Epoch 40/100\n",
      "\u001b[1m90/90\u001b[0m \u001b[32m━━━━━━━━━━━━━━━━━━━━\u001b[0m\u001b[37m\u001b[0m \u001b[1m0s\u001b[0m 427us/step - loss: 122.8291\n",
      "Epoch 41/100\n",
      "\u001b[1m90/90\u001b[0m \u001b[32m━━━━━━━━━━━━━━━━━━━━\u001b[0m\u001b[37m\u001b[0m \u001b[1m0s\u001b[0m 494us/step - loss: 147.1841\n",
      "Epoch 42/100\n",
      "\u001b[1m90/90\u001b[0m \u001b[32m━━━━━━━━━━━━━━━━━━━━\u001b[0m\u001b[37m\u001b[0m \u001b[1m0s\u001b[0m 494us/step - loss: 122.6721\n",
      "Epoch 43/100\n",
      "\u001b[1m90/90\u001b[0m \u001b[32m━━━━━━━━━━━━━━━━━━━━\u001b[0m\u001b[37m\u001b[0m \u001b[1m0s\u001b[0m 461us/step - loss: 108.6669\n",
      "Epoch 44/100\n",
      "\u001b[1m90/90\u001b[0m \u001b[32m━━━━━━━━━━━━━━━━━━━━\u001b[0m\u001b[37m\u001b[0m \u001b[1m0s\u001b[0m 483us/step - loss: 144.6198\n",
      "Epoch 45/100\n",
      "\u001b[1m90/90\u001b[0m \u001b[32m━━━━━━━━━━━━━━━━━━━━\u001b[0m\u001b[37m\u001b[0m \u001b[1m0s\u001b[0m 461us/step - loss: 155.5558\n",
      "Epoch 46/100\n",
      "\u001b[1m90/90\u001b[0m \u001b[32m━━━━━━━━━━━━━━━━━━━━\u001b[0m\u001b[37m\u001b[0m \u001b[1m0s\u001b[0m 820us/step - loss: 121.7680\n",
      "Epoch 47/100\n",
      "\u001b[1m90/90\u001b[0m \u001b[32m━━━━━━━━━━━━━━━━━━━━\u001b[0m\u001b[37m\u001b[0m \u001b[1m0s\u001b[0m 438us/step - loss: 137.8447\n",
      "Epoch 48/100\n",
      "\u001b[1m90/90\u001b[0m \u001b[32m━━━━━━━━━━━━━━━━━━━━\u001b[0m\u001b[37m\u001b[0m \u001b[1m0s\u001b[0m 438us/step - loss: 148.5060\n",
      "Epoch 49/100\n",
      "\u001b[1m90/90\u001b[0m \u001b[32m━━━━━━━━━━━━━━━━━━━━\u001b[0m\u001b[37m\u001b[0m \u001b[1m0s\u001b[0m 461us/step - loss: 129.6169\n",
      "Epoch 50/100\n",
      "\u001b[1m90/90\u001b[0m \u001b[32m━━━━━━━━━━━━━━━━━━━━\u001b[0m\u001b[37m\u001b[0m \u001b[1m0s\u001b[0m 461us/step - loss: 117.9242\n",
      "Epoch 51/100\n",
      "\u001b[1m90/90\u001b[0m \u001b[32m━━━━━━━━━━━━━━━━━━━━\u001b[0m\u001b[37m\u001b[0m \u001b[1m0s\u001b[0m 449us/step - loss: 164.3503\n",
      "Epoch 52/100\n",
      "\u001b[1m90/90\u001b[0m \u001b[32m━━━━━━━━━━━━━━━━━━━━\u001b[0m\u001b[37m\u001b[0m \u001b[1m0s\u001b[0m 427us/step - loss: 121.3377\n",
      "Epoch 53/100\n",
      "\u001b[1m90/90\u001b[0m \u001b[32m━━━━━━━━━━━━━━━━━━━━\u001b[0m\u001b[37m\u001b[0m \u001b[1m0s\u001b[0m 472us/step - loss: 114.7481\n",
      "Epoch 54/100\n",
      "\u001b[1m90/90\u001b[0m \u001b[32m━━━━━━━━━━━━━━━━━━━━\u001b[0m\u001b[37m\u001b[0m \u001b[1m0s\u001b[0m 472us/step - loss: 134.8381\n",
      "Epoch 55/100\n",
      "\u001b[1m90/90\u001b[0m \u001b[32m━━━━━━━━━━━━━━━━━━━━\u001b[0m\u001b[37m\u001b[0m \u001b[1m0s\u001b[0m 472us/step - loss: 133.2847\n",
      "Epoch 56/100\n",
      "\u001b[1m90/90\u001b[0m \u001b[32m━━━━━━━━━━━━━━━━━━━━\u001b[0m\u001b[37m\u001b[0m \u001b[1m0s\u001b[0m 427us/step - loss: 130.2307\n",
      "Epoch 57/100\n",
      "\u001b[1m90/90\u001b[0m \u001b[32m━━━━━━━━━━━━━━━━━━━━\u001b[0m\u001b[37m\u001b[0m \u001b[1m0s\u001b[0m 427us/step - loss: 139.4178\n",
      "Epoch 58/100\n",
      "\u001b[1m90/90\u001b[0m \u001b[32m━━━━━━━━━━━━━━━━━━━━\u001b[0m\u001b[37m\u001b[0m \u001b[1m0s\u001b[0m 416us/step - loss: 139.9598\n",
      "Epoch 59/100\n",
      "\u001b[1m90/90\u001b[0m \u001b[32m━━━━━━━━━━━━━━━━━━━━\u001b[0m\u001b[37m\u001b[0m \u001b[1m0s\u001b[0m 404us/step - loss: 132.6371\n",
      "Epoch 60/100\n",
      "\u001b[1m90/90\u001b[0m \u001b[32m━━━━━━━━━━━━━━━━━━━━\u001b[0m\u001b[37m\u001b[0m \u001b[1m0s\u001b[0m 393us/step - loss: 137.9648\n",
      "Epoch 61/100\n",
      "\u001b[1m90/90\u001b[0m \u001b[32m━━━━━━━━━━━━━━━━━━━━\u001b[0m\u001b[37m\u001b[0m \u001b[1m0s\u001b[0m 416us/step - loss: 139.0017\n",
      "Epoch 62/100\n",
      "\u001b[1m90/90\u001b[0m \u001b[32m━━━━━━━━━━━━━━━━━━━━\u001b[0m\u001b[37m\u001b[0m \u001b[1m0s\u001b[0m 404us/step - loss: 158.6584\n",
      "Epoch 63/100\n",
      "\u001b[1m90/90\u001b[0m \u001b[32m━━━━━━━━━━━━━━━━━━━━\u001b[0m\u001b[37m\u001b[0m \u001b[1m0s\u001b[0m 393us/step - loss: 119.1618\n",
      "Epoch 64/100\n",
      "\u001b[1m90/90\u001b[0m \u001b[32m━━━━━━━━━━━━━━━━━━━━\u001b[0m\u001b[37m\u001b[0m \u001b[1m0s\u001b[0m 404us/step - loss: 130.6745\n",
      "Epoch 65/100\n",
      "\u001b[1m90/90\u001b[0m \u001b[32m━━━━━━━━━━━━━━━━━━━━\u001b[0m\u001b[37m\u001b[0m \u001b[1m0s\u001b[0m 416us/step - loss: 107.5364\n",
      "Epoch 66/100\n",
      "\u001b[1m90/90\u001b[0m \u001b[32m━━━━━━━━━━━━━━━━━━━━\u001b[0m\u001b[37m\u001b[0m \u001b[1m0s\u001b[0m 449us/step - loss: 132.8593\n",
      "Epoch 67/100\n",
      "\u001b[1m90/90\u001b[0m \u001b[32m━━━━━━━━━━━━━━━━━━━━\u001b[0m\u001b[37m\u001b[0m \u001b[1m0s\u001b[0m 753us/step - loss: 126.7756\n",
      "Epoch 68/100\n",
      "\u001b[1m90/90\u001b[0m \u001b[32m━━━━━━━━━━━━━━━━━━━━\u001b[0m\u001b[37m\u001b[0m \u001b[1m0s\u001b[0m 404us/step - loss: 124.2483\n",
      "Epoch 69/100\n",
      "\u001b[1m90/90\u001b[0m \u001b[32m━━━━━━━━━━━━━━━━━━━━\u001b[0m\u001b[37m\u001b[0m \u001b[1m0s\u001b[0m 438us/step - loss: 134.4587\n",
      "Epoch 70/100\n",
      "\u001b[1m90/90\u001b[0m \u001b[32m━━━━━━━━━━━━━━━━━━━━\u001b[0m\u001b[37m\u001b[0m \u001b[1m0s\u001b[0m 438us/step - loss: 135.7484\n",
      "Epoch 71/100\n",
      "\u001b[1m90/90\u001b[0m \u001b[32m━━━━━━━━━━━━━━━━━━━━\u001b[0m\u001b[37m\u001b[0m \u001b[1m0s\u001b[0m 438us/step - loss: 129.2859\n",
      "Epoch 72/100\n",
      "\u001b[1m90/90\u001b[0m \u001b[32m━━━━━━━━━━━━━━━━━━━━\u001b[0m\u001b[37m\u001b[0m \u001b[1m0s\u001b[0m 449us/step - loss: 123.1247\n",
      "Epoch 73/100\n",
      "\u001b[1m90/90\u001b[0m \u001b[32m━━━━━━━━━━━━━━━━━━━━\u001b[0m\u001b[37m\u001b[0m \u001b[1m0s\u001b[0m 461us/step - loss: 122.2551\n",
      "Epoch 74/100\n",
      "\u001b[1m90/90\u001b[0m \u001b[32m━━━━━━━━━━━━━━━━━━━━\u001b[0m\u001b[37m\u001b[0m \u001b[1m0s\u001b[0m 438us/step - loss: 151.1337\n",
      "Epoch 75/100\n",
      "\u001b[1m90/90\u001b[0m \u001b[32m━━━━━━━━━━━━━━━━━━━━\u001b[0m\u001b[37m\u001b[0m \u001b[1m0s\u001b[0m 449us/step - loss: 131.8203\n",
      "Epoch 76/100\n",
      "\u001b[1m90/90\u001b[0m \u001b[32m━━━━━━━━━━━━━━━━━━━━\u001b[0m\u001b[37m\u001b[0m \u001b[1m0s\u001b[0m 449us/step - loss: 134.2632\n",
      "Epoch 77/100\n",
      "\u001b[1m90/90\u001b[0m \u001b[32m━━━━━━━━━━━━━━━━━━━━\u001b[0m\u001b[37m\u001b[0m \u001b[1m0s\u001b[0m 461us/step - loss: 137.1678\n",
      "Epoch 78/100\n",
      "\u001b[1m90/90\u001b[0m \u001b[32m━━━━━━━━━━━━━━━━━━━━\u001b[0m\u001b[37m\u001b[0m \u001b[1m0s\u001b[0m 438us/step - loss: 131.1293\n",
      "Epoch 79/100\n",
      "\u001b[1m90/90\u001b[0m \u001b[32m━━━━━━━━━━━━━━━━━━━━\u001b[0m\u001b[37m\u001b[0m \u001b[1m0s\u001b[0m 449us/step - loss: 129.3253\n",
      "Epoch 80/100\n",
      "\u001b[1m90/90\u001b[0m \u001b[32m━━━━━━━━━━━━━━━━━━━━\u001b[0m\u001b[37m\u001b[0m \u001b[1m0s\u001b[0m 449us/step - loss: 135.5429\n",
      "Epoch 81/100\n",
      "\u001b[1m90/90\u001b[0m \u001b[32m━━━━━━━━━━━━━━━━━━━━\u001b[0m\u001b[37m\u001b[0m \u001b[1m0s\u001b[0m 449us/step - loss: 150.3907\n",
      "Epoch 82/100\n",
      "\u001b[1m90/90\u001b[0m \u001b[32m━━━━━━━━━━━━━━━━━━━━\u001b[0m\u001b[37m\u001b[0m \u001b[1m0s\u001b[0m 449us/step - loss: 131.6029\n",
      "Epoch 83/100\n",
      "\u001b[1m90/90\u001b[0m \u001b[32m━━━━━━━━━━━━━━━━━━━━\u001b[0m\u001b[37m\u001b[0m \u001b[1m0s\u001b[0m 831us/step - loss: 121.6162\n",
      "Epoch 84/100\n",
      "\u001b[1m90/90\u001b[0m \u001b[32m━━━━━━━━━━━━━━━━━━━━\u001b[0m\u001b[37m\u001b[0m \u001b[1m0s\u001b[0m 449us/step - loss: 118.0808\n",
      "Epoch 85/100\n",
      "\u001b[1m90/90\u001b[0m \u001b[32m━━━━━━━━━━━━━━━━━━━━\u001b[0m\u001b[37m\u001b[0m \u001b[1m0s\u001b[0m 461us/step - loss: 145.0355\n",
      "Epoch 86/100\n",
      "\u001b[1m90/90\u001b[0m \u001b[32m━━━━━━━━━━━━━━━━━━━━\u001b[0m\u001b[37m\u001b[0m \u001b[1m0s\u001b[0m 472us/step - loss: 118.3713\n",
      "Epoch 87/100\n",
      "\u001b[1m90/90\u001b[0m \u001b[32m━━━━━━━━━━━━━━━━━━━━\u001b[0m\u001b[37m\u001b[0m \u001b[1m0s\u001b[0m 449us/step - loss: 149.9074\n",
      "Epoch 88/100\n",
      "\u001b[1m90/90\u001b[0m \u001b[32m━━━━━━━━━━━━━━━━━━━━\u001b[0m\u001b[37m\u001b[0m \u001b[1m0s\u001b[0m 461us/step - loss: 159.9434\n",
      "Epoch 89/100\n",
      "\u001b[1m90/90\u001b[0m \u001b[32m━━━━━━━━━━━━━━━━━━━━\u001b[0m\u001b[37m\u001b[0m \u001b[1m0s\u001b[0m 438us/step - loss: 124.0128\n",
      "Epoch 90/100\n",
      "\u001b[1m90/90\u001b[0m \u001b[32m━━━━━━━━━━━━━━━━━━━━\u001b[0m\u001b[37m\u001b[0m \u001b[1m0s\u001b[0m 438us/step - loss: 123.2053\n",
      "Epoch 91/100\n",
      "\u001b[1m90/90\u001b[0m \u001b[32m━━━━━━━━━━━━━━━━━━━━\u001b[0m\u001b[37m\u001b[0m \u001b[1m0s\u001b[0m 449us/step - loss: 110.9261\n",
      "Epoch 92/100\n",
      "\u001b[1m90/90\u001b[0m \u001b[32m━━━━━━━━━━━━━━━━━━━━\u001b[0m\u001b[37m\u001b[0m \u001b[1m0s\u001b[0m 461us/step - loss: 128.5032\n",
      "Epoch 93/100\n",
      "\u001b[1m90/90\u001b[0m \u001b[32m━━━━━━━━━━━━━━━━━━━━\u001b[0m\u001b[37m\u001b[0m \u001b[1m0s\u001b[0m 472us/step - loss: 129.0376\n",
      "Epoch 94/100\n",
      "\u001b[1m90/90\u001b[0m \u001b[32m━━━━━━━━━━━━━━━━━━━━\u001b[0m\u001b[37m\u001b[0m \u001b[1m0s\u001b[0m 449us/step - loss: 140.9365\n",
      "Epoch 95/100\n",
      "\u001b[1m90/90\u001b[0m \u001b[32m━━━━━━━━━━━━━━━━━━━━\u001b[0m\u001b[37m\u001b[0m \u001b[1m0s\u001b[0m 461us/step - loss: 145.2267\n",
      "Epoch 96/100\n",
      "\u001b[1m90/90\u001b[0m \u001b[32m━━━━━━━━━━━━━━━━━━━━\u001b[0m\u001b[37m\u001b[0m \u001b[1m0s\u001b[0m 798us/step - loss: 136.0076\n",
      "Epoch 97/100\n",
      "\u001b[1m90/90\u001b[0m \u001b[32m━━━━━━━━━━━━━━━━━━━━\u001b[0m\u001b[37m\u001b[0m \u001b[1m0s\u001b[0m 393us/step - loss: 124.6284\n",
      "Epoch 98/100\n",
      "\u001b[1m90/90\u001b[0m \u001b[32m━━━━━━━━━━━━━━━━━━━━\u001b[0m\u001b[37m\u001b[0m \u001b[1m0s\u001b[0m 416us/step - loss: 142.1955\n",
      "Epoch 99/100\n",
      "\u001b[1m90/90\u001b[0m \u001b[32m━━━━━━━━━━━━━━━━━━━━\u001b[0m\u001b[37m\u001b[0m \u001b[1m0s\u001b[0m 438us/step - loss: 132.9680\n",
      "Epoch 100/100\n",
      "\u001b[1m90/90\u001b[0m \u001b[32m━━━━━━━━━━━━━━━━━━━━\u001b[0m\u001b[37m\u001b[0m \u001b[1m0s\u001b[0m 438us/step - loss: 125.3692\n",
      "\u001b[1m23/23\u001b[0m \u001b[32m━━━━━━━━━━━━━━━━━━━━\u001b[0m\u001b[37m\u001b[0m \u001b[1m0s\u001b[0m 409us/step - loss: 106.9727\n",
      "\u001b[1m23/23\u001b[0m \u001b[32m━━━━━━━━━━━━━━━━━━━━\u001b[0m\u001b[37m\u001b[0m \u001b[1m0s\u001b[0m 1ms/step \n"
     ]
    }
   ],
   "source": [
    "# Define your features\n",
    "\n",
    "features = ['type', 'luxury', 'beach', 'wild', 'rating']\n",
    "\n",
    "# Convert pandas DataFrames to TensorFlow Datasets\n",
    "train_dataset = tf.data.Dataset.from_tensor_slices((X_train[features].values, y_train[['long_buf', 'lat_buf']].values))\n",
    "test_dataset = tf.data.Dataset.from_tensor_slices((X_test[features].values, y_test[['long_buf', 'lat_buf']].values))\n",
    "\n",
    "# Shuffle and batch the datasets\n",
    "batch_size = 32\n",
    "train_dataset = train_dataset.shuffle(buffer_size=len(X_train)).batch(batch_size)\n",
    "test_dataset = test_dataset.batch(batch_size)\n",
    "\n",
    "# Define your neural network architecture\n",
    "model = keras.Sequential([\n",
    "    keras.layers.Dense(64, activation='relu', input_shape=(len(features),)),\n",
    "    keras.layers.Dense(64, activation='relu'),\n",
    "    keras.layers.Dense(2)  # Output layer with 2 units for latitude and longitude\n",
    "])\n",
    "\n",
    "# Compile the model with appropriate loss function and optimizer\n",
    "model.compile(optimizer ='adamax', loss ='mse')\n",
    "\n",
    "# Train the model\n",
    "\n",
    "model.fit(train_dataset, epochs = 100)\n",
    "\n",
    "# Evaluate the model\n",
    "\n",
    "loss = model.evaluate(test_dataset)\n",
    "\n",
    "# Make predictions\n",
    "\n",
    "predictions = model.predict(test_dataset)\n"
   ]
  },
  {
   "cell_type": "code",
   "execution_count": 189,
   "id": "e5b7867e-155a-478e-94e7-54e34a695260",
   "metadata": {
    "tags": []
   },
   "outputs": [
    {
     "data": {
      "image/png": "[encoded data removed]",
      "text/plain": [
       "<Figure size 800x600 with 1 Axes>"
      ]
     },
     "metadata": {},
     "output_type": "display_data"
    },
    {
     "data": {
      "image/png": "[encoded data removed]",
      "text/plain": [
       "<Figure size 800x600 with 1 Axes>"
      ]
     },
     "metadata": {},
     "output_type": "display_data"
    }
   ],
   "source": [
    "# Extract predicted latitude and longitude\n",
    "predicted_latitude = predictions[:, 0]\n",
    "predicted_longitude = predictions[:, 1]\n",
    "\n",
    "# Extract true latitude and longitude\n",
    "true_latitude = y_test[\"lat_buf\"]\n",
    "true_longitude = y_test[\"long_buf\"]\n",
    "\n",
    "# Plot predicted vs true latitude\n",
    "plt.figure(figsize=(8, 6))\n",
    "plt.scatter(true_latitude, predicted_latitude, color='blue', label='Predicted Latitude')\n",
    "plt.scatter(true_latitude, true_latitude, color='red', label='True Latitude')\n",
    "plt.xlabel('Latitude')\n",
    "plt.ylabel('Latitude')\n",
    "plt.title('Predicted vs True Latitude')\n",
    "plt.legend()\n",
    "plt.grid(True)\n",
    "plt.show()\n",
    "\n",
    "# Plot predicted vs true longitude\n",
    "plt.figure(figsize=(8, 6))\n",
    "plt.scatter(true_longitude, predicted_longitude, color='green', label='Predicted Longitude')\n",
    "plt.scatter(true_longitude, true_longitude, color='orange', label='True Longitude')\n",
    "plt.xlabel('Longitude')\n",
    "plt.ylabel('Longitude')\n",
    "plt.title('Predicted vs True Longitude')\n",
    "plt.legend()\n",
    "plt.grid(True)\n",
    "plt.show()"
   ]
  },
  {
   "cell_type": "code",
   "execution_count": 201,
   "id": "3f19f230-63ec-42d0-a339-1e5ba9af0153",
   "metadata": {
    "tags": []
   },
   "outputs": [
    {
     "ename": "AttributeError",
     "evalue": "'numpy.ndarray' object has no attribute 'values'",
     "output_type": "error",
     "traceback": [
      "\u001b[1;31m---------------------------------------------------------------------------\u001b[0m",
      "\u001b[1;31mAttributeError\u001b[0m                            Traceback (most recent call last)",
      "Cell \u001b[1;32mIn[201], line 24\u001b[0m\n\u001b[0;32m     21\u001b[0m model\u001b[38;5;241m.\u001b[39mcompile(optimizer\u001b[38;5;241m=\u001b[39m\u001b[38;5;124m'\u001b[39m\u001b[38;5;124madamax\u001b[39m\u001b[38;5;124m'\u001b[39m, loss\u001b[38;5;241m=\u001b[39m\u001b[38;5;124m'\u001b[39m\u001b[38;5;124mmse\u001b[39m\u001b[38;5;124m'\u001b[39m)\n\u001b[0;32m     23\u001b[0m \u001b[38;5;66;03m# Convert pandas DataFrames to numpy arrays\u001b[39;00m\n\u001b[1;32m---> 24\u001b[0m X_train \u001b[38;5;241m=\u001b[39m X_train\u001b[38;5;241m.\u001b[39mvalues\n\u001b[0;32m     25\u001b[0m y_train \u001b[38;5;241m=\u001b[39m y_train\u001b[38;5;241m.\u001b[39mvalues\n\u001b[0;32m     26\u001b[0m X_test \u001b[38;5;241m=\u001b[39m X_test\u001b[38;5;241m.\u001b[39mvalues\n",
      "\u001b[1;31mAttributeError\u001b[0m: 'numpy.ndarray' object has no attribute 'values'"
     ]
    }
   ],
   "source": [
    "from tensorflow.keras.models import Sequential\n",
    "from tensorflow.keras.layers import Dense\n",
    "\n",
    "# Assuming X_train, X_val, X_test are your pandas DataFrames containing training, validation, and testing data\n",
    "# X_train, y_train, X_val, y_val, X_test, y_test are your features and target variables split accordingly\n",
    "\n",
    "# Define your features\n",
    "features = ['type', 'luxury', 'beach', 'wild', 'rating']\n",
    "\n",
    "# Define your target variables\n",
    "target_variables = ['long_buf', 'lat_buf']\n",
    "\n",
    "# Define the neural network architecture\n",
    "model = Sequential([\n",
    "    Dense(64, activation='relu', input_shape=(len(features),)),\n",
    "    Dense(64, activation='relu'),\n",
    "    Dense(len(target_variables))  # Output layer with 2 units for latitude and longitude\n",
    "])\n",
    "\n",
    "# Compile the model with appropriate loss function and optimizer\n",
    "model.compile(optimizer='adamax', loss='mse')\n",
    "\n",
    "# Convert pandas DataFrames to numpy arrays\n",
    "X_train = X_train.values\n",
    "y_train = y_train.values\n",
    "X_test = X_test.values\n",
    "y_test = y_test.values\n",
    "\n",
    "# Train the model\n",
    "\n",
    "model.fit(X_train, y_train, epochs=75)\n",
    "\n",
    "# Evaluate the model\n",
    "loss = model.evaluate(X_test, y_test)\n",
    "\n",
    "# Make predictions\n",
    "predictions = model.predict(X_test)\n"
   ]
  },
  {
   "cell_type": "code",
   "execution_count": 108,
   "id": "fb2848f1-6cf2-4a87-b7c9-76d493ffdefb",
   "metadata": {
    "collapsed": true,
    "jupyter": {
     "outputs_hidden": true
    },
    "tags": []
   },
   "outputs": [
    {
     "data": {
      "image/png": "[encoded data removed]",
      "text/plain": [
       "<Figure size 800x600 with 1 Axes>"
      ]
     },
     "metadata": {},
     "output_type": "display_data"
    },
    {
     "data": {
      "image/png": "[encoded data removed]",
      "text/plain": [
       "<Figure size 800x600 with 1 Axes>"
      ]
     },
     "metadata": {},
     "output_type": "display_data"
    }
   ],
   "source": [
    "# Extract predicted latitude and longitude\n",
    "predicted_latitude = predictions[:, 0]\n",
    "predicted_longitude = predictions[:, 1]\n",
    "\n",
    "# Extract true latitude and longitude\n",
    "true_latitude = y_test[:, 0]\n",
    "true_longitude = y_test[:, 1]\n",
    "\n",
    "# Plot predicted vs true latitude\n",
    "plt.figure(figsize=(8, 6))\n",
    "plt.scatter(true_latitude, predicted_latitude, color='blue', label='Predicted Latitude')\n",
    "plt.scatter(true_latitude, true_latitude, color='red', label='True Latitude')\n",
    "plt.xlabel('Latitude')\n",
    "plt.ylabel('Latitude')\n",
    "plt.title('Predicted vs True Latitude')\n",
    "plt.legend()\n",
    "plt.grid(True)\n",
    "plt.show()\n",
    "\n",
    "# Plot predicted vs true longitude\n",
    "plt.figure(figsize=(8, 6))\n",
    "plt.scatter(true_longitude, predicted_longitude, color='green', label='Predicted Longitude')\n",
    "plt.scatter(true_longitude, true_longitude, color='orange', label='True Longitude')\n",
    "plt.xlabel('Longitude')\n",
    "plt.ylabel('Longitude')\n",
    "plt.title('Predicted vs True Longitude')\n",
    "plt.legend()\n",
    "plt.grid(True)\n",
    "plt.show()"
   ]
  },
  {
   "cell_type": "code",
   "execution_count": 110,
   "id": "6f9c142e-f919-4cc7-a1b7-6b8ba4fe6604",
   "metadata": {
    "collapsed": true,
    "jupyter": {
     "outputs_hidden": true
    },
    "tags": []
   },
   "outputs": [
    {
     "data": {
      "text/plain": [
       "array([0.57799685, 0.57799685, 0.57799685, 0.57799685, 0.57799685,\n",
       "       0.57799685, 0.57799685, 0.57799685, 0.57799685, 0.57799685,\n",
       "       0.57799685, 0.57799685, 0.57799685, 0.57799685, 0.57799685,\n",
       "       0.57799685, 0.57799685, 0.57799685, 0.57799685, 0.57799685,\n",
       "       0.57799685, 0.57799685, 0.57799685, 0.57799685, 0.57799685,\n",
       "       0.57799685, 0.57799685, 0.57799685, 0.57799685, 0.57799685,\n",
       "       0.5779969 , 0.5779969 , 0.57799685, 0.57799685, 0.57799685,\n",
       "       0.57799685, 0.57799685, 0.57799685, 0.57799685, 0.57799685,\n",
       "       0.57799685, 0.57799685, 0.57799685, 0.57799685, 0.57799685,\n",
       "       0.57799685, 0.57799685, 0.57799685, 0.57799685, 0.57799685,\n",
       "       0.57799685, 0.57799685, 0.57799685, 0.57799685, 0.57799685,\n",
       "       0.57799685, 0.57799685, 0.57799685, 0.57799685, 0.57799685,\n",
       "       0.57799685, 0.57799685, 0.5779969 , 0.5779969 , 0.57799685,\n",
       "       0.57799685, 0.57799685, 0.57799685, 0.57799685, 0.57799685,\n",
       "       0.57799685, 0.57799685, 0.57799685, 0.57799685, 0.57799685,\n",
       "       0.57799685, 0.57799685, 0.57799685, 0.57799685, 0.57799685,\n",
       "       0.57799685, 0.57799685, 0.57799685, 0.57799685, 0.57799685,\n",
       "       0.57799685, 0.57799685, 0.57799685, 0.57799685, 0.57799685,\n",
       "       0.57799685, 0.57799685, 0.57799685, 0.57799685, 0.5779969 ,\n",
       "       0.5779969 , 0.57799685, 0.57799685, 0.57799685, 0.57799685,\n",
       "       0.57799685, 0.57799685, 0.57799685, 0.57799685, 0.57799685,\n",
       "       0.57799685, 0.57799685, 0.57799685, 0.57799685, 0.57799685,\n",
       "       0.57799685, 0.57799685, 0.57799685, 0.57799685, 0.57799685,\n",
       "       0.57799685, 0.57799685, 0.57799685, 0.57799685, 0.57799685,\n",
       "       0.57799685, 0.57799685, 0.57799685, 0.57799685, 0.57799685,\n",
       "       0.57799685, 0.5779969 , 0.5779969 , 0.57799685, 0.57799685,\n",
       "       0.57799685, 0.57799685, 0.57799685, 0.57799685, 0.57799685,\n",
       "       0.57799685, 0.57799685, 0.57799685, 0.57799685, 0.57799685,\n",
       "       0.57799685, 0.57799685, 0.57799685, 0.57799685, 0.57799685,\n",
       "       0.57799685, 0.57799685, 0.57799685, 0.57799685, 0.57799685,\n",
       "       0.57799685, 0.57799685, 0.57799685, 0.57799685, 0.57799685,\n",
       "       0.57799685, 0.57799685, 0.57799685, 0.5779969 , 0.5779969 ,\n",
       "       0.57799685, 0.57799685, 0.57799685, 0.57799685, 0.57799685,\n",
       "       0.57799685, 0.57799685, 0.57799685, 0.57799685, 0.57799685,\n",
       "       0.57799685, 0.57799685, 0.57799685, 0.57799685, 0.57799685,\n",
       "       0.57799685, 0.57799685, 0.57799685, 0.57799685, 0.57799685,\n",
       "       0.57799685, 0.57799685, 0.57799685, 0.57799685, 0.57799685,\n",
       "       0.57799685, 0.57799685, 0.57799685, 0.57799685, 0.57799685,\n",
       "       0.5779969 , 0.5779969 , 0.57799685, 0.57799685, 0.57799685,\n",
       "       0.57799685, 0.57799685, 0.57799685, 0.57799685, 0.57799685,\n",
       "       0.57799685, 0.57799685, 0.57799685, 0.57799685, 0.57799685,\n",
       "       0.57799685, 0.57799685, 0.57799685, 0.57799685, 0.57799685,\n",
       "       0.57799685, 0.57799685, 0.57799685, 0.57799685, 0.57799685,\n",
       "       0.57799685, 0.57799685, 0.57799685, 0.57799685, 0.57799685,\n",
       "       0.57799685, 0.57799685, 0.5779969 , 0.5779969 , 0.57799685,\n",
       "       0.57799685, 0.57799685, 0.57799685, 0.57799685, 0.57799685,\n",
       "       0.57799685, 0.57799685, 0.57799685, 0.57799685, 0.57799685,\n",
       "       0.57799685, 0.57799685, 0.57799685, 0.57799685, 0.57799685,\n",
       "       0.57799685, 0.57799685, 0.57799685, 0.57799685, 0.57799685,\n",
       "       0.57799685, 0.57799685, 0.57799685, 0.57799685, 0.57799685,\n",
       "       0.57799685, 0.57799685, 0.57799685, 0.57799685, 0.5779969 ,\n",
       "       0.5779969 , 0.57799685, 0.57799685, 0.57799685, 0.57799685,\n",
       "       0.57799685, 0.57799685, 0.57799685, 0.57799685, 0.57799685,\n",
       "       0.57799685, 0.57799685, 0.57799685, 0.57799685, 0.57799685,\n",
       "       0.57799685, 0.57799685, 0.57799685, 0.57799685, 0.57799685,\n",
       "       0.57799685, 0.57799685, 0.57799685, 0.57799685, 0.57799685,\n",
       "       0.57799685, 0.57799685, 0.57799685, 0.57799685, 0.57799685,\n",
       "       0.57799685, 0.5779969 , 0.5779969 , 0.57799685, 0.57799685,\n",
       "       0.57799685, 0.57799685, 0.57799685, 0.57799685, 0.57799685,\n",
       "       0.57799685, 0.57799685, 0.57799685, 0.57799685, 0.57799685,\n",
       "       0.57799685, 0.57799685, 0.57799685, 0.57799685, 0.57799685,\n",
       "       0.57799685, 0.57799685, 0.57799685, 0.57799685, 0.57799685,\n",
       "       0.57799685, 0.57799685, 0.57799685, 0.57799685, 0.57799685,\n",
       "       0.57799685, 0.57799685, 0.57799685, 0.5779969 , 0.5779969 ,\n",
       "       0.57799685, 0.57799685, 0.57799685, 0.57799685, 0.57799685,\n",
       "       0.57799685, 0.57799685, 0.57799685, 0.57799685, 0.57799685,\n",
       "       0.57799685, 0.57799685, 0.57799685, 0.57799685, 0.57799685,\n",
       "       0.57799685, 0.57799685, 0.57799685, 0.57799685, 0.57799685,\n",
       "       0.57799685, 0.57799685, 0.57799685, 0.57799685, 0.57799685,\n",
       "       0.57799685, 0.57799685, 0.57799685, 0.57799685, 0.57799685,\n",
       "       0.5779969 , 0.5779969 , 0.57799685, 0.57799685, 0.57799685,\n",
       "       0.57799685, 0.57799685, 0.57799685, 0.57799685, 0.57799685,\n",
       "       0.57799685, 0.57799685, 0.57799685, 0.57799685, 0.57799685,\n",
       "       0.57799685, 0.57799685, 0.57799685, 0.57799685, 0.57799685,\n",
       "       0.57799685, 0.57799685, 0.57799685, 0.57799685, 0.57799685,\n",
       "       0.57799685, 0.57799685, 0.57799685, 0.57799685, 0.57799685,\n",
       "       0.57799685, 0.57799685, 0.5779969 , 0.5779969 , 0.57799685,\n",
       "       0.57799685, 0.57799685, 0.57799685, 0.57799685, 0.57799685,\n",
       "       0.57799685, 0.57799685, 0.57799685, 0.57799685, 0.57799685,\n",
       "       0.57799685, 0.57799685, 0.57799685, 0.57799685, 0.57799685,\n",
       "       0.57799685, 0.57799685, 0.57799685, 0.57799685, 0.57799685,\n",
       "       0.57799685, 0.57799685, 0.57799685, 0.57799685, 0.57799685,\n",
       "       0.57799685, 0.57799685, 0.57799685, 0.57799685, 0.5779969 ,\n",
       "       0.5779969 , 0.57799685, 0.57799685, 0.57799685, 0.57799685,\n",
       "       0.57799685, 0.57799685, 0.57799685, 0.57799685, 0.57799685,\n",
       "       0.57799685, 0.57799685, 0.57799685, 0.57799685, 0.57799685,\n",
       "       0.57799685, 0.57799685, 0.57799685, 0.57799685, 0.57799685,\n",
       "       0.57799685, 0.57799685, 0.57799685, 0.57799685, 0.57799685,\n",
       "       0.57799685, 0.57799685, 0.57799685, 0.57799685, 0.57799685,\n",
       "       0.57799685, 0.5779969 , 0.5779969 , 0.57799685, 0.57799685,\n",
       "       0.57799685, 0.57799685, 0.57799685, 0.57799685, 0.57799685,\n",
       "       0.57799685, 0.57799685, 0.57799685, 0.57799685, 0.57799685,\n",
       "       0.57799685, 0.57799685, 0.57799685, 0.57799685, 0.57799685,\n",
       "       0.57799685, 0.57799685, 0.57799685, 0.57799685, 0.57799685,\n",
       "       0.57799685, 0.57799685, 0.57799685, 0.57799685, 0.57799685,\n",
       "       0.57799685, 0.57799685, 0.57799685, 0.5779969 , 0.5779969 ,\n",
       "       0.57799685, 0.57799685, 0.57799685, 0.57799685, 0.57799685,\n",
       "       0.57799685, 0.57799685, 0.57799685, 0.57799685, 0.57799685,\n",
       "       0.57799685, 0.57799685, 0.57799685, 0.57799685, 0.57799685,\n",
       "       0.57799685, 0.57799685, 0.57799685, 0.57799685, 0.57799685,\n",
       "       0.57799685, 0.57799685, 0.57799685, 0.57799685, 0.57799685,\n",
       "       0.57799685, 0.57799685, 0.57799685, 0.57799685, 0.57799685,\n",
       "       0.5779969 , 0.5779969 , 0.57799685, 0.57799685, 0.57799685,\n",
       "       0.57799685, 0.57799685, 0.57799685, 0.57799685, 0.57799685,\n",
       "       0.57799685, 0.57799685, 0.57799685, 0.57799685, 0.57799685,\n",
       "       0.57799685, 0.57799685, 0.57799685, 0.57799685, 0.57799685,\n",
       "       0.57799685, 0.57799685, 0.57799685, 0.57799685, 0.57799685,\n",
       "       0.57799685, 0.57799685, 0.57799685, 0.57799685, 0.57799685,\n",
       "       0.57799685, 0.57799685, 0.5779969 , 0.5779969 , 0.57799685,\n",
       "       0.57799685, 0.57799685, 0.57799685, 0.57799685, 0.57799685,\n",
       "       0.57799685, 0.57799685, 0.57799685, 0.57799685, 0.57799685,\n",
       "       0.57799685, 0.57799685, 0.57799685, 0.57799685, 0.57799685,\n",
       "       0.57799685, 0.57799685, 0.57799685, 0.57799685, 0.57799685,\n",
       "       0.57799685, 0.57799685, 0.57799685, 0.57799685, 0.57799685,\n",
       "       0.57799685, 0.57799685, 0.57799685, 0.57799685, 0.5779969 ,\n",
       "       0.5779969 , 0.57799685, 0.57799685, 0.57799685, 0.57799685,\n",
       "       0.57799685, 0.57799685, 0.57799685, 0.57799685, 0.57799685,\n",
       "       0.57799685, 0.57799685, 0.57799685, 0.57799685, 0.57799685,\n",
       "       0.57799685, 0.57799685, 0.57799685, 0.57799685, 0.57799685,\n",
       "       0.57799685, 0.57799685, 0.57799685, 0.57799685, 0.57799685,\n",
       "       0.57799685, 0.57799685, 0.57799685, 0.57799685, 0.57799685,\n",
       "       0.57799685, 0.5779969 , 0.5779969 , 0.57799685, 0.57799685,\n",
       "       0.57799685, 0.57799685, 0.57799685, 0.57799685, 0.57799685,\n",
       "       0.57799685, 0.57799685, 0.57799685, 0.57799685, 0.57799685,\n",
       "       0.57799685, 0.57799685, 0.57799685, 0.57799685, 0.57799685,\n",
       "       0.57799685, 0.57799685, 0.57799685, 0.57799685, 0.57799685,\n",
       "       0.57799685, 0.57799685, 0.57799685, 0.57799685, 0.57799685,\n",
       "       0.57799685, 0.57799685, 0.57799685, 0.5779969 , 0.5779969 ,\n",
       "       0.57799685, 0.57799685, 0.57799685, 0.57799685, 0.57799685,\n",
       "       0.57799685, 0.57799685, 0.57799685, 0.57799685, 0.57799685,\n",
       "       0.57799685, 0.57799685, 0.57799685, 0.57799685, 0.57799685,\n",
       "       0.57799685, 0.57799685, 0.57799685, 0.57799685, 0.57799685,\n",
       "       0.57799685, 0.57799685, 0.57799685, 0.57799685, 0.57799685,\n",
       "       0.57799685, 0.57799685, 0.57799685, 0.57799685, 0.57799685,\n",
       "       0.5779969 , 0.5779969 , 0.57799685, 0.57799685, 0.57799685,\n",
       "       0.57799685, 0.57799685, 0.57799685, 0.57799685, 0.57799685,\n",
       "       0.57799685, 0.57799685, 0.57799685, 0.57799685, 0.57799685,\n",
       "       0.57799685, 0.57799685, 0.57799685, 0.57799685, 0.57799685,\n",
       "       0.57799685, 0.57799685, 0.57799685, 0.57799685, 0.57799685,\n",
       "       0.57799685, 0.57799685, 0.57799685, 0.57799685, 0.57799685,\n",
       "       0.57799685, 0.57799685, 0.5779969 , 0.5779969 , 0.57799685,\n",
       "       0.57799685, 0.57799685, 0.57799685, 0.57799685, 0.57799685,\n",
       "       0.57799685, 0.57799685, 0.57799685, 0.57799685, 0.57799685],\n",
       "      dtype=float32)"
      ]
     },
     "execution_count": 110,
     "metadata": {},
     "output_type": "execute_result"
    }
   ],
   "source": [
    "predicted_latitude"
   ]
  },
  {
   "cell_type": "code",
   "execution_count": null,
   "id": "4f16e837-468e-4c06-95f6-aceaaa037819",
   "metadata": {
    "collapsed": true,
    "jupyter": {
     "outputs_hidden": true
    }
   },
   "outputs": [],
   "source": [
    "# X_train,  X_test,  split accordingly (80% train, 20% test)\n",
    "\n",
    "X_train, X_test = train_test_split(dfgeoca, test_size=0.2, random_state=42)\n",
    "\n",
    "# X_val, from X_train, split accordingly (75% train, 25% val)\n",
    "\n",
    "X_train, X_val = train_test_split(dfgeoca, test_size=0.4, random_state=42)\n",
    "\n",
    "# Y_train, y_test defined:\n",
    "\n",
    "y_train = X_train[['lat_buf', 'long_buf']]\n",
    "y_test = X_test[['lat_buf', 'long_buf']]"
   ]
  },
  {
   "cell_type": "markdown",
   "id": "040e5b7e-78b0-4a46-bc34-0708940e04a9",
   "metadata": {},
   "source": [
    "Random Forest ---> the one we will choose, because I understand it better than gradient boosting."
   ]
  },
  {
   "cell_type": "code",
   "execution_count": null,
   "id": "79db7b7c-5a1b-4d17-a267-8baeb27d0dfe",
   "metadata": {
    "collapsed": true,
    "jupyter": {
     "outputs_hidden": true
    }
   },
   "outputs": [],
   "source": [
    "rf_content = RandomForestClassifier(n_estimators=100, random_state=42)\n",
    "\n",
    "rf_content.fit(X_train_content, y_train_content)\n",
    "\n",
    "y_pred_rf = rf_content.predict(X_test_content)\n",
    "accuracy_rf = accuracy_score(y_test_content, y_pred_rf)\n",
    "print(f'Random Forest - Accuracy: {accuracy_rf:.3f}')"
   ]
  },
  {
   "cell_type": "code",
   "execution_count": null,
   "id": "d8ddda8c-bf21-4d15-ada1-b1c0e5551f64",
   "metadata": {
    "collapsed": true,
    "jupyter": {
     "outputs_hidden": true
    }
   },
   "outputs": [],
   "source": [
    "# Generating the classification report\n",
    "classification_rep = classification_report(y_test_content, y_pred_rf)\n",
    "\n",
    "print(\"Random Forest Classification Report:\")\n",
    "print(classification_rep)"
   ]
  },
  {
   "cell_type": "markdown",
   "id": "b36001e9-7cb9-4c34-9c6d-0d6a154a84c9",
   "metadata": {},
   "source": [
    "Decision Tree"
   ]
  },
  {
   "cell_type": "code",
   "execution_count": null,
   "id": "3b7519ef-1e57-4c4c-9091-3f1d6f77dd72",
   "metadata": {
    "collapsed": true,
    "jupyter": {
     "outputs_hidden": true
    }
   },
   "outputs": [],
   "source": [
    "dt_model = DecisionTreeClassifier(random_state=42)\n",
    "dt_model.fit(X_train_content, y_train_content)\n",
    "\n",
    "y_pred_dt = dt_model.predict(X_test_content)\n",
    "\n",
    "accuracy_dt = accuracy_score(y_test_content, y_pred_dt)\n",
    "print(\"Decision Tree Accuracy:\", accuracy_dt)"
   ]
  },
  {
   "cell_type": "markdown",
   "id": "3237d2fa-b163-489e-9a65-ecba3b577b9d",
   "metadata": {},
   "source": [
    "Naïve Bayes"
   ]
  },
  {
   "cell_type": "code",
   "execution_count": null,
   "id": "9ee124e1-0401-4095-9b8f-ce89fcab2530",
   "metadata": {
    "collapsed": true,
    "jupyter": {
     "outputs_hidden": true
    }
   },
   "outputs": [],
   "source": [
    "nb_model = GaussianNB()\n",
    "nb_model.fit(X_train_content, y_train_content)\n",
    "\n",
    "y_pred_nb = nb_model.predict(X_test_content)\n",
    "\n",
    "accuracy_nb = accuracy_score(y_test_content, y_pred_nb)\n",
    "print(\"Naive Bayes Accuracy:\", accuracy_nb)"
   ]
  },
  {
   "cell_type": "markdown",
   "id": "c41a4e21-9c22-4a24-a04d-7b5ea496fd9b",
   "metadata": {},
   "source": [
    "KNN"
   ]
  },
  {
   "cell_type": "code",
   "execution_count": null,
   "id": "aa17ba01-c4fa-4617-9f4e-69fb37f85770",
   "metadata": {
    "collapsed": true,
    "jupyter": {
     "outputs_hidden": true
    }
   },
   "outputs": [],
   "source": [
    "knn_classifier = KNeighborsClassifier()\n",
    "\n",
    "knn_classifier.fit(X_train_content, y_train_content)\n",
    "\n",
    "y_pred_knn = knn_classifier.predict(X_test_content)\n",
    "\n",
    "accuracy_knn = accuracy_score(y_test_content, y_pred_knn)\n",
    "\n",
    "print(f'K-Nearest Neighbors - Accuracy: {accuracy_knn:.2f}')"
   ]
  },
  {
   "cell_type": "markdown",
   "id": "056ca84a-e752-4730-a2c3-9b969732e7d6",
   "metadata": {},
   "source": [
    "Gaussian mixture"
   ]
  },
  {
   "cell_type": "code",
   "execution_count": null,
   "id": "0da9fad5-f46f-4513-ba1d-966f2af93469",
   "metadata": {
    "collapsed": true,
    "jupyter": {
     "outputs_hidden": true
    }
   },
   "outputs": [],
   "source": [
    "n_components = 4  # Set the number of components (clusters) in the GMM\n",
    "gmm_model = GaussianMixture(n_components=n_components, random_state=42)\n",
    "gmm_model.fit(X_train_content)\n",
    "\n",
    "y_pred_gmm = gmm_model.predict(X_test_content)\n",
    "\n",
    "# GMM is an unsupervised algorithm, so there's no accuracy score to calculate.\n",
    "# Instead, GMM is used for clustering and density estimation tasks.\n",
    "# You can use metrics like AIC, BIC, or silhouette score to evaluate the quality of the clustering.\n",
    "\n",
    "# Example of AIC (Akaike Information Criterion) to evaluate the GMM\n",
    "aic_score = gmm_model.aic(X_train_content)\n",
    "print(\"AIC Score:\", aic_score)\n",
    "\n",
    "# Example of BIC (Bayesian Information Criterion) to evaluate the GMM\n",
    "bic_score = gmm_model.bic(X_train_content)\n",
    "print(\"BIC Score:\", bic_score)"
   ]
  },
  {
   "cell_type": "markdown",
   "id": "f368ab99-c3f7-4624-a993-cb86f58a554f",
   "metadata": {},
   "source": [
    "XGBBOOST"
   ]
  },
  {
   "cell_type": "code",
   "execution_count": null,
   "id": "13fd5428-8ac8-4662-9eb9-450919396a6a",
   "metadata": {
    "collapsed": true,
    "jupyter": {
     "outputs_hidden": true
    }
   },
   "outputs": [],
   "source": [
    "from xgboost import XGBClassifier\n",
    "\n",
    "xgb_classifier = XGBClassifier()\n",
    "xgb_classifier.fit(X_train, y_train)\n",
    "\n",
    "y_pred = xgb_classifier.predict_proba(X_test)[:,1]\n",
    "\n",
    "mide_error('XGBboost', y_pred)"
   ]
  },
  {
   "cell_type": "markdown",
   "id": "501e8da4-ea93-40fc-b8c0-dae6cefef72c",
   "metadata": {},
   "source": [
    "LIGHTGBOST (Más rápido) (Classifier o regresor)"
   ]
  },
  {
   "cell_type": "code",
   "execution_count": null,
   "id": "1ae8e58c-b28c-43ee-9d8d-853e7fb90dd0",
   "metadata": {
    "collapsed": true,
    "jupyter": {
     "outputs_hidden": true
    }
   },
   "outputs": [],
   "source": []
  },
  {
   "cell_type": "code",
   "execution_count": null,
   "id": "7b648dc4-faf5-4cae-b522-8d4ad353234e",
   "metadata": {
    "collapsed": true,
    "jupyter": {
     "outputs_hidden": true
    },
    "tags": []
   },
   "outputs": [],
   "source": [
    "# Construct reading relative path\n",
    "relative_path8 = \"my-jobcation-path/02_data_cleaning_phase/01_Preprocessing & Clean/coworkings_chars.csv\"\n",
    "relative_path9 = \"my-jobcation-path/02_data_cleaning_phase/01_Preprocessing & Clean/campsites_chars.csv\"\n",
    "\n",
    "# Construct absolute paths\n",
    "coworkings_save_path = os.path.join(current_directory, relative_path8)\n",
    "campsites_save_path = os.path.join(current_directory, relative_path9)"
   ]
  },
  {
   "cell_type": "code",
   "execution_count": null,
   "id": "437c95fb-f608-40c3-9fe8-2f5d0a85cd0f",
   "metadata": {
    "collapsed": true,
    "jupyter": {
     "outputs_hidden": true
    },
    "tags": []
   },
   "outputs": [],
   "source": [
    "# Save and Encoding \n",
    "\n",
    "dfcoworks.to_csv(coworkings_save_path, index=False, encoding='utf-8')\n",
    "dfcamps.to_csv(campsites_save_path, index=False, encoding='utf-8')"
   ]
  }
 ],
 "metadata": {
  "kernelspec": {
   "display_name": "Python 3 (ipykernel)",
   "language": "python",
   "name": "python3"
  },
  "language_info": {
   "codemirror_mode": {
    "name": "ipython",
    "version": 3
   },
   "file_extension": ".py",
   "mimetype": "text/x-python",
   "name": "python",
   "nbconvert_exporter": "python",
   "pygments_lexer": "ipython3",
   "version": "3.11.5"
  }
 },
 "nbformat": 4,
 "nbformat_minor": 5
}

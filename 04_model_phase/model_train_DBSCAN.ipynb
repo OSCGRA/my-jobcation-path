{
 "cells": [
  {
   "cell_type": "code",
   "execution_count": 1,
   "id": "ca9c3a08-123d-41ce-83e4-b8650496714b",
   "metadata": {},
   "outputs": [
    {
     "name": "stdout",
     "output_type": "stream",
     "text": [
      "Requirement already satisfied: geopy in c:\\users\\oscar\\anaconda3\\lib\\site-packages (2.4.1)\n",
      "Requirement already satisfied: geographiclib<3,>=1.52 in c:\\users\\oscar\\anaconda3\\lib\\site-packages (from geopy) (2.0)\n",
      "Note: you may need to restart the kernel to use updated packages.\n"
     ]
    }
   ],
   "source": [
    "pip install geopy"
   ]
  },
  {
   "cell_type": "code",
   "execution_count": 2,
   "id": "e7792a12-c2ac-47b9-a36d-c1e1dad0596a",
   "metadata": {
    "tags": []
   },
   "outputs": [],
   "source": [
    "#Basic Libraries 📚\n",
    "\n",
    "import pandas as pd\n",
    "import numpy as np\n",
    "import os\n",
    "import sys\n",
    "import matplotlib.pyplot as plt"
   ]
  },
  {
   "cell_type": "code",
   "execution_count": 3,
   "id": "d89fa87b-b769-4486-b65f-d526c54b753d",
   "metadata": {},
   "outputs": [],
   "source": [
    "# Basic Modules & Useful Installations\n",
    "\n",
    "import warnings\n",
    "warnings.simplefilter(action='ignore')"
   ]
  },
  {
   "cell_type": "code",
   "execution_count": 4,
   "id": "55d184cf-171c-424f-89e8-2945e4343454",
   "metadata": {
    "tags": []
   },
   "outputs": [],
   "source": [
    "# Geo Libraries 📚\n",
    "\n",
    "import geopandas as gpd\n",
    "from shapely.geometry import Point\n",
    "from geopy.distance import geodesic\n",
    "from geopy.distance import great_circle"
   ]
  },
  {
   "cell_type": "code",
   "execution_count": 5,
   "id": "93029b7c-6fff-40f8-8b13-3ddec9f342b6",
   "metadata": {},
   "outputs": [],
   "source": [
    "# Machine Learning Libraries\n",
    "\n",
    "from sklearn.cluster import DBSCAN\n",
    "from sklearn.metrics import silhouette_score\n",
    "from sklearn.model_selection import GridSearchCV\n",
    "from sklearn.metrics import accuracy_score, classification_report\n",
    "from sklearn.preprocessing import LabelEncoder"
   ]
  },
  {
   "cell_type": "code",
   "execution_count": 6,
   "id": "c799889f-2cff-49e5-888a-e95039c9629a",
   "metadata": {},
   "outputs": [],
   "source": [
    "# Construct Wild distance\n",
    "\n",
    "def calculate_distance_row(row):\n",
    "    \n",
    "    coordinates_1 = (row['lat_buf'], row['long_buf'])\n",
    "    coordinates_2 = (row['latitude'], row['longitude'])\n",
    "    \n",
    "    return geodesic(coordinates_1, coordinates_2).kilometers"
   ]
  },
  {
   "cell_type": "code",
   "execution_count": 7,
   "id": "8dbd598a-f0f1-4dca-a129-4cc120ff3339",
   "metadata": {},
   "outputs": [],
   "source": [
    "# Find Nearby\n",
    "\n",
    "def find_nearby_coworks(campsite, coworks, max_distance_km):\n",
    "    nearby_coworks = []\n",
    "    for _, cowork in coworks.iterrows():\n",
    "        dist = great_circle((campsite.latitude, campsite.longitude), (cowork.latitude, cowork.longitude)).kilometers\n",
    "        if dist <= max_distance_km:\n",
    "            nearby_coworks.append(cowork)\n",
    "    return nearby_coworks"
   ]
  },
  {
   "cell_type": "code",
   "execution_count": 8,
   "id": "0f05a9c4-64c0-403c-b7c9-ac5339a214cc",
   "metadata": {
    "tags": []
   },
   "outputs": [
    {
     "name": "stdout",
     "output_type": "stream",
     "text": [
      "Current working directory is: C:\\Users\\Oscar\\Documents\\00_Ironhack\\P3_Final\n"
     ]
    }
   ],
   "source": [
    "# Construct reading relative path\n",
    "\n",
    "relative_path = \"my-jobcation-path/02_data_cleaning_phase/01_Preprocessing & Clean/coworkings_chars.csv\"\n",
    "relative_path2 = \"my-jobcation-path/02_data_cleaning_phase/01_Preprocessing & Clean/campsites_chars.csv\"\n",
    "\n",
    "# Change directory\n",
    "os.chdir('C:\\\\Users\\\\Oscar\\\\Documents\\\\00_Ironhack\\\\P3_Final\\\\') #Change for your own directory\n",
    "\n",
    "# Check directory\n",
    "current_directory = os.getcwd()\n",
    "print(\"Current working directory is:\", current_directory)"
   ]
  },
  {
   "cell_type": "code",
   "execution_count": 9,
   "id": "84d8c54c-b62a-409a-8d7e-1720ad19d1ba",
   "metadata": {
    "tags": []
   },
   "outputs": [],
   "source": [
    "# Construct absolute paths\n",
    "\n",
    "coworkings_path = os.path.join(current_directory, relative_path)\n",
    "campsites_path = os.path.join(current_directory, relative_path2)\n"
   ]
  },
  {
   "cell_type": "code",
   "execution_count": 10,
   "id": "82fab10a-9c30-4008-beae-1dcdd55a462d",
   "metadata": {
    "tags": []
   },
   "outputs": [
    {
     "name": "stdout",
     "output_type": "stream",
     "text": [
      "The file has been loaded successfully.\n"
     ]
    }
   ],
   "source": [
    "# Coworkings reading\n",
    "\n",
    "if os.path.exists(coworkings_path):\n",
    "    try:\n",
    "        # Try to read the CSV file\n",
    "        data = pd.read_csv(coworkings_path)\n",
    "        print(\"The file has been loaded successfully.\")\n",
    "        # Now you can work with the 'data' DataFrame\n",
    "    except Exception as e:\n",
    "        print(\"An error occurred while reading the file:\", e)\n",
    "else:\n",
    "    print(\"The file does not exist at the specified path:\", coworkings_path)"
   ]
  },
  {
   "cell_type": "code",
   "execution_count": 11,
   "id": "0f83119b-322f-49d4-b2a1-d57e64645569",
   "metadata": {
    "tags": []
   },
   "outputs": [
    {
     "name": "stdout",
     "output_type": "stream",
     "text": [
      "The file has been loaded successfully.\n"
     ]
    }
   ],
   "source": [
    "# Campsites reading\n",
    "\n",
    "if os.path.exists(campsites_path):\n",
    "    try:\n",
    "        # Try to read the CSV file\n",
    "        data2 = pd.read_csv(campsites_path)\n",
    "        print(\"The file has been loaded successfully.\")\n",
    "        # Now you can work with the 'data' DataFrame\n",
    "    except Exception as e:\n",
    "        print(\"An error occurred while reading the file:\", e)\n",
    "else:\n",
    "    print(\"The file does not exist at the specified path:\", campsites_path)"
   ]
  },
  {
   "cell_type": "code",
   "execution_count": 12,
   "id": "672cbcd4-4173-4ace-aa11-6c9eda7aa379",
   "metadata": {
    "tags": []
   },
   "outputs": [],
   "source": [
    "# Dataframe Creation\n",
    "\n",
    "dfco = data.copy()\n",
    "dfca = data2.copy()\n"
   ]
  },
  {
   "cell_type": "markdown",
   "id": "8a0e983e-94c2-46c3-89d3-41870f1ee7f2",
   "metadata": {
    "jp-MarkdownHeadingCollapsed": true,
    "tags": []
   },
   "source": [
    "## PREPROCESSING for CLUSTERING"
   ]
  },
  {
   "cell_type": "code",
   "execution_count": 14,
   "id": "cea68bab-6d26-4951-90c1-53253dd4c7ce",
   "metadata": {
    "tags": []
   },
   "outputs": [],
   "source": [
    "# Encoding categoricals. We are going to use manual encoding because we need it for the model after.\n",
    "\n",
    "type = {\n",
    "    'City': 0,\n",
    "    'Town': 1,\n",
    "    'Village': 2,\n",
    "}\n",
    "\n",
    "\n",
    "luxury = {\n",
    "    'Campsite': 0,\n",
    "    'Glamping': 1,\n",
    "    'Camper': 2\n",
    "}\n",
    "\n",
    "\n",
    "# Now let's do the mapping\n",
    "\n",
    "dfca['type'] = dfca['type'].map(type)\n",
    "dfca['luxury'] = dfca['luxury'].map(luxury)\n"
   ]
  },
  {
   "cell_type": "code",
   "execution_count": 15,
   "id": "4d3fb580-3347-4e9d-bcfe-9ffce2ae3ae6",
   "metadata": {
    "tags": []
   },
   "outputs": [],
   "source": [
    "encoding_column = [\"type\", \"luxury\", \"beach\", \"wild\", \"rating\", \"distance_km\", \"longitude\", \"latitude\"] \n",
    "\n",
    "df_campsites = dfca[encoding_column]"
   ]
  },
  {
   "cell_type": "code",
   "execution_count": 16,
   "id": "798be586-0ea7-4793-addb-2565f9eec81e",
   "metadata": {
    "tags": []
   },
   "outputs": [],
   "source": [
    "encoding_column = [\"rating\",\"distance_km\", \"longitude\", \"latitude\"] \n",
    "\n",
    "df_cowork = dfco[encoding_column]"
   ]
  },
  {
   "cell_type": "markdown",
   "id": "a7df7f0f-6d9a-4ebf-a523-7ff094a81280",
   "metadata": {
    "jp-MarkdownHeadingCollapsed": true,
    "tags": []
   },
   "source": []
  },
  {
   "cell_type": "code",
   "execution_count": 18,
   "id": "6d181932-2a1a-4218-889b-2119fb205cef",
   "metadata": {
    "tags": []
   },
   "outputs": [
    {
     "ename": "NameError",
     "evalue": "name 'dfcoding' is not defined",
     "output_type": "error",
     "traceback": [
      "\u001b[1;31m---------------------------------------------------------------------------\u001b[0m",
      "\u001b[1;31mNameError\u001b[0m                                 Traceback (most recent call last)",
      "Cell \u001b[1;32mIn[18], line 3\u001b[0m\n\u001b[0;32m      1\u001b[0m \u001b[38;5;66;03m# For Geometric Models\u001b[39;00m\n\u001b[1;32m----> 3\u001b[0m geometry \u001b[38;5;241m=\u001b[39m [Point(xy) \u001b[38;5;28;01mfor\u001b[39;00m xy \u001b[38;5;129;01min\u001b[39;00m \u001b[38;5;28mzip\u001b[39m(dfcoding[\u001b[38;5;124m'\u001b[39m\u001b[38;5;124mlat_buf\u001b[39m\u001b[38;5;124m'\u001b[39m], dfcoding[\u001b[38;5;124m'\u001b[39m\u001b[38;5;124mlong_buf\u001b[39m\u001b[38;5;124m'\u001b[39m])]\n",
      "\u001b[1;31mNameError\u001b[0m: name 'dfcoding' is not defined"
     ]
    }
   ],
   "source": [
    "# For Geometric Models\n",
    "\n",
    "geometry = [Point(xy) for xy in zip(dfcoding['lat_buf'], dfcoding['long_buf'])]"
   ]
  },
  {
   "cell_type": "code",
   "execution_count": null,
   "id": "11b2e774-b6bd-4565-8fe8-ade70301ee0c",
   "metadata": {
    "tags": []
   },
   "outputs": [],
   "source": [
    "dfgeoca = gpd.GeoDataFrame(dfcoding, geometry=geometry)"
   ]
  },
  {
   "cell_type": "markdown",
   "id": "159444cc-27d2-4af6-9cc6-05b1643ed8a8",
   "metadata": {
    "tags": []
   },
   "source": [
    "## DBSCAN MODEL"
   ]
  },
  {
   "cell_type": "code",
   "execution_count": null,
   "id": "ee49c121-9be8-4afd-bb93-f27b78bc000a",
   "metadata": {},
   "outputs": [],
   "source": [
    "# Assuming 'df_campsites' and 'df_cowork' are your two datasets\n",
    "\n",
    "#df_campsites = df[df['type'] == 'campsite'][['latitude', 'longitude']]\n",
    "#df_cowork = df[df['type'] == 'cowork'][['latitude', 'longitude']]"
   ]
  },
  {
   "cell_type": "code",
   "execution_count": 26,
   "id": "8afc7929-bd44-486c-9098-c6dc70932b4c",
   "metadata": {
    "tags": []
   },
   "outputs": [],
   "source": [
    "Xca = df_campsites"
   ]
  },
  {
   "cell_type": "code",
   "execution_count": 28,
   "id": "6e8d0da7-bad4-4880-900c-b0c312c9ef4d",
   "metadata": {
    "tags": []
   },
   "outputs": [],
   "source": [
    "# Initialize and fit DBSCAN for campsites\n",
    "dbscan_campsites = DBSCAN(eps=50, min_samples=20).fit(Xca)\n",
    "\n",
    "# Assign cluster labels\n",
    "df_campsites['cluster'] = dbscan_campsites.labels_\n",
    "\n"
   ]
  },
  {
   "cell_type": "code",
   "execution_count": 30,
   "id": "46a67d37-122a-4b54-b012-f9d14e114069",
   "metadata": {},
   "outputs": [
    {
     "name": "stdout",
     "output_type": "stream",
     "text": [
      "Silhouette Score: 0.7073499460137412\n"
     ]
    }
   ],
   "source": [
    "# Calculate silhouette score, only if more than 1 cluster and noise exists\n",
    "\n",
    "if len(np.unique(dbscan_campsites.labels_)) > 1:\n",
    "    silhouette_avg = silhouette_score(Xca, dbscan_campsites.labels_)\n",
    "    print(\"Silhouette Score:\", silhouette_avg)\n",
    "else:\n",
    "    print(\"Not enough clusters to compute the silhouette score.\")"
   ]
  },
  {
   "cell_type": "code",
   "execution_count": 32,
   "id": "31ce5918-a9a4-45bb-8cb6-7fc81f08ae99",
   "metadata": {
    "tags": []
   },
   "outputs": [
    {
     "data": {
      "text/plain": [
       "cluster\n",
       " 0    3364\n",
       "-1     107\n",
       " 2      61\n",
       " 1      37\n",
       "Name: count, dtype: int64"
      ]
     },
     "execution_count": 32,
     "metadata": {},
     "output_type": "execute_result"
    }
   ],
   "source": [
    "df_campsites['cluster'].value_counts()"
   ]
  },
  {
   "cell_type": "code",
   "execution_count": 34,
   "id": "fed2f1a0-0dd5-455e-a2e6-0d2da2884f31",
   "metadata": {
    "tags": []
   },
   "outputs": [],
   "source": [
    "# SPA Modification\n",
    "\n",
    "# Initialize and fit DBSCAN for campsites\n",
    "\n",
    "dbscan_campsites_spa = DBSCAN(eps=50, min_samples=16, metric = 'manhattan').fit(Xca)\n",
    "\n",
    "# Assign cluster labels\n",
    "df_campsites['cluster'] = dbscan_campsites_spa.labels_\n",
    "\n"
   ]
  },
  {
   "cell_type": "code",
   "execution_count": 36,
   "id": "59019024-9a8b-4c6f-b0c1-b5b10999262a",
   "metadata": {
    "tags": []
   },
   "outputs": [
    {
     "name": "stdout",
     "output_type": "stream",
     "text": [
      "Silhouette Score: 0.7158593830074172\n"
     ]
    }
   ],
   "source": [
    "# Calculate silhouette score, only if more than 1 cluster and noise exists\n",
    "\n",
    "if len(np.unique(dbscan_campsites_spa.labels_)) > 1:\n",
    "    silhouette_avg = silhouette_score(Xca, dbscan_campsites_spa.labels_)\n",
    "    print(\"Silhouette Score:\", silhouette_avg)\n",
    "else:\n",
    "    print(\"Not enough clusters to compute the silhouette score.\")"
   ]
  },
  {
   "cell_type": "code",
   "execution_count": 38,
   "id": "f11044bd-6a21-489c-9b02-9c7f19b18267",
   "metadata": {
    "tags": []
   },
   "outputs": [
    {
     "data": {
      "text/plain": [
       "cluster\n",
       " 0    3364\n",
       "-1     116\n",
       " 2      47\n",
       " 1      42\n",
       "Name: count, dtype: int64"
      ]
     },
     "execution_count": 38,
     "metadata": {},
     "output_type": "execute_result"
    }
   ],
   "source": [
    "df_campsites['cluster'].value_counts()"
   ]
  },
  {
   "cell_type": "code",
   "execution_count": 68,
   "id": "d79f2ad6-6cfc-4e91-8542-0b6f8a9618cb",
   "metadata": {
    "tags": []
   },
   "outputs": [],
   "source": [
    "from sklearn.cluster import AgglomerativeClustering\n",
    "\n",
    "class AgglomerativeClusteringWrapper(AgglomerativeClustering):\n",
    "    def predict(self, X):\n",
    "        \"\"\"\n",
    "        Predict cluster labels for each sample in X.\n",
    "\n",
    "        Parameters\n",
    "        ----------\n",
    "        X : {array-like, sparse matrix} of shape (n_samples, n_features)\n",
    "            New data to predict.\n",
    "\n",
    "        Returns\n",
    "        -------\n",
    "        labels : array, shape (n_samples,)\n",
    "            Index of the cluster each sample belongs to.\n",
    "        \"\"\"\n",
    "        return self.labels_.astype(int)\n"
   ]
  },
  {
   "cell_type": "code",
   "execution_count": 101,
   "id": "e537abfc-1d39-4872-900e-9ec42b4d319c",
   "metadata": {
    "tags": []
   },
   "outputs": [],
   "source": [
    "estimator = dbscan_campsites_spa\n",
    "silhouette_avg = silhouette_score(Xca, dbscan_campsites_spa.labels_)"
   ]
  },
  {
   "cell_type": "code",
   "execution_count": 56,
   "id": "b4afedb8-b741-41f0-83c3-4c80057ebebe",
   "metadata": {
    "tags": []
   },
   "outputs": [],
   "source": [
    "dffiltered = df_campsites[df_campsites[\"cluster\"] == 2]"
   ]
  },
  {
   "cell_type": "code",
   "execution_count": 58,
   "id": "14de8fe5-3168-4c9e-b0f2-e4ee2463184a",
   "metadata": {
    "tags": []
   },
   "outputs": [
    {
     "data": {
      "text/html": [
       "<div>\n",
       "<style scoped>\n",
       "    .dataframe tbody tr th:only-of-type {\n",
       "        vertical-align: middle;\n",
       "    }\n",
       "\n",
       "    .dataframe tbody tr th {\n",
       "        vertical-align: top;\n",
       "    }\n",
       "\n",
       "    .dataframe thead th {\n",
       "        text-align: right;\n",
       "    }\n",
       "</style>\n",
       "<table border=\"1\" class=\"dataframe\">\n",
       "  <thead>\n",
       "    <tr style=\"text-align: right;\">\n",
       "      <th></th>\n",
       "      <th>type</th>\n",
       "      <th>luxury</th>\n",
       "      <th>beach</th>\n",
       "      <th>wild</th>\n",
       "      <th>rating</th>\n",
       "      <th>distance_km</th>\n",
       "      <th>longitude</th>\n",
       "      <th>latitude</th>\n",
       "      <th>cluster</th>\n",
       "    </tr>\n",
       "  </thead>\n",
       "  <tbody>\n",
       "    <tr>\n",
       "      <th>1116</th>\n",
       "      <td>1</td>\n",
       "      <td>0</td>\n",
       "      <td>1</td>\n",
       "      <td>0</td>\n",
       "      <td>4.5</td>\n",
       "      <td>21.321550</td>\n",
       "      <td>-75.576715</td>\n",
       "      <td>10.224149</td>\n",
       "      <td>2</td>\n",
       "    </tr>\n",
       "    <tr>\n",
       "      <th>1117</th>\n",
       "      <td>1</td>\n",
       "      <td>0</td>\n",
       "      <td>1</td>\n",
       "      <td>1</td>\n",
       "      <td>4.9</td>\n",
       "      <td>36.023179</td>\n",
       "      <td>-75.730947</td>\n",
       "      <td>10.179027</td>\n",
       "      <td>2</td>\n",
       "    </tr>\n",
       "    <tr>\n",
       "      <th>1118</th>\n",
       "      <td>1</td>\n",
       "      <td>0</td>\n",
       "      <td>1</td>\n",
       "      <td>0</td>\n",
       "      <td>4.4</td>\n",
       "      <td>10.095029</td>\n",
       "      <td>-75.407322</td>\n",
       "      <td>10.341448</td>\n",
       "      <td>2</td>\n",
       "    </tr>\n",
       "    <tr>\n",
       "      <th>1119</th>\n",
       "      <td>1</td>\n",
       "      <td>0</td>\n",
       "      <td>1</td>\n",
       "      <td>0</td>\n",
       "      <td>4.5</td>\n",
       "      <td>26.165736</td>\n",
       "      <td>-75.618215</td>\n",
       "      <td>10.198059</td>\n",
       "      <td>2</td>\n",
       "    </tr>\n",
       "    <tr>\n",
       "      <th>1121</th>\n",
       "      <td>1</td>\n",
       "      <td>1</td>\n",
       "      <td>1</td>\n",
       "      <td>0</td>\n",
       "      <td>5.0</td>\n",
       "      <td>13.180568</td>\n",
       "      <td>-75.590479</td>\n",
       "      <td>10.339151</td>\n",
       "      <td>2</td>\n",
       "    </tr>\n",
       "    <tr>\n",
       "      <th>1122</th>\n",
       "      <td>1</td>\n",
       "      <td>0</td>\n",
       "      <td>1</td>\n",
       "      <td>1</td>\n",
       "      <td>4.3</td>\n",
       "      <td>35.889956</td>\n",
       "      <td>-75.729371</td>\n",
       "      <td>10.179073</td>\n",
       "      <td>2</td>\n",
       "    </tr>\n",
       "    <tr>\n",
       "      <th>1123</th>\n",
       "      <td>1</td>\n",
       "      <td>0</td>\n",
       "      <td>1</td>\n",
       "      <td>0</td>\n",
       "      <td>4.3</td>\n",
       "      <td>20.414490</td>\n",
       "      <td>-75.565613</td>\n",
       "      <td>10.227674</td>\n",
       "      <td>2</td>\n",
       "    </tr>\n",
       "    <tr>\n",
       "      <th>1126</th>\n",
       "      <td>1</td>\n",
       "      <td>0</td>\n",
       "      <td>1</td>\n",
       "      <td>0</td>\n",
       "      <td>4.2</td>\n",
       "      <td>10.118699</td>\n",
       "      <td>-75.407299</td>\n",
       "      <td>10.341105</td>\n",
       "      <td>2</td>\n",
       "    </tr>\n",
       "    <tr>\n",
       "      <th>1127</th>\n",
       "      <td>1</td>\n",
       "      <td>0</td>\n",
       "      <td>1</td>\n",
       "      <td>0</td>\n",
       "      <td>4.9</td>\n",
       "      <td>12.692183</td>\n",
       "      <td>-75.373631</td>\n",
       "      <td>10.430576</td>\n",
       "      <td>2</td>\n",
       "    </tr>\n",
       "    <tr>\n",
       "      <th>1129</th>\n",
       "      <td>1</td>\n",
       "      <td>1</td>\n",
       "      <td>1</td>\n",
       "      <td>1</td>\n",
       "      <td>4.8</td>\n",
       "      <td>67.829495</td>\n",
       "      <td>-75.027672</td>\n",
       "      <td>10.809054</td>\n",
       "      <td>2</td>\n",
       "    </tr>\n",
       "    <tr>\n",
       "      <th>1131</th>\n",
       "      <td>1</td>\n",
       "      <td>1</td>\n",
       "      <td>1</td>\n",
       "      <td>0</td>\n",
       "      <td>3.0</td>\n",
       "      <td>8.431603</td>\n",
       "      <td>-75.560089</td>\n",
       "      <td>10.397827</td>\n",
       "      <td>2</td>\n",
       "    </tr>\n",
       "    <tr>\n",
       "      <th>1451</th>\n",
       "      <td>2</td>\n",
       "      <td>0</td>\n",
       "      <td>0</td>\n",
       "      <td>1</td>\n",
       "      <td>4.6</td>\n",
       "      <td>17.500163</td>\n",
       "      <td>-118.249991</td>\n",
       "      <td>34.298857</td>\n",
       "      <td>2</td>\n",
       "    </tr>\n",
       "    <tr>\n",
       "      <th>1452</th>\n",
       "      <td>2</td>\n",
       "      <td>0</td>\n",
       "      <td>0</td>\n",
       "      <td>1</td>\n",
       "      <td>4.4</td>\n",
       "      <td>45.028358</td>\n",
       "      <td>-117.952583</td>\n",
       "      <td>34.240828</td>\n",
       "      <td>2</td>\n",
       "    </tr>\n",
       "    <tr>\n",
       "      <th>1453</th>\n",
       "      <td>2</td>\n",
       "      <td>0</td>\n",
       "      <td>0</td>\n",
       "      <td>1</td>\n",
       "      <td>4.5</td>\n",
       "      <td>48.953092</td>\n",
       "      <td>-117.912958</td>\n",
       "      <td>34.347154</td>\n",
       "      <td>2</td>\n",
       "    </tr>\n",
       "    <tr>\n",
       "      <th>1454</th>\n",
       "      <td>2</td>\n",
       "      <td>0</td>\n",
       "      <td>0</td>\n",
       "      <td>1</td>\n",
       "      <td>4.6</td>\n",
       "      <td>27.983478</td>\n",
       "      <td>-118.145304</td>\n",
       "      <td>34.217358</td>\n",
       "      <td>2</td>\n",
       "    </tr>\n",
       "    <tr>\n",
       "      <th>1455</th>\n",
       "      <td>2</td>\n",
       "      <td>0</td>\n",
       "      <td>0</td>\n",
       "      <td>1</td>\n",
       "      <td>4.5</td>\n",
       "      <td>31.038538</td>\n",
       "      <td>-118.109452</td>\n",
       "      <td>34.341350</td>\n",
       "      <td>2</td>\n",
       "    </tr>\n",
       "    <tr>\n",
       "      <th>1456</th>\n",
       "      <td>2</td>\n",
       "      <td>0</td>\n",
       "      <td>0</td>\n",
       "      <td>1</td>\n",
       "      <td>4.6</td>\n",
       "      <td>39.372553</td>\n",
       "      <td>-118.013803</td>\n",
       "      <td>34.320475</td>\n",
       "      <td>2</td>\n",
       "    </tr>\n",
       "    <tr>\n",
       "      <th>1457</th>\n",
       "      <td>2</td>\n",
       "      <td>0</td>\n",
       "      <td>0</td>\n",
       "      <td>1</td>\n",
       "      <td>4.2</td>\n",
       "      <td>24.885365</td>\n",
       "      <td>-118.178561</td>\n",
       "      <td>34.222202</td>\n",
       "      <td>2</td>\n",
       "    </tr>\n",
       "    <tr>\n",
       "      <th>1458</th>\n",
       "      <td>2</td>\n",
       "      <td>0</td>\n",
       "      <td>0</td>\n",
       "      <td>1</td>\n",
       "      <td>4.3</td>\n",
       "      <td>32.767006</td>\n",
       "      <td>-118.713827</td>\n",
       "      <td>34.094626</td>\n",
       "      <td>2</td>\n",
       "    </tr>\n",
       "    <tr>\n",
       "      <th>1460</th>\n",
       "      <td>2</td>\n",
       "      <td>0</td>\n",
       "      <td>0</td>\n",
       "      <td>1</td>\n",
       "      <td>3.3</td>\n",
       "      <td>23.875195</td>\n",
       "      <td>-118.183474</td>\n",
       "      <td>34.245529</td>\n",
       "      <td>2</td>\n",
       "    </tr>\n",
       "    <tr>\n",
       "      <th>1461</th>\n",
       "      <td>2</td>\n",
       "      <td>0</td>\n",
       "      <td>0</td>\n",
       "      <td>1</td>\n",
       "      <td>4.5</td>\n",
       "      <td>25.314072</td>\n",
       "      <td>-118.709428</td>\n",
       "      <td>34.323197</td>\n",
       "      <td>2</td>\n",
       "    </tr>\n",
       "    <tr>\n",
       "      <th>1462</th>\n",
       "      <td>2</td>\n",
       "      <td>0</td>\n",
       "      <td>0</td>\n",
       "      <td>1</td>\n",
       "      <td>4.4</td>\n",
       "      <td>23.482449</td>\n",
       "      <td>-118.520987</td>\n",
       "      <td>34.081524</td>\n",
       "      <td>2</td>\n",
       "    </tr>\n",
       "    <tr>\n",
       "      <th>1463</th>\n",
       "      <td>2</td>\n",
       "      <td>0</td>\n",
       "      <td>0</td>\n",
       "      <td>1</td>\n",
       "      <td>4.5</td>\n",
       "      <td>38.884104</td>\n",
       "      <td>-118.034207</td>\n",
       "      <td>34.382561</td>\n",
       "      <td>2</td>\n",
       "    </tr>\n",
       "    <tr>\n",
       "      <th>1464</th>\n",
       "      <td>2</td>\n",
       "      <td>0</td>\n",
       "      <td>0</td>\n",
       "      <td>1</td>\n",
       "      <td>4.4</td>\n",
       "      <td>23.924403</td>\n",
       "      <td>-118.583837</td>\n",
       "      <td>34.102986</td>\n",
       "      <td>2</td>\n",
       "    </tr>\n",
       "    <tr>\n",
       "      <th>1465</th>\n",
       "      <td>2</td>\n",
       "      <td>0</td>\n",
       "      <td>0</td>\n",
       "      <td>1</td>\n",
       "      <td>4.9</td>\n",
       "      <td>52.552029</td>\n",
       "      <td>-118.934018</td>\n",
       "      <td>34.047184</td>\n",
       "      <td>2</td>\n",
       "    </tr>\n",
       "    <tr>\n",
       "      <th>1466</th>\n",
       "      <td>2</td>\n",
       "      <td>0</td>\n",
       "      <td>0</td>\n",
       "      <td>1</td>\n",
       "      <td>4.7</td>\n",
       "      <td>43.121712</td>\n",
       "      <td>-117.977777</td>\n",
       "      <td>34.215277</td>\n",
       "      <td>2</td>\n",
       "    </tr>\n",
       "    <tr>\n",
       "      <th>1467</th>\n",
       "      <td>2</td>\n",
       "      <td>0</td>\n",
       "      <td>0</td>\n",
       "      <td>1</td>\n",
       "      <td>4.4</td>\n",
       "      <td>40.618408</td>\n",
       "      <td>-118.004218</td>\n",
       "      <td>34.344750</td>\n",
       "      <td>2</td>\n",
       "    </tr>\n",
       "    <tr>\n",
       "      <th>1468</th>\n",
       "      <td>2</td>\n",
       "      <td>0</td>\n",
       "      <td>0</td>\n",
       "      <td>1</td>\n",
       "      <td>5.0</td>\n",
       "      <td>33.618655</td>\n",
       "      <td>-118.085300</td>\n",
       "      <td>34.207192</td>\n",
       "      <td>2</td>\n",
       "    </tr>\n",
       "    <tr>\n",
       "      <th>1475</th>\n",
       "      <td>2</td>\n",
       "      <td>0</td>\n",
       "      <td>0</td>\n",
       "      <td>1</td>\n",
       "      <td>4.0</td>\n",
       "      <td>46.319933</td>\n",
       "      <td>-83.638508</td>\n",
       "      <td>42.062994</td>\n",
       "      <td>2</td>\n",
       "    </tr>\n",
       "    <tr>\n",
       "      <th>1476</th>\n",
       "      <td>2</td>\n",
       "      <td>0</td>\n",
       "      <td>0</td>\n",
       "      <td>1</td>\n",
       "      <td>4.5</td>\n",
       "      <td>47.970620</td>\n",
       "      <td>-84.113655</td>\n",
       "      <td>41.646295</td>\n",
       "      <td>2</td>\n",
       "    </tr>\n",
       "    <tr>\n",
       "      <th>1477</th>\n",
       "      <td>2</td>\n",
       "      <td>0</td>\n",
       "      <td>0</td>\n",
       "      <td>1</td>\n",
       "      <td>4.1</td>\n",
       "      <td>23.721957</td>\n",
       "      <td>-83.661763</td>\n",
       "      <td>41.845180</td>\n",
       "      <td>2</td>\n",
       "    </tr>\n",
       "    <tr>\n",
       "      <th>1478</th>\n",
       "      <td>2</td>\n",
       "      <td>0</td>\n",
       "      <td>0</td>\n",
       "      <td>1</td>\n",
       "      <td>4.7</td>\n",
       "      <td>27.228157</td>\n",
       "      <td>-83.827287</td>\n",
       "      <td>41.539226</td>\n",
       "      <td>2</td>\n",
       "    </tr>\n",
       "    <tr>\n",
       "      <th>1479</th>\n",
       "      <td>2</td>\n",
       "      <td>0</td>\n",
       "      <td>0</td>\n",
       "      <td>1</td>\n",
       "      <td>4.5</td>\n",
       "      <td>30.696893</td>\n",
       "      <td>-83.870874</td>\n",
       "      <td>41.534919</td>\n",
       "      <td>2</td>\n",
       "    </tr>\n",
       "    <tr>\n",
       "      <th>1480</th>\n",
       "      <td>2</td>\n",
       "      <td>0</td>\n",
       "      <td>0</td>\n",
       "      <td>1</td>\n",
       "      <td>4.1</td>\n",
       "      <td>25.433187</td>\n",
       "      <td>-83.820129</td>\n",
       "      <td>41.565847</td>\n",
       "      <td>2</td>\n",
       "    </tr>\n",
       "    <tr>\n",
       "      <th>1481</th>\n",
       "      <td>2</td>\n",
       "      <td>0</td>\n",
       "      <td>0</td>\n",
       "      <td>1</td>\n",
       "      <td>4.3</td>\n",
       "      <td>67.014452</td>\n",
       "      <td>-84.126153</td>\n",
       "      <td>42.065873</td>\n",
       "      <td>2</td>\n",
       "    </tr>\n",
       "    <tr>\n",
       "      <th>1482</th>\n",
       "      <td>2</td>\n",
       "      <td>0</td>\n",
       "      <td>0</td>\n",
       "      <td>1</td>\n",
       "      <td>4.6</td>\n",
       "      <td>65.384977</td>\n",
       "      <td>-84.097655</td>\n",
       "      <td>42.066839</td>\n",
       "      <td>2</td>\n",
       "    </tr>\n",
       "    <tr>\n",
       "      <th>1483</th>\n",
       "      <td>2</td>\n",
       "      <td>0</td>\n",
       "      <td>0</td>\n",
       "      <td>1</td>\n",
       "      <td>4.1</td>\n",
       "      <td>31.402672</td>\n",
       "      <td>-83.359905</td>\n",
       "      <td>41.902188</td>\n",
       "      <td>2</td>\n",
       "    </tr>\n",
       "    <tr>\n",
       "      <th>1484</th>\n",
       "      <td>2</td>\n",
       "      <td>0</td>\n",
       "      <td>0</td>\n",
       "      <td>1</td>\n",
       "      <td>4.4</td>\n",
       "      <td>35.569719</td>\n",
       "      <td>-83.663619</td>\n",
       "      <td>41.346812</td>\n",
       "      <td>2</td>\n",
       "    </tr>\n",
       "    <tr>\n",
       "      <th>1485</th>\n",
       "      <td>2</td>\n",
       "      <td>0</td>\n",
       "      <td>0</td>\n",
       "      <td>1</td>\n",
       "      <td>4.6</td>\n",
       "      <td>50.284998</td>\n",
       "      <td>-83.869316</td>\n",
       "      <td>42.031670</td>\n",
       "      <td>2</td>\n",
       "    </tr>\n",
       "    <tr>\n",
       "      <th>1486</th>\n",
       "      <td>2</td>\n",
       "      <td>0</td>\n",
       "      <td>0</td>\n",
       "      <td>1</td>\n",
       "      <td>4.2</td>\n",
       "      <td>31.880129</td>\n",
       "      <td>-83.878799</td>\n",
       "      <td>41.522891</td>\n",
       "      <td>2</td>\n",
       "    </tr>\n",
       "    <tr>\n",
       "      <th>1487</th>\n",
       "      <td>2</td>\n",
       "      <td>0</td>\n",
       "      <td>0</td>\n",
       "      <td>0</td>\n",
       "      <td>3.9</td>\n",
       "      <td>16.168674</td>\n",
       "      <td>-83.493517</td>\n",
       "      <td>41.511087</td>\n",
       "      <td>2</td>\n",
       "    </tr>\n",
       "    <tr>\n",
       "      <th>1488</th>\n",
       "      <td>2</td>\n",
       "      <td>0</td>\n",
       "      <td>0</td>\n",
       "      <td>1</td>\n",
       "      <td>4.3</td>\n",
       "      <td>64.069366</td>\n",
       "      <td>-83.023897</td>\n",
       "      <td>41.224782</td>\n",
       "      <td>2</td>\n",
       "    </tr>\n",
       "    <tr>\n",
       "      <th>1489</th>\n",
       "      <td>2</td>\n",
       "      <td>0</td>\n",
       "      <td>0</td>\n",
       "      <td>1</td>\n",
       "      <td>4.2</td>\n",
       "      <td>41.641775</td>\n",
       "      <td>-83.075937</td>\n",
       "      <td>41.510393</td>\n",
       "      <td>2</td>\n",
       "    </tr>\n",
       "    <tr>\n",
       "      <th>1490</th>\n",
       "      <td>2</td>\n",
       "      <td>0</td>\n",
       "      <td>0</td>\n",
       "      <td>1</td>\n",
       "      <td>4.6</td>\n",
       "      <td>32.020850</td>\n",
       "      <td>-83.847925</td>\n",
       "      <td>41.482800</td>\n",
       "      <td>2</td>\n",
       "    </tr>\n",
       "    <tr>\n",
       "      <th>1491</th>\n",
       "      <td>2</td>\n",
       "      <td>0</td>\n",
       "      <td>0</td>\n",
       "      <td>1</td>\n",
       "      <td>4.5</td>\n",
       "      <td>42.976666</td>\n",
       "      <td>-83.947381</td>\n",
       "      <td>41.418165</td>\n",
       "      <td>2</td>\n",
       "    </tr>\n",
       "    <tr>\n",
       "      <th>1492</th>\n",
       "      <td>2</td>\n",
       "      <td>0</td>\n",
       "      <td>0</td>\n",
       "      <td>1</td>\n",
       "      <td>4.3</td>\n",
       "      <td>60.125679</td>\n",
       "      <td>-83.034999</td>\n",
       "      <td>42.042247</td>\n",
       "      <td>2</td>\n",
       "    </tr>\n",
       "    <tr>\n",
       "      <th>1494</th>\n",
       "      <td>2</td>\n",
       "      <td>0</td>\n",
       "      <td>0</td>\n",
       "      <td>1</td>\n",
       "      <td>3.9</td>\n",
       "      <td>39.112881</td>\n",
       "      <td>-83.205472</td>\n",
       "      <td>41.404550</td>\n",
       "      <td>2</td>\n",
       "    </tr>\n",
       "  </tbody>\n",
       "</table>\n",
       "</div>"
      ],
      "text/plain": [
       "      type  luxury  beach  wild  rating  distance_km   longitude   latitude  \\\n",
       "1116     1       0      1     0     4.5    21.321550  -75.576715  10.224149   \n",
       "1117     1       0      1     1     4.9    36.023179  -75.730947  10.179027   \n",
       "1118     1       0      1     0     4.4    10.095029  -75.407322  10.341448   \n",
       "1119     1       0      1     0     4.5    26.165736  -75.618215  10.198059   \n",
       "1121     1       1      1     0     5.0    13.180568  -75.590479  10.339151   \n",
       "1122     1       0      1     1     4.3    35.889956  -75.729371  10.179073   \n",
       "1123     1       0      1     0     4.3    20.414490  -75.565613  10.227674   \n",
       "1126     1       0      1     0     4.2    10.118699  -75.407299  10.341105   \n",
       "1127     1       0      1     0     4.9    12.692183  -75.373631  10.430576   \n",
       "1129     1       1      1     1     4.8    67.829495  -75.027672  10.809054   \n",
       "1131     1       1      1     0     3.0     8.431603  -75.560089  10.397827   \n",
       "1451     2       0      0     1     4.6    17.500163 -118.249991  34.298857   \n",
       "1452     2       0      0     1     4.4    45.028358 -117.952583  34.240828   \n",
       "1453     2       0      0     1     4.5    48.953092 -117.912958  34.347154   \n",
       "1454     2       0      0     1     4.6    27.983478 -118.145304  34.217358   \n",
       "1455     2       0      0     1     4.5    31.038538 -118.109452  34.341350   \n",
       "1456     2       0      0     1     4.6    39.372553 -118.013803  34.320475   \n",
       "1457     2       0      0     1     4.2    24.885365 -118.178561  34.222202   \n",
       "1458     2       0      0     1     4.3    32.767006 -118.713827  34.094626   \n",
       "1460     2       0      0     1     3.3    23.875195 -118.183474  34.245529   \n",
       "1461     2       0      0     1     4.5    25.314072 -118.709428  34.323197   \n",
       "1462     2       0      0     1     4.4    23.482449 -118.520987  34.081524   \n",
       "1463     2       0      0     1     4.5    38.884104 -118.034207  34.382561   \n",
       "1464     2       0      0     1     4.4    23.924403 -118.583837  34.102986   \n",
       "1465     2       0      0     1     4.9    52.552029 -118.934018  34.047184   \n",
       "1466     2       0      0     1     4.7    43.121712 -117.977777  34.215277   \n",
       "1467     2       0      0     1     4.4    40.618408 -118.004218  34.344750   \n",
       "1468     2       0      0     1     5.0    33.618655 -118.085300  34.207192   \n",
       "1475     2       0      0     1     4.0    46.319933  -83.638508  42.062994   \n",
       "1476     2       0      0     1     4.5    47.970620  -84.113655  41.646295   \n",
       "1477     2       0      0     1     4.1    23.721957  -83.661763  41.845180   \n",
       "1478     2       0      0     1     4.7    27.228157  -83.827287  41.539226   \n",
       "1479     2       0      0     1     4.5    30.696893  -83.870874  41.534919   \n",
       "1480     2       0      0     1     4.1    25.433187  -83.820129  41.565847   \n",
       "1481     2       0      0     1     4.3    67.014452  -84.126153  42.065873   \n",
       "1482     2       0      0     1     4.6    65.384977  -84.097655  42.066839   \n",
       "1483     2       0      0     1     4.1    31.402672  -83.359905  41.902188   \n",
       "1484     2       0      0     1     4.4    35.569719  -83.663619  41.346812   \n",
       "1485     2       0      0     1     4.6    50.284998  -83.869316  42.031670   \n",
       "1486     2       0      0     1     4.2    31.880129  -83.878799  41.522891   \n",
       "1487     2       0      0     0     3.9    16.168674  -83.493517  41.511087   \n",
       "1488     2       0      0     1     4.3    64.069366  -83.023897  41.224782   \n",
       "1489     2       0      0     1     4.2    41.641775  -83.075937  41.510393   \n",
       "1490     2       0      0     1     4.6    32.020850  -83.847925  41.482800   \n",
       "1491     2       0      0     1     4.5    42.976666  -83.947381  41.418165   \n",
       "1492     2       0      0     1     4.3    60.125679  -83.034999  42.042247   \n",
       "1494     2       0      0     1     3.9    39.112881  -83.205472  41.404550   \n",
       "\n",
       "      cluster  \n",
       "1116        2  \n",
       "1117        2  \n",
       "1118        2  \n",
       "1119        2  \n",
       "1121        2  \n",
       "1122        2  \n",
       "1123        2  \n",
       "1126        2  \n",
       "1127        2  \n",
       "1129        2  \n",
       "1131        2  \n",
       "1451        2  \n",
       "1452        2  \n",
       "1453        2  \n",
       "1454        2  \n",
       "1455        2  \n",
       "1456        2  \n",
       "1457        2  \n",
       "1458        2  \n",
       "1460        2  \n",
       "1461        2  \n",
       "1462        2  \n",
       "1463        2  \n",
       "1464        2  \n",
       "1465        2  \n",
       "1466        2  \n",
       "1467        2  \n",
       "1468        2  \n",
       "1475        2  \n",
       "1476        2  \n",
       "1477        2  \n",
       "1478        2  \n",
       "1479        2  \n",
       "1480        2  \n",
       "1481        2  \n",
       "1482        2  \n",
       "1483        2  \n",
       "1484        2  \n",
       "1485        2  \n",
       "1486        2  \n",
       "1487        2  \n",
       "1488        2  \n",
       "1489        2  \n",
       "1490        2  \n",
       "1491        2  \n",
       "1492        2  \n",
       "1494        2  "
      ]
     },
     "execution_count": 58,
     "metadata": {},
     "output_type": "execute_result"
    }
   ],
   "source": [
    "dffiltered"
   ]
  },
  {
   "cell_type": "code",
   "execution_count": null,
   "id": "dac64c15-7cdb-4e9b-a94c-d99d0f134179",
   "metadata": {},
   "outputs": [],
   "source": []
  },
  {
   "cell_type": "markdown",
   "id": "fce2f7d1-82af-4303-a335-d66cafd3530b",
   "metadata": {},
   "source": [
    "# GRID SEARCH"
   ]
  },
  {
   "cell_type": "code",
   "execution_count": 40,
   "id": "ceba617d-e96d-4cd2-b76a-d138bf4b038a",
   "metadata": {
    "tags": []
   },
   "outputs": [],
   "source": [
    "dbscan_clusters = []\n",
    "cluster_count   = []\n",
    "eps_space = [20,23,25,27,30,33,35,37,40,42,45,48,50]\n",
    "min_samples_space = [5,7,10,12,15,17,20]"
   ]
  },
  {
   "cell_type": "code",
   "execution_count": 42,
   "id": "261304cc-3a5c-4207-b98c-0b1cfce0cb9d",
   "metadata": {
    "tags": []
   },
   "outputs": [
    {
     "ename": "NameError",
     "evalue": "name 'parameters' is not defined",
     "output_type": "error",
     "traceback": [
      "\u001b[1;31m---------------------------------------------------------------------------\u001b[0m",
      "\u001b[1;31mNameError\u001b[0m                                 Traceback (most recent call last)",
      "Cell \u001b[1;32mIn[42], line 7\u001b[0m\n\u001b[0;32m      1\u001b[0m \u001b[38;5;66;03m# SPA Modification\u001b[39;00m\n\u001b[0;32m      2\u001b[0m \n\u001b[0;32m      3\u001b[0m \u001b[38;5;66;03m# Initialize and fit DBSCAN for campsites\u001b[39;00m\n\u001b[0;32m      5\u001b[0m dbscan \u001b[38;5;241m=\u001b[39m DBSCAN(eps\u001b[38;5;241m=\u001b[39m\u001b[38;5;241m50\u001b[39m, min_samples\u001b[38;5;241m=\u001b[39m\u001b[38;5;241m16\u001b[39m, metric \u001b[38;5;241m=\u001b[39m \u001b[38;5;124m'\u001b[39m\u001b[38;5;124mmanhattan\u001b[39m\u001b[38;5;124m'\u001b[39m)\n\u001b[1;32m----> 7\u001b[0m dbscan_campsites_gs \u001b[38;5;241m=\u001b[39m GridSearchCV(dbscan,parameters)\n\u001b[0;32m      8\u001b[0m dbscan_campsites_gs\u001b[38;5;241m.\u001b[39mfit(Xca)\n\u001b[0;32m     10\u001b[0m \u001b[38;5;66;03m# Assign cluster labels\u001b[39;00m\n",
      "\u001b[1;31mNameError\u001b[0m: name 'parameters' is not defined"
     ]
    }
   ],
   "source": [
    "# SPA Modification\n",
    "\n",
    "# Initialize and fit DBSCAN for campsites\n",
    "\n",
    "dbscan = DBSCAN(eps=50, min_samples=16, metric = 'manhattan')\n",
    "\n",
    "dbscan_campsites_gs = GridSearchCV(dbscan,parameters)\n",
    "dbscan_campsites_gs.fit(Xca)\n",
    "\n",
    "# Assign cluster labels\n",
    "df_campsites['cluster'] = dbscan_campsites_gs.labels_\n",
    "\n"
   ]
  },
  {
   "cell_type": "code",
   "execution_count": 44,
   "id": "89b179c9-3a2f-4552-abb7-ca54cec81d6b",
   "metadata": {
    "tags": []
   },
   "outputs": [
    {
     "name": "stdout",
     "output_type": "stream",
     "text": [
      "Silhouette Score: 0.7158593830074172\n"
     ]
    }
   ],
   "source": [
    "# Calculate silhouette score, only if more than 1 cluster and noise exists\n",
    "\n",
    "if len(np.unique(dbscan_campsites_spa.labels_)) > 1:\n",
    "    silhouette_avg = silhouette_score(Xca, dbscan_campsites_spa.labels_)\n",
    "    print(\"Silhouette Score:\", silhouette_avg)\n",
    "else:\n",
    "    print(\"Not enough clusters to compute the silhouette score.\")"
   ]
  },
  {
   "cell_type": "code",
   "execution_count": 46,
   "id": "8082dede-b2eb-41d9-989a-f60e51904cd2",
   "metadata": {
    "tags": []
   },
   "outputs": [
    {
     "data": {
      "text/plain": [
       "cluster\n",
       " 0    3364\n",
       "-1     116\n",
       " 2      47\n",
       " 1      42\n",
       "Name: count, dtype: int64"
      ]
     },
     "execution_count": 46,
     "metadata": {},
     "output_type": "execute_result"
    }
   ],
   "source": [
    "df_campsites['cluster'].value_counts()"
   ]
  },
  {
   "cell_type": "code",
   "execution_count": 109,
   "id": "4c39db2b-fd30-473c-9901-fd002eba37b0",
   "metadata": {},
   "outputs": [],
   "source": [
    "from geopy.distance import great_circle\n",
    "\n",
    "def find_nearby_coworks(campsite, coworks, max_distance_km):\n",
    "    nearby_coworks = []\n",
    "    for _, cowork in coworks.iterrows():\n",
    "        dist = great_circle((campsite.latitude, campsite.longitude), (cowork.latitude, cowork.longitude)).kilometers\n",
    "        if dist <= max_distance_km:\n",
    "            nearby_coworks.append(cowork)\n",
    "    return nearby_coworks\n",
    "\n",
    "# Example usage for the first campsite\n",
    "campsite = df_campsites.iloc[0]\n",
    "nearby_coworks = find_nearby_coworks(campsite, df_cowork, 1)  # finding coworks within 1 km"
   ]
  },
  {
   "cell_type": "code",
   "execution_count": 111,
   "id": "c22034ff-12c6-4bbc-8f75-d8ef4305d7dc",
   "metadata": {
    "tags": []
   },
   "outputs": [],
   "source": [
    "campsite = df_campsites.iloc[0]\n",
    "nearby_coworks = find_nearby_coworks(campsite, df_cowork, 1) "
   ]
  },
  {
   "cell_type": "code",
   "execution_count": 113,
   "id": "1768a988-60bb-4f6f-8425-3559d6dcf578",
   "metadata": {
    "tags": []
   },
   "outputs": [
    {
     "data": {
      "text/plain": [
       "type            0.000000\n",
       "luxury          0.000000\n",
       "beach           0.000000\n",
       "wild            0.000000\n",
       "rating          3.900000\n",
       "distance_km     9.458117\n",
       "longitude      -3.603361\n",
       "latitude       40.453734\n",
       "cluster         0.000000\n",
       "Name: 0, dtype: float64"
      ]
     },
     "execution_count": 113,
     "metadata": {},
     "output_type": "execute_result"
    }
   ],
   "source": [
    "campsite"
   ]
  },
  {
   "cell_type": "code",
   "execution_count": 115,
   "id": "3fcafd97-b0ea-493d-b5e3-78592c745fd8",
   "metadata": {
    "tags": []
   },
   "outputs": [
    {
     "data": {
      "text/plain": [
       "[]"
      ]
     },
     "execution_count": 115,
     "metadata": {},
     "output_type": "execute_result"
    }
   ],
   "source": [
    "nearby_coworks"
   ]
  },
  {
   "cell_type": "code",
   "execution_count": null,
   "id": "f33979b7-898f-47b8-b4e8-7c10d9d114e1",
   "metadata": {
    "tags": []
   },
   "outputs": [],
   "source": [
    "# Extraer los valores de distancia_km\n",
    "distances = [entry['distance_km'] for entry in nearby_coworks]\n",
    "\n",
    "# Encontrar el máximo\n",
    "max_distance = max(distances)\n",
    "# Encontrar el mínimo\n",
    "min_distance = min(distances)"
   ]
  },
  {
   "cell_type": "code",
   "execution_count": null,
   "id": "4e72b6a3-62d3-44d7-8420-3362d8c3553b",
   "metadata": {
    "tags": []
   },
   "outputs": [],
   "source": [
    "max_distance"
   ]
  },
  {
   "cell_type": "code",
   "execution_count": null,
   "id": "4805ed2b-786f-48dd-881d-323fae0cc37a",
   "metadata": {
    "tags": []
   },
   "outputs": [],
   "source": [
    "min_distance"
   ]
  },
  {
   "cell_type": "code",
   "execution_count": null,
   "id": "594feb8d-92ac-40e1-88a2-d10fc03d98ff",
   "metadata": {
    "tags": []
   },
   "outputs": [],
   "source": [
    "campsite = df_campsites.iloc[100]"
   ]
  },
  {
   "cell_type": "code",
   "execution_count": 117,
   "id": "9a3ecddb-153f-40ad-9322-236216bab860",
   "metadata": {
    "tags": []
   },
   "outputs": [],
   "source": [
    "nearby_coworks = find_nearby_coworks(campsite, df_cowork, 1)"
   ]
  },
  {
   "cell_type": "code",
   "execution_count": 119,
   "id": "1ad78eaf-248b-41f9-9f0d-1765309d4469",
   "metadata": {
    "tags": []
   },
   "outputs": [
    {
     "data": {
      "text/plain": [
       "type            0.000000\n",
       "luxury          0.000000\n",
       "beach           0.000000\n",
       "wild            0.000000\n",
       "rating          3.900000\n",
       "distance_km     9.458117\n",
       "longitude      -3.603361\n",
       "latitude       40.453734\n",
       "cluster         0.000000\n",
       "Name: 0, dtype: float64"
      ]
     },
     "execution_count": 119,
     "metadata": {},
     "output_type": "execute_result"
    }
   ],
   "source": [
    "campsite"
   ]
  },
  {
   "cell_type": "code",
   "execution_count": 121,
   "id": "e65e5e61-0226-4785-a878-3f5a38886417",
   "metadata": {
    "tags": []
   },
   "outputs": [
    {
     "data": {
      "text/plain": [
       "[]"
      ]
     },
     "execution_count": 121,
     "metadata": {},
     "output_type": "execute_result"
    }
   ],
   "source": [
    "nearby_coworks"
   ]
  },
  {
   "cell_type": "code",
   "execution_count": null,
   "id": "ae19bb84-8e87-4503-b7df-cf4ece63071f",
   "metadata": {},
   "outputs": [],
   "source": []
  },
  {
   "cell_type": "code",
   "execution_count": null,
   "id": "6c17d7f4-0cb2-4b55-90b0-29787e54b5b9",
   "metadata": {},
   "outputs": [],
   "source": []
  },
  {
   "cell_type": "code",
   "execution_count": null,
   "id": "52351a03-6c8c-4238-bee2-1303c5de843e",
   "metadata": {},
   "outputs": [],
   "source": []
  },
  {
   "cell_type": "code",
   "execution_count": null,
   "id": "35d42c82-2243-48dc-8d89-0dcb443cb8a6",
   "metadata": {},
   "outputs": [],
   "source": []
  },
  {
   "cell_type": "code",
   "execution_count": null,
   "id": "e5f6df50-8589-4311-a2ef-8e784caed2a7",
   "metadata": {},
   "outputs": [],
   "source": []
  },
  {
   "cell_type": "code",
   "execution_count": null,
   "id": "556335ef-7d93-47bf-99c6-2eca2226c9c9",
   "metadata": {},
   "outputs": [],
   "source": [
    "# Assuming you add results to your dataframe or a separate list\n",
    "df_campsites['nearby_coworks_count'] = df_campsites.apply(lambda x: len(find_nearby_coworks(x, df_cowork, 1)), axis=1)\n",
    "\n",
    "# Recommend campsites with at least one coworking space nearby\n",
    "recommended_campsites = df_campsites[df_campsites['nearby_coworks_count'] > 0]"
   ]
  },
  {
   "cell_type": "code",
   "execution_count": null,
   "id": "0aa05eea-fc8a-47f8-ac99-f2358591e702",
   "metadata": {},
   "outputs": [],
   "source": []
  },
  {
   "cell_type": "code",
   "execution_count": null,
   "id": "5529b2bc-76b5-4855-af82-552abeb1af5d",
   "metadata": {},
   "outputs": [],
   "source": []
  }
 ],
 "metadata": {
  "kernelspec": {
   "display_name": "Python 3 (ipykernel)",
   "language": "python",
   "name": "python3"
  },
  "language_info": {
   "codemirror_mode": {
    "name": "ipython",
    "version": 3
   },
   "file_extension": ".py",
   "mimetype": "text/x-python",
   "name": "python",
   "nbconvert_exporter": "python",
   "pygments_lexer": "ipython3",
   "version": "3.11.5"
  }
 },
 "nbformat": 4,
 "nbformat_minor": 5
}

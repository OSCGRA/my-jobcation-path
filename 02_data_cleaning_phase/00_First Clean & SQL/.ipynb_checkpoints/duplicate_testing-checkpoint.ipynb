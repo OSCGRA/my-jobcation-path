{
 "cells": [
  {
   "cell_type": "code",
   "execution_count": 2,
   "id": "e7792a12-c2ac-47b9-a36d-c1e1dad0596a",
   "metadata": {
    "tags": []
   },
   "outputs": [],
   "source": [
    "# Basic Libraries 📚\n",
    "import pandas as pd\n",
    "import os\n",
    "import sys"
   ]
  },
  {
   "cell_type": "code",
   "execution_count": 3,
   "id": "f4c7cc01-1645-4420-97a2-600583b0c56a",
   "metadata": {
    "tags": []
   },
   "outputs": [],
   "source": [
    "# Sum & Return duplicates, NaN & two empty spaces 🔧 \n",
    "\n",
    "def data_explore(df):   \n",
    "    duplicate_rows = df.duplicated().sum()\n",
    "    nan_values = df.isna().sum()\n",
    "    empty_spaces = df.eq(' ').sum()\n",
    "    exploration = pd.DataFrame({\"NaN\": nan_values, \"EmptySpaces\": empty_spaces}) # New dataframe with the results\n",
    "    print(f\"There are {df.duplicated().sum()} duplicate rows. Also;\")\n",
    "    return exploration"
   ]
  },
  {
   "cell_type": "code",
   "execution_count": 4,
   "id": "0f05a9c4-64c0-403c-b7c9-ac5339a214cc",
   "metadata": {
    "tags": []
   },
   "outputs": [
    {
     "name": "stdout",
     "output_type": "stream",
     "text": [
      "Current working directory is: C:\\Users\\Oscar\\Documents\\00_Ironhack\\P3_Final\n"
     ]
    }
   ],
   "source": [
    "#Construct my relative path\n",
    "relative_path = \"my-jobcation-path/01_data_mining_phase/raw_data/coworkings.csv\"\n",
    "relative_path2 = \"my-jobcation-path/01_data_mining_phase/raw_data/campsites.csv\"\n",
    "\n",
    "#Change directory\n",
    "os.chdir('C:\\\\Users\\\\Oscar\\\\Documents\\\\00_Ironhack\\\\P3_Final\\\\') #Change for your own directory\n",
    "\n",
    "#Check directory\n",
    "current_directory = os.getcwd()\n",
    "print(\"Current working directory is:\", current_directory)\n"
   ]
  },
  {
   "cell_type": "code",
   "execution_count": 5,
   "id": "84d8c54c-b62a-409a-8d7e-1720ad19d1ba",
   "metadata": {
    "tags": []
   },
   "outputs": [],
   "source": [
    "#Construct absolute paths\n",
    "coworkings_path = os.path.join(current_directory, relative_path)\n",
    "campsites_path = os.path.join(current_directory, relative_path2)"
   ]
  },
  {
   "cell_type": "code",
   "execution_count": 6,
   "id": "82fab10a-9c30-4008-beae-1dcdd55a462d",
   "metadata": {
    "tags": []
   },
   "outputs": [
    {
     "name": "stdout",
     "output_type": "stream",
     "text": [
      "The file has been loaded successfully.\n"
     ]
    }
   ],
   "source": [
    "#Coworkings reading\n",
    "if os.path.exists(coworkings_path):\n",
    "    try:\n",
    "        # Try to read the Excel file\n",
    "        data = pd.read_csv(coworkings_path)\n",
    "        print(\"The file has been loaded successfully.\")\n",
    "        # Now you can work with the 'data' DataFrame\n",
    "    except Exception as e:\n",
    "        print(\"An error occurred while reading the file:\", e)\n",
    "else:\n",
    "    print(\"The file does not exist at the specified path:\", coworkings_path)"
   ]
  },
  {
   "cell_type": "code",
   "execution_count": 7,
   "id": "0f83119b-322f-49d4-b2a1-d57e64645569",
   "metadata": {
    "tags": []
   },
   "outputs": [
    {
     "name": "stdout",
     "output_type": "stream",
     "text": [
      "The file has been loaded successfully.\n"
     ]
    }
   ],
   "source": [
    "#Campsites reading\n",
    "if os.path.exists(campsites_path):\n",
    "    try:\n",
    "        # Try to read the Excel file\n",
    "        data2 = pd.read_csv(campsites_path)\n",
    "        print(\"The file has been loaded successfully.\")\n",
    "        # Now you can work with the 'data' DataFrame\n",
    "    except Exception as e:\n",
    "        print(\"An error occurred while reading the file:\", e)\n",
    "else:\n",
    "    print(\"The file does not exist at the specified path:\", campsites_path)"
   ]
  },
  {
   "cell_type": "code",
   "execution_count": 8,
   "id": "672cbcd4-4173-4ace-aa11-6c9eda7aa379",
   "metadata": {
    "tags": []
   },
   "outputs": [],
   "source": [
    "# Dataframe Creation\n",
    "df = data.copy()\n",
    "df2 = data2.copy() "
   ]
  },
  {
   "cell_type": "code",
   "execution_count": 9,
   "id": "11f57e96-5dfc-4ae5-a4ff-049319ecd3a8",
   "metadata": {
    "tags": []
   },
   "outputs": [
    {
     "name": "stdout",
     "output_type": "stream",
     "text": [
      "There are 0 duplicate rows. Also;\n"
     ]
    },
    {
     "data": {
      "text/html": [
       "<div>\n",
       "<style scoped>\n",
       "    .dataframe tbody tr th:only-of-type {\n",
       "        vertical-align: middle;\n",
       "    }\n",
       "\n",
       "    .dataframe tbody tr th {\n",
       "        vertical-align: top;\n",
       "    }\n",
       "\n",
       "    .dataframe thead th {\n",
       "        text-align: right;\n",
       "    }\n",
       "</style>\n",
       "<table border=\"1\" class=\"dataframe\">\n",
       "  <thead>\n",
       "    <tr style=\"text-align: right;\">\n",
       "      <th></th>\n",
       "      <th>NaN</th>\n",
       "      <th>EmptySpaces</th>\n",
       "    </tr>\n",
       "  </thead>\n",
       "  <tbody>\n",
       "    <tr>\n",
       "      <th>Name</th>\n",
       "      <td>0</td>\n",
       "      <td>0</td>\n",
       "    </tr>\n",
       "    <tr>\n",
       "      <th>Address</th>\n",
       "      <td>0</td>\n",
       "      <td>0</td>\n",
       "    </tr>\n",
       "    <tr>\n",
       "      <th>City</th>\n",
       "      <td>0</td>\n",
       "      <td>0</td>\n",
       "    </tr>\n",
       "    <tr>\n",
       "      <th>Rating</th>\n",
       "      <td>0</td>\n",
       "      <td>0</td>\n",
       "    </tr>\n",
       "    <tr>\n",
       "      <th>Website</th>\n",
       "      <td>0</td>\n",
       "      <td>0</td>\n",
       "    </tr>\n",
       "    <tr>\n",
       "      <th>Schedule</th>\n",
       "      <td>0</td>\n",
       "      <td>0</td>\n",
       "    </tr>\n",
       "    <tr>\n",
       "      <th>Latitude</th>\n",
       "      <td>0</td>\n",
       "      <td>0</td>\n",
       "    </tr>\n",
       "    <tr>\n",
       "      <th>Longitude</th>\n",
       "      <td>0</td>\n",
       "      <td>0</td>\n",
       "    </tr>\n",
       "  </tbody>\n",
       "</table>\n",
       "</div>"
      ],
      "text/plain": [
       "           NaN  EmptySpaces\n",
       "Name         0            0\n",
       "Address      0            0\n",
       "City         0            0\n",
       "Rating       0            0\n",
       "Website      0            0\n",
       "Schedule     0            0\n",
       "Latitude     0            0\n",
       "Longitude    0            0"
      ]
     },
     "execution_count": 9,
     "metadata": {},
     "output_type": "execute_result"
    }
   ],
   "source": [
    "data_explore(df)"
   ]
  },
  {
   "cell_type": "code",
   "execution_count": 10,
   "id": "99ab6bbc-0ac2-41a6-83ab-96fed6e15307",
   "metadata": {
    "tags": []
   },
   "outputs": [
    {
     "name": "stdout",
     "output_type": "stream",
     "text": [
      "There are 0 duplicate rows. Also;\n"
     ]
    },
    {
     "data": {
      "text/html": [
       "<div>\n",
       "<style scoped>\n",
       "    .dataframe tbody tr th:only-of-type {\n",
       "        vertical-align: middle;\n",
       "    }\n",
       "\n",
       "    .dataframe tbody tr th {\n",
       "        vertical-align: top;\n",
       "    }\n",
       "\n",
       "    .dataframe thead th {\n",
       "        text-align: right;\n",
       "    }\n",
       "</style>\n",
       "<table border=\"1\" class=\"dataframe\">\n",
       "  <thead>\n",
       "    <tr style=\"text-align: right;\">\n",
       "      <th></th>\n",
       "      <th>NaN</th>\n",
       "      <th>EmptySpaces</th>\n",
       "    </tr>\n",
       "  </thead>\n",
       "  <tbody>\n",
       "    <tr>\n",
       "      <th>Name</th>\n",
       "      <td>0</td>\n",
       "      <td>0</td>\n",
       "    </tr>\n",
       "    <tr>\n",
       "      <th>Address</th>\n",
       "      <td>0</td>\n",
       "      <td>0</td>\n",
       "    </tr>\n",
       "    <tr>\n",
       "      <th>City</th>\n",
       "      <td>0</td>\n",
       "      <td>0</td>\n",
       "    </tr>\n",
       "    <tr>\n",
       "      <th>Rating</th>\n",
       "      <td>0</td>\n",
       "      <td>0</td>\n",
       "    </tr>\n",
       "    <tr>\n",
       "      <th>Website</th>\n",
       "      <td>0</td>\n",
       "      <td>0</td>\n",
       "    </tr>\n",
       "    <tr>\n",
       "      <th>Schedule</th>\n",
       "      <td>0</td>\n",
       "      <td>0</td>\n",
       "    </tr>\n",
       "    <tr>\n",
       "      <th>Latitude</th>\n",
       "      <td>0</td>\n",
       "      <td>0</td>\n",
       "    </tr>\n",
       "    <tr>\n",
       "      <th>Longitude</th>\n",
       "      <td>0</td>\n",
       "      <td>0</td>\n",
       "    </tr>\n",
       "  </tbody>\n",
       "</table>\n",
       "</div>"
      ],
      "text/plain": [
       "           NaN  EmptySpaces\n",
       "Name         0            0\n",
       "Address      0            0\n",
       "City         0            0\n",
       "Rating       0            0\n",
       "Website      0            0\n",
       "Schedule     0            0\n",
       "Latitude     0            0\n",
       "Longitude    0            0"
      ]
     },
     "execution_count": 10,
     "metadata": {},
     "output_type": "execute_result"
    }
   ],
   "source": [
    "data_explore(df2)"
   ]
  },
  {
   "cell_type": "code",
   "execution_count": 33,
   "id": "b84ff585-e36b-4acd-be00-11d638fd3562",
   "metadata": {
    "tags": []
   },
   "outputs": [],
   "source": [
    "unique_coworks = df[\"Name\"].unique()\n",
    "unique_campsites = df2[\"Name\"].unique()"
   ]
  },
  {
   "cell_type": "code",
   "execution_count": 41,
   "id": "27d19521-4d9a-4286-a17a-41c54333197e",
   "metadata": {
    "tags": []
   },
   "outputs": [
    {
     "data": {
      "text/plain": [
       "1064"
      ]
     },
     "execution_count": 41,
     "metadata": {},
     "output_type": "execute_result"
    }
   ],
   "source": [
    "df[\"Name\"].nunique()"
   ]
  },
  {
   "cell_type": "code",
   "execution_count": 43,
   "id": "327b6d6a-e5da-4ae7-a4dd-d56550d197d8",
   "metadata": {
    "tags": []
   },
   "outputs": [
    {
     "data": {
      "text/plain": [
       "(1671, 8)"
      ]
     },
     "execution_count": 43,
     "metadata": {},
     "output_type": "execute_result"
    }
   ],
   "source": [
    "df.shape"
   ]
  },
  {
   "cell_type": "code",
   "execution_count": 45,
   "id": "2709b4c2-780f-4ad8-b567-7a76d788d82f",
   "metadata": {
    "tags": []
   },
   "outputs": [
    {
     "data": {
      "text/plain": [
       "(1900, 8)"
      ]
     },
     "execution_count": 45,
     "metadata": {},
     "output_type": "execute_result"
    }
   ],
   "source": [
    "df2.shape"
   ]
  },
  {
   "cell_type": "code",
   "execution_count": 47,
   "id": "1dab9137-140d-42c8-92e3-fe258ca3e606",
   "metadata": {
    "tags": []
   },
   "outputs": [
    {
     "data": {
      "text/plain": [
       "959"
      ]
     },
     "execution_count": 47,
     "metadata": {},
     "output_type": "execute_result"
    }
   ],
   "source": [
    "df2[\"Name\"].nunique()"
   ]
  },
  {
   "cell_type": "code",
   "execution_count": 55,
   "id": "6d4768fe-35bf-47b2-a20f-cf494ceb9797",
   "metadata": {
    "tags": []
   },
   "outputs": [],
   "source": [
    "df3 = pd.DataFrame(df['Name'])"
   ]
  },
  {
   "cell_type": "code",
   "execution_count": 57,
   "id": "7c1d9bd7-23c8-44f1-9727-48dfd954d8ea",
   "metadata": {
    "tags": []
   },
   "outputs": [],
   "source": [
    "df4 = pd.DataFrame(df2['Name'])"
   ]
  },
  {
   "cell_type": "code",
   "execution_count": 59,
   "id": "0015fbb5-8dbb-480a-b878-fa80439709fd",
   "metadata": {
    "tags": []
   },
   "outputs": [
    {
     "name": "stdout",
     "output_type": "stream",
     "text": [
      "There are 607 duplicate rows. Also;\n"
     ]
    },
    {
     "data": {
      "text/html": [
       "<div>\n",
       "<style scoped>\n",
       "    .dataframe tbody tr th:only-of-type {\n",
       "        vertical-align: middle;\n",
       "    }\n",
       "\n",
       "    .dataframe tbody tr th {\n",
       "        vertical-align: top;\n",
       "    }\n",
       "\n",
       "    .dataframe thead th {\n",
       "        text-align: right;\n",
       "    }\n",
       "</style>\n",
       "<table border=\"1\" class=\"dataframe\">\n",
       "  <thead>\n",
       "    <tr style=\"text-align: right;\">\n",
       "      <th></th>\n",
       "      <th>NaN</th>\n",
       "      <th>EmptySpaces</th>\n",
       "    </tr>\n",
       "  </thead>\n",
       "  <tbody>\n",
       "    <tr>\n",
       "      <th>Name</th>\n",
       "      <td>0</td>\n",
       "      <td>0</td>\n",
       "    </tr>\n",
       "  </tbody>\n",
       "</table>\n",
       "</div>"
      ],
      "text/plain": [
       "      NaN  EmptySpaces\n",
       "Name    0            0"
      ]
     },
     "execution_count": 59,
     "metadata": {},
     "output_type": "execute_result"
    }
   ],
   "source": [
    "data_explore(df3)"
   ]
  },
  {
   "cell_type": "code",
   "execution_count": 61,
   "id": "92043019-2cda-4959-b753-1a02fa505169",
   "metadata": {
    "tags": []
   },
   "outputs": [
    {
     "name": "stdout",
     "output_type": "stream",
     "text": [
      "There are 941 duplicate rows. Also;\n"
     ]
    },
    {
     "data": {
      "text/html": [
       "<div>\n",
       "<style scoped>\n",
       "    .dataframe tbody tr th:only-of-type {\n",
       "        vertical-align: middle;\n",
       "    }\n",
       "\n",
       "    .dataframe tbody tr th {\n",
       "        vertical-align: top;\n",
       "    }\n",
       "\n",
       "    .dataframe thead th {\n",
       "        text-align: right;\n",
       "    }\n",
       "</style>\n",
       "<table border=\"1\" class=\"dataframe\">\n",
       "  <thead>\n",
       "    <tr style=\"text-align: right;\">\n",
       "      <th></th>\n",
       "      <th>NaN</th>\n",
       "      <th>EmptySpaces</th>\n",
       "    </tr>\n",
       "  </thead>\n",
       "  <tbody>\n",
       "    <tr>\n",
       "      <th>Name</th>\n",
       "      <td>0</td>\n",
       "      <td>0</td>\n",
       "    </tr>\n",
       "  </tbody>\n",
       "</table>\n",
       "</div>"
      ],
      "text/plain": [
       "      NaN  EmptySpaces\n",
       "Name    0            0"
      ]
     },
     "execution_count": 61,
     "metadata": {},
     "output_type": "execute_result"
    }
   ],
   "source": [
    "data_explore(df4)"
   ]
  },
  {
   "cell_type": "code",
   "execution_count": null,
   "id": "4ae69571-0440-4bcd-bda5-f4ca1ca35b68",
   "metadata": {},
   "outputs": [],
   "source": []
  }
 ],
 "metadata": {
  "kernelspec": {
   "display_name": "Python 3 (ipykernel)",
   "language": "python",
   "name": "python3"
  },
  "language_info": {
   "codemirror_mode": {
    "name": "ipython",
    "version": 3
   },
   "file_extension": ".py",
   "mimetype": "text/x-python",
   "name": "python",
   "nbconvert_exporter": "python",
   "pygments_lexer": "ipython3",
   "version": "3.11.5"
  }
 },
 "nbformat": 4,
 "nbformat_minor": 5
}

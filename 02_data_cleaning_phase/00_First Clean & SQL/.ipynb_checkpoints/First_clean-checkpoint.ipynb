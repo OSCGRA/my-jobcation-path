{
 "cells": [
  {
   "cell_type": "code",
   "execution_count": 1,
   "id": "e7792a12-c2ac-47b9-a36d-c1e1dad0596a",
   "metadata": {
    "tags": []
   },
   "outputs": [],
   "source": [
    "#Basic Libraries 📚\n",
    "import pandas as pd\n",
    "import xlrd\n",
    "import os\n",
    "import sys"
   ]
  },
  {
   "cell_type": "code",
   "execution_count": 2,
   "id": "d89fa87b-b769-4486-b65f-d526c54b753d",
   "metadata": {},
   "outputs": [],
   "source": [
    "# Basic Modules & Useful Installations:\n",
    "import warnings\n",
    "warnings.simplefilter(action='ignore')\n"
   ]
  },
  {
   "cell_type": "code",
   "execution_count": 3,
   "id": "dca8c023-f7cb-4a55-b941-93cb68496356",
   "metadata": {},
   "outputs": [],
   "source": [
    "# Completed Caracterization 🔧 \n",
    "\n",
    "def data_caracterization(df):\n",
    "    columns = df.columns.tolist()\n",
    "    (dfrows,dfcolumns) = df.shape\n",
    "    df.reset_index()\n",
    "    print(f'Caracterization:\\n')\n",
    "    print(f'Number of Rows: {dfrows}\\n')\n",
    "    print(f'Number of Columns: {dfcolumns}\\n')\n",
    "    print(f'Columns Names/Variables/Features: {columns}\\n')\n",
    "    df.info()\n",
    "    print(f'\\n Head:\\n')\n",
    "    return df.head(5)"
   ]
  },
  {
   "cell_type": "code",
   "execution_count": 4,
   "id": "0f05a9c4-64c0-403c-b7c9-ac5339a214cc",
   "metadata": {
    "tags": []
   },
   "outputs": [
    {
     "name": "stdout",
     "output_type": "stream",
     "text": [
      "Current working directory is: C:\\Users\\Oscar\\Documents\\00_Ironhack\\P3_Final\n"
     ]
    }
   ],
   "source": [
    "# Construct reading relative path\n",
    "relative_path = \"my-jobcation-path/01_data_mining_phase/raw_data/coworkings.csv\"\n",
    "relative_path2 = \"my-jobcation-path/01_data_mining_phase/raw_data/campsites.csv\"\n",
    "\n",
    "# Change directory\n",
    "os.chdir('C:\\\\Users\\\\Oscar\\\\Documents\\\\00_Ironhack\\\\P3_Final\\\\') #Change for your own directory\n",
    "\n",
    "# Check directory\n",
    "current_directory = os.getcwd()\n",
    "print(\"Current working directory is:\", current_directory)"
   ]
  },
  {
   "cell_type": "code",
   "execution_count": 5,
   "id": "84d8c54c-b62a-409a-8d7e-1720ad19d1ba",
   "metadata": {
    "tags": []
   },
   "outputs": [],
   "source": [
    "#Construct absolute paths\n",
    "coworkings_path = os.path.join(current_directory, relative_path)\n",
    "campsites_path = os.path.join(current_directory, relative_path2)"
   ]
  },
  {
   "cell_type": "code",
   "execution_count": 6,
   "id": "82fab10a-9c30-4008-beae-1dcdd55a462d",
   "metadata": {
    "tags": []
   },
   "outputs": [
    {
     "name": "stdout",
     "output_type": "stream",
     "text": [
      "The file has been loaded successfully.\n"
     ]
    }
   ],
   "source": [
    "# Coworkings reading\n",
    "if os.path.exists(coworkings_path):\n",
    "    try:\n",
    "        # Try to read the Excel file\n",
    "        data = pd.read_csv(coworkings_path)\n",
    "        print(\"The file has been loaded successfully.\")\n",
    "        # Now you can work with the 'data' DataFrame\n",
    "    except Exception as e:\n",
    "        print(\"An error occurred while reading the file:\", e)\n",
    "else:\n",
    "    print(\"The file does not exist at the specified path:\", coworkings_path)"
   ]
  },
  {
   "cell_type": "code",
   "execution_count": 7,
   "id": "0f83119b-322f-49d4-b2a1-d57e64645569",
   "metadata": {
    "tags": []
   },
   "outputs": [
    {
     "name": "stdout",
     "output_type": "stream",
     "text": [
      "The file has been loaded successfully.\n"
     ]
    }
   ],
   "source": [
    "# Campsites reading\n",
    "if os.path.exists(campsites_path):\n",
    "    try:\n",
    "        # Try to read the Excel file\n",
    "        data2 = pd.read_csv(campsites_path)\n",
    "        print(\"The file has been loaded successfully.\")\n",
    "        # Now you can work with the 'data' DataFrame\n",
    "    except Exception as e:\n",
    "        print(\"An error occurred while reading the file:\", e)\n",
    "else:\n",
    "    print(\"The file does not exist at the specified path:\", coworkings_path)"
   ]
  },
  {
   "cell_type": "code",
   "execution_count": 8,
   "id": "672cbcd4-4173-4ace-aa11-6c9eda7aa379",
   "metadata": {
    "tags": []
   },
   "outputs": [],
   "source": [
    "# Dataframe Creation\n",
    "df = data.copy()\n",
    "df2 = data2.copy() "
   ]
  },
  {
   "cell_type": "code",
   "execution_count": 9,
   "id": "13fa13a1-89aa-4f33-bc62-8f959dfe8c25",
   "metadata": {
    "tags": []
   },
   "outputs": [
    {
     "name": "stdout",
     "output_type": "stream",
     "text": [
      "Caracterization:\n",
      "\n",
      "Number of Rows: 3520\n",
      "\n",
      "Number of Columns: 8\n",
      "\n",
      "Columns Names/Variables/Features: ['Name', 'Address', 'City', 'Rating', 'Website', 'Schedule', 'Latitude', 'Longitude']\n",
      "\n",
      "<class 'pandas.core.frame.DataFrame'>\n",
      "RangeIndex: 3520 entries, 0 to 3519\n",
      "Data columns (total 8 columns):\n",
      " #   Column     Non-Null Count  Dtype  \n",
      "---  ------     --------------  -----  \n",
      " 0   Name       3520 non-null   object \n",
      " 1   Address    3520 non-null   object \n",
      " 2   City       3520 non-null   object \n",
      " 3   Rating     3520 non-null   object \n",
      " 4   Website    3520 non-null   object \n",
      " 5   Schedule   3520 non-null   object \n",
      " 6   Latitude   3520 non-null   float64\n",
      " 7   Longitude  3520 non-null   float64\n",
      "dtypes: float64(2), object(6)\n",
      "memory usage: 220.1+ KB\n",
      "\n",
      " Head:\n",
      "\n"
     ]
    },
    {
     "data": {
      "text/html": [
       "<div>\n",
       "<style scoped>\n",
       "    .dataframe tbody tr th:only-of-type {\n",
       "        vertical-align: middle;\n",
       "    }\n",
       "\n",
       "    .dataframe tbody tr th {\n",
       "        vertical-align: top;\n",
       "    }\n",
       "\n",
       "    .dataframe thead th {\n",
       "        text-align: right;\n",
       "    }\n",
       "</style>\n",
       "<table border=\"1\" class=\"dataframe\">\n",
       "  <thead>\n",
       "    <tr style=\"text-align: right;\">\n",
       "      <th></th>\n",
       "      <th>Name</th>\n",
       "      <th>Address</th>\n",
       "      <th>City</th>\n",
       "      <th>Rating</th>\n",
       "      <th>Website</th>\n",
       "      <th>Schedule</th>\n",
       "      <th>Latitude</th>\n",
       "      <th>Longitude</th>\n",
       "    </tr>\n",
       "  </thead>\n",
       "  <tbody>\n",
       "    <tr>\n",
       "      <th>0</th>\n",
       "      <td>JERÓNIMO by Bonsai (Coworking Space)</td>\n",
       "      <td>Cra de S. Jerónimo, 17, Madrid</td>\n",
       "      <td>\"Madrid\",</td>\n",
       "      <td>4.5</td>\n",
       "      <td>https://jeronimobybonsai.com/</td>\n",
       "      <td>['Monday: Open 24 hours', 'Tuesday: Open 24 ho...</td>\n",
       "      <td>40.416775</td>\n",
       "      <td>-3.70379</td>\n",
       "    </tr>\n",
       "    <tr>\n",
       "      <th>1</th>\n",
       "      <td>The Small House CoWorKing</td>\n",
       "      <td>C. de Sánchez Barcáiztegui, 36, Madrid</td>\n",
       "      <td>\"Madrid\",</td>\n",
       "      <td>5</td>\n",
       "      <td>Website not available</td>\n",
       "      <td>['Monday: 9:00\\u202fAM\\u2009–\\u20099:00\\u202fP...</td>\n",
       "      <td>40.416775</td>\n",
       "      <td>-3.70379</td>\n",
       "    </tr>\n",
       "    <tr>\n",
       "      <th>2</th>\n",
       "      <td>Coworking LOOM Salamanca</td>\n",
       "      <td>Calle de Don Ramón de la Cruz, 38, Madrid</td>\n",
       "      <td>\"Madrid\",</td>\n",
       "      <td>4.5</td>\n",
       "      <td>https://loom.es/espacios-coworking/madrid/loom...</td>\n",
       "      <td>['Monday: 9:00\\u202fAM\\u2009–\\u20097:00\\u202fP...</td>\n",
       "      <td>40.416775</td>\n",
       "      <td>-3.70379</td>\n",
       "    </tr>\n",
       "    <tr>\n",
       "      <th>3</th>\n",
       "      <td>Coworking La Fabrica Cuzco espacio de oficinas</td>\n",
       "      <td>Av. de Brasil, 17, Entreplanta, Madrid</td>\n",
       "      <td>\"Madrid\",</td>\n",
       "      <td>4.8</td>\n",
       "      <td>https://coworkinglafabrica.es/avenida-de-brasil/</td>\n",
       "      <td>['Monday: Open 24 hours', 'Tuesday: Open 24 ho...</td>\n",
       "      <td>40.416775</td>\n",
       "      <td>-3.70379</td>\n",
       "    </tr>\n",
       "    <tr>\n",
       "      <th>4</th>\n",
       "      <td>The Shed CoWorking</td>\n",
       "      <td>C. de Hermosilla, 48, 1º Derecha, Madrid</td>\n",
       "      <td>\"Madrid\",</td>\n",
       "      <td>4.7</td>\n",
       "      <td>https://www.theshedcoworking.com/?utm_source=g...</td>\n",
       "      <td>['Monday: 9:00\\u202fAM\\u2009–\\u20098:00\\u202fP...</td>\n",
       "      <td>40.416775</td>\n",
       "      <td>-3.70379</td>\n",
       "    </tr>\n",
       "  </tbody>\n",
       "</table>\n",
       "</div>"
      ],
      "text/plain": [
       "                                             Name  \\\n",
       "0            JERÓNIMO by Bonsai (Coworking Space)   \n",
       "1                       The Small House CoWorKing   \n",
       "2                        Coworking LOOM Salamanca   \n",
       "3  Coworking La Fabrica Cuzco espacio de oficinas   \n",
       "4                              The Shed CoWorking   \n",
       "\n",
       "                                     Address           City Rating  \\\n",
       "0             Cra de S. Jerónimo, 17, Madrid      \"Madrid\",    4.5   \n",
       "1     C. de Sánchez Barcáiztegui, 36, Madrid      \"Madrid\",      5   \n",
       "2  Calle de Don Ramón de la Cruz, 38, Madrid      \"Madrid\",    4.5   \n",
       "3     Av. de Brasil, 17, Entreplanta, Madrid      \"Madrid\",    4.8   \n",
       "4   C. de Hermosilla, 48, 1º Derecha, Madrid      \"Madrid\",    4.7   \n",
       "\n",
       "                                             Website  \\\n",
       "0                      https://jeronimobybonsai.com/   \n",
       "1                              Website not available   \n",
       "2  https://loom.es/espacios-coworking/madrid/loom...   \n",
       "3   https://coworkinglafabrica.es/avenida-de-brasil/   \n",
       "4  https://www.theshedcoworking.com/?utm_source=g...   \n",
       "\n",
       "                                            Schedule   Latitude  Longitude  \n",
       "0  ['Monday: Open 24 hours', 'Tuesday: Open 24 ho...  40.416775   -3.70379  \n",
       "1  ['Monday: 9:00\\u202fAM\\u2009–\\u20099:00\\u202fP...  40.416775   -3.70379  \n",
       "2  ['Monday: 9:00\\u202fAM\\u2009–\\u20097:00\\u202fP...  40.416775   -3.70379  \n",
       "3  ['Monday: Open 24 hours', 'Tuesday: Open 24 ho...  40.416775   -3.70379  \n",
       "4  ['Monday: 9:00\\u202fAM\\u2009–\\u20098:00\\u202fP...  40.416775   -3.70379  "
      ]
     },
     "execution_count": 9,
     "metadata": {},
     "output_type": "execute_result"
    }
   ],
   "source": [
    "data_caracterization(df)"
   ]
  },
  {
   "cell_type": "code",
   "execution_count": 10,
   "id": "5a6d54df-d4ff-4391-bd20-ee87454e109b",
   "metadata": {},
   "outputs": [
    {
     "name": "stdout",
     "output_type": "stream",
     "text": [
      "Caracterization:\n",
      "\n",
      "Number of Rows: 3956\n",
      "\n",
      "Number of Columns: 8\n",
      "\n",
      "Columns Names/Variables/Features: ['Name', 'Address', 'City', 'Rating', 'Website', 'Schedule', 'Latitude', 'Longitude']\n",
      "\n",
      "<class 'pandas.core.frame.DataFrame'>\n",
      "RangeIndex: 3956 entries, 0 to 3955\n",
      "Data columns (total 8 columns):\n",
      " #   Column     Non-Null Count  Dtype  \n",
      "---  ------     --------------  -----  \n",
      " 0   Name       3956 non-null   object \n",
      " 1   Address    3956 non-null   object \n",
      " 2   City       3956 non-null   object \n",
      " 3   Rating     3956 non-null   object \n",
      " 4   Website    3956 non-null   object \n",
      " 5   Schedule   3956 non-null   object \n",
      " 6   Latitude   3956 non-null   float64\n",
      " 7   Longitude  3956 non-null   float64\n",
      "dtypes: float64(2), object(6)\n",
      "memory usage: 247.4+ KB\n",
      "\n",
      " Head:\n",
      "\n"
     ]
    },
    {
     "data": {
      "text/html": [
       "<div>\n",
       "<style scoped>\n",
       "    .dataframe tbody tr th:only-of-type {\n",
       "        vertical-align: middle;\n",
       "    }\n",
       "\n",
       "    .dataframe tbody tr th {\n",
       "        vertical-align: top;\n",
       "    }\n",
       "\n",
       "    .dataframe thead th {\n",
       "        text-align: right;\n",
       "    }\n",
       "</style>\n",
       "<table border=\"1\" class=\"dataframe\">\n",
       "  <thead>\n",
       "    <tr style=\"text-align: right;\">\n",
       "      <th></th>\n",
       "      <th>Name</th>\n",
       "      <th>Address</th>\n",
       "      <th>City</th>\n",
       "      <th>Rating</th>\n",
       "      <th>Website</th>\n",
       "      <th>Schedule</th>\n",
       "      <th>Latitude</th>\n",
       "      <th>Longitude</th>\n",
       "    </tr>\n",
       "  </thead>\n",
       "  <tbody>\n",
       "    <tr>\n",
       "      <th>0</th>\n",
       "      <td>Camping Osuna</td>\n",
       "      <td>C. Jardines de Aranjuez, s/n, Madrid</td>\n",
       "      <td>\"Madrid\",</td>\n",
       "      <td>3.9</td>\n",
       "      <td>http://www.campingosuna.com/</td>\n",
       "      <td>['Monday: 8:00\\u202fAM\\u2009–\\u200911:30\\u202f...</td>\n",
       "      <td>40.416775</td>\n",
       "      <td>-3.70379</td>\n",
       "    </tr>\n",
       "    <tr>\n",
       "      <th>1</th>\n",
       "      <td>Camping El Valle</td>\n",
       "      <td>Carretera M-610, Bustarviejo a, Carr. de Miraf...</td>\n",
       "      <td>\"Madrid\",</td>\n",
       "      <td>4</td>\n",
       "      <td>http://www.sierranorte.com/camping-elvalle/con...</td>\n",
       "      <td>['Monday: 10:00\\u202fAM\\u2009–\\u20099:00\\u202f...</td>\n",
       "      <td>40.416775</td>\n",
       "      <td>-3.70379</td>\n",
       "    </tr>\n",
       "    <tr>\n",
       "      <th>2</th>\n",
       "      <td>Camping Madrid Arco Iris</td>\n",
       "      <td>M-501, 7, 1, Villaviciosa de Odón</td>\n",
       "      <td>\"Madrid\",</td>\n",
       "      <td>4</td>\n",
       "      <td>http://www.campingmadridarcoiris.com/</td>\n",
       "      <td>['Monday: 8:00\\u202fAM\\u2009–\\u200910:00\\u202f...</td>\n",
       "      <td>40.416775</td>\n",
       "      <td>-3.70379</td>\n",
       "    </tr>\n",
       "    <tr>\n",
       "      <th>3</th>\n",
       "      <td>Camping San Juan</td>\n",
       "      <td>Km 22, 2 M-600, Valdemorillo</td>\n",
       "      <td>\"Madrid\",</td>\n",
       "      <td>4</td>\n",
       "      <td>http://www.campingsanjuan.com/</td>\n",
       "      <td>['Monday: 8:00\\u202fAM\\u2009–\\u200912:00\\u202f...</td>\n",
       "      <td>40.416775</td>\n",
       "      <td>-3.70379</td>\n",
       "    </tr>\n",
       "    <tr>\n",
       "      <th>4</th>\n",
       "      <td>Camping Pico de la Miel</td>\n",
       "      <td>C. del Camping, La Cabrera</td>\n",
       "      <td>\"Madrid\",</td>\n",
       "      <td>3.9</td>\n",
       "      <td>http://www.picodelamiel.com/</td>\n",
       "      <td>['Monday: 9:00\\u202fAM\\u2009–\\u20099:00\\u202fP...</td>\n",
       "      <td>40.416775</td>\n",
       "      <td>-3.70379</td>\n",
       "    </tr>\n",
       "  </tbody>\n",
       "</table>\n",
       "</div>"
      ],
      "text/plain": [
       "                       Name  \\\n",
       "0             Camping Osuna   \n",
       "1          Camping El Valle   \n",
       "2  Camping Madrid Arco Iris   \n",
       "3          Camping San Juan   \n",
       "4   Camping Pico de la Miel   \n",
       "\n",
       "                                             Address           City Rating  \\\n",
       "0               C. Jardines de Aranjuez, s/n, Madrid      \"Madrid\",    3.9   \n",
       "1  Carretera M-610, Bustarviejo a, Carr. de Miraf...      \"Madrid\",      4   \n",
       "2                  M-501, 7, 1, Villaviciosa de Odón      \"Madrid\",      4   \n",
       "3                       Km 22, 2 M-600, Valdemorillo      \"Madrid\",      4   \n",
       "4                         C. del Camping, La Cabrera      \"Madrid\",    3.9   \n",
       "\n",
       "                                             Website  \\\n",
       "0                       http://www.campingosuna.com/   \n",
       "1  http://www.sierranorte.com/camping-elvalle/con...   \n",
       "2              http://www.campingmadridarcoiris.com/   \n",
       "3                     http://www.campingsanjuan.com/   \n",
       "4                       http://www.picodelamiel.com/   \n",
       "\n",
       "                                            Schedule   Latitude  Longitude  \n",
       "0  ['Monday: 8:00\\u202fAM\\u2009–\\u200911:30\\u202f...  40.416775   -3.70379  \n",
       "1  ['Monday: 10:00\\u202fAM\\u2009–\\u20099:00\\u202f...  40.416775   -3.70379  \n",
       "2  ['Monday: 8:00\\u202fAM\\u2009–\\u200910:00\\u202f...  40.416775   -3.70379  \n",
       "3  ['Monday: 8:00\\u202fAM\\u2009–\\u200912:00\\u202f...  40.416775   -3.70379  \n",
       "4  ['Monday: 9:00\\u202fAM\\u2009–\\u20099:00\\u202fP...  40.416775   -3.70379  "
      ]
     },
     "execution_count": 10,
     "metadata": {},
     "output_type": "execute_result"
    }
   ],
   "source": [
    "data_caracterization(df2)"
   ]
  },
  {
   "cell_type": "code",
   "execution_count": 11,
   "id": "99207684-0838-457a-9a7d-94995c379fc4",
   "metadata": {},
   "outputs": [],
   "source": [
    "# Formatting to lower.case columns and clean empty spaces in columns names\n",
    "\n",
    "df.columns = df.columns.str.lower()\n",
    "df2.columns = df2.columns.str.lower()\n"
   ]
  },
  {
   "cell_type": "code",
   "execution_count": 12,
   "id": "9f30ca24-1184-40e2-a11a-aa2cf1d68b89",
   "metadata": {},
   "outputs": [],
   "source": [
    "# Cleaning City Column and other special characters.\n",
    "\n",
    "# Coworkings\n",
    "df[\"name\"] = df[\"name\"].str.replace(',','')\n",
    "df[\"address\"] = df[\"address\"].str.replace(',','')\n",
    "df[\"city\"] = df[\"city\"].str.replace(',','')\n",
    "df[\"city\"] = df['city'].str.replace('\"', '')\n",
    "df[\"schedule\"] = df[\"schedule\"].str.replace(',','')\n",
    "df['schedule'] = df['schedule'].str.replace(\"'\", '')\n",
    "\n",
    "\n",
    "# Campsites\n",
    "df2[\"name\"] = df2[\"name\"].str.replace(',','')\n",
    "df2[\"address\"] = df2[\"address\"].str.replace(',','')\n",
    "df2[\"city\"] = df2[\"city\"].str.replace(',','')\n",
    "df2[\"city\"] = df2['city'].str.replace('\"', '')\n",
    "df2[\"schedule\"] = df2[\"schedule\"].str.replace(',','')\n",
    "df2['schedule'] = df2['schedule'].str.replace(\"'\", '')"
   ]
  },
  {
   "cell_type": "code",
   "execution_count": 13,
   "id": "8be32ba2-dd81-40fd-aa9c-af15c6b5be48",
   "metadata": {
    "tags": []
   },
   "outputs": [
    {
     "data": {
      "text/html": [
       "<div>\n",
       "<style scoped>\n",
       "    .dataframe tbody tr th:only-of-type {\n",
       "        vertical-align: middle;\n",
       "    }\n",
       "\n",
       "    .dataframe tbody tr th {\n",
       "        vertical-align: top;\n",
       "    }\n",
       "\n",
       "    .dataframe thead th {\n",
       "        text-align: right;\n",
       "    }\n",
       "</style>\n",
       "<table border=\"1\" class=\"dataframe\">\n",
       "  <thead>\n",
       "    <tr style=\"text-align: right;\">\n",
       "      <th></th>\n",
       "      <th>name</th>\n",
       "      <th>address</th>\n",
       "      <th>city</th>\n",
       "      <th>rating</th>\n",
       "      <th>website</th>\n",
       "      <th>schedule</th>\n",
       "      <th>latitude</th>\n",
       "      <th>longitude</th>\n",
       "    </tr>\n",
       "  </thead>\n",
       "  <tbody>\n",
       "    <tr>\n",
       "      <th>0</th>\n",
       "      <td>JERÓNIMO by Bonsai (Coworking Space)</td>\n",
       "      <td>Cra de S. Jerónimo 17 Madrid</td>\n",
       "      <td>Madrid</td>\n",
       "      <td>4.5</td>\n",
       "      <td>https://jeronimobybonsai.com/</td>\n",
       "      <td>[Monday: Open 24 hours Tuesday: Open 24 hours ...</td>\n",
       "      <td>40.416775</td>\n",
       "      <td>-3.70379</td>\n",
       "    </tr>\n",
       "    <tr>\n",
       "      <th>1</th>\n",
       "      <td>The Small House CoWorKing</td>\n",
       "      <td>C. de Sánchez Barcáiztegui 36 Madrid</td>\n",
       "      <td>Madrid</td>\n",
       "      <td>5</td>\n",
       "      <td>Website not available</td>\n",
       "      <td>[Monday: 9:00\\u202fAM\\u2009–\\u20099:00\\u202fPM...</td>\n",
       "      <td>40.416775</td>\n",
       "      <td>-3.70379</td>\n",
       "    </tr>\n",
       "    <tr>\n",
       "      <th>2</th>\n",
       "      <td>Coworking LOOM Salamanca</td>\n",
       "      <td>Calle de Don Ramón de la Cruz 38 Madrid</td>\n",
       "      <td>Madrid</td>\n",
       "      <td>4.5</td>\n",
       "      <td>https://loom.es/espacios-coworking/madrid/loom...</td>\n",
       "      <td>[Monday: 9:00\\u202fAM\\u2009–\\u20097:00\\u202fPM...</td>\n",
       "      <td>40.416775</td>\n",
       "      <td>-3.70379</td>\n",
       "    </tr>\n",
       "  </tbody>\n",
       "</table>\n",
       "</div>"
      ],
      "text/plain": [
       "                                   name  \\\n",
       "0  JERÓNIMO by Bonsai (Coworking Space)   \n",
       "1             The Small House CoWorKing   \n",
       "2              Coworking LOOM Salamanca   \n",
       "\n",
       "                                   address        city rating  \\\n",
       "0             Cra de S. Jerónimo 17 Madrid      Madrid    4.5   \n",
       "1     C. de Sánchez Barcáiztegui 36 Madrid      Madrid      5   \n",
       "2  Calle de Don Ramón de la Cruz 38 Madrid      Madrid    4.5   \n",
       "\n",
       "                                             website  \\\n",
       "0                      https://jeronimobybonsai.com/   \n",
       "1                              Website not available   \n",
       "2  https://loom.es/espacios-coworking/madrid/loom...   \n",
       "\n",
       "                                            schedule   latitude  longitude  \n",
       "0  [Monday: Open 24 hours Tuesday: Open 24 hours ...  40.416775   -3.70379  \n",
       "1  [Monday: 9:00\\u202fAM\\u2009–\\u20099:00\\u202fPM...  40.416775   -3.70379  \n",
       "2  [Monday: 9:00\\u202fAM\\u2009–\\u20097:00\\u202fPM...  40.416775   -3.70379  "
      ]
     },
     "execution_count": 13,
     "metadata": {},
     "output_type": "execute_result"
    }
   ],
   "source": [
    "df.head(3)"
   ]
  },
  {
   "cell_type": "code",
   "execution_count": 14,
   "id": "94997b5d-5085-474f-bfaf-ade3cb955edf",
   "metadata": {
    "tags": []
   },
   "outputs": [
    {
     "data": {
      "text/html": [
       "<div>\n",
       "<style scoped>\n",
       "    .dataframe tbody tr th:only-of-type {\n",
       "        vertical-align: middle;\n",
       "    }\n",
       "\n",
       "    .dataframe tbody tr th {\n",
       "        vertical-align: top;\n",
       "    }\n",
       "\n",
       "    .dataframe thead th {\n",
       "        text-align: right;\n",
       "    }\n",
       "</style>\n",
       "<table border=\"1\" class=\"dataframe\">\n",
       "  <thead>\n",
       "    <tr style=\"text-align: right;\">\n",
       "      <th></th>\n",
       "      <th>name</th>\n",
       "      <th>address</th>\n",
       "      <th>city</th>\n",
       "      <th>rating</th>\n",
       "      <th>website</th>\n",
       "      <th>schedule</th>\n",
       "      <th>latitude</th>\n",
       "      <th>longitude</th>\n",
       "    </tr>\n",
       "  </thead>\n",
       "  <tbody>\n",
       "    <tr>\n",
       "      <th>0</th>\n",
       "      <td>Camping Osuna</td>\n",
       "      <td>C. Jardines de Aranjuez s/n Madrid</td>\n",
       "      <td>Madrid</td>\n",
       "      <td>3.9</td>\n",
       "      <td>http://www.campingosuna.com/</td>\n",
       "      <td>[Monday: 8:00\\u202fAM\\u2009–\\u200911:30\\u202fP...</td>\n",
       "      <td>40.416775</td>\n",
       "      <td>-3.70379</td>\n",
       "    </tr>\n",
       "    <tr>\n",
       "      <th>1</th>\n",
       "      <td>Camping El Valle</td>\n",
       "      <td>Carretera M-610 Bustarviejo a Carr. de Miraflo...</td>\n",
       "      <td>Madrid</td>\n",
       "      <td>4</td>\n",
       "      <td>http://www.sierranorte.com/camping-elvalle/con...</td>\n",
       "      <td>[Monday: 10:00\\u202fAM\\u2009–\\u20099:00\\u202fP...</td>\n",
       "      <td>40.416775</td>\n",
       "      <td>-3.70379</td>\n",
       "    </tr>\n",
       "    <tr>\n",
       "      <th>2</th>\n",
       "      <td>Camping Madrid Arco Iris</td>\n",
       "      <td>M-501 7 1 Villaviciosa de Odón</td>\n",
       "      <td>Madrid</td>\n",
       "      <td>4</td>\n",
       "      <td>http://www.campingmadridarcoiris.com/</td>\n",
       "      <td>[Monday: 8:00\\u202fAM\\u2009–\\u200910:00\\u202fP...</td>\n",
       "      <td>40.416775</td>\n",
       "      <td>-3.70379</td>\n",
       "    </tr>\n",
       "  </tbody>\n",
       "</table>\n",
       "</div>"
      ],
      "text/plain": [
       "                       name  \\\n",
       "0             Camping Osuna   \n",
       "1          Camping El Valle   \n",
       "2  Camping Madrid Arco Iris   \n",
       "\n",
       "                                             address        city rating  \\\n",
       "0                 C. Jardines de Aranjuez s/n Madrid      Madrid    3.9   \n",
       "1  Carretera M-610 Bustarviejo a Carr. de Miraflo...      Madrid      4   \n",
       "2                     M-501 7 1 Villaviciosa de Odón      Madrid      4   \n",
       "\n",
       "                                             website  \\\n",
       "0                       http://www.campingosuna.com/   \n",
       "1  http://www.sierranorte.com/camping-elvalle/con...   \n",
       "2              http://www.campingmadridarcoiris.com/   \n",
       "\n",
       "                                            schedule   latitude  longitude  \n",
       "0  [Monday: 8:00\\u202fAM\\u2009–\\u200911:30\\u202fP...  40.416775   -3.70379  \n",
       "1  [Monday: 10:00\\u202fAM\\u2009–\\u20099:00\\u202fP...  40.416775   -3.70379  \n",
       "2  [Monday: 8:00\\u202fAM\\u2009–\\u200910:00\\u202fP...  40.416775   -3.70379  "
      ]
     },
     "execution_count": 14,
     "metadata": {},
     "output_type": "execute_result"
    }
   ],
   "source": [
    "df2.head(3)"
   ]
  },
  {
   "cell_type": "code",
   "execution_count": 15,
   "id": "7b648dc4-faf5-4cae-b522-8d4ad353234e",
   "metadata": {
    "tags": []
   },
   "outputs": [],
   "source": [
    "# Construct reading relative path\n",
    "relative_path = \"my-jobcation-path/02_data_cleaning_phase/00_First Clean & SQL/coworkings.csv\"\n",
    "relative_path2 = \"my-jobcation-path/02_data_cleaning_phase/00_First Clean & SQL/campsites.csv\"\n",
    "\n",
    "# Construct absolute paths\n",
    "coworkings_save_path = os.path.join(current_directory, relative_path)\n",
    "campsites_save_path = os.path.join(current_directory, relative_path2)"
   ]
  },
  {
   "cell_type": "code",
   "execution_count": 16,
   "id": "437c95fb-f608-40c3-9fe8-2f5d0a85cd0f",
   "metadata": {
    "tags": []
   },
   "outputs": [],
   "source": [
    "# Save and Encoding to SQL\n",
    "\n",
    "df.to_csv(coworkings_save_path, index=False, encoding='utf-8')\n",
    "df2.to_csv(campsites_save_path, index=False, encoding='utf-8')"
   ]
  }
 ],
 "metadata": {
  "kernelspec": {
   "display_name": "Python 3 (ipykernel)",
   "language": "python",
   "name": "python3"
  },
  "language_info": {
   "codemirror_mode": {
    "name": "ipython",
    "version": 3
   },
   "file_extension": ".py",
   "mimetype": "text/x-python",
   "name": "python",
   "nbconvert_exporter": "python",
   "pygments_lexer": "ipython3",
   "version": "3.11.5"
  }
 },
 "nbformat": 4,
 "nbformat_minor": 5
}

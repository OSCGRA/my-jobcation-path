{
 "cells": [
  {
   "cell_type": "code",
   "execution_count": 2,
   "id": "2cf5a07b-175f-46e3-ab53-5d7a3ce1d4a0",
   "metadata": {},
   "outputs": [
    {
     "name": "stdout",
     "output_type": "stream",
     "text": [
      "Requirement already satisfied: googlemaps in c:\\users\\oscar\\anaconda3\\lib\\site-packages (4.10.0)\n",
      "Requirement already satisfied: requests<3.0,>=2.20.0 in c:\\users\\oscar\\anaconda3\\lib\\site-packages (from googlemaps) (2.31.0)\n",
      "Requirement already satisfied: charset-normalizer<4,>=2 in c:\\users\\oscar\\anaconda3\\lib\\site-packages (from requests<3.0,>=2.20.0->googlemaps) (2.0.4)\n",
      "Requirement already satisfied: idna<4,>=2.5 in c:\\users\\oscar\\anaconda3\\lib\\site-packages (from requests<3.0,>=2.20.0->googlemaps) (3.4)\n",
      "Requirement already satisfied: urllib3<3,>=1.21.1 in c:\\users\\oscar\\anaconda3\\lib\\site-packages (from requests<3.0,>=2.20.0->googlemaps) (1.26.16)\n",
      "Requirement already satisfied: certifi>=2017.4.17 in c:\\users\\oscar\\anaconda3\\lib\\site-packages (from requests<3.0,>=2.20.0->googlemaps) (2023.11.17)\n",
      "Note: you may need to restart the kernel to use updated packages.\n"
     ]
    }
   ],
   "source": [
    "pip install -U googlemaps"
   ]
  },
  {
   "cell_type": "code",
   "execution_count": 3,
   "id": "e7792a12-c2ac-47b9-a36d-c1e1dad0596a",
   "metadata": {
    "tags": []
   },
   "outputs": [],
   "source": [
    "# Basic Libraries 📚\n",
    "import pandas as pd\n",
    "import os\n",
    "import sys\n",
    "import googlemaps\n",
    "from api_key import GOOGLE_MAPS_API_KEY"
   ]
  },
  {
   "cell_type": "code",
   "execution_count": 4,
   "id": "a7907713-e6bb-4778-b94c-a80bc9d603ea",
   "metadata": {
    "tags": []
   },
   "outputs": [],
   "source": [
    "# Google Maps API Key\n",
    "API_KEY = GOOGLE_MAPS_API_KEY\n",
    "\n",
    "# Initialize Google Maps client\n",
    "gmaps = googlemaps.Client(key=API_KEY)"
   ]
  },
  {
   "cell_type": "code",
   "execution_count": 5,
   "id": "64a1e863-dbfa-4d7b-bc29-65802aeac15a",
   "metadata": {
    "tags": []
   },
   "outputs": [],
   "source": [
    "def get_lat_lng(location, api_key):\n",
    "    gmaps = googlemaps.Client(key=api_key)\n",
    "    geocode_result = gmaps.geocode(location)\n",
    "    if geocode_result:\n",
    "        latitude = geocode_result[0]['geometry']['location']['lat']\n",
    "        longitude = geocode_result[0]['geometry']['location']['lng']\n",
    "        return latitude, longitude\n",
    "    else:\n",
    "        return None, None"
   ]
  },
  {
   "cell_type": "code",
   "execution_count": 6,
   "id": "2e70fd46-7297-4d2d-adb0-4d5753b7f342",
   "metadata": {
    "tags": []
   },
   "outputs": [],
   "source": [
    "def create_lat_lng_columns(dataframe, location_column, api_key):\n",
    "    latitudes = []\n",
    "    longitudes = []\n",
    "    for location in dataframe[location_column]:\n",
    "        lat, lng = get_lat_lng(location, api_key)\n",
    "        latitudes.append(lat)\n",
    "        longitudes.append(lng)\n",
    "    dataframe['Latitude'] = latitudes\n",
    "    dataframe['Longitude'] = longitudes\n",
    "    return dataframe"
   ]
  },
  {
   "cell_type": "code",
   "execution_count": 7,
   "id": "887770f6-7597-453b-b816-5a2ab5d1c2dc",
   "metadata": {
    "tags": []
   },
   "outputs": [
    {
     "name": "stdout",
     "output_type": "stream",
     "text": [
      "Current working directory is: C:\\Users\\Oscar\\Documents\\00_Ironhack\\P3_Final\n"
     ]
    }
   ],
   "source": [
    "# Construct reading relative path\n",
    "relative_path = \"my-jobcation-path/02_data_cleaning_phase/00_First Clean & SQL/locations.csv\"\n",
    "\n",
    "\n",
    "# Change directory\n",
    "os.chdir('C:\\\\Users\\\\Oscar\\\\Documents\\\\00_Ironhack\\\\P3_Final\\\\') #Change for your own directory\n",
    "\n",
    "# Check directory\n",
    "current_directory = os.getcwd()\n",
    "print(\"Current working directory is:\", current_directory)"
   ]
  },
  {
   "cell_type": "code",
   "execution_count": 8,
   "id": "c29cc1c3-08f3-438c-aa74-cea051116620",
   "metadata": {
    "tags": []
   },
   "outputs": [],
   "source": [
    "#Construct absolute paths\n",
    "locations_path = os.path.join(current_directory, relative_path)"
   ]
  },
  {
   "cell_type": "code",
   "execution_count": 9,
   "id": "fbf9fa0f-95c8-4dc5-b3f9-1b2e4f0443e2",
   "metadata": {
    "tags": []
   },
   "outputs": [
    {
     "name": "stdout",
     "output_type": "stream",
     "text": [
      "The file has been loaded successfully.\n"
     ]
    }
   ],
   "source": [
    "# Coworkings reading\n",
    "if os.path.exists(locations_path):\n",
    "    try:\n",
    "        # Try to read the Excel file\n",
    "        data = pd.read_csv(locations_path)\n",
    "        print(\"The file has been loaded successfully.\")\n",
    "        # Now you can work with the 'data' DataFrame\n",
    "    except Exception as e:\n",
    "        print(\"An error occurred while reading the file:\", e)\n",
    "else:\n",
    "    print(\"The file does not exist at the specified path:\", coworkings_path)"
   ]
  },
  {
   "cell_type": "code",
   "execution_count": 10,
   "id": "e8d82822-b1a4-44c3-8ec3-70a0296ce0a7",
   "metadata": {
    "tags": []
   },
   "outputs": [],
   "source": [
    "# Dataframe Creation\n",
    "df = data.copy()"
   ]
  },
  {
   "cell_type": "code",
   "execution_count": 11,
   "id": "327b6d6a-e5da-4ae7-a4dd-d56550d197d8",
   "metadata": {
    "tags": []
   },
   "outputs": [],
   "source": [
    "# Call the Columns:\n",
    "df_location = create_lat_lng_columns(df, 'name', API_KEY)"
   ]
  },
  {
   "cell_type": "code",
   "execution_count": 12,
   "id": "c8237906-64f8-4302-a65a-6b33c030e698",
   "metadata": {
    "tags": []
   },
   "outputs": [],
   "source": [
    "# Construct reading relative path\n",
    "relative_path = \"my-jobcation-path/02_data_cleaning_phase/00_First Clean & SQL/geolocations.csv\"\n",
    "\n",
    "\n",
    "# Construct absolute paths\n",
    "geo_save_path = os.path.join(current_directory, relative_path)"
   ]
  },
  {
   "cell_type": "code",
   "execution_count": 13,
   "id": "037f73ca-4ca9-408a-b3f1-ccf3951ad4eb",
   "metadata": {
    "tags": []
   },
   "outputs": [],
   "source": [
    "# Save and Encoding to SQL\n",
    "\n",
    "df.to_csv(geo_save_path, index=False)"
   ]
  }
 ],
 "metadata": {
  "kernelspec": {
   "display_name": "Python 3 (ipykernel)",
   "language": "python",
   "name": "python3"
  },
  "language_info": {
   "codemirror_mode": {
    "name": "ipython",
    "version": 3
   },
   "file_extension": ".py",
   "mimetype": "text/x-python",
   "name": "python",
   "nbconvert_exporter": "python",
   "pygments_lexer": "ipython3",
   "version": "3.11.5"
  }
 },
 "nbformat": 4,
 "nbformat_minor": 5
}
